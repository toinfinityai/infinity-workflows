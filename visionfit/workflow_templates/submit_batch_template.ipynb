{
 "cells": [
  {
   "cell_type": "markdown",
   "id": "8487fc2f",
   "metadata": {},
   "source": [
    "# Submit a Batch\n",
    "\n",
    "Use this workflow notebook to submit a single or multiple batches to the Infinity API. \n",
    "\n",
    "This is your notebook to edit as needed. When you want to generate a fresh notebook, use create_a_workflow.ipynb. \n",
    "\n",
    "[Link to Infinity documentation](https://docs.infinity.ai/index.html)"
   ]
  },
  {
   "cell_type": "code",
   "execution_count": null,
   "id": "2d832add",
   "metadata": {
    "tags": [
     "parameters"
    ]
   },
   "outputs": [],
   "source": [
    "import numpy as np\n",
    "import pandas as pd\n",
    "from infinity_core.session import Session\n",
    "from visionfit.interfaces import SubmitInterface\n",
    "from visionfit.utils.sampling import sample_input\n",
    "\n",
    "pd.options.display.max_columns = None"
   ]
  },
  {
   "cell_type": "code",
   "execution_count": null,
   "id": "701837ab",
   "metadata": {},
   "outputs": [],
   "source": [
    "# User Overrides: Customize key parameters\n",
    "# TOKEN = \"YOUR_TOKEN_HERE\"\n",
    "# GENERATOR = \"GENERATOR_HERE\"\n",
    "# SERVER = \"SERVER_HERE\""
   ]
  },
  {
   "cell_type": "markdown",
   "id": "a13f8533",
   "metadata": {},
   "source": [
    "### Create an API Session\n",
    "\n",
    "Initialize a Session object to interact with the Infinity API. "
   ]
  },
  {
   "cell_type": "code",
   "execution_count": null,
   "id": "38a83198",
   "metadata": {},
   "outputs": [],
   "source": [
    "sesh = Session(token=TOKEN, generator=GENERATOR, server=SERVER)"
   ]
  },
  {
   "cell_type": "markdown",
   "id": "7299f3b8",
   "metadata": {},
   "source": [
    "### Define the distribution of parameters \n",
    "\n",
    "Select the number of jobs in the batch. And, customize the distribution of the parameters in the batch. \n",
    "\n",
    "Use `DataFrame(sesh.parameter_info)` to see all available parameters. Or, visit the [generator pages](https://api.toinfinity.ai/admin/api/generator/) on the User Portal for detailed parameter information. "
   ]
  },
  {
   "cell_type": "code",
   "execution_count": null,
   "id": "20920311",
   "metadata": {},
   "outputs": [],
   "source": [
    "num_jobs = 4 # Update to meet your specs"
   ]
  },
  {
   "cell_type": "code",
   "execution_count": null,
   "id": "cef77c99",
   "metadata": {},
   "outputs": [],
   "source": [
    "# Update to meet your specs\n",
    "job_params = [\n",
    "    sample_input(\n",
    "        sesh,\n",
    "        exercise = np.random.choice([\"UPPERCUT-LEFT\",\"UPPERCUT-RIGHT\"]),\n",
    "        num_reps = int(np.random.uniform(1, 3, 1)[0]),\n",
    "        lighting_power = float(np.clip(np.random.normal(300.0, 20.0, 1)[0], 0.0, 2000.0)),\n",
    "        camera_height = float(np.clip(np.random.normal(1.2, 0.2, 1)[0], 0.1, 2.75)),\n",
    "        scene = np.random.choice(sesh.parameter_info['scene']['options']['choices']), \n",
    "        frame_rate = 6,\n",
    "        image_width=256,\n",
    "        image_height=256,\n",
    "        relative_avatar_angle_deg=0.0,\n",
    "    ) for _ in range(num_jobs)\n",
    "]"
   ]
  },
  {
   "cell_type": "markdown",
   "id": "df56fd5f",
   "metadata": {},
   "source": [
    "### Review the distribution\n",
    "\n",
    "Prior to submitting your batch, review the distribution of parameters. "
   ]
  },
  {
   "cell_type": "code",
   "execution_count": null,
   "id": "5dd4f40d",
   "metadata": {},
   "outputs": [],
   "source": [
    "df = pd.DataFrame.from_records(job_params)\n",
    "df.head()\n",
    "\n",
    "# Visualize the parameter distribution. \n",
    "# from visionfit.utils.vis import visualize_job_params\n",
    "# visualize_job_params(job_params)"
   ]
  },
  {
   "cell_type": "markdown",
   "id": "6c2bd08f",
   "metadata": {},
   "source": [
    "### Submit your batch\n",
    "\n",
    "Give the batch a helpful name for future reference. After submission, follow the 1) User Portal link to check on the batch status or 2) the Download Batch workflow link to download the data.\n",
    "\n",
    "If you want to submit another batch with new parameters, just update the `job_params` argument, and re-run `SubmitInterface()`."
   ]
  },
  {
   "cell_type": "code",
   "execution_count": null,
   "id": "92f24cec",
   "metadata": {},
   "outputs": [],
   "source": [
    "submit_interface = SubmitInterface(sesh, job_params)"
   ]
  },
  {
   "cell_type": "code",
   "execution_count": null,
   "id": "b8748449",
   "metadata": {},
   "outputs": [],
   "source": []
  }
 ],
 "metadata": {
  "kernelspec": {
   "display_name": "Python 3 (ipykernel)",
   "language": "python",
   "name": "python3"
  },
  "language_info": {
   "codemirror_mode": {
    "name": "ipython",
    "version": 3
   },
   "file_extension": ".py",
   "mimetype": "text/x-python",
   "name": "python",
   "nbconvert_exporter": "python",
   "pygments_lexer": "ipython3",
   "version": "3.9.15"
  }
 },
 "nbformat": 4,
 "nbformat_minor": 5
}
