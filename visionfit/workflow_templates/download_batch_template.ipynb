{
 "cells": [
  {
   "cell_type": "markdown",
   "id": "8487fc2f",
   "metadata": {},
   "source": [
    "# Download a Batch\n",
    "\n",
    "Use this workflow notebook to download a batch from the Infinity API. \n",
    "\n",
    "This is your notebook to edit as needed. \n",
    "\n",
    "[Link to Infinity documentation](https://docs.infinity.ai/index.html)"
   ]
  },
  {
   "cell_type": "code",
   "execution_count": null,
   "id": "967e14cc",
   "metadata": {
    "tags": [
     "parameters"
    ]
   },
   "outputs": [],
   "source": [
    "import os\n",
    "import re\n",
    "import numpy as np\n",
    "import pandas as pd\n",
    "import infinity_tools.visionfit.api as api\n",
    "\n",
    "from pathlib import Path\n",
    "from infinity_core.data_structures import JobType\n",
    "from infinity_tools.visionfit.vis import summarize_batch_results_as_dataframe, visualize_batch_results\n",
    "from infinity_tools.common.vis.images import get_subdirectories, view_previews\n",
    "from visionfit.interfaces import BatchDownloadInterface\n",
    "from visionfit.utils.notebook import display_video_as_gif\n",
    "from visionfit.interfaces.common import is_batch_exist\n",
    "pd.options.display.max_columns = None"
   ]
  },
  {
   "cell_type": "code",
   "execution_count": null,
   "id": "f648ac6b",
   "metadata": {},
   "outputs": [],
   "source": [
    "# User Overrides: Customize key parameters. Change the BATCH_ID to download a different batch.\n",
    "# TOKEN = \"YOUR_TOKEN_HERE\"\n",
    "# GENERATOR = \"GENERATOR_HERE\"\n",
    "# SERVER = \"SERVER_HERE\"\n",
    "# BATCH_ID = \"BATCH_ID_HERE\""
   ]
  },
  {
   "cell_type": "code",
   "execution_count": null,
   "id": "b758dc88",
   "metadata": {},
   "outputs": [],
   "source": [
    "# Ensure that a valid BATCH_ID was provided.\n",
    "if not BATCH_ID or not is_batch_exist(BATCH_ID, TOKEN, GENERATOR, SERVER):\n",
    "    print(\"\\033[91mEnter valid BATCH_ID you want to download.\")"
   ]
  },
  {
   "cell_type": "markdown",
   "id": "94421a2d",
   "metadata": {},
   "source": [
    "### Get the batch metadata\n",
    "\n",
    "Create a Session to interact with the API. Then, get the batch metadata with the BATCH_ID. "
   ]
  },
  {
   "cell_type": "code",
   "execution_count": null,
   "id": "38a83198",
   "metadata": {},
   "outputs": [],
   "source": [
    "is_downloaded = False\n",
    "sesh = api.VisionFitSession(token=TOKEN, generator=GENERATOR, server=SERVER)\n",
    "batch = sesh.batch_from_api(batch_id=BATCH_ID)\n",
    "df = pd.DataFrame.from_records(batch.job_params)\n",
    "df.head()"
   ]
  },
  {
   "cell_type": "markdown",
   "id": "1217a3b4",
   "metadata": {},
   "source": [
    "### Download the batch\n",
    "\n",
    "Download the data from your batch into a folder on your local machine. The Download button will download all completed jobs. Press the button multiple times to download any new completed jobs that are not already present on your local machine."
   ]
  },
  {
   "cell_type": "code",
   "execution_count": null,
   "id": "cb92adc8",
   "metadata": {},
   "outputs": [],
   "source": [
    "downloads_path = Path(\"downloads\")\n",
    "downloads_path.mkdir(parents=True, exist_ok=True)\n",
    "batch_name = re.sub(r\"[^\\w_. -]\", \"_\", batch.name)\n",
    "batch_path = downloads_path / f\"{batch_name}/batch_ID_{batch.batch_id}\"\n",
    "batch_path.mkdir(parents=True, exist_ok=True)\n",
    "download_interface = BatchDownloadInterface(batch, batch_path)"
   ]
  },
  {
   "cell_type": "markdown",
   "id": "a7beaecb",
   "metadata": {},
   "source": [
    "### Inspect and visualize\n",
    "\n",
    "After the batch has been successfully downloaded, inspect both the data and its metadata. "
   ]
  },
  {
   "cell_type": "code",
   "execution_count": null,
   "id": "cc0bf8ac",
   "metadata": {},
   "outputs": [],
   "source": [
    "is_downloaded = batch_path.exists()\n",
    "if is_downloaded:\n",
    "    df = summarize_batch_results_as_dataframe(batch_path) \n",
    "    display(df)"
   ]
  },
  {
   "cell_type": "code",
   "execution_count": null,
   "id": "a3508cc3",
   "metadata": {},
   "outputs": [],
   "source": [
    "if is_downloaded:\n",
    "    if batch.job_type == JobType.PREVIEW:\n",
    "        preview_job_paths = get_subdirectories(batch_path)\n",
    "        view_previews(preview_job_paths if len(preview_job_paths) < 20 else np.random.choice(preview_job_paths, 20, replace=False))\n",
    "    else:\n",
    "        display_video_as_gif(df.sample().iloc[0].job_path + '/video.mp4')"
   ]
  },
  {
   "cell_type": "code",
   "execution_count": null,
   "id": "2738d888",
   "metadata": {},
   "outputs": [],
   "source": [
    "if is_downloaded:\n",
    "    visualize_batch_results(batch_path)"
   ]
  }
 ],
 "metadata": {
  "kernelspec": {
   "display_name": "Python 3 (ipykernel)",
   "language": "python",
   "name": "python3"
  },
  "language_info": {
   "codemirror_mode": {
    "name": "ipython",
    "version": 3
   },
   "file_extension": ".py",
   "mimetype": "text/x-python",
   "name": "python",
   "nbconvert_exporter": "python",
   "pygments_lexer": "ipython3",
   "version": "3.9.15"
  }
 },
 "nbformat": 4,
 "nbformat_minor": 5
}
