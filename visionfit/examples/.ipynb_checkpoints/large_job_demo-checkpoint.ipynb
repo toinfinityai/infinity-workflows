{
 "cells": [
  {
   "cell_type": "markdown",
   "id": "8487fc2f",
   "metadata": {},
   "source": [
    "# Submitting a large batch of jobs\n",
    "\n",
    "Often, you're going to want a big dataset that will take a while to render -- and you probably don't want to keep a notebook kernel going overnight. This notebook writes the submitted job IDs to disk, which allows you to close the notebook and re-open it at a later time to query the jobs' statuses. You can then choose to download data as individual jobs complete, or wait until the entire batch has completed. \n",
    "\n",
    "Specifically, this notebook shows how to:\n",
    "  1. Define a distribution of parameters for the batch submission.\n",
    "  2. Submit many jobs in batch mode.\n",
    "  3. Query job status in non-blocking mode.\n",
    "  4. Visualize dataset statistics + filter for specific properties.\n",
    "\n",
    "----- \n",
    "\n",
    "__Note__: The demonstration here was downsampled for easier viewing in the notebook, so the outputs in the cells will reflect small batch jobs. You can generate batch jobs with many more videos that have higher resolution, better frame rates, and more reps.\n",
    "\n",
    "-----"
   ]
  },
  {
   "cell_type": "code",
   "execution_count": 8,
   "id": "967e14cc",
   "metadata": {},
   "outputs": [],
   "source": [
    "import random\n",
    "from pprint import pprint\n",
    "import infinity_tools.visionfit.api as api\n",
    "from infinity_tools.visionfit.vis import visualize_job_params\n",
    "from infinity_tools.visionfit.vis import summarize_batch_results_as_dataframe, visualize_batch_results"
   ]
  },
  {
   "cell_type": "markdown",
   "id": "a34e217b",
   "metadata": {},
   "source": [
    "## Constants"
   ]
  },
  {
   "cell_type": "code",
   "execution_count": 9,
   "id": "2d832add",
   "metadata": {},
   "outputs": [],
   "source": [
    "TOKEN = \"691fda0541b490ac801d9f4b1c1179eafbd53593\"\n",
    "SERVER = \"https://apidev.toinfinity.ai/\"\n",
    "GENERATOR = \"visionfit-v0.4.0\"\n",
    "OUT_DIR = \"tmp/\""
   ]
  },
  {
   "cell_type": "code",
   "execution_count": 10,
   "id": "cc46b793",
   "metadata": {},
   "outputs": [],
   "source": [
    "sesh = api.VisionFitSession(token=TOKEN, generator=GENERATOR, server=SERVER)"
   ]
  },
  {
   "cell_type": "markdown",
   "id": "694d6d7c",
   "metadata": {},
   "source": [
    "### Check API Usage"
   ]
  },
  {
   "cell_type": "code",
   "execution_count": 11,
   "id": "8fd67452",
   "metadata": {},
   "outputs": [
    {
     "name": "stdout",
     "output_type": "stream",
     "text": [
      "Usage in the last 30 days\n",
      "{'counts_by_generator': [{'generator': 'visionfit-v0.3.1',\n",
      "                          'non_preview_samples_rendered': 0,\n",
      "                          'preview_samples_rendered': 4},\n",
      "                         {'generator': 'visionfit-v0.4.0',\n",
      "                          'non_preview_samples_rendered': 188,\n",
      "                          'preview_samples_rendered': 16}],\n",
      " 'end_time': '2023-01-10T11:50:00.015196-06:00',\n",
      " 'start_time': '2022-12-11T11:50:00.015196-06:00'}\n",
      "\n",
      "Usage in late summer 2022\n",
      "{'counts_by_generator': [{'generator': 'visionfit-v0.3.1',\n",
      "                          'non_preview_samples_rendered': 0,\n",
      "                          'preview_samples_rendered': 4024}],\n",
      " 'end_time': '2022-08-20T00:00:00-05:00',\n",
      " 'start_time': '2022-07-15T00:00:00-05:00'}\n"
     ]
    }
   ],
   "source": [
    "# Get your usage stats for the last N days (30 in the example below).\n",
    "usage_data_last_30_days = sesh.get_usage_stats_last_n_days(n_days=30)\n",
    "print(\"Usage in the last 30 days\")\n",
    "pprint(usage_data_last_30_days)\n",
    "\n",
    "# Use datetime and a lower-level API for a more precise/custom range of usage stats.\n",
    "from datetime import datetime\n",
    "from infinity_core.api import get_usage_datetime_range\n",
    "start_time = datetime.fromisoformat(\"2022-07-15\")\n",
    "end_time = datetime.fromisoformat(\"2022-08-20\")\n",
    "usage_data_late_summer_2022 = get_usage_datetime_range(token=TOKEN, server=SERVER, start_time=start_time, end_time=end_time)\n",
    "print(\"\\nUsage in late summer 2022\")\n",
    "pprint(usage_data_late_summer_2022.json())"
   ]
  },
  {
   "cell_type": "markdown",
   "id": "7299f3b8",
   "metadata": {},
   "source": [
    "### Define distribution of parameters for the batch submission \n",
    "\n",
    "In this example, we will show how to create a large dataset of arm raise recordings with the following constraints:\n",
    "  - All videos will contain a single type of exercise (`exercise`, ARM_RAISE-DUMBBELL) \n",
    "  - All videos have 4 total reps (`num_reps`, 4)\n",
    "  - The resulting distribution of gender will be evenly split (`gender`, 50% male and 50% female)\n",
    "  - Each scene will be well-lit but not over-saturated (`lighting_power`, ~300 units)\n",
    "  - The camera will be placed between floor and table height (`camera_height`, ~1.2 meters)\n",
    "  - The resulting videos will have a low frame rate (`frame_rate`, 6 fps)\n",
    "  - The resulting videos will have a resolution of 256x256 pixels (`image_height` and `image_width`, 256 pixels x 256 pixels)\n",
    "  \n",
    "**Users can update the specification of `job_params` to fit their exact dataset needs.**"
   ]
  },
  {
   "cell_type": "code",
   "execution_count": 53,
   "id": "17b8e4d9",
   "metadata": {},
   "outputs": [],
   "source": [
    "num_jobs = 50\n",
    "batch_name = \"testing hung job, blender, admin updates at high reps and frame rate\" # change to a description of your dataset.\n",
    "\n",
    "# Set some initial parameters.\n",
    "job_params = [\n",
    "        sesh.sample_input(\n",
    "#             exercise = \"UPPERCUT-LEFT\",\n",
    "#             scene = random.choice([\"BEDROOM_6\", \"OFFICE_1\"]),\n",
    "            num_reps = 10,\n",
    "#             lighting_power = float(random.gauss(300.0, 20.0)),\n",
    "#             camera_height = float(random.gauss(1.2, 0.2)),\n",
    "            frame_rate=30,\n",
    "            image_height=512,\n",
    "            image_width=512\n",
    "        ) for _ in range(num_jobs)\n",
    "    ]"
   ]
  },
  {
   "cell_type": "markdown",
   "id": "291c1a71",
   "metadata": {},
   "source": [
    "Before submitting our full video jobs to the API, we can visualize the distributions of our parameters:"
   ]
  },
  {
   "cell_type": "code",
   "execution_count": 54,
   "id": "3aeab9e3",
   "metadata": {},
   "outputs": [
    {
     "data": {
      "application/vnd.plotly.v1+json": {
       "config": {
        "plotlyServerURL": "https://plot.ly"
       },
       "data": [
        {
         "legendgroup": "group1",
         "marker": {
          "color": "#0097A7"
         },
         "name": "All",
         "showlegend": false,
         "type": "histogram",
         "x": [
          "OFFICE_1",
          "BEDROOM_2",
          "LIVINGROOM_2",
          "LIVINGROOM_2",
          "LIVINGROOM_1",
          "LIVINGROOM_1",
          "GYM_1",
          "BEDROOM_5",
          "LIVINGROOM_2",
          "GYM_1",
          "BEDROOM_2",
          "GYM_1",
          "BEDROOM_4",
          "LIVINGROOM_1",
          "LIVINGROOM_2",
          "LIVINGROOM_1",
          "GYM_1",
          "OFFICE_1",
          "BEDROOM_2",
          "BEDROOM_6",
          "LIVINGROOM_2",
          "BEDROOM_5",
          "BEDROOM_4",
          "OFFICE_1",
          "LIVINGROOM_2",
          "LIVINGROOM_2",
          "BEDROOM_2",
          "OFFICE_1",
          "BEDROOM_5",
          "OFFICE_1",
          "BEDROOM_2",
          "OFFICE_1",
          "GYM_1",
          "BEDROOM_5",
          "BEDROOM_2",
          "GYM_1",
          "LIVINGROOM_2",
          "BEDROOM_6",
          "OFFICE_1",
          "BEDROOM_5",
          "LIVINGROOM_1",
          "BEDROOM_4",
          "OFFICE_1",
          "OFFICE_1",
          "LIVINGROOM_1",
          "LIVINGROOM_1",
          "LIVINGROOM_2",
          "BEDROOM_4",
          "LIVINGROOM_2",
          "OFFICE_1"
         ],
         "xaxis": "x",
         "yaxis": "y"
        },
        {
         "legendgroup": "group1",
         "marker": {
          "color": "#0097A7"
         },
         "name": "All",
         "showlegend": false,
         "type": "histogram",
         "x": [
          "BURPEE_10",
          "BURPEE_PUSHUP_07",
          "POGO_POGO_LUNGE_05-RIGHT",
          "POGO_POGO_LUNGE_05-LEFT",
          "BURPEE_PUSHUP_01",
          "UPPERCUT-LEFT",
          "180_JUMP_SQUAT_06-RIGHT",
          "POGO_POGO_LUNGE_03",
          "HIGH_KNEES_02",
          "BURPEE_PUSHUP_01",
          "BURPEE_PUSHUP_03",
          "POGO_POGO_LUNGE_01-LEFT",
          "BURPEE_02",
          "BURPEE_07",
          "POGO_POGO_LUNGE_07",
          "HIGH_KNEES_09",
          "POGO_POGO_LUNGE_03",
          "BURPEE_PUSHUP_05",
          "HIGH_KNEES_05",
          "BURPEE_PUSHUP_01",
          "POGO_POGO_LUNGE_02",
          "180_JUMP_SQUAT_06-LEFT",
          "BURPEE_PUSHUP_13",
          "HIGH_KNEES_04",
          "180_JUMP_SQUAT_03-RIGHT",
          "BURPEE_PUSHUP_05",
          "HIGH_KNEES_06",
          "BURPEE_PUSHUP_10",
          "180_JUMP_SQUAT_07-LEFT",
          "HIGH_KNEES_05",
          "POGO_POGO_LUNGE_08",
          "BURPEE_PUSHUP_13",
          "UPPERCUT-LEFT",
          "HIGH_KNEES_06",
          "POGO_POGO_LUNGE_10",
          "180_JUMP_SQUAT_08-RIGHT",
          "POGO_POGO_LUNGE_08",
          "BURPEE_PUSHUP_11",
          "BURPEE_05",
          "BURPEE_01",
          "BURPEE_PUSHUP_09",
          "POGO_POGO_LUNGE_06",
          "POGO_POGO_LUNGE_07",
          "HIGH_KNEES_01",
          "BURPEE_PUSHUP_09",
          "BURPEE_08",
          "180_JUMP_SQUAT_05-LEFT",
          "BURPEE_PUSHUP_03",
          "BURPEE_09",
          "180_JUMP_SQUAT_05-RIGHT"
         ],
         "xaxis": "x2",
         "yaxis": "y2"
        },
        {
         "legendgroup": "group1",
         "marker": {
          "color": "#0097A7"
         },
         "name": "All",
         "showlegend": false,
         "type": "histogram",
         "x": [
          "MALE",
          "MALE",
          "MALE",
          "MALE",
          "FEMALE",
          "FEMALE",
          "MALE",
          "FEMALE",
          "FEMALE",
          "FEMALE",
          "FEMALE",
          "MALE",
          "FEMALE",
          "MALE",
          "FEMALE",
          "FEMALE",
          "MALE",
          "MALE",
          "MALE",
          "MALE",
          "FEMALE",
          "MALE",
          "MALE",
          "MALE",
          "MALE",
          "MALE",
          "FEMALE",
          "MALE",
          "FEMALE",
          "MALE",
          "MALE",
          "FEMALE",
          "FEMALE",
          "FEMALE",
          "FEMALE",
          "FEMALE",
          "MALE",
          "MALE",
          "MALE",
          "FEMALE",
          "MALE",
          "FEMALE",
          "MALE",
          "FEMALE",
          "FEMALE",
          "FEMALE",
          "FEMALE",
          "FEMALE",
          "FEMALE",
          "FEMALE"
         ],
         "xaxis": "x3",
         "yaxis": "y3"
        },
        {
         "domain": {
          "x": [
           0.7875,
           1
          ],
          "y": [
           0.9214285714285715,
           1
          ]
         },
         "insidetextorientation": "horizontal",
         "labels": [
          10
         ],
         "legendgroup": "group1",
         "marker": {
          "colors": [
           "#0097a7"
          ],
          "line": {
           "color": "grey",
           "width": 0.2
          }
         },
         "showlegend": false,
         "sort": false,
         "textfont": {
          "size": 10
         },
         "textinfo": "percent+label",
         "textposition": "inside",
         "type": "pie",
         "values": [
          50
         ]
        },
        {
         "legendgroup": "group1",
         "marker": {
          "color": "#0097A7"
         },
         "name": "All",
         "showlegend": false,
         "type": "histogram",
         "x": [
          0.8015207907097749,
          0.8665985762466266,
          1.2244486098141922,
          0.925980167689973,
          0.9963640350762004,
          0.8306251024421054,
          0.8478904316430438,
          1.1900160791465815,
          1.1674486619425493,
          0.9998570774224613,
          1.0680998413174618,
          1.0823315281432424,
          1.2439831871517213,
          1.0984923426051725,
          0.8484212963949364,
          0.9601471968208798,
          1.2031886967394345,
          0.8069311283816728,
          1.1525301258111498,
          1.2116586666459734,
          0.9222359818655447,
          1.1336929662065534,
          1.04308595395119,
          1.247940680804397,
          1.1289977852457915,
          1.2115204266105917,
          0.8159288044760055,
          0.9503329072838943,
          1.160143001905949,
          0.840314514391556,
          1.1411488280476298,
          0.8984013902169782,
          0.9949784770759362,
          0.9539944917014591,
          0.8096882669326164,
          1.2054382584028214,
          0.9426369894486832,
          1.1250526551177864,
          0.8942463818298066,
          1.0839272413584329,
          0.9510300521799453,
          1.1092368087584705,
          1.0820910728408595,
          0.8606483164098289,
          0.8175927049043393,
          1.053287305245853,
          0.8990117023934575,
          0.8731045654133358,
          0.8185520847813362,
          0.9941756881847269
         ],
         "xaxis": "x4",
         "yaxis": "y4"
        },
        {
         "legendgroup": "group1",
         "marker": {
          "color": "#0097A7"
         },
         "name": "All",
         "showlegend": false,
         "type": "histogram",
         "x": [
          0.13683808480525647,
          0.0147176470625773,
          0.1891082374877081,
          0.018182169905522617,
          0.12688058940962196,
          0.0423195291745792,
          0.1895049178302252,
          0.18075178380956197,
          0.04212463406026417,
          0.19009714274819894,
          0.0961315915769756,
          0.029755572543334233,
          0.11955137277114208,
          0.05473351552746857,
          0.042072781359545265,
          0.009850829780442006,
          0.109990862427214,
          0.1379748060089575,
          0.08510909152022322,
          0.10858938342603469,
          0.16922876252593996,
          0.19958952225496907,
          0.14773836081421668,
          0.05076986326278985,
          0.043913668420547405,
          0.15003233040575445,
          0.041896029790552784,
          0.08824888187344944,
          0.09158343930052709,
          0.0125450636052306,
          0.09338540171130168,
          0.07546052903887873,
          0.1590859279098263,
          0.17527053831426542,
          0.08786191477106153,
          0.19026812031951576,
          0.17685151300360516,
          0.13408762079351486,
          0.06114191041888282,
          0.13996676688164342,
          0.03653646473558445,
          0.1879123020096012,
          0.15708450452666253,
          0.030238464978370218,
          0.028962635341583987,
          0.170813746922787,
          0.08332224416939338,
          0.05160285263146667,
          0.088475980958928,
          0.14403129629925004
         ],
         "xaxis": "x5",
         "yaxis": "y5"
        },
        {
         "legendgroup": "group1",
         "marker": {
          "color": "#0097A7"
         },
         "name": "All",
         "showlegend": false,
         "type": "histogram",
         "x": [
          0.5722476108783145,
          0.6077389773146117,
          0.14836710717528856,
          0.4375654191704498,
          0.5551747933119355,
          0.6036197323317881,
          0.028080267930285396,
          0.14432913986569862,
          0.1349272569908403,
          0.9917588433983575,
          0.8763257845802871,
          0.10241383562496487,
          0.04007979924876759,
          0.7210996089826093,
          0.18033198786801075,
          0.4149620527840492,
          0.6669420806409533,
          0.8820820536904428,
          0.9703938631462501,
          0.6326657111933687,
          0.6398095786833645,
          0.8209577379582671,
          0.470604098717729,
          0.2595854791741826,
          0.7978282396328736,
          0.9950437722848229,
          0.32371272630060854,
          0.6891272878378931,
          0.2052296184406217,
          0.6150607258399725,
          0.10077960350839676,
          0.26312804160267467,
          0.2820589439197252,
          0.15538432949736913,
          0.6364478786481098,
          0.42884009871660955,
          0.9428470464234558,
          0.323431142563785,
          0.43697511294317315,
          0.2958970792687097,
          0.5573669173597711,
          0.5111533632754087,
          0.17748280747371137,
          0.4874418750350201,
          0.8318897342043371,
          0.0059673053778879215,
          0.41843847548846735,
          0.987318152099936,
          0.05650733884944603,
          0.01819344616113472
         ],
         "xaxis": "x6",
         "yaxis": "y6"
        },
        {
         "legendgroup": "group1",
         "marker": {
          "color": "#0097A7"
         },
         "name": "All",
         "showlegend": false,
         "type": "histogram",
         "x": [
          3.9741724392574382,
          3.860721750094507,
          2.951353230323683,
          4.708907920514272,
          3.5595757802195873,
          4.072031187517755,
          3.8613772383560057,
          3.9590933756946685,
          4.443973447097993,
          3.5926490893083844,
          3.9853331398699576,
          3.109460717822545,
          4.6635839144526035,
          3.1679459047567784,
          4.346702059944002,
          4.3800531199989345,
          3.407845703761616,
          3.324206026170086,
          4.1571972004838464,
          3.20390101555057,
          2.8967917949715978,
          4.398576145448782,
          2.916816450284691,
          4.511712879952947,
          2.9662317402809166,
          4.460182729593296,
          4.329055466065397,
          3.8978924643215422,
          4.609305302891096,
          3.4397440135115667,
          2.737540179320979,
          2.7707444612523298,
          4.18097656172081,
          2.884109438700394,
          4.741101207447262,
          4.6261470112624625,
          4.61287393289882,
          2.9017490535794024,
          2.9982797031908093,
          2.7203639519282987,
          4.635329567569594,
          3.094660689558715,
          3.912628446927629,
          2.614009718477241,
          2.9334695542735165,
          3.495210131242325,
          2.6163728963340533,
          2.7019050380837526,
          2.8527070351284705,
          3.5174102843203685
         ],
         "xaxis": "x7",
         "yaxis": "y7"
        },
        {
         "legendgroup": "group1",
         "marker": {
          "color": "#0097A7"
         },
         "name": "All",
         "showlegend": false,
         "type": "histogram",
         "x": [
          1.2210446210676127,
          0.7459909902419087,
          0.2351403715411193,
          1.8457564649648428,
          2.0406385455767744,
          0.7890079287961134,
          1.6098877266375158,
          2.5665656670428447,
          1.0389829371167414,
          0.35536036446379715,
          1.0772621283189272,
          1.4279312131292476,
          2.121569546375016,
          2.6251328638820044,
          2.236205658080478,
          2.3433991609742537,
          1.687514819059604,
          1.5076387801719655,
          2.369875293834797,
          0.9538276477520882,
          0.6427323539656982,
          0.5160375432520727,
          2.396130781530682,
          0.9042473596682561,
          1.0998715908132528,
          1.2077964877166167,
          0.67036092189339,
          1.402426102551357,
          1.0834836679347943,
          0.9825348024485749,
          1.528282569558186,
          1.7745558576321832,
          2.550224064585784,
          1.2391200258239734,
          0.8063380308559874,
          2.015041972175298,
          1.4521008261764294,
          0.40233891857249715,
          1.9365154434739091,
          1.7740936938140002,
          1.8903780853061876,
          0.21732598333008135,
          0.37646253592447276,
          0.9644399344150152,
          0.5969120554416446,
          2.377802201743398,
          2.610321683481429,
          0.580734442937964,
          0.9362227599094233,
          2.1070048963314942
         ],
         "xaxis": "x8",
         "yaxis": "y8"
        },
        {
         "legendgroup": "group1",
         "marker": {
          "color": "#0097A7"
         },
         "name": "All",
         "showlegend": false,
         "type": "histogram",
         "x": [
          24,
          24,
          13,
          9,
          17,
          8,
          21,
          21,
          18,
          9,
          3,
          0,
          20,
          4,
          5,
          1,
          17,
          0,
          14,
          20,
          0,
          12,
          20,
          12,
          23,
          24,
          8,
          3,
          16,
          22,
          24,
          21,
          22,
          24,
          23,
          4,
          2,
          11,
          12,
          12,
          14,
          1,
          9,
          6,
          3,
          19,
          17,
          4,
          0,
          16
         ],
         "xaxis": "x9",
         "yaxis": "y9"
        },
        {
         "legendgroup": "group1",
         "marker": {
          "color": "#0097A7"
         },
         "name": "All",
         "showlegend": false,
         "type": "histogram",
         "x": [
          -0.3554172706258086,
          -0.54488601187648,
          0.18317464198282302,
          -0.071618181697442,
          -0.457328892094423,
          0.44129321395072935,
          -0.2542578195040044,
          -1.0954189404649153,
          0.2823629249985057,
          0.2380375063342366,
          0.7372713149673071,
          0.2681111246049237,
          -0.19147781441956993,
          -0.6593358674063164,
          -1.0757918780915117,
          -1.8957942285817637,
          1.3498465082722206,
          0.4477607547252495,
          -1.8116194008470712,
          0.04263233177560082,
          0.038187163437116714,
          -0.030470087220223863,
          -0.9642220880112994,
          0.36095610941350886,
          -0.5675140585682461,
          -0.6281474001597381,
          -1.0582136022845834,
          0.3248252683325574,
          -0.7637021107305033,
          -0.5872108224213392,
          -1.2001320117418637,
          0.7356195707963674,
          1.1965620009285216,
          -0.53025486326894,
          -1.912656229592118,
          0.5253900080016892,
          0.35773207059447876,
          -2.0476861987463906,
          0.11499255106560581,
          -1.2258826955032494,
          -1.1326727917173096,
          -0.34834516076087046,
          -2.1825792626186358,
          1.9483637667297162,
          -0.7641310718210885,
          1.428858985802321,
          -0.8678562861985484,
          0.05142365874572069,
          0.5559328485770247,
          0.06852836058061344
         ],
         "xaxis": "x10",
         "yaxis": "y10"
        },
        {
         "legendgroup": "group1",
         "marker": {
          "color": "#0097A7"
         },
         "name": "All",
         "showlegend": false,
         "type": "histogram",
         "x": [
          1.4025592082712632,
          0.9879833245388693,
          0.34300628534332117,
          -0.4008865286639572,
          -1.039681263722113,
          -0.8287278250961984,
          -0.013543127756037597,
          -0.0562439855221981,
          1.0796692971789084,
          1.6064515598836093,
          1.2794492415913317,
          -0.4600909935996363,
          1.7061237595894536,
          -0.5862592232810688,
          2.098648953788427,
          -0.4119458581062075,
          1.8306879565924503,
          -0.03967523143147877,
          -0.7438760173256159,
          -0.40111680742527417,
          -0.12920263621893494,
          -0.3384598019983478,
          0.3278649922743744,
          -1.5896722750505554,
          -1.3399631942690415,
          -1.156876335756658,
          -0.8797509608581958,
          -0.8951278197422632,
          -0.6972961006244182,
          0.6850657228877504,
          -0.6112940956695734,
          -0.047026567476673865,
          1.008355145638574,
          1.4869420264839288,
          1.853457338189739,
          -0.3764203106388189,
          -1.1722050469950265,
          0.029947631583948534,
          -0.8432530315956254,
          -0.5230548794770848,
          1.13523498987981,
          0.764752754636858,
          0.525819745204952,
          -1.400866371694242,
          -0.05087407007076181,
          1.446343982895841,
          -0.8887809120245677,
          -0.13605057461867698,
          -1.9618416340758067,
          0.5551189499554335
         ],
         "xaxis": "x11",
         "yaxis": "y11"
        },
        {
         "legendgroup": "group1",
         "marker": {
          "color": "#0097A7"
         },
         "name": "All",
         "showlegend": false,
         "type": "histogram",
         "x": [
          12.08734195915758,
          14.9873814473297,
          -1.8403511856664814,
          -9.631704219203293,
          5.271415443362919,
          -12.46137873283854,
          -5.889314327660511,
          -2.121793510988809,
          -9.72315529906271,
          -9.159615725698337,
          2.6786343859384054,
          1.5472318791756088,
          7.529552680384892,
          8.61036160587534,
          -2.735176681339663,
          -0.7844554902310605,
          14.622712298519097,
          -6.784776015673623,
          10.934824441683169,
          14.25113605399169,
          -12.661954292326921,
          -1.774241209045595,
          7.326276888181482,
          -6.6369408308228905,
          -3.1431645894089986,
          -5.044138502089295,
          11.545743702421834,
          -8.380548176435234,
          -8.142212494116126,
          9.831849217257535,
          -13.109058017248511,
          2.9671895233982184,
          4.807063562785608,
          -5.288038319691864,
          -10.263439297335523,
          -8.261900939230632,
          3.3418992176765983,
          -12.80645599231788,
          6.890055756687708,
          6.037438621849688,
          1.4173905104801037,
          -9.559227341548919,
          -2.8712851205406675,
          -3.5779821736856547,
          5.950880286043098,
          14.134067127399959,
          6.084971909258805,
          -8.370060576099448,
          11.101239146607995,
          -0.9253692834997
         ],
         "xaxis": "x12",
         "yaxis": "y12"
        },
        {
         "legendgroup": "group1",
         "marker": {
          "color": "#0097A7"
         },
         "name": "All",
         "showlegend": false,
         "type": "histogram",
         "x": [
          8.477754451295407,
          3.5681001694951817,
          0.707549313933205,
          -4.09870335875214,
          -6.3128698787262465,
          -0.8176639864824171,
          4.788932269959963,
          -9.658073877348466,
          -9.664139849444698,
          -4.009599582647718,
          -4.8435359130628015,
          5.57196801595812,
          6.62806762294105,
          4.612642194010391,
          -7.333285737307174,
          -3.04624804918949,
          2.2047967133070365,
          -0.9700354450861965,
          -7.467226716108835,
          9.458475024507614,
          -2.840237776528869,
          -3.5189390529095865,
          2.8534737649877435,
          7.578501528697565,
          5.741617162524111,
          8.805825474118723,
          -0.046969123279508196,
          -5.227071306478875,
          6.447821398929634,
          3.4276873173545255,
          -8.222766317097525,
          5.514068406861865,
          -6.151089586569554,
          3.6684406584438296,
          2.5768029298018007,
          -1.7895918297828022,
          -3.422073184795746,
          1.1677521286417871,
          -9.418873562560625,
          9.106372475603763,
          -4.069162396220629,
          -0.13281556649851645,
          4.974642213851565,
          -2.5462172504376035,
          9.971100492274179,
          9.480110963394818,
          0.33379495174299123,
          5.2251677947888435,
          4.393074422977946,
          4.395740424405986
         ],
         "xaxis": "x13",
         "yaxis": "y13"
        },
        {
         "legendgroup": "group1",
         "marker": {
          "color": "#0097A7"
         },
         "name": "All",
         "showlegend": false,
         "type": "histogram",
         "x": [
          971.6643301807452,
          21.225579770874184,
          226.289166709052,
          687.342536027273,
          560.5688336067343,
          336.37994118012324,
          828.4602967187667,
          46.940853741114516,
          65.94929361990526,
          566.8875612573548,
          212.06459629082545,
          526.6802808398613,
          446.4402133166439,
          589.6002146634257,
          642.7303342661125,
          685.5156183702948,
          660.3343199340467,
          802.5452345809463,
          559.7905245678846,
          805.5210961449447,
          890.9953495620653,
          130.9964548296988,
          92.67470684861418,
          542.3636173661671,
          355.02967309122494,
          216.84294894506502,
          266.8605447330851,
          412.7212050491799,
          493.240866728766,
          571.2848361584199,
          400.2136736058781,
          349.1833745221555,
          521.5056400936109,
          471.4247064993006,
          595.1139384790647,
          553.2129973139804,
          251.9065974651162,
          97.73322503069019,
          480.5014184092599,
          15.62146397305579,
          313.42870944673206,
          387.28535667747514,
          269.61429103441355,
          457.43039418886013,
          223.62409935671928,
          67.39067703199508,
          758.8546036861926,
          879.6016786416775,
          402.517410051999,
          663.3367344291686
         ],
         "xaxis": "x14",
         "yaxis": "y14"
        },
        {
         "legendgroup": "group1",
         "marker": {
          "color": "#0097A7"
         },
         "name": "All",
         "showlegend": false,
         "type": "histogram",
         "x": [
          -116.11286523303754,
          4.7606092831892965,
          6.420272862683873,
          68.07480351896706,
          2.807745169139281,
          83.5562489584945,
          -72.21283684891722,
          140.33040735510957,
          68.3349709854557,
          76.99023747754052,
          69.73884883988183,
          120.17324840686672,
          137.08239211031076,
          136.60752589196653,
          142.78165263626317,
          -1.6156466443021031,
          -136.3213541141369,
          81.56551283742743,
          -39.13538413529423,
          -90.0540007918617,
          -31.199476129215327,
          -82.00103908535962,
          -166.3501802315718,
          -28.08999999852955,
          -74.21648419373885,
          -119.2478313476153,
          91.3956250797126,
          110.73289942082693,
          -68.24676002887432,
          -95.46033097781071,
          -175.0126949775265,
          136.04168233790318,
          -36.46421748129282,
          -45.32712958014719,
          -55.58685984602383,
          119.99748057942423,
          -107.71087395890336,
          -28.761688273437386,
          175.4056484805173,
          -27.060059098411898,
          11.677721604699542,
          -123.70032479869293,
          161.76642011564167,
          2.411160780723378,
          -64.90481819744525,
          -95.92176913491662,
          -150.6579498438521,
          -76.00149627905607,
          74.19129671959513,
          161.86955141613674
         ],
         "xaxis": "x15",
         "yaxis": "y15"
        },
        {
         "domain": {
          "x": [
           0,
           0.2125
          ],
          "y": [
           0.30714285714285716,
           0.38571428571428573
          ]
         },
         "insidetextorientation": "horizontal",
         "labels": [
          30
         ],
         "legendgroup": "group1",
         "marker": {
          "colors": [
           "#0097a7"
          ],
          "line": {
           "color": "grey",
           "width": 0.2
          }
         },
         "showlegend": false,
         "sort": false,
         "textfont": {
          "size": 10
         },
         "textinfo": "percent+label",
         "textposition": "inside",
         "type": "pie",
         "values": [
          50
         ]
        },
        {
         "domain": {
          "x": [
           0.2625,
           0.475
          ],
          "y": [
           0.30714285714285716,
           0.38571428571428573
          ]
         },
         "insidetextorientation": "horizontal",
         "labels": [
          512
         ],
         "legendgroup": "group1",
         "marker": {
          "colors": [
           "#0097a7"
          ],
          "line": {
           "color": "grey",
           "width": 0.2
          }
         },
         "showlegend": false,
         "sort": false,
         "textfont": {
          "size": 10
         },
         "textinfo": "percent+label",
         "textposition": "inside",
         "type": "pie",
         "values": [
          50
         ]
        },
        {
         "domain": {
          "x": [
           0.525,
           0.7375
          ],
          "y": [
           0.30714285714285716,
           0.38571428571428573
          ]
         },
         "insidetextorientation": "horizontal",
         "labels": [
          512
         ],
         "legendgroup": "group1",
         "marker": {
          "colors": [
           "#0097a7"
          ],
          "line": {
           "color": "grey",
           "width": 0.2
          }
         },
         "showlegend": false,
         "sort": false,
         "textfont": {
          "size": 10
         },
         "textinfo": "percent+label",
         "textposition": "inside",
         "type": "pie",
         "values": [
          50
         ]
        },
        {
         "legendgroup": "group1",
         "marker": {
          "color": "#0097A7"
         },
         "name": "All",
         "showlegend": false,
         "type": "histogram",
         "x": [
          0.9126242279433403,
          1.4722981909884394,
          0.7156388689190811,
          1.5493898210994086,
          1.2840574868469765,
          0.46865396138944226,
          0.45226535021501846,
          1.1972815436606314,
          1.2218818411781935,
          0.5478278651372575,
          1.607543534169428,
          0.6438819291606934,
          0.20430896389546738,
          0.6632653361165541,
          1.5361730060562475,
          0.4978472200130837,
          1.3350087988949055,
          1.4328464106816605,
          0.4634505155361155,
          0.8696262222271594,
          0.5600747355605267,
          0.4852155749613021,
          0.13510726977365795,
          1.4450446796133434,
          0.7793814996796753,
          1.244734905661915,
          0.3145171980914516,
          0.035159640433588546,
          1.7462038828506037,
          0.5597790343539784,
          0.7719680326352534,
          0.9856075414277097,
          0.35913680880127075,
          0.8237987820900905,
          1.759625053966137,
          1.3802093862652733,
          0.9328589112466639,
          1.1654902298347436,
          1.8943696486284864,
          1.8552716191058978,
          0.08853134860227496,
          1.4311796255249356,
          1.8621031583561916,
          1.5373460696302241,
          1.246807180308196,
          1.770742831876074,
          0.7288496551688408,
          1.132978077210809,
          1.0758754920922242,
          0.6298150323481202
         ],
         "xaxis": "x16",
         "yaxis": "y16"
        },
        {
         "legendgroup": "group1",
         "marker": {
          "color": "#0097A7"
         },
         "name": "All",
         "showlegend": false,
         "type": "histogram",
         "x": [
          1.3909710745523736,
          0.7012864545714672,
          1.801008709793102,
          1.149298156550218,
          0.3394102887268038,
          0.36637935537046573,
          0.9146750703160691,
          0.6530125116477088,
          0.22911572067963548,
          1.290380410246966,
          0.9745220179704763,
          0.02075717424029966,
          0.9783073322469358,
          0.14314268244037986,
          1.4834588276261724,
          1.273023911836999,
          0.4821208847480549,
          0.8664230878423087,
          1.011043756751024,
          0.09367581273893744,
          0.9270267494015205,
          0.8296691891556995,
          1.3951556797282607,
          1.4279448109335335,
          0.04703401613850633,
          1.6388620678216568,
          0.7145845793249777,
          1.0309156198323364,
          0.9431255384495552,
          1.3687407038046682,
          1.2065590642351436,
          1.1688879392421185,
          1.542350564546502,
          0.5786530706899264,
          0.4217388657958585,
          1.9419279674842933,
          1.730185865395564,
          0.8189095055587443,
          1.1035054450138717,
          1.8696493991042706,
          0.8807125016696109,
          1.7500521996938105,
          1.0723336340930232,
          1.1669434487195705,
          0.383228416689674,
          1.5164613195988657,
          0.8134055966714895,
          0.5918448763628543,
          0.34903221586862077,
          0.5389240963613702
         ],
         "xaxis": "x17",
         "yaxis": "y17"
        },
        {
         "legendgroup": "group1",
         "marker": {
          "color": "#0097A7"
         },
         "name": "All",
         "showlegend": false,
         "type": "histogram",
         "x": [
          false,
          false,
          true,
          true,
          true,
          false,
          true,
          true,
          true,
          false,
          true,
          true,
          false,
          true,
          true,
          true,
          false,
          true,
          false,
          false,
          false,
          false,
          true,
          false,
          false,
          true,
          false,
          true,
          false,
          false,
          false,
          false,
          true,
          true,
          false,
          true,
          false,
          true,
          false,
          true,
          false,
          false,
          true,
          false,
          true,
          true,
          true,
          true,
          true,
          false
         ],
         "xaxis": "x18",
         "yaxis": "y18"
        },
        {
         "legendgroup": "group1",
         "marker": {
          "color": "#0097A7"
         },
         "name": "All",
         "showlegend": false,
         "type": "histogram",
         "x": [
          "misc_human",
          "non_human",
          "non_human",
          "misc_human",
          "non_human",
          "misc_human",
          "misc_human",
          "misc_human",
          "non_human",
          "non_human",
          "non_human",
          "misc_human",
          "non_human",
          "misc_human",
          "non_human",
          "non_human",
          "misc_human",
          "non_human",
          "misc_human",
          "non_human",
          "misc_human",
          "misc_human",
          "non_human",
          "non_human",
          "non_human",
          "non_human",
          "non_human",
          "non_human",
          "non_human",
          "misc_human",
          "non_human",
          "non_human",
          "misc_human",
          "non_human",
          "misc_human",
          "non_human",
          "non_human",
          "misc_human",
          "non_human",
          "misc_human",
          "misc_human",
          "misc_human",
          "misc_human",
          "non_human",
          "non_human",
          "misc_human",
          "non_human",
          "misc_human",
          "misc_human",
          "non_human"
         ],
         "xaxis": "x19",
         "yaxis": "y19"
        },
        {
         "legendgroup": "group1",
         "marker": {
          "color": "#0097A7"
         },
         "name": "All",
         "showlegend": false,
         "type": "histogram",
         "x": [
          2,
          -1,
          1,
          0,
          2,
          4,
          2,
          0,
          1,
          1,
          4,
          1,
          0,
          4,
          4,
          1,
          4,
          2,
          1,
          1,
          2,
          3,
          0,
          1,
          1,
          4,
          4,
          -1,
          1,
          4,
          4,
          2,
          2,
          0,
          2,
          2,
          -1,
          2,
          1,
          3,
          4,
          4,
          1,
          -1,
          2,
          1,
          1,
          1,
          4,
          1
         ],
         "xaxis": "x20",
         "yaxis": "y20"
        },
        {
         "legendgroup": "group1",
         "marker": {
          "color": "#0097A7"
         },
         "name": "All",
         "showlegend": false,
         "type": "histogram",
         "x": [
          false,
          false,
          true,
          false,
          true,
          false,
          false,
          true,
          false,
          true,
          false,
          false,
          true,
          true,
          false,
          false,
          true,
          true,
          true,
          true,
          true,
          true,
          true,
          false,
          true,
          true,
          true,
          false,
          true,
          true,
          false,
          true,
          true,
          true,
          false,
          true,
          true,
          true,
          false,
          true,
          false,
          false,
          true,
          true,
          true,
          false,
          false,
          false,
          true,
          false
         ],
         "xaxis": "x21",
         "yaxis": "y21"
        },
        {
         "legendgroup": "group1",
         "marker": {
          "color": "#0097A7"
         },
         "name": "All",
         "showlegend": false,
         "type": "histogram",
         "x": [
          22.743365258517734,
          2.5520714133908493,
          14.391026254053585,
          27.948811478307494,
          37.39256378301932,
          1.758432754928002,
          18.760862078759626,
          27.776227568958877,
          48.39755429829838,
          14.971519472185202,
          39.69303226533555,
          40.43518738131443,
          49.6096804792548,
          47.41366328797653,
          2.9621938724279264,
          12.621555232115595,
          24.55526901451452,
          25.322255322555275,
          16.814318969815933,
          28.659076814055783,
          37.89092758767088,
          37.9280993083238,
          34.16015146048261,
          26.32436583110972,
          42.86176934390336,
          23.785627110037684,
          48.30622658517549,
          35.43070918148907,
          12.997396199702111,
          11.655835717055707,
          47.789492198891146,
          12.923919387676708,
          29.89970911926042,
          45.11815473848788,
          39.00334955390995,
          29.358010150262785,
          30.508131103169035,
          46.15210279117699,
          4.442206861788095,
          18.465736650131998,
          13.927687077546613,
          3.3003796668182037,
          22.06523026552269,
          38.72656764449593,
          12.9025208633523,
          36.00051789304036,
          18.48035110458585,
          37.70974772860172,
          11.220576597799209,
          2.8295889921211073
         ],
         "xaxis": "x22",
         "yaxis": "y22"
        },
        {
         "domain": {
          "x": [
           0.525,
           0.7375
          ],
          "y": [
           0,
           0.07857142857142858
          ]
         },
         "insidetextorientation": "horizontal",
         "labels": [
          true
         ],
         "legendgroup": "group1",
         "marker": {
          "colors": [
           "#0097a7"
          ],
          "line": {
           "color": "grey",
           "width": 0.2
          }
         },
         "showlegend": false,
         "sort": false,
         "textfont": {
          "size": 10
         },
         "textinfo": "percent+label",
         "textposition": "inside",
         "type": "pie",
         "values": [
          50
         ]
        }
       ],
       "layout": {
        "annotations": [
         {
          "font": {
           "size": 16
          },
          "showarrow": false,
          "text": "scene",
          "x": 0.10625,
          "xanchor": "center",
          "xref": "paper",
          "y": 1,
          "yanchor": "bottom",
          "yref": "paper"
         },
         {
          "font": {
           "size": 16
          },
          "showarrow": false,
          "text": "exercise",
          "x": 0.36875,
          "xanchor": "center",
          "xref": "paper",
          "y": 1,
          "yanchor": "bottom",
          "yref": "paper"
         },
         {
          "font": {
           "size": 16
          },
          "showarrow": false,
          "text": "gender",
          "x": 0.6312500000000001,
          "xanchor": "center",
          "xref": "paper",
          "y": 1,
          "yanchor": "bottom",
          "yref": "paper"
         },
         {
          "font": {
           "size": 16
          },
          "showarrow": false,
          "text": "num_reps",
          "x": 0.89375,
          "xanchor": "center",
          "xref": "paper",
          "y": 1,
          "yanchor": "bottom",
          "yref": "paper"
         },
         {
          "font": {
           "size": 16
          },
          "showarrow": false,
          "text": "rel_baseline_speed",
          "x": 0.10625,
          "xanchor": "center",
          "xref": "paper",
          "y": 0.8464285714285715,
          "yanchor": "bottom",
          "yref": "paper"
         },
         {
          "font": {
           "size": 16
          },
          "showarrow": false,
          "text": "max_rel_speed_change",
          "x": 0.36875,
          "xanchor": "center",
          "xref": "paper",
          "y": 0.8464285714285715,
          "yanchor": "bottom",
          "yref": "paper"
         },
         {
          "font": {
           "size": 16
          },
          "showarrow": false,
          "text": "kinematic_noise_factor",
          "x": 0.6312500000000001,
          "xanchor": "center",
          "xref": "paper",
          "y": 0.8464285714285715,
          "yanchor": "bottom",
          "yref": "paper"
         },
         {
          "font": {
           "size": 16
          },
          "showarrow": false,
          "text": "camera_distance",
          "x": 0.89375,
          "xanchor": "center",
          "xref": "paper",
          "y": 0.8464285714285715,
          "yanchor": "bottom",
          "yref": "paper"
         },
         {
          "font": {
           "size": 16
          },
          "showarrow": false,
          "text": "camera_height",
          "x": 0.10625,
          "xanchor": "center",
          "xref": "paper",
          "y": 0.692857142857143,
          "yanchor": "bottom",
          "yref": "paper"
         },
         {
          "font": {
           "size": 16
          },
          "showarrow": false,
          "text": "avatar_identity",
          "x": 0.36875,
          "xanchor": "center",
          "xref": "paper",
          "y": 0.692857142857143,
          "yanchor": "bottom",
          "yref": "paper"
         },
         {
          "font": {
           "size": 16
          },
          "showarrow": false,
          "text": "relative_height",
          "x": 0.6312500000000001,
          "xanchor": "center",
          "xref": "paper",
          "y": 0.692857142857143,
          "yanchor": "bottom",
          "yref": "paper"
         },
         {
          "font": {
           "size": 16
          },
          "showarrow": false,
          "text": "relative_weight",
          "x": 0.89375,
          "xanchor": "center",
          "xref": "paper",
          "y": 0.692857142857143,
          "yanchor": "bottom",
          "yref": "paper"
         },
         {
          "font": {
           "size": 16
          },
          "showarrow": false,
          "text": "relative_camera_yaw_deg",
          "x": 0.10625,
          "xanchor": "center",
          "xref": "paper",
          "y": 0.5392857142857144,
          "yanchor": "bottom",
          "yref": "paper"
         },
         {
          "font": {
           "size": 16
          },
          "showarrow": false,
          "text": "relative_camera_pitch_deg",
          "x": 0.36875,
          "xanchor": "center",
          "xref": "paper",
          "y": 0.5392857142857144,
          "yanchor": "bottom",
          "yref": "paper"
         },
         {
          "font": {
           "size": 16
          },
          "showarrow": false,
          "text": "lighting_power",
          "x": 0.6312500000000001,
          "xanchor": "center",
          "xref": "paper",
          "y": 0.5392857142857144,
          "yanchor": "bottom",
          "yref": "paper"
         },
         {
          "font": {
           "size": 16
          },
          "showarrow": false,
          "text": "relative_avatar_angle_deg",
          "x": 0.89375,
          "xanchor": "center",
          "xref": "paper",
          "y": 0.5392857142857144,
          "yanchor": "bottom",
          "yref": "paper"
         },
         {
          "font": {
           "size": 16
          },
          "showarrow": false,
          "text": "frame_rate",
          "x": 0.10625,
          "xanchor": "center",
          "xref": "paper",
          "y": 0.38571428571428573,
          "yanchor": "bottom",
          "yref": "paper"
         },
         {
          "font": {
           "size": 16
          },
          "showarrow": false,
          "text": "image_width",
          "x": 0.36875,
          "xanchor": "center",
          "xref": "paper",
          "y": 0.38571428571428573,
          "yanchor": "bottom",
          "yref": "paper"
         },
         {
          "font": {
           "size": 16
          },
          "showarrow": false,
          "text": "image_height",
          "x": 0.6312500000000001,
          "xanchor": "center",
          "xref": "paper",
          "y": 0.38571428571428573,
          "yanchor": "bottom",
          "yref": "paper"
         },
         {
          "font": {
           "size": 16
          },
          "showarrow": false,
          "text": "inter_rep_delay_avg",
          "x": 0.89375,
          "xanchor": "center",
          "xref": "paper",
          "y": 0.38571428571428573,
          "yanchor": "bottom",
          "yref": "paper"
         },
         {
          "font": {
           "size": 16
          },
          "showarrow": false,
          "text": "inter_rep_delay_var",
          "x": 0.10625,
          "xanchor": "center",
          "xref": "paper",
          "y": 0.23214285714285715,
          "yanchor": "bottom",
          "yref": "paper"
         },
         {
          "font": {
           "size": 16
          },
          "showarrow": false,
          "text": "add_wall_art",
          "x": 0.36875,
          "xanchor": "center",
          "xref": "paper",
          "y": 0.23214285714285715,
          "yanchor": "bottom",
          "yref": "paper"
         },
         {
          "font": {
           "size": 16
          },
          "showarrow": false,
          "text": "wall_art_type",
          "x": 0.6312500000000001,
          "xanchor": "center",
          "xref": "paper",
          "y": 0.23214285714285715,
          "yanchor": "bottom",
          "yref": "paper"
         },
         {
          "font": {
           "size": 16
          },
          "showarrow": false,
          "text": "outfit",
          "x": 0.89375,
          "xanchor": "center",
          "xref": "paper",
          "y": 0.23214285714285715,
          "yanchor": "bottom",
          "yref": "paper"
         },
         {
          "font": {
           "size": 16
          },
          "showarrow": false,
          "text": "hide_shoes",
          "x": 0.10625,
          "xanchor": "center",
          "xref": "paper",
          "y": 0.07857142857142858,
          "yanchor": "bottom",
          "yref": "paper"
         },
         {
          "font": {
           "size": 16
          },
          "showarrow": false,
          "text": "allowable_occlusion",
          "x": 0.36875,
          "xanchor": "center",
          "xref": "paper",
          "y": 0.07857142857142858,
          "yanchor": "bottom",
          "yref": "paper"
         },
         {
          "font": {
           "size": 16
          },
          "showarrow": false,
          "text": "enable_sensor_noise",
          "x": 0.6312500000000001,
          "xanchor": "center",
          "xref": "paper",
          "y": 0.07857142857142858,
          "yanchor": "bottom",
          "yref": "paper"
         }
        ],
        "barmode": "stack",
        "font": {
         "size": 12
        },
        "height": 2100,
        "template": {
         "data": {
          "bar": [
           {
            "error_x": {
             "color": "#2a3f5f"
            },
            "error_y": {
             "color": "#2a3f5f"
            },
            "marker": {
             "line": {
              "color": "white",
              "width": 0.5
             },
             "pattern": {
              "fillmode": "overlay",
              "size": 10,
              "solidity": 0.2
             }
            },
            "type": "bar"
           }
          ],
          "barpolar": [
           {
            "marker": {
             "line": {
              "color": "white",
              "width": 0.5
             },
             "pattern": {
              "fillmode": "overlay",
              "size": 10,
              "solidity": 0.2
             }
            },
            "type": "barpolar"
           }
          ],
          "carpet": [
           {
            "aaxis": {
             "endlinecolor": "#2a3f5f",
             "gridcolor": "#C8D4E3",
             "linecolor": "#C8D4E3",
             "minorgridcolor": "#C8D4E3",
             "startlinecolor": "#2a3f5f"
            },
            "baxis": {
             "endlinecolor": "#2a3f5f",
             "gridcolor": "#C8D4E3",
             "linecolor": "#C8D4E3",
             "minorgridcolor": "#C8D4E3",
             "startlinecolor": "#2a3f5f"
            },
            "type": "carpet"
           }
          ],
          "choropleth": [
           {
            "colorbar": {
             "outlinewidth": 0,
             "ticks": ""
            },
            "type": "choropleth"
           }
          ],
          "contour": [
           {
            "colorbar": {
             "outlinewidth": 0,
             "ticks": ""
            },
            "colorscale": [
             [
              0,
              "#0d0887"
             ],
             [
              0.1111111111111111,
              "#46039f"
             ],
             [
              0.2222222222222222,
              "#7201a8"
             ],
             [
              0.3333333333333333,
              "#9c179e"
             ],
             [
              0.4444444444444444,
              "#bd3786"
             ],
             [
              0.5555555555555556,
              "#d8576b"
             ],
             [
              0.6666666666666666,
              "#ed7953"
             ],
             [
              0.7777777777777778,
              "#fb9f3a"
             ],
             [
              0.8888888888888888,
              "#fdca26"
             ],
             [
              1,
              "#f0f921"
             ]
            ],
            "type": "contour"
           }
          ],
          "contourcarpet": [
           {
            "colorbar": {
             "outlinewidth": 0,
             "ticks": ""
            },
            "type": "contourcarpet"
           }
          ],
          "heatmap": [
           {
            "colorbar": {
             "outlinewidth": 0,
             "ticks": ""
            },
            "colorscale": [
             [
              0,
              "#0d0887"
             ],
             [
              0.1111111111111111,
              "#46039f"
             ],
             [
              0.2222222222222222,
              "#7201a8"
             ],
             [
              0.3333333333333333,
              "#9c179e"
             ],
             [
              0.4444444444444444,
              "#bd3786"
             ],
             [
              0.5555555555555556,
              "#d8576b"
             ],
             [
              0.6666666666666666,
              "#ed7953"
             ],
             [
              0.7777777777777778,
              "#fb9f3a"
             ],
             [
              0.8888888888888888,
              "#fdca26"
             ],
             [
              1,
              "#f0f921"
             ]
            ],
            "type": "heatmap"
           }
          ],
          "heatmapgl": [
           {
            "colorbar": {
             "outlinewidth": 0,
             "ticks": ""
            },
            "colorscale": [
             [
              0,
              "#0d0887"
             ],
             [
              0.1111111111111111,
              "#46039f"
             ],
             [
              0.2222222222222222,
              "#7201a8"
             ],
             [
              0.3333333333333333,
              "#9c179e"
             ],
             [
              0.4444444444444444,
              "#bd3786"
             ],
             [
              0.5555555555555556,
              "#d8576b"
             ],
             [
              0.6666666666666666,
              "#ed7953"
             ],
             [
              0.7777777777777778,
              "#fb9f3a"
             ],
             [
              0.8888888888888888,
              "#fdca26"
             ],
             [
              1,
              "#f0f921"
             ]
            ],
            "type": "heatmapgl"
           }
          ],
          "histogram": [
           {
            "marker": {
             "pattern": {
              "fillmode": "overlay",
              "size": 10,
              "solidity": 0.2
             }
            },
            "type": "histogram"
           }
          ],
          "histogram2d": [
           {
            "colorbar": {
             "outlinewidth": 0,
             "ticks": ""
            },
            "colorscale": [
             [
              0,
              "#0d0887"
             ],
             [
              0.1111111111111111,
              "#46039f"
             ],
             [
              0.2222222222222222,
              "#7201a8"
             ],
             [
              0.3333333333333333,
              "#9c179e"
             ],
             [
              0.4444444444444444,
              "#bd3786"
             ],
             [
              0.5555555555555556,
              "#d8576b"
             ],
             [
              0.6666666666666666,
              "#ed7953"
             ],
             [
              0.7777777777777778,
              "#fb9f3a"
             ],
             [
              0.8888888888888888,
              "#fdca26"
             ],
             [
              1,
              "#f0f921"
             ]
            ],
            "type": "histogram2d"
           }
          ],
          "histogram2dcontour": [
           {
            "colorbar": {
             "outlinewidth": 0,
             "ticks": ""
            },
            "colorscale": [
             [
              0,
              "#0d0887"
             ],
             [
              0.1111111111111111,
              "#46039f"
             ],
             [
              0.2222222222222222,
              "#7201a8"
             ],
             [
              0.3333333333333333,
              "#9c179e"
             ],
             [
              0.4444444444444444,
              "#bd3786"
             ],
             [
              0.5555555555555556,
              "#d8576b"
             ],
             [
              0.6666666666666666,
              "#ed7953"
             ],
             [
              0.7777777777777778,
              "#fb9f3a"
             ],
             [
              0.8888888888888888,
              "#fdca26"
             ],
             [
              1,
              "#f0f921"
             ]
            ],
            "type": "histogram2dcontour"
           }
          ],
          "mesh3d": [
           {
            "colorbar": {
             "outlinewidth": 0,
             "ticks": ""
            },
            "type": "mesh3d"
           }
          ],
          "parcoords": [
           {
            "line": {
             "colorbar": {
              "outlinewidth": 0,
              "ticks": ""
             }
            },
            "type": "parcoords"
           }
          ],
          "pie": [
           {
            "automargin": true,
            "type": "pie"
           }
          ],
          "scatter": [
           {
            "fillpattern": {
             "fillmode": "overlay",
             "size": 10,
             "solidity": 0.2
            },
            "type": "scatter"
           }
          ],
          "scatter3d": [
           {
            "line": {
             "colorbar": {
              "outlinewidth": 0,
              "ticks": ""
             }
            },
            "marker": {
             "colorbar": {
              "outlinewidth": 0,
              "ticks": ""
             }
            },
            "type": "scatter3d"
           }
          ],
          "scattercarpet": [
           {
            "marker": {
             "colorbar": {
              "outlinewidth": 0,
              "ticks": ""
             }
            },
            "type": "scattercarpet"
           }
          ],
          "scattergeo": [
           {
            "marker": {
             "colorbar": {
              "outlinewidth": 0,
              "ticks": ""
             }
            },
            "type": "scattergeo"
           }
          ],
          "scattergl": [
           {
            "marker": {
             "colorbar": {
              "outlinewidth": 0,
              "ticks": ""
             }
            },
            "type": "scattergl"
           }
          ],
          "scattermapbox": [
           {
            "marker": {
             "colorbar": {
              "outlinewidth": 0,
              "ticks": ""
             }
            },
            "type": "scattermapbox"
           }
          ],
          "scatterpolar": [
           {
            "marker": {
             "colorbar": {
              "outlinewidth": 0,
              "ticks": ""
             }
            },
            "type": "scatterpolar"
           }
          ],
          "scatterpolargl": [
           {
            "marker": {
             "colorbar": {
              "outlinewidth": 0,
              "ticks": ""
             }
            },
            "type": "scatterpolargl"
           }
          ],
          "scatterternary": [
           {
            "marker": {
             "colorbar": {
              "outlinewidth": 0,
              "ticks": ""
             }
            },
            "type": "scatterternary"
           }
          ],
          "surface": [
           {
            "colorbar": {
             "outlinewidth": 0,
             "ticks": ""
            },
            "colorscale": [
             [
              0,
              "#0d0887"
             ],
             [
              0.1111111111111111,
              "#46039f"
             ],
             [
              0.2222222222222222,
              "#7201a8"
             ],
             [
              0.3333333333333333,
              "#9c179e"
             ],
             [
              0.4444444444444444,
              "#bd3786"
             ],
             [
              0.5555555555555556,
              "#d8576b"
             ],
             [
              0.6666666666666666,
              "#ed7953"
             ],
             [
              0.7777777777777778,
              "#fb9f3a"
             ],
             [
              0.8888888888888888,
              "#fdca26"
             ],
             [
              1,
              "#f0f921"
             ]
            ],
            "type": "surface"
           }
          ],
          "table": [
           {
            "cells": {
             "fill": {
              "color": "#EBF0F8"
             },
             "line": {
              "color": "white"
             }
            },
            "header": {
             "fill": {
              "color": "#C8D4E3"
             },
             "line": {
              "color": "white"
             }
            },
            "type": "table"
           }
          ]
         },
         "layout": {
          "annotationdefaults": {
           "arrowcolor": "#2a3f5f",
           "arrowhead": 0,
           "arrowwidth": 1
          },
          "autotypenumbers": "strict",
          "coloraxis": {
           "colorbar": {
            "outlinewidth": 0,
            "ticks": ""
           }
          },
          "colorscale": {
           "diverging": [
            [
             0,
             "#8e0152"
            ],
            [
             0.1,
             "#c51b7d"
            ],
            [
             0.2,
             "#de77ae"
            ],
            [
             0.3,
             "#f1b6da"
            ],
            [
             0.4,
             "#fde0ef"
            ],
            [
             0.5,
             "#f7f7f7"
            ],
            [
             0.6,
             "#e6f5d0"
            ],
            [
             0.7,
             "#b8e186"
            ],
            [
             0.8,
             "#7fbc41"
            ],
            [
             0.9,
             "#4d9221"
            ],
            [
             1,
             "#276419"
            ]
           ],
           "sequential": [
            [
             0,
             "#0d0887"
            ],
            [
             0.1111111111111111,
             "#46039f"
            ],
            [
             0.2222222222222222,
             "#7201a8"
            ],
            [
             0.3333333333333333,
             "#9c179e"
            ],
            [
             0.4444444444444444,
             "#bd3786"
            ],
            [
             0.5555555555555556,
             "#d8576b"
            ],
            [
             0.6666666666666666,
             "#ed7953"
            ],
            [
             0.7777777777777778,
             "#fb9f3a"
            ],
            [
             0.8888888888888888,
             "#fdca26"
            ],
            [
             1,
             "#f0f921"
            ]
           ],
           "sequentialminus": [
            [
             0,
             "#0d0887"
            ],
            [
             0.1111111111111111,
             "#46039f"
            ],
            [
             0.2222222222222222,
             "#7201a8"
            ],
            [
             0.3333333333333333,
             "#9c179e"
            ],
            [
             0.4444444444444444,
             "#bd3786"
            ],
            [
             0.5555555555555556,
             "#d8576b"
            ],
            [
             0.6666666666666666,
             "#ed7953"
            ],
            [
             0.7777777777777778,
             "#fb9f3a"
            ],
            [
             0.8888888888888888,
             "#fdca26"
            ],
            [
             1,
             "#f0f921"
            ]
           ]
          },
          "colorway": [
           "#636efa",
           "#EF553B",
           "#00cc96",
           "#ab63fa",
           "#FFA15A",
           "#19d3f3",
           "#FF6692",
           "#B6E880",
           "#FF97FF",
           "#FECB52"
          ],
          "font": {
           "color": "#2a3f5f"
          },
          "geo": {
           "bgcolor": "white",
           "lakecolor": "white",
           "landcolor": "white",
           "showlakes": true,
           "showland": true,
           "subunitcolor": "#C8D4E3"
          },
          "hoverlabel": {
           "align": "left"
          },
          "hovermode": "closest",
          "mapbox": {
           "style": "light"
          },
          "paper_bgcolor": "white",
          "plot_bgcolor": "white",
          "polar": {
           "angularaxis": {
            "gridcolor": "#EBF0F8",
            "linecolor": "#EBF0F8",
            "ticks": ""
           },
           "bgcolor": "white",
           "radialaxis": {
            "gridcolor": "#EBF0F8",
            "linecolor": "#EBF0F8",
            "ticks": ""
           }
          },
          "scene": {
           "xaxis": {
            "backgroundcolor": "white",
            "gridcolor": "#DFE8F3",
            "gridwidth": 2,
            "linecolor": "#EBF0F8",
            "showbackground": true,
            "ticks": "",
            "zerolinecolor": "#EBF0F8"
           },
           "yaxis": {
            "backgroundcolor": "white",
            "gridcolor": "#DFE8F3",
            "gridwidth": 2,
            "linecolor": "#EBF0F8",
            "showbackground": true,
            "ticks": "",
            "zerolinecolor": "#EBF0F8"
           },
           "zaxis": {
            "backgroundcolor": "white",
            "gridcolor": "#DFE8F3",
            "gridwidth": 2,
            "linecolor": "#EBF0F8",
            "showbackground": true,
            "ticks": "",
            "zerolinecolor": "#EBF0F8"
           }
          },
          "shapedefaults": {
           "line": {
            "color": "#2a3f5f"
           }
          },
          "ternary": {
           "aaxis": {
            "gridcolor": "#DFE8F3",
            "linecolor": "#A2B1C6",
            "ticks": ""
           },
           "baxis": {
            "gridcolor": "#DFE8F3",
            "linecolor": "#A2B1C6",
            "ticks": ""
           },
           "bgcolor": "white",
           "caxis": {
            "gridcolor": "#DFE8F3",
            "linecolor": "#A2B1C6",
            "ticks": ""
           }
          },
          "title": {
           "x": 0.05
          },
          "xaxis": {
           "automargin": true,
           "gridcolor": "#EBF0F8",
           "linecolor": "#EBF0F8",
           "ticks": "",
           "title": {
            "standoff": 15
           },
           "zerolinecolor": "#EBF0F8",
           "zerolinewidth": 2
          },
          "yaxis": {
           "automargin": true,
           "gridcolor": "#EBF0F8",
           "linecolor": "#EBF0F8",
           "ticks": "",
           "title": {
            "standoff": 15
           },
           "zerolinecolor": "#EBF0F8",
           "zerolinewidth": 2
          }
         }
        },
        "title": {
         "text": "Job Parameters"
        },
        "width": 1500,
        "xaxis": {
         "anchor": "y",
         "domain": [
          0,
          0.2125
         ],
         "tickangle": 45,
         "tickmode": "array",
         "ticktext": [
          "BEDROOM..",
          "BEDROOM..",
          "BEDROOM..",
          "BEDROOM..",
          "GYM_1",
          "LIVINGR..",
          "LIVINGR..",
          "OFFICE_.."
         ],
         "tickvals": [
          0,
          1,
          2,
          3,
          4,
          5,
          6,
          7
         ]
        },
        "xaxis10": {
         "anchor": "y10",
         "domain": [
          0.525,
          0.7375
         ]
        },
        "xaxis11": {
         "anchor": "y11",
         "domain": [
          0.7875,
          1
         ]
        },
        "xaxis12": {
         "anchor": "y12",
         "domain": [
          0,
          0.2125
         ]
        },
        "xaxis13": {
         "anchor": "y13",
         "domain": [
          0.2625,
          0.475
         ]
        },
        "xaxis14": {
         "anchor": "y14",
         "domain": [
          0.525,
          0.7375
         ]
        },
        "xaxis15": {
         "anchor": "y15",
         "domain": [
          0.7875,
          1
         ]
        },
        "xaxis16": {
         "anchor": "y16",
         "domain": [
          0.7875,
          1
         ]
        },
        "xaxis17": {
         "anchor": "y17",
         "domain": [
          0,
          0.2125
         ]
        },
        "xaxis18": {
         "anchor": "y18",
         "domain": [
          0.2625,
          0.475
         ]
        },
        "xaxis19": {
         "anchor": "y19",
         "domain": [
          0.525,
          0.7375
         ],
         "tickangle": 45,
         "tickmode": "array",
         "ticktext": [
          "misc_hu..",
          "non_hum.."
         ],
         "tickvals": [
          0,
          1
         ]
        },
        "xaxis2": {
         "anchor": "y2",
         "domain": [
          0.2625,
          0.475
         ],
         "tickangle": 45,
         "tickmode": "array",
         "ticktext": [
          "180_JUM..",
          "180_JUM..",
          "180_JUM..",
          "180_JUM..",
          "180_JUM..",
          "180_JUM..",
          "180_JUM..",
          "BURPEE_..",
          "BURPEE_..",
          "BURPEE_..",
          "BURPEE_..",
          "BURPEE_..",
          "BURPEE_..",
          "BURPEE_..",
          "BURPEE_..",
          "BURPEE_..",
          "BURPEE_..",
          "BURPEE_..",
          "BURPEE_..",
          "BURPEE_..",
          "BURPEE_..",
          "BURPEE_..",
          "HIGH_KN..",
          "HIGH_KN..",
          "HIGH_KN..",
          "HIGH_KN..",
          "HIGH_KN..",
          "HIGH_KN..",
          "POGO_PO..",
          "POGO_PO..",
          "POGO_PO..",
          "POGO_PO..",
          "POGO_PO..",
          "POGO_PO..",
          "POGO_PO..",
          "POGO_PO..",
          "POGO_PO..",
          "UPPERCU.."
         ],
         "tickvals": [
          0,
          1,
          2,
          3,
          4,
          5,
          6,
          7,
          8,
          9,
          10,
          11,
          12,
          13,
          14,
          15,
          16,
          17,
          18,
          19,
          20,
          21,
          22,
          23,
          24,
          25,
          26,
          27,
          28,
          29,
          30,
          31,
          32,
          33,
          34,
          35,
          36,
          37
         ]
        },
        "xaxis20": {
         "anchor": "y20",
         "domain": [
          0.7875,
          1
         ]
        },
        "xaxis21": {
         "anchor": "y21",
         "domain": [
          0,
          0.2125
         ]
        },
        "xaxis22": {
         "anchor": "y22",
         "domain": [
          0.2625,
          0.475
         ]
        },
        "xaxis23": {
         "anchor": "y23",
         "domain": [
          0.7875,
          1
         ]
        },
        "xaxis3": {
         "anchor": "y3",
         "domain": [
          0.525,
          0.7375
         ],
         "tickangle": 45,
         "tickmode": "array",
         "ticktext": [
          "FEMALE",
          "MALE"
         ],
         "tickvals": [
          0,
          1
         ]
        },
        "xaxis4": {
         "anchor": "y4",
         "domain": [
          0,
          0.2125
         ]
        },
        "xaxis5": {
         "anchor": "y5",
         "domain": [
          0.2625,
          0.475
         ]
        },
        "xaxis6": {
         "anchor": "y6",
         "domain": [
          0.525,
          0.7375
         ]
        },
        "xaxis7": {
         "anchor": "y7",
         "domain": [
          0.7875,
          1
         ]
        },
        "xaxis8": {
         "anchor": "y8",
         "domain": [
          0,
          0.2125
         ]
        },
        "xaxis9": {
         "anchor": "y9",
         "domain": [
          0.2625,
          0.475
         ]
        },
        "yaxis": {
         "anchor": "x",
         "domain": [
          0.9214285714285715,
          1
         ]
        },
        "yaxis10": {
         "anchor": "x10",
         "domain": [
          0.6142857142857143,
          0.692857142857143
         ]
        },
        "yaxis11": {
         "anchor": "x11",
         "domain": [
          0.6142857142857143,
          0.692857142857143
         ]
        },
        "yaxis12": {
         "anchor": "x12",
         "domain": [
          0.46071428571428574,
          0.5392857142857144
         ]
        },
        "yaxis13": {
         "anchor": "x13",
         "domain": [
          0.46071428571428574,
          0.5392857142857144
         ]
        },
        "yaxis14": {
         "anchor": "x14",
         "domain": [
          0.46071428571428574,
          0.5392857142857144
         ]
        },
        "yaxis15": {
         "anchor": "x15",
         "domain": [
          0.46071428571428574,
          0.5392857142857144
         ]
        },
        "yaxis16": {
         "anchor": "x16",
         "domain": [
          0.30714285714285716,
          0.38571428571428573
         ]
        },
        "yaxis17": {
         "anchor": "x17",
         "domain": [
          0.15357142857142858,
          0.23214285714285715
         ]
        },
        "yaxis18": {
         "anchor": "x18",
         "domain": [
          0.15357142857142858,
          0.23214285714285715
         ]
        },
        "yaxis19": {
         "anchor": "x19",
         "domain": [
          0.15357142857142858,
          0.23214285714285715
         ]
        },
        "yaxis2": {
         "anchor": "x2",
         "domain": [
          0.9214285714285715,
          1
         ]
        },
        "yaxis20": {
         "anchor": "x20",
         "domain": [
          0.15357142857142858,
          0.23214285714285715
         ]
        },
        "yaxis21": {
         "anchor": "x21",
         "domain": [
          0,
          0.07857142857142858
         ]
        },
        "yaxis22": {
         "anchor": "x22",
         "domain": [
          0,
          0.07857142857142858
         ]
        },
        "yaxis23": {
         "anchor": "x23",
         "domain": [
          0,
          0.07857142857142858
         ]
        },
        "yaxis3": {
         "anchor": "x3",
         "domain": [
          0.9214285714285715,
          1
         ]
        },
        "yaxis4": {
         "anchor": "x4",
         "domain": [
          0.7678571428571429,
          0.8464285714285715
         ]
        },
        "yaxis5": {
         "anchor": "x5",
         "domain": [
          0.7678571428571429,
          0.8464285714285715
         ]
        },
        "yaxis6": {
         "anchor": "x6",
         "domain": [
          0.7678571428571429,
          0.8464285714285715
         ]
        },
        "yaxis7": {
         "anchor": "x7",
         "domain": [
          0.7678571428571429,
          0.8464285714285715
         ]
        },
        "yaxis8": {
         "anchor": "x8",
         "domain": [
          0.6142857142857143,
          0.692857142857143
         ]
        },
        "yaxis9": {
         "anchor": "x9",
         "domain": [
          0.6142857142857143,
          0.692857142857143
         ]
        }
       }
      },
      "text/html": [
       "<div>                            <div id=\"7aff982e-bb7d-4bd9-892d-4e36616bad51\" class=\"plotly-graph-div\" style=\"height:2100px; width:1500px;\"></div>            <script type=\"text/javascript\">                require([\"plotly\"], function(Plotly) {                    window.PLOTLYENV=window.PLOTLYENV || {};                                    if (document.getElementById(\"7aff982e-bb7d-4bd9-892d-4e36616bad51\")) {                    Plotly.newPlot(                        \"7aff982e-bb7d-4bd9-892d-4e36616bad51\",                        [{\"legendgroup\":\"group1\",\"marker\":{\"color\":\"#0097A7\"},\"name\":\"All\",\"showlegend\":false,\"x\":[\"OFFICE_1\",\"BEDROOM_2\",\"LIVINGROOM_2\",\"LIVINGROOM_2\",\"LIVINGROOM_1\",\"LIVINGROOM_1\",\"GYM_1\",\"BEDROOM_5\",\"LIVINGROOM_2\",\"GYM_1\",\"BEDROOM_2\",\"GYM_1\",\"BEDROOM_4\",\"LIVINGROOM_1\",\"LIVINGROOM_2\",\"LIVINGROOM_1\",\"GYM_1\",\"OFFICE_1\",\"BEDROOM_2\",\"BEDROOM_6\",\"LIVINGROOM_2\",\"BEDROOM_5\",\"BEDROOM_4\",\"OFFICE_1\",\"LIVINGROOM_2\",\"LIVINGROOM_2\",\"BEDROOM_2\",\"OFFICE_1\",\"BEDROOM_5\",\"OFFICE_1\",\"BEDROOM_2\",\"OFFICE_1\",\"GYM_1\",\"BEDROOM_5\",\"BEDROOM_2\",\"GYM_1\",\"LIVINGROOM_2\",\"BEDROOM_6\",\"OFFICE_1\",\"BEDROOM_5\",\"LIVINGROOM_1\",\"BEDROOM_4\",\"OFFICE_1\",\"OFFICE_1\",\"LIVINGROOM_1\",\"LIVINGROOM_1\",\"LIVINGROOM_2\",\"BEDROOM_4\",\"LIVINGROOM_2\",\"OFFICE_1\"],\"type\":\"histogram\",\"xaxis\":\"x\",\"yaxis\":\"y\"},{\"legendgroup\":\"group1\",\"marker\":{\"color\":\"#0097A7\"},\"name\":\"All\",\"showlegend\":false,\"x\":[\"BURPEE_10\",\"BURPEE_PUSHUP_07\",\"POGO_POGO_LUNGE_05-RIGHT\",\"POGO_POGO_LUNGE_05-LEFT\",\"BURPEE_PUSHUP_01\",\"UPPERCUT-LEFT\",\"180_JUMP_SQUAT_06-RIGHT\",\"POGO_POGO_LUNGE_03\",\"HIGH_KNEES_02\",\"BURPEE_PUSHUP_01\",\"BURPEE_PUSHUP_03\",\"POGO_POGO_LUNGE_01-LEFT\",\"BURPEE_02\",\"BURPEE_07\",\"POGO_POGO_LUNGE_07\",\"HIGH_KNEES_09\",\"POGO_POGO_LUNGE_03\",\"BURPEE_PUSHUP_05\",\"HIGH_KNEES_05\",\"BURPEE_PUSHUP_01\",\"POGO_POGO_LUNGE_02\",\"180_JUMP_SQUAT_06-LEFT\",\"BURPEE_PUSHUP_13\",\"HIGH_KNEES_04\",\"180_JUMP_SQUAT_03-RIGHT\",\"BURPEE_PUSHUP_05\",\"HIGH_KNEES_06\",\"BURPEE_PUSHUP_10\",\"180_JUMP_SQUAT_07-LEFT\",\"HIGH_KNEES_05\",\"POGO_POGO_LUNGE_08\",\"BURPEE_PUSHUP_13\",\"UPPERCUT-LEFT\",\"HIGH_KNEES_06\",\"POGO_POGO_LUNGE_10\",\"180_JUMP_SQUAT_08-RIGHT\",\"POGO_POGO_LUNGE_08\",\"BURPEE_PUSHUP_11\",\"BURPEE_05\",\"BURPEE_01\",\"BURPEE_PUSHUP_09\",\"POGO_POGO_LUNGE_06\",\"POGO_POGO_LUNGE_07\",\"HIGH_KNEES_01\",\"BURPEE_PUSHUP_09\",\"BURPEE_08\",\"180_JUMP_SQUAT_05-LEFT\",\"BURPEE_PUSHUP_03\",\"BURPEE_09\",\"180_JUMP_SQUAT_05-RIGHT\"],\"type\":\"histogram\",\"xaxis\":\"x2\",\"yaxis\":\"y2\"},{\"legendgroup\":\"group1\",\"marker\":{\"color\":\"#0097A7\"},\"name\":\"All\",\"showlegend\":false,\"x\":[\"MALE\",\"MALE\",\"MALE\",\"MALE\",\"FEMALE\",\"FEMALE\",\"MALE\",\"FEMALE\",\"FEMALE\",\"FEMALE\",\"FEMALE\",\"MALE\",\"FEMALE\",\"MALE\",\"FEMALE\",\"FEMALE\",\"MALE\",\"MALE\",\"MALE\",\"MALE\",\"FEMALE\",\"MALE\",\"MALE\",\"MALE\",\"MALE\",\"MALE\",\"FEMALE\",\"MALE\",\"FEMALE\",\"MALE\",\"MALE\",\"FEMALE\",\"FEMALE\",\"FEMALE\",\"FEMALE\",\"FEMALE\",\"MALE\",\"MALE\",\"MALE\",\"FEMALE\",\"MALE\",\"FEMALE\",\"MALE\",\"FEMALE\",\"FEMALE\",\"FEMALE\",\"FEMALE\",\"FEMALE\",\"FEMALE\",\"FEMALE\"],\"type\":\"histogram\",\"xaxis\":\"x3\",\"yaxis\":\"y3\"},{\"insidetextorientation\":\"horizontal\",\"labels\":[10],\"legendgroup\":\"group1\",\"marker\":{\"colors\":[\"#0097a7\"],\"line\":{\"color\":\"grey\",\"width\":0.2}},\"showlegend\":false,\"sort\":false,\"textfont\":{\"size\":10},\"textinfo\":\"percent+label\",\"textposition\":\"inside\",\"values\":[50],\"type\":\"pie\",\"domain\":{\"x\":[0.7875,1.0],\"y\":[0.9214285714285715,1.0]}},{\"legendgroup\":\"group1\",\"marker\":{\"color\":\"#0097A7\"},\"name\":\"All\",\"showlegend\":false,\"x\":[0.8015207907097749,0.8665985762466266,1.2244486098141922,0.925980167689973,0.9963640350762004,0.8306251024421054,0.8478904316430438,1.1900160791465815,1.1674486619425493,0.9998570774224613,1.0680998413174618,1.0823315281432424,1.2439831871517213,1.0984923426051725,0.8484212963949364,0.9601471968208798,1.2031886967394345,0.8069311283816728,1.1525301258111498,1.2116586666459734,0.9222359818655447,1.1336929662065534,1.04308595395119,1.247940680804397,1.1289977852457915,1.2115204266105917,0.8159288044760055,0.9503329072838943,1.160143001905949,0.840314514391556,1.1411488280476298,0.8984013902169782,0.9949784770759362,0.9539944917014591,0.8096882669326164,1.2054382584028214,0.9426369894486832,1.1250526551177864,0.8942463818298066,1.0839272413584329,0.9510300521799453,1.1092368087584705,1.0820910728408595,0.8606483164098289,0.8175927049043393,1.053287305245853,0.8990117023934575,0.8731045654133358,0.8185520847813362,0.9941756881847269],\"type\":\"histogram\",\"xaxis\":\"x4\",\"yaxis\":\"y4\"},{\"legendgroup\":\"group1\",\"marker\":{\"color\":\"#0097A7\"},\"name\":\"All\",\"showlegend\":false,\"x\":[0.13683808480525647,0.0147176470625773,0.1891082374877081,0.018182169905522617,0.12688058940962196,0.0423195291745792,0.1895049178302252,0.18075178380956197,0.04212463406026417,0.19009714274819894,0.0961315915769756,0.029755572543334233,0.11955137277114208,0.05473351552746857,0.042072781359545265,0.009850829780442006,0.109990862427214,0.1379748060089575,0.08510909152022322,0.10858938342603469,0.16922876252593996,0.19958952225496907,0.14773836081421668,0.05076986326278985,0.043913668420547405,0.15003233040575445,0.041896029790552784,0.08824888187344944,0.09158343930052709,0.0125450636052306,0.09338540171130168,0.07546052903887873,0.1590859279098263,0.17527053831426542,0.08786191477106153,0.19026812031951576,0.17685151300360516,0.13408762079351486,0.06114191041888282,0.13996676688164342,0.03653646473558445,0.1879123020096012,0.15708450452666253,0.030238464978370218,0.028962635341583987,0.170813746922787,0.08332224416939338,0.05160285263146667,0.088475980958928,0.14403129629925004],\"type\":\"histogram\",\"xaxis\":\"x5\",\"yaxis\":\"y5\"},{\"legendgroup\":\"group1\",\"marker\":{\"color\":\"#0097A7\"},\"name\":\"All\",\"showlegend\":false,\"x\":[0.5722476108783145,0.6077389773146117,0.14836710717528856,0.4375654191704498,0.5551747933119355,0.6036197323317881,0.028080267930285396,0.14432913986569862,0.1349272569908403,0.9917588433983575,0.8763257845802871,0.10241383562496487,0.04007979924876759,0.7210996089826093,0.18033198786801075,0.4149620527840492,0.6669420806409533,0.8820820536904428,0.9703938631462501,0.6326657111933687,0.6398095786833645,0.8209577379582671,0.470604098717729,0.2595854791741826,0.7978282396328736,0.9950437722848229,0.32371272630060854,0.6891272878378931,0.2052296184406217,0.6150607258399725,0.10077960350839676,0.26312804160267467,0.2820589439197252,0.15538432949736913,0.6364478786481098,0.42884009871660955,0.9428470464234558,0.323431142563785,0.43697511294317315,0.2958970792687097,0.5573669173597711,0.5111533632754087,0.17748280747371137,0.4874418750350201,0.8318897342043371,0.0059673053778879215,0.41843847548846735,0.987318152099936,0.05650733884944603,0.01819344616113472],\"type\":\"histogram\",\"xaxis\":\"x6\",\"yaxis\":\"y6\"},{\"legendgroup\":\"group1\",\"marker\":{\"color\":\"#0097A7\"},\"name\":\"All\",\"showlegend\":false,\"x\":[3.9741724392574382,3.860721750094507,2.951353230323683,4.708907920514272,3.5595757802195873,4.072031187517755,3.8613772383560057,3.9590933756946685,4.443973447097993,3.5926490893083844,3.9853331398699576,3.109460717822545,4.6635839144526035,3.1679459047567784,4.346702059944002,4.3800531199989345,3.407845703761616,3.324206026170086,4.1571972004838464,3.20390101555057,2.8967917949715978,4.398576145448782,2.916816450284691,4.511712879952947,2.9662317402809166,4.460182729593296,4.329055466065397,3.8978924643215422,4.609305302891096,3.4397440135115667,2.737540179320979,2.7707444612523298,4.18097656172081,2.884109438700394,4.741101207447262,4.6261470112624625,4.61287393289882,2.9017490535794024,2.9982797031908093,2.7203639519282987,4.635329567569594,3.094660689558715,3.912628446927629,2.614009718477241,2.9334695542735165,3.495210131242325,2.6163728963340533,2.7019050380837526,2.8527070351284705,3.5174102843203685],\"type\":\"histogram\",\"xaxis\":\"x7\",\"yaxis\":\"y7\"},{\"legendgroup\":\"group1\",\"marker\":{\"color\":\"#0097A7\"},\"name\":\"All\",\"showlegend\":false,\"x\":[1.2210446210676127,0.7459909902419087,0.2351403715411193,1.8457564649648428,2.0406385455767744,0.7890079287961134,1.6098877266375158,2.5665656670428447,1.0389829371167414,0.35536036446379715,1.0772621283189272,1.4279312131292476,2.121569546375016,2.6251328638820044,2.236205658080478,2.3433991609742537,1.687514819059604,1.5076387801719655,2.369875293834797,0.9538276477520882,0.6427323539656982,0.5160375432520727,2.396130781530682,0.9042473596682561,1.0998715908132528,1.2077964877166167,0.67036092189339,1.402426102551357,1.0834836679347943,0.9825348024485749,1.528282569558186,1.7745558576321832,2.550224064585784,1.2391200258239734,0.8063380308559874,2.015041972175298,1.4521008261764294,0.40233891857249715,1.9365154434739091,1.7740936938140002,1.8903780853061876,0.21732598333008135,0.37646253592447276,0.9644399344150152,0.5969120554416446,2.377802201743398,2.610321683481429,0.580734442937964,0.9362227599094233,2.1070048963314942],\"type\":\"histogram\",\"xaxis\":\"x8\",\"yaxis\":\"y8\"},{\"legendgroup\":\"group1\",\"marker\":{\"color\":\"#0097A7\"},\"name\":\"All\",\"showlegend\":false,\"x\":[24,24,13,9,17,8,21,21,18,9,3,0,20,4,5,1,17,0,14,20,0,12,20,12,23,24,8,3,16,22,24,21,22,24,23,4,2,11,12,12,14,1,9,6,3,19,17,4,0,16],\"type\":\"histogram\",\"xaxis\":\"x9\",\"yaxis\":\"y9\"},{\"legendgroup\":\"group1\",\"marker\":{\"color\":\"#0097A7\"},\"name\":\"All\",\"showlegend\":false,\"x\":[-0.3554172706258086,-0.54488601187648,0.18317464198282302,-0.071618181697442,-0.457328892094423,0.44129321395072935,-0.2542578195040044,-1.0954189404649153,0.2823629249985057,0.2380375063342366,0.7372713149673071,0.2681111246049237,-0.19147781441956993,-0.6593358674063164,-1.0757918780915117,-1.8957942285817637,1.3498465082722206,0.4477607547252495,-1.8116194008470712,0.04263233177560082,0.038187163437116714,-0.030470087220223863,-0.9642220880112994,0.36095610941350886,-0.5675140585682461,-0.6281474001597381,-1.0582136022845834,0.3248252683325574,-0.7637021107305033,-0.5872108224213392,-1.2001320117418637,0.7356195707963674,1.1965620009285216,-0.53025486326894,-1.912656229592118,0.5253900080016892,0.35773207059447876,-2.0476861987463906,0.11499255106560581,-1.2258826955032494,-1.1326727917173096,-0.34834516076087046,-2.1825792626186358,1.9483637667297162,-0.7641310718210885,1.428858985802321,-0.8678562861985484,0.05142365874572069,0.5559328485770247,0.06852836058061344],\"type\":\"histogram\",\"xaxis\":\"x10\",\"yaxis\":\"y10\"},{\"legendgroup\":\"group1\",\"marker\":{\"color\":\"#0097A7\"},\"name\":\"All\",\"showlegend\":false,\"x\":[1.4025592082712632,0.9879833245388693,0.34300628534332117,-0.4008865286639572,-1.039681263722113,-0.8287278250961984,-0.013543127756037597,-0.0562439855221981,1.0796692971789084,1.6064515598836093,1.2794492415913317,-0.4600909935996363,1.7061237595894536,-0.5862592232810688,2.098648953788427,-0.4119458581062075,1.8306879565924503,-0.03967523143147877,-0.7438760173256159,-0.40111680742527417,-0.12920263621893494,-0.3384598019983478,0.3278649922743744,-1.5896722750505554,-1.3399631942690415,-1.156876335756658,-0.8797509608581958,-0.8951278197422632,-0.6972961006244182,0.6850657228877504,-0.6112940956695734,-0.047026567476673865,1.008355145638574,1.4869420264839288,1.853457338189739,-0.3764203106388189,-1.1722050469950265,0.029947631583948534,-0.8432530315956254,-0.5230548794770848,1.13523498987981,0.764752754636858,0.525819745204952,-1.400866371694242,-0.05087407007076181,1.446343982895841,-0.8887809120245677,-0.13605057461867698,-1.9618416340758067,0.5551189499554335],\"type\":\"histogram\",\"xaxis\":\"x11\",\"yaxis\":\"y11\"},{\"legendgroup\":\"group1\",\"marker\":{\"color\":\"#0097A7\"},\"name\":\"All\",\"showlegend\":false,\"x\":[12.08734195915758,14.9873814473297,-1.8403511856664814,-9.631704219203293,5.271415443362919,-12.46137873283854,-5.889314327660511,-2.121793510988809,-9.72315529906271,-9.159615725698337,2.6786343859384054,1.5472318791756088,7.529552680384892,8.61036160587534,-2.735176681339663,-0.7844554902310605,14.622712298519097,-6.784776015673623,10.934824441683169,14.25113605399169,-12.661954292326921,-1.774241209045595,7.326276888181482,-6.6369408308228905,-3.1431645894089986,-5.044138502089295,11.545743702421834,-8.380548176435234,-8.142212494116126,9.831849217257535,-13.109058017248511,2.9671895233982184,4.807063562785608,-5.288038319691864,-10.263439297335523,-8.261900939230632,3.3418992176765983,-12.80645599231788,6.890055756687708,6.037438621849688,1.4173905104801037,-9.559227341548919,-2.8712851205406675,-3.5779821736856547,5.950880286043098,14.134067127399959,6.084971909258805,-8.370060576099448,11.101239146607995,-0.9253692834997],\"type\":\"histogram\",\"xaxis\":\"x12\",\"yaxis\":\"y12\"},{\"legendgroup\":\"group1\",\"marker\":{\"color\":\"#0097A7\"},\"name\":\"All\",\"showlegend\":false,\"x\":[8.477754451295407,3.5681001694951817,0.707549313933205,-4.09870335875214,-6.3128698787262465,-0.8176639864824171,4.788932269959963,-9.658073877348466,-9.664139849444698,-4.009599582647718,-4.8435359130628015,5.57196801595812,6.62806762294105,4.612642194010391,-7.333285737307174,-3.04624804918949,2.2047967133070365,-0.9700354450861965,-7.467226716108835,9.458475024507614,-2.840237776528869,-3.5189390529095865,2.8534737649877435,7.578501528697565,5.741617162524111,8.805825474118723,-0.046969123279508196,-5.227071306478875,6.447821398929634,3.4276873173545255,-8.222766317097525,5.514068406861865,-6.151089586569554,3.6684406584438296,2.5768029298018007,-1.7895918297828022,-3.422073184795746,1.1677521286417871,-9.418873562560625,9.106372475603763,-4.069162396220629,-0.13281556649851645,4.974642213851565,-2.5462172504376035,9.971100492274179,9.480110963394818,0.33379495174299123,5.2251677947888435,4.393074422977946,4.395740424405986],\"type\":\"histogram\",\"xaxis\":\"x13\",\"yaxis\":\"y13\"},{\"legendgroup\":\"group1\",\"marker\":{\"color\":\"#0097A7\"},\"name\":\"All\",\"showlegend\":false,\"x\":[971.6643301807452,21.225579770874184,226.289166709052,687.342536027273,560.5688336067343,336.37994118012324,828.4602967187667,46.940853741114516,65.94929361990526,566.8875612573548,212.06459629082545,526.6802808398613,446.4402133166439,589.6002146634257,642.7303342661125,685.5156183702948,660.3343199340467,802.5452345809463,559.7905245678846,805.5210961449447,890.9953495620653,130.9964548296988,92.67470684861418,542.3636173661671,355.02967309122494,216.84294894506502,266.8605447330851,412.7212050491799,493.240866728766,571.2848361584199,400.2136736058781,349.1833745221555,521.5056400936109,471.4247064993006,595.1139384790647,553.2129973139804,251.9065974651162,97.73322503069019,480.5014184092599,15.62146397305579,313.42870944673206,387.28535667747514,269.61429103441355,457.43039418886013,223.62409935671928,67.39067703199508,758.8546036861926,879.6016786416775,402.517410051999,663.3367344291686],\"type\":\"histogram\",\"xaxis\":\"x14\",\"yaxis\":\"y14\"},{\"legendgroup\":\"group1\",\"marker\":{\"color\":\"#0097A7\"},\"name\":\"All\",\"showlegend\":false,\"x\":[-116.11286523303754,4.7606092831892965,6.420272862683873,68.07480351896706,2.807745169139281,83.5562489584945,-72.21283684891722,140.33040735510957,68.3349709854557,76.99023747754052,69.73884883988183,120.17324840686672,137.08239211031076,136.60752589196653,142.78165263626317,-1.6156466443021031,-136.3213541141369,81.56551283742743,-39.13538413529423,-90.0540007918617,-31.199476129215327,-82.00103908535962,-166.3501802315718,-28.08999999852955,-74.21648419373885,-119.2478313476153,91.3956250797126,110.73289942082693,-68.24676002887432,-95.46033097781071,-175.0126949775265,136.04168233790318,-36.46421748129282,-45.32712958014719,-55.58685984602383,119.99748057942423,-107.71087395890336,-28.761688273437386,175.4056484805173,-27.060059098411898,11.677721604699542,-123.70032479869293,161.76642011564167,2.411160780723378,-64.90481819744525,-95.92176913491662,-150.6579498438521,-76.00149627905607,74.19129671959513,161.86955141613674],\"type\":\"histogram\",\"xaxis\":\"x15\",\"yaxis\":\"y15\"},{\"insidetextorientation\":\"horizontal\",\"labels\":[30],\"legendgroup\":\"group1\",\"marker\":{\"colors\":[\"#0097a7\"],\"line\":{\"color\":\"grey\",\"width\":0.2}},\"showlegend\":false,\"sort\":false,\"textfont\":{\"size\":10},\"textinfo\":\"percent+label\",\"textposition\":\"inside\",\"values\":[50],\"type\":\"pie\",\"domain\":{\"x\":[0.0,0.2125],\"y\":[0.30714285714285716,0.38571428571428573]}},{\"insidetextorientation\":\"horizontal\",\"labels\":[512],\"legendgroup\":\"group1\",\"marker\":{\"colors\":[\"#0097a7\"],\"line\":{\"color\":\"grey\",\"width\":0.2}},\"showlegend\":false,\"sort\":false,\"textfont\":{\"size\":10},\"textinfo\":\"percent+label\",\"textposition\":\"inside\",\"values\":[50],\"type\":\"pie\",\"domain\":{\"x\":[0.2625,0.475],\"y\":[0.30714285714285716,0.38571428571428573]}},{\"insidetextorientation\":\"horizontal\",\"labels\":[512],\"legendgroup\":\"group1\",\"marker\":{\"colors\":[\"#0097a7\"],\"line\":{\"color\":\"grey\",\"width\":0.2}},\"showlegend\":false,\"sort\":false,\"textfont\":{\"size\":10},\"textinfo\":\"percent+label\",\"textposition\":\"inside\",\"values\":[50],\"type\":\"pie\",\"domain\":{\"x\":[0.525,0.7375],\"y\":[0.30714285714285716,0.38571428571428573]}},{\"legendgroup\":\"group1\",\"marker\":{\"color\":\"#0097A7\"},\"name\":\"All\",\"showlegend\":false,\"x\":[0.9126242279433403,1.4722981909884394,0.7156388689190811,1.5493898210994086,1.2840574868469765,0.46865396138944226,0.45226535021501846,1.1972815436606314,1.2218818411781935,0.5478278651372575,1.607543534169428,0.6438819291606934,0.20430896389546738,0.6632653361165541,1.5361730060562475,0.4978472200130837,1.3350087988949055,1.4328464106816605,0.4634505155361155,0.8696262222271594,0.5600747355605267,0.4852155749613021,0.13510726977365795,1.4450446796133434,0.7793814996796753,1.244734905661915,0.3145171980914516,0.035159640433588546,1.7462038828506037,0.5597790343539784,0.7719680326352534,0.9856075414277097,0.35913680880127075,0.8237987820900905,1.759625053966137,1.3802093862652733,0.9328589112466639,1.1654902298347436,1.8943696486284864,1.8552716191058978,0.08853134860227496,1.4311796255249356,1.8621031583561916,1.5373460696302241,1.246807180308196,1.770742831876074,0.7288496551688408,1.132978077210809,1.0758754920922242,0.6298150323481202],\"type\":\"histogram\",\"xaxis\":\"x16\",\"yaxis\":\"y16\"},{\"legendgroup\":\"group1\",\"marker\":{\"color\":\"#0097A7\"},\"name\":\"All\",\"showlegend\":false,\"x\":[1.3909710745523736,0.7012864545714672,1.801008709793102,1.149298156550218,0.3394102887268038,0.36637935537046573,0.9146750703160691,0.6530125116477088,0.22911572067963548,1.290380410246966,0.9745220179704763,0.02075717424029966,0.9783073322469358,0.14314268244037986,1.4834588276261724,1.273023911836999,0.4821208847480549,0.8664230878423087,1.011043756751024,0.09367581273893744,0.9270267494015205,0.8296691891556995,1.3951556797282607,1.4279448109335335,0.04703401613850633,1.6388620678216568,0.7145845793249777,1.0309156198323364,0.9431255384495552,1.3687407038046682,1.2065590642351436,1.1688879392421185,1.542350564546502,0.5786530706899264,0.4217388657958585,1.9419279674842933,1.730185865395564,0.8189095055587443,1.1035054450138717,1.8696493991042706,0.8807125016696109,1.7500521996938105,1.0723336340930232,1.1669434487195705,0.383228416689674,1.5164613195988657,0.8134055966714895,0.5918448763628543,0.34903221586862077,0.5389240963613702],\"type\":\"histogram\",\"xaxis\":\"x17\",\"yaxis\":\"y17\"},{\"legendgroup\":\"group1\",\"marker\":{\"color\":\"#0097A7\"},\"name\":\"All\",\"showlegend\":false,\"x\":[false,false,true,true,true,false,true,true,true,false,true,true,false,true,true,true,false,true,false,false,false,false,true,false,false,true,false,true,false,false,false,false,true,true,false,true,false,true,false,true,false,false,true,false,true,true,true,true,true,false],\"type\":\"histogram\",\"xaxis\":\"x18\",\"yaxis\":\"y18\"},{\"legendgroup\":\"group1\",\"marker\":{\"color\":\"#0097A7\"},\"name\":\"All\",\"showlegend\":false,\"x\":[\"misc_human\",\"non_human\",\"non_human\",\"misc_human\",\"non_human\",\"misc_human\",\"misc_human\",\"misc_human\",\"non_human\",\"non_human\",\"non_human\",\"misc_human\",\"non_human\",\"misc_human\",\"non_human\",\"non_human\",\"misc_human\",\"non_human\",\"misc_human\",\"non_human\",\"misc_human\",\"misc_human\",\"non_human\",\"non_human\",\"non_human\",\"non_human\",\"non_human\",\"non_human\",\"non_human\",\"misc_human\",\"non_human\",\"non_human\",\"misc_human\",\"non_human\",\"misc_human\",\"non_human\",\"non_human\",\"misc_human\",\"non_human\",\"misc_human\",\"misc_human\",\"misc_human\",\"misc_human\",\"non_human\",\"non_human\",\"misc_human\",\"non_human\",\"misc_human\",\"misc_human\",\"non_human\"],\"type\":\"histogram\",\"xaxis\":\"x19\",\"yaxis\":\"y19\"},{\"legendgroup\":\"group1\",\"marker\":{\"color\":\"#0097A7\"},\"name\":\"All\",\"showlegend\":false,\"x\":[2,-1,1,0,2,4,2,0,1,1,4,1,0,4,4,1,4,2,1,1,2,3,0,1,1,4,4,-1,1,4,4,2,2,0,2,2,-1,2,1,3,4,4,1,-1,2,1,1,1,4,1],\"type\":\"histogram\",\"xaxis\":\"x20\",\"yaxis\":\"y20\"},{\"legendgroup\":\"group1\",\"marker\":{\"color\":\"#0097A7\"},\"name\":\"All\",\"showlegend\":false,\"x\":[false,false,true,false,true,false,false,true,false,true,false,false,true,true,false,false,true,true,true,true,true,true,true,false,true,true,true,false,true,true,false,true,true,true,false,true,true,true,false,true,false,false,true,true,true,false,false,false,true,false],\"type\":\"histogram\",\"xaxis\":\"x21\",\"yaxis\":\"y21\"},{\"legendgroup\":\"group1\",\"marker\":{\"color\":\"#0097A7\"},\"name\":\"All\",\"showlegend\":false,\"x\":[22.743365258517734,2.5520714133908493,14.391026254053585,27.948811478307494,37.39256378301932,1.758432754928002,18.760862078759626,27.776227568958877,48.39755429829838,14.971519472185202,39.69303226533555,40.43518738131443,49.6096804792548,47.41366328797653,2.9621938724279264,12.621555232115595,24.55526901451452,25.322255322555275,16.814318969815933,28.659076814055783,37.89092758767088,37.9280993083238,34.16015146048261,26.32436583110972,42.86176934390336,23.785627110037684,48.30622658517549,35.43070918148907,12.997396199702111,11.655835717055707,47.789492198891146,12.923919387676708,29.89970911926042,45.11815473848788,39.00334955390995,29.358010150262785,30.508131103169035,46.15210279117699,4.442206861788095,18.465736650131998,13.927687077546613,3.3003796668182037,22.06523026552269,38.72656764449593,12.9025208633523,36.00051789304036,18.48035110458585,37.70974772860172,11.220576597799209,2.8295889921211073],\"type\":\"histogram\",\"xaxis\":\"x22\",\"yaxis\":\"y22\"},{\"insidetextorientation\":\"horizontal\",\"labels\":[true],\"legendgroup\":\"group1\",\"marker\":{\"colors\":[\"#0097a7\"],\"line\":{\"color\":\"grey\",\"width\":0.2}},\"showlegend\":false,\"sort\":false,\"textfont\":{\"size\":10},\"textinfo\":\"percent+label\",\"textposition\":\"inside\",\"values\":[50],\"type\":\"pie\",\"domain\":{\"x\":[0.525,0.7375],\"y\":[0.0,0.07857142857142858]}}],                        {\"template\":{\"data\":{\"barpolar\":[{\"marker\":{\"line\":{\"color\":\"white\",\"width\":0.5},\"pattern\":{\"fillmode\":\"overlay\",\"size\":10,\"solidity\":0.2}},\"type\":\"barpolar\"}],\"bar\":[{\"error_x\":{\"color\":\"#2a3f5f\"},\"error_y\":{\"color\":\"#2a3f5f\"},\"marker\":{\"line\":{\"color\":\"white\",\"width\":0.5},\"pattern\":{\"fillmode\":\"overlay\",\"size\":10,\"solidity\":0.2}},\"type\":\"bar\"}],\"carpet\":[{\"aaxis\":{\"endlinecolor\":\"#2a3f5f\",\"gridcolor\":\"#C8D4E3\",\"linecolor\":\"#C8D4E3\",\"minorgridcolor\":\"#C8D4E3\",\"startlinecolor\":\"#2a3f5f\"},\"baxis\":{\"endlinecolor\":\"#2a3f5f\",\"gridcolor\":\"#C8D4E3\",\"linecolor\":\"#C8D4E3\",\"minorgridcolor\":\"#C8D4E3\",\"startlinecolor\":\"#2a3f5f\"},\"type\":\"carpet\"}],\"choropleth\":[{\"colorbar\":{\"outlinewidth\":0,\"ticks\":\"\"},\"type\":\"choropleth\"}],\"contourcarpet\":[{\"colorbar\":{\"outlinewidth\":0,\"ticks\":\"\"},\"type\":\"contourcarpet\"}],\"contour\":[{\"colorbar\":{\"outlinewidth\":0,\"ticks\":\"\"},\"colorscale\":[[0.0,\"#0d0887\"],[0.1111111111111111,\"#46039f\"],[0.2222222222222222,\"#7201a8\"],[0.3333333333333333,\"#9c179e\"],[0.4444444444444444,\"#bd3786\"],[0.5555555555555556,\"#d8576b\"],[0.6666666666666666,\"#ed7953\"],[0.7777777777777778,\"#fb9f3a\"],[0.8888888888888888,\"#fdca26\"],[1.0,\"#f0f921\"]],\"type\":\"contour\"}],\"heatmapgl\":[{\"colorbar\":{\"outlinewidth\":0,\"ticks\":\"\"},\"colorscale\":[[0.0,\"#0d0887\"],[0.1111111111111111,\"#46039f\"],[0.2222222222222222,\"#7201a8\"],[0.3333333333333333,\"#9c179e\"],[0.4444444444444444,\"#bd3786\"],[0.5555555555555556,\"#d8576b\"],[0.6666666666666666,\"#ed7953\"],[0.7777777777777778,\"#fb9f3a\"],[0.8888888888888888,\"#fdca26\"],[1.0,\"#f0f921\"]],\"type\":\"heatmapgl\"}],\"heatmap\":[{\"colorbar\":{\"outlinewidth\":0,\"ticks\":\"\"},\"colorscale\":[[0.0,\"#0d0887\"],[0.1111111111111111,\"#46039f\"],[0.2222222222222222,\"#7201a8\"],[0.3333333333333333,\"#9c179e\"],[0.4444444444444444,\"#bd3786\"],[0.5555555555555556,\"#d8576b\"],[0.6666666666666666,\"#ed7953\"],[0.7777777777777778,\"#fb9f3a\"],[0.8888888888888888,\"#fdca26\"],[1.0,\"#f0f921\"]],\"type\":\"heatmap\"}],\"histogram2dcontour\":[{\"colorbar\":{\"outlinewidth\":0,\"ticks\":\"\"},\"colorscale\":[[0.0,\"#0d0887\"],[0.1111111111111111,\"#46039f\"],[0.2222222222222222,\"#7201a8\"],[0.3333333333333333,\"#9c179e\"],[0.4444444444444444,\"#bd3786\"],[0.5555555555555556,\"#d8576b\"],[0.6666666666666666,\"#ed7953\"],[0.7777777777777778,\"#fb9f3a\"],[0.8888888888888888,\"#fdca26\"],[1.0,\"#f0f921\"]],\"type\":\"histogram2dcontour\"}],\"histogram2d\":[{\"colorbar\":{\"outlinewidth\":0,\"ticks\":\"\"},\"colorscale\":[[0.0,\"#0d0887\"],[0.1111111111111111,\"#46039f\"],[0.2222222222222222,\"#7201a8\"],[0.3333333333333333,\"#9c179e\"],[0.4444444444444444,\"#bd3786\"],[0.5555555555555556,\"#d8576b\"],[0.6666666666666666,\"#ed7953\"],[0.7777777777777778,\"#fb9f3a\"],[0.8888888888888888,\"#fdca26\"],[1.0,\"#f0f921\"]],\"type\":\"histogram2d\"}],\"histogram\":[{\"marker\":{\"pattern\":{\"fillmode\":\"overlay\",\"size\":10,\"solidity\":0.2}},\"type\":\"histogram\"}],\"mesh3d\":[{\"colorbar\":{\"outlinewidth\":0,\"ticks\":\"\"},\"type\":\"mesh3d\"}],\"parcoords\":[{\"line\":{\"colorbar\":{\"outlinewidth\":0,\"ticks\":\"\"}},\"type\":\"parcoords\"}],\"pie\":[{\"automargin\":true,\"type\":\"pie\"}],\"scatter3d\":[{\"line\":{\"colorbar\":{\"outlinewidth\":0,\"ticks\":\"\"}},\"marker\":{\"colorbar\":{\"outlinewidth\":0,\"ticks\":\"\"}},\"type\":\"scatter3d\"}],\"scattercarpet\":[{\"marker\":{\"colorbar\":{\"outlinewidth\":0,\"ticks\":\"\"}},\"type\":\"scattercarpet\"}],\"scattergeo\":[{\"marker\":{\"colorbar\":{\"outlinewidth\":0,\"ticks\":\"\"}},\"type\":\"scattergeo\"}],\"scattergl\":[{\"marker\":{\"colorbar\":{\"outlinewidth\":0,\"ticks\":\"\"}},\"type\":\"scattergl\"}],\"scattermapbox\":[{\"marker\":{\"colorbar\":{\"outlinewidth\":0,\"ticks\":\"\"}},\"type\":\"scattermapbox\"}],\"scatterpolargl\":[{\"marker\":{\"colorbar\":{\"outlinewidth\":0,\"ticks\":\"\"}},\"type\":\"scatterpolargl\"}],\"scatterpolar\":[{\"marker\":{\"colorbar\":{\"outlinewidth\":0,\"ticks\":\"\"}},\"type\":\"scatterpolar\"}],\"scatter\":[{\"fillpattern\":{\"fillmode\":\"overlay\",\"size\":10,\"solidity\":0.2},\"type\":\"scatter\"}],\"scatterternary\":[{\"marker\":{\"colorbar\":{\"outlinewidth\":0,\"ticks\":\"\"}},\"type\":\"scatterternary\"}],\"surface\":[{\"colorbar\":{\"outlinewidth\":0,\"ticks\":\"\"},\"colorscale\":[[0.0,\"#0d0887\"],[0.1111111111111111,\"#46039f\"],[0.2222222222222222,\"#7201a8\"],[0.3333333333333333,\"#9c179e\"],[0.4444444444444444,\"#bd3786\"],[0.5555555555555556,\"#d8576b\"],[0.6666666666666666,\"#ed7953\"],[0.7777777777777778,\"#fb9f3a\"],[0.8888888888888888,\"#fdca26\"],[1.0,\"#f0f921\"]],\"type\":\"surface\"}],\"table\":[{\"cells\":{\"fill\":{\"color\":\"#EBF0F8\"},\"line\":{\"color\":\"white\"}},\"header\":{\"fill\":{\"color\":\"#C8D4E3\"},\"line\":{\"color\":\"white\"}},\"type\":\"table\"}]},\"layout\":{\"annotationdefaults\":{\"arrowcolor\":\"#2a3f5f\",\"arrowhead\":0,\"arrowwidth\":1},\"autotypenumbers\":\"strict\",\"coloraxis\":{\"colorbar\":{\"outlinewidth\":0,\"ticks\":\"\"}},\"colorscale\":{\"diverging\":[[0,\"#8e0152\"],[0.1,\"#c51b7d\"],[0.2,\"#de77ae\"],[0.3,\"#f1b6da\"],[0.4,\"#fde0ef\"],[0.5,\"#f7f7f7\"],[0.6,\"#e6f5d0\"],[0.7,\"#b8e186\"],[0.8,\"#7fbc41\"],[0.9,\"#4d9221\"],[1,\"#276419\"]],\"sequential\":[[0.0,\"#0d0887\"],[0.1111111111111111,\"#46039f\"],[0.2222222222222222,\"#7201a8\"],[0.3333333333333333,\"#9c179e\"],[0.4444444444444444,\"#bd3786\"],[0.5555555555555556,\"#d8576b\"],[0.6666666666666666,\"#ed7953\"],[0.7777777777777778,\"#fb9f3a\"],[0.8888888888888888,\"#fdca26\"],[1.0,\"#f0f921\"]],\"sequentialminus\":[[0.0,\"#0d0887\"],[0.1111111111111111,\"#46039f\"],[0.2222222222222222,\"#7201a8\"],[0.3333333333333333,\"#9c179e\"],[0.4444444444444444,\"#bd3786\"],[0.5555555555555556,\"#d8576b\"],[0.6666666666666666,\"#ed7953\"],[0.7777777777777778,\"#fb9f3a\"],[0.8888888888888888,\"#fdca26\"],[1.0,\"#f0f921\"]]},\"colorway\":[\"#636efa\",\"#EF553B\",\"#00cc96\",\"#ab63fa\",\"#FFA15A\",\"#19d3f3\",\"#FF6692\",\"#B6E880\",\"#FF97FF\",\"#FECB52\"],\"font\":{\"color\":\"#2a3f5f\"},\"geo\":{\"bgcolor\":\"white\",\"lakecolor\":\"white\",\"landcolor\":\"white\",\"showlakes\":true,\"showland\":true,\"subunitcolor\":\"#C8D4E3\"},\"hoverlabel\":{\"align\":\"left\"},\"hovermode\":\"closest\",\"mapbox\":{\"style\":\"light\"},\"paper_bgcolor\":\"white\",\"plot_bgcolor\":\"white\",\"polar\":{\"angularaxis\":{\"gridcolor\":\"#EBF0F8\",\"linecolor\":\"#EBF0F8\",\"ticks\":\"\"},\"bgcolor\":\"white\",\"radialaxis\":{\"gridcolor\":\"#EBF0F8\",\"linecolor\":\"#EBF0F8\",\"ticks\":\"\"}},\"scene\":{\"xaxis\":{\"backgroundcolor\":\"white\",\"gridcolor\":\"#DFE8F3\",\"gridwidth\":2,\"linecolor\":\"#EBF0F8\",\"showbackground\":true,\"ticks\":\"\",\"zerolinecolor\":\"#EBF0F8\"},\"yaxis\":{\"backgroundcolor\":\"white\",\"gridcolor\":\"#DFE8F3\",\"gridwidth\":2,\"linecolor\":\"#EBF0F8\",\"showbackground\":true,\"ticks\":\"\",\"zerolinecolor\":\"#EBF0F8\"},\"zaxis\":{\"backgroundcolor\":\"white\",\"gridcolor\":\"#DFE8F3\",\"gridwidth\":2,\"linecolor\":\"#EBF0F8\",\"showbackground\":true,\"ticks\":\"\",\"zerolinecolor\":\"#EBF0F8\"}},\"shapedefaults\":{\"line\":{\"color\":\"#2a3f5f\"}},\"ternary\":{\"aaxis\":{\"gridcolor\":\"#DFE8F3\",\"linecolor\":\"#A2B1C6\",\"ticks\":\"\"},\"baxis\":{\"gridcolor\":\"#DFE8F3\",\"linecolor\":\"#A2B1C6\",\"ticks\":\"\"},\"bgcolor\":\"white\",\"caxis\":{\"gridcolor\":\"#DFE8F3\",\"linecolor\":\"#A2B1C6\",\"ticks\":\"\"}},\"title\":{\"x\":0.05},\"xaxis\":{\"automargin\":true,\"gridcolor\":\"#EBF0F8\",\"linecolor\":\"#EBF0F8\",\"ticks\":\"\",\"title\":{\"standoff\":15},\"zerolinecolor\":\"#EBF0F8\",\"zerolinewidth\":2},\"yaxis\":{\"automargin\":true,\"gridcolor\":\"#EBF0F8\",\"linecolor\":\"#EBF0F8\",\"ticks\":\"\",\"title\":{\"standoff\":15},\"zerolinecolor\":\"#EBF0F8\",\"zerolinewidth\":2}}},\"xaxis\":{\"anchor\":\"y\",\"domain\":[0.0,0.2125],\"tickmode\":\"array\",\"tickangle\":45,\"tickvals\":[0,1,2,3,4,5,6,7],\"ticktext\":[\"BEDROOM..\",\"BEDROOM..\",\"BEDROOM..\",\"BEDROOM..\",\"GYM_1\",\"LIVINGR..\",\"LIVINGR..\",\"OFFICE_..\"]},\"yaxis\":{\"anchor\":\"x\",\"domain\":[0.9214285714285715,1.0]},\"xaxis2\":{\"anchor\":\"y2\",\"domain\":[0.2625,0.475],\"tickmode\":\"array\",\"tickangle\":45,\"tickvals\":[0,1,2,3,4,5,6,7,8,9,10,11,12,13,14,15,16,17,18,19,20,21,22,23,24,25,26,27,28,29,30,31,32,33,34,35,36,37],\"ticktext\":[\"180_JUM..\",\"180_JUM..\",\"180_JUM..\",\"180_JUM..\",\"180_JUM..\",\"180_JUM..\",\"180_JUM..\",\"BURPEE_..\",\"BURPEE_..\",\"BURPEE_..\",\"BURPEE_..\",\"BURPEE_..\",\"BURPEE_..\",\"BURPEE_..\",\"BURPEE_..\",\"BURPEE_..\",\"BURPEE_..\",\"BURPEE_..\",\"BURPEE_..\",\"BURPEE_..\",\"BURPEE_..\",\"BURPEE_..\",\"HIGH_KN..\",\"HIGH_KN..\",\"HIGH_KN..\",\"HIGH_KN..\",\"HIGH_KN..\",\"HIGH_KN..\",\"POGO_PO..\",\"POGO_PO..\",\"POGO_PO..\",\"POGO_PO..\",\"POGO_PO..\",\"POGO_PO..\",\"POGO_PO..\",\"POGO_PO..\",\"POGO_PO..\",\"UPPERCU..\"]},\"yaxis2\":{\"anchor\":\"x2\",\"domain\":[0.9214285714285715,1.0]},\"xaxis3\":{\"anchor\":\"y3\",\"domain\":[0.525,0.7375],\"tickmode\":\"array\",\"tickangle\":45,\"tickvals\":[0,1],\"ticktext\":[\"FEMALE\",\"MALE\"]},\"yaxis3\":{\"anchor\":\"x3\",\"domain\":[0.9214285714285715,1.0]},\"xaxis4\":{\"anchor\":\"y4\",\"domain\":[0.0,0.2125]},\"yaxis4\":{\"anchor\":\"x4\",\"domain\":[0.7678571428571429,0.8464285714285715]},\"xaxis5\":{\"anchor\":\"y5\",\"domain\":[0.2625,0.475]},\"yaxis5\":{\"anchor\":\"x5\",\"domain\":[0.7678571428571429,0.8464285714285715]},\"xaxis6\":{\"anchor\":\"y6\",\"domain\":[0.525,0.7375]},\"yaxis6\":{\"anchor\":\"x6\",\"domain\":[0.7678571428571429,0.8464285714285715]},\"xaxis7\":{\"anchor\":\"y7\",\"domain\":[0.7875,1.0]},\"yaxis7\":{\"anchor\":\"x7\",\"domain\":[0.7678571428571429,0.8464285714285715]},\"xaxis8\":{\"anchor\":\"y8\",\"domain\":[0.0,0.2125]},\"yaxis8\":{\"anchor\":\"x8\",\"domain\":[0.6142857142857143,0.692857142857143]},\"xaxis9\":{\"anchor\":\"y9\",\"domain\":[0.2625,0.475]},\"yaxis9\":{\"anchor\":\"x9\",\"domain\":[0.6142857142857143,0.692857142857143]},\"xaxis10\":{\"anchor\":\"y10\",\"domain\":[0.525,0.7375]},\"yaxis10\":{\"anchor\":\"x10\",\"domain\":[0.6142857142857143,0.692857142857143]},\"xaxis11\":{\"anchor\":\"y11\",\"domain\":[0.7875,1.0]},\"yaxis11\":{\"anchor\":\"x11\",\"domain\":[0.6142857142857143,0.692857142857143]},\"xaxis12\":{\"anchor\":\"y12\",\"domain\":[0.0,0.2125]},\"yaxis12\":{\"anchor\":\"x12\",\"domain\":[0.46071428571428574,0.5392857142857144]},\"xaxis13\":{\"anchor\":\"y13\",\"domain\":[0.2625,0.475]},\"yaxis13\":{\"anchor\":\"x13\",\"domain\":[0.46071428571428574,0.5392857142857144]},\"xaxis14\":{\"anchor\":\"y14\",\"domain\":[0.525,0.7375]},\"yaxis14\":{\"anchor\":\"x14\",\"domain\":[0.46071428571428574,0.5392857142857144]},\"xaxis15\":{\"anchor\":\"y15\",\"domain\":[0.7875,1.0]},\"yaxis15\":{\"anchor\":\"x15\",\"domain\":[0.46071428571428574,0.5392857142857144]},\"xaxis16\":{\"anchor\":\"y16\",\"domain\":[0.7875,1.0]},\"yaxis16\":{\"anchor\":\"x16\",\"domain\":[0.30714285714285716,0.38571428571428573]},\"xaxis17\":{\"anchor\":\"y17\",\"domain\":[0.0,0.2125]},\"yaxis17\":{\"anchor\":\"x17\",\"domain\":[0.15357142857142858,0.23214285714285715]},\"xaxis18\":{\"anchor\":\"y18\",\"domain\":[0.2625,0.475]},\"yaxis18\":{\"anchor\":\"x18\",\"domain\":[0.15357142857142858,0.23214285714285715]},\"xaxis19\":{\"anchor\":\"y19\",\"domain\":[0.525,0.7375],\"tickmode\":\"array\",\"tickangle\":45,\"tickvals\":[0,1],\"ticktext\":[\"misc_hu..\",\"non_hum..\"]},\"yaxis19\":{\"anchor\":\"x19\",\"domain\":[0.15357142857142858,0.23214285714285715]},\"xaxis20\":{\"anchor\":\"y20\",\"domain\":[0.7875,1.0]},\"yaxis20\":{\"anchor\":\"x20\",\"domain\":[0.15357142857142858,0.23214285714285715]},\"xaxis21\":{\"anchor\":\"y21\",\"domain\":[0.0,0.2125]},\"yaxis21\":{\"anchor\":\"x21\",\"domain\":[0.0,0.07857142857142858]},\"xaxis22\":{\"anchor\":\"y22\",\"domain\":[0.2625,0.475]},\"yaxis22\":{\"anchor\":\"x22\",\"domain\":[0.0,0.07857142857142858]},\"xaxis23\":{\"anchor\":\"y23\",\"domain\":[0.7875,1.0]},\"yaxis23\":{\"anchor\":\"x23\",\"domain\":[0.0,0.07857142857142858]},\"annotations\":[{\"font\":{\"size\":16},\"showarrow\":false,\"text\":\"scene\",\"x\":0.10625,\"xanchor\":\"center\",\"xref\":\"paper\",\"y\":1.0,\"yanchor\":\"bottom\",\"yref\":\"paper\"},{\"font\":{\"size\":16},\"showarrow\":false,\"text\":\"exercise\",\"x\":0.36875,\"xanchor\":\"center\",\"xref\":\"paper\",\"y\":1.0,\"yanchor\":\"bottom\",\"yref\":\"paper\"},{\"font\":{\"size\":16},\"showarrow\":false,\"text\":\"gender\",\"x\":0.6312500000000001,\"xanchor\":\"center\",\"xref\":\"paper\",\"y\":1.0,\"yanchor\":\"bottom\",\"yref\":\"paper\"},{\"font\":{\"size\":16},\"showarrow\":false,\"text\":\"num_reps\",\"x\":0.89375,\"xanchor\":\"center\",\"xref\":\"paper\",\"y\":1.0,\"yanchor\":\"bottom\",\"yref\":\"paper\"},{\"font\":{\"size\":16},\"showarrow\":false,\"text\":\"rel_baseline_speed\",\"x\":0.10625,\"xanchor\":\"center\",\"xref\":\"paper\",\"y\":0.8464285714285715,\"yanchor\":\"bottom\",\"yref\":\"paper\"},{\"font\":{\"size\":16},\"showarrow\":false,\"text\":\"max_rel_speed_change\",\"x\":0.36875,\"xanchor\":\"center\",\"xref\":\"paper\",\"y\":0.8464285714285715,\"yanchor\":\"bottom\",\"yref\":\"paper\"},{\"font\":{\"size\":16},\"showarrow\":false,\"text\":\"kinematic_noise_factor\",\"x\":0.6312500000000001,\"xanchor\":\"center\",\"xref\":\"paper\",\"y\":0.8464285714285715,\"yanchor\":\"bottom\",\"yref\":\"paper\"},{\"font\":{\"size\":16},\"showarrow\":false,\"text\":\"camera_distance\",\"x\":0.89375,\"xanchor\":\"center\",\"xref\":\"paper\",\"y\":0.8464285714285715,\"yanchor\":\"bottom\",\"yref\":\"paper\"},{\"font\":{\"size\":16},\"showarrow\":false,\"text\":\"camera_height\",\"x\":0.10625,\"xanchor\":\"center\",\"xref\":\"paper\",\"y\":0.692857142857143,\"yanchor\":\"bottom\",\"yref\":\"paper\"},{\"font\":{\"size\":16},\"showarrow\":false,\"text\":\"avatar_identity\",\"x\":0.36875,\"xanchor\":\"center\",\"xref\":\"paper\",\"y\":0.692857142857143,\"yanchor\":\"bottom\",\"yref\":\"paper\"},{\"font\":{\"size\":16},\"showarrow\":false,\"text\":\"relative_height\",\"x\":0.6312500000000001,\"xanchor\":\"center\",\"xref\":\"paper\",\"y\":0.692857142857143,\"yanchor\":\"bottom\",\"yref\":\"paper\"},{\"font\":{\"size\":16},\"showarrow\":false,\"text\":\"relative_weight\",\"x\":0.89375,\"xanchor\":\"center\",\"xref\":\"paper\",\"y\":0.692857142857143,\"yanchor\":\"bottom\",\"yref\":\"paper\"},{\"font\":{\"size\":16},\"showarrow\":false,\"text\":\"relative_camera_yaw_deg\",\"x\":0.10625,\"xanchor\":\"center\",\"xref\":\"paper\",\"y\":0.5392857142857144,\"yanchor\":\"bottom\",\"yref\":\"paper\"},{\"font\":{\"size\":16},\"showarrow\":false,\"text\":\"relative_camera_pitch_deg\",\"x\":0.36875,\"xanchor\":\"center\",\"xref\":\"paper\",\"y\":0.5392857142857144,\"yanchor\":\"bottom\",\"yref\":\"paper\"},{\"font\":{\"size\":16},\"showarrow\":false,\"text\":\"lighting_power\",\"x\":0.6312500000000001,\"xanchor\":\"center\",\"xref\":\"paper\",\"y\":0.5392857142857144,\"yanchor\":\"bottom\",\"yref\":\"paper\"},{\"font\":{\"size\":16},\"showarrow\":false,\"text\":\"relative_avatar_angle_deg\",\"x\":0.89375,\"xanchor\":\"center\",\"xref\":\"paper\",\"y\":0.5392857142857144,\"yanchor\":\"bottom\",\"yref\":\"paper\"},{\"font\":{\"size\":16},\"showarrow\":false,\"text\":\"frame_rate\",\"x\":0.10625,\"xanchor\":\"center\",\"xref\":\"paper\",\"y\":0.38571428571428573,\"yanchor\":\"bottom\",\"yref\":\"paper\"},{\"font\":{\"size\":16},\"showarrow\":false,\"text\":\"image_width\",\"x\":0.36875,\"xanchor\":\"center\",\"xref\":\"paper\",\"y\":0.38571428571428573,\"yanchor\":\"bottom\",\"yref\":\"paper\"},{\"font\":{\"size\":16},\"showarrow\":false,\"text\":\"image_height\",\"x\":0.6312500000000001,\"xanchor\":\"center\",\"xref\":\"paper\",\"y\":0.38571428571428573,\"yanchor\":\"bottom\",\"yref\":\"paper\"},{\"font\":{\"size\":16},\"showarrow\":false,\"text\":\"inter_rep_delay_avg\",\"x\":0.89375,\"xanchor\":\"center\",\"xref\":\"paper\",\"y\":0.38571428571428573,\"yanchor\":\"bottom\",\"yref\":\"paper\"},{\"font\":{\"size\":16},\"showarrow\":false,\"text\":\"inter_rep_delay_var\",\"x\":0.10625,\"xanchor\":\"center\",\"xref\":\"paper\",\"y\":0.23214285714285715,\"yanchor\":\"bottom\",\"yref\":\"paper\"},{\"font\":{\"size\":16},\"showarrow\":false,\"text\":\"add_wall_art\",\"x\":0.36875,\"xanchor\":\"center\",\"xref\":\"paper\",\"y\":0.23214285714285715,\"yanchor\":\"bottom\",\"yref\":\"paper\"},{\"font\":{\"size\":16},\"showarrow\":false,\"text\":\"wall_art_type\",\"x\":0.6312500000000001,\"xanchor\":\"center\",\"xref\":\"paper\",\"y\":0.23214285714285715,\"yanchor\":\"bottom\",\"yref\":\"paper\"},{\"font\":{\"size\":16},\"showarrow\":false,\"text\":\"outfit\",\"x\":0.89375,\"xanchor\":\"center\",\"xref\":\"paper\",\"y\":0.23214285714285715,\"yanchor\":\"bottom\",\"yref\":\"paper\"},{\"font\":{\"size\":16},\"showarrow\":false,\"text\":\"hide_shoes\",\"x\":0.10625,\"xanchor\":\"center\",\"xref\":\"paper\",\"y\":0.07857142857142858,\"yanchor\":\"bottom\",\"yref\":\"paper\"},{\"font\":{\"size\":16},\"showarrow\":false,\"text\":\"allowable_occlusion\",\"x\":0.36875,\"xanchor\":\"center\",\"xref\":\"paper\",\"y\":0.07857142857142858,\"yanchor\":\"bottom\",\"yref\":\"paper\"},{\"font\":{\"size\":16},\"showarrow\":false,\"text\":\"enable_sensor_noise\",\"x\":0.6312500000000001,\"xanchor\":\"center\",\"xref\":\"paper\",\"y\":0.07857142857142858,\"yanchor\":\"bottom\",\"yref\":\"paper\"}],\"font\":{\"size\":12},\"title\":{\"text\":\"Job Parameters\"},\"height\":2100,\"width\":1500,\"barmode\":\"stack\"},                        {\"responsive\": true}                    ).then(function(){\n",
       "                            \n",
       "var gd = document.getElementById('7aff982e-bb7d-4bd9-892d-4e36616bad51');\n",
       "var x = new MutationObserver(function (mutations, observer) {{\n",
       "        var display = window.getComputedStyle(gd).display;\n",
       "        if (!display || display === 'none') {{\n",
       "            console.log([gd, 'removed!']);\n",
       "            Plotly.purge(gd);\n",
       "            observer.disconnect();\n",
       "        }}\n",
       "}});\n",
       "\n",
       "// Listen for the removal of the full notebook cells\n",
       "var notebookContainer = gd.closest('#notebook-container');\n",
       "if (notebookContainer) {{\n",
       "    x.observe(notebookContainer, {childList: true});\n",
       "}}\n",
       "\n",
       "// Listen for the clearing of the current output cell\n",
       "var outputEl = gd.closest('.output');\n",
       "if (outputEl) {{\n",
       "    x.observe(outputEl, {childList: true});\n",
       "}}\n",
       "\n",
       "                        })                };                });            </script>        </div>"
      ]
     },
     "metadata": {},
     "output_type": "display_data"
    }
   ],
   "source": [
    "visualize_job_params(job_params)"
   ]
  },
  {
   "cell_type": "markdown",
   "id": "6c2bd08f",
   "metadata": {},
   "source": [
    "### Submit many jobs in batch mode.\n",
    "\n",
    "After verifying our parameters are in the correct range, we can submit a large batch of jobs to the API.\n",
    "\n",
    "High-resolution videos can take some time to render (~20 minutes per video), so this part is **non-blocking**. That is, you can run this cell and then shut down your notebook if you like. The job ids are saved to your local disk, so you can pick right up in the next section when you come back.\n",
    "\n",
    "**Note**: We don't actually want to submit a job for 1000 videos for this demo notebook, so the next cell will just take the first 5. **Delete the next cell when you're ready to generate videos at scale.**"
   ]
  },
  {
   "cell_type": "code",
   "execution_count": 23,
   "id": "d5e759af",
   "metadata": {},
   "outputs": [],
   "source": [
    "# job_params = job_params[:4] #comment out or delete this cell for the full jobs array."
   ]
  },
  {
   "cell_type": "code",
   "execution_count": 55,
   "id": "09773c55",
   "metadata": {},
   "outputs": [
    {
     "name": "stdout",
     "output_type": "stream",
     "text": [
      "Submitting batch of jobs to the API...\n"
     ]
    }
   ],
   "source": [
    "batch = sesh.submit(\n",
    "    job_params=job_params,\n",
    "    is_preview=False,\n",
    "    batch_name=batch_name,\n",
    ")"
   ]
  },
  {
   "cell_type": "markdown",
   "id": "1641ce62",
   "metadata": {},
   "source": [
    "### Reconstituting a batch later on\n",
    "\n",
    "You can reconstitute a submitted batch locally from the Infinity cloud API. Examples of when you would want to do this: (a) you come back to check on a large batch in a fresh notebook instance at a later date, (b) your notebook instance crashes or you exited it out, or (c) you want to revisit a batch from a long time ago.\n",
    "\n",
    "You can always view your batches by logging in to the [Infinity User Portal](https://api.toinfinity.ai/admin/api/batch/). This will give you information about previously submitted batches and their individual jobs.\n",
    "\n",
    "To locally reconstitute a batch, just grab the `batch_id` from the batch you are interested in from the User Portal."
   ]
  },
  {
   "cell_type": "code",
   "execution_count": 9,
   "id": "f2a3a0b1",
   "metadata": {},
   "outputs": [],
   "source": [
    "# Here, we will get the `batch_id` from the `batch` instance in local memory. But you can easily get the\n",
    "# `batch_id` from the Infinity User Portal.\n",
    "batch_id = batch.batch_id"
   ]
  },
  {
   "cell_type": "markdown",
   "id": "1217a3b4",
   "metadata": {},
   "source": [
    "### Query job status in non-blocking mode.\n",
    "\n",
    "We next show how to check on the status of a specific batch (potentially after closing and restarting this notebook). You only need to provide a path to the associated folder. Note that you can choose to move onto the next cell and download data before all jobs have successfully completed."
   ]
  },
  {
   "cell_type": "code",
   "execution_count": 17,
   "id": "5f03b6f4",
   "metadata": {},
   "outputs": [
    {
     "name": "stdout",
     "output_type": "stream",
     "text": [
      "5/5 submitted jobs have completed\n",
      "5/5 completed jobs have a valid URL.\n"
     ]
    }
   ],
   "source": [
    "# Reconstitute our batch process state (replace `batch_id` with the ID for your desired batch).\n",
    "batch = sesh.batch_from_api(batch_id=batch_id)\n",
    "\n",
    "# Poll the server to see the status of our batch job.\n",
    "print(f\"{batch.num_jobs - batch.get_num_jobs_remaining()}/{batch.num_jobs} submitted jobs have completed\")\n",
    "\n",
    "completed_jobs = batch.get_completed_jobs()\n",
    "valid_jobs = batch.get_valid_completed_jobs()\n",
    "\n",
    "num_submitted = batch.num_jobs\n",
    "num_completed = len(completed_jobs)\n",
    "num_in_progress = num_submitted - num_completed\n",
    "num_successful = len(valid_jobs)\n",
    "num_failed = num_completed - num_successful\n",
    "\n",
    "print(f\"{num_successful}/{num_completed} completed jobs have a valid URL.\")"
   ]
  },
  {
   "cell_type": "markdown",
   "id": "466b76cf",
   "metadata": {},
   "source": [
    "#### Download completed jobs\n",
    "\n",
    "Using the cell from above, we can download the completed jobs. We will only download the completed jobs that have a valid URL."
   ]
  },
  {
   "cell_type": "code",
   "execution_count": 18,
   "id": "e855d263",
   "metadata": {},
   "outputs": [
    {
     "name": "stdout",
     "output_type": "stream",
     "text": [
      "Completed downloads: (5/5) ... \n",
      "Download complete!\n"
     ]
    }
   ],
   "source": [
    "batch_path = OUT_DIR + batch_name\n",
    "_download_ok = batch.download(path=batch_path)"
   ]
  },
  {
   "cell_type": "markdown",
   "id": "a7beaecb",
   "metadata": {},
   "source": [
    "### Visualize dataset statistics + filter for specific properties\n",
    "\n",
    "Finally, we compile some of the metadata and all of the job parameters that were submitted into a dataframe. This allows us to see the distribution of the resulting dataset. In addition, we can query the dataset for specific properties, which allows us to curate a desired training set for a given ML application."
   ]
  },
  {
   "cell_type": "code",
   "execution_count": 19,
   "id": "29a2db01",
   "metadata": {},
   "outputs": [
    {
     "data": {
      "text/html": [
       "<div>\n",
       "<style scoped>\n",
       "    .dataframe tbody tr th:only-of-type {\n",
       "        vertical-align: middle;\n",
       "    }\n",
       "\n",
       "    .dataframe tbody tr th {\n",
       "        vertical-align: top;\n",
       "    }\n",
       "\n",
       "    .dataframe thead th {\n",
       "        text-align: right;\n",
       "    }\n",
       "</style>\n",
       "<table border=\"1\" class=\"dataframe\">\n",
       "  <thead>\n",
       "    <tr style=\"text-align: right;\">\n",
       "      <th></th>\n",
       "      <th>job_path</th>\n",
       "      <th>job_id</th>\n",
       "      <th>num_frames</th>\n",
       "      <th>avg_percent_in_fov</th>\n",
       "      <th>avg_percent_occlusion</th>\n",
       "      <th>scene</th>\n",
       "      <th>exercise</th>\n",
       "      <th>gender</th>\n",
       "      <th>num_reps</th>\n",
       "      <th>inter_rep_delay_avg</th>\n",
       "      <th>inter_rep_delay_var</th>\n",
       "      <th>rel_baseline_speed</th>\n",
       "      <th>max_rel_speed_change</th>\n",
       "      <th>kinematic_noise_factor</th>\n",
       "      <th>camera_distance</th>\n",
       "      <th>camera_height</th>\n",
       "      <th>add_wall_art</th>\n",
       "      <th>wall_art_type</th>\n",
       "      <th>avatar_identity</th>\n",
       "      <th>outfit</th>\n",
       "      <th>hide_shoes</th>\n",
       "      <th>allowable_occlusion</th>\n",
       "      <th>relative_height</th>\n",
       "      <th>relative_weight</th>\n",
       "      <th>relative_camera_pitch_deg</th>\n",
       "      <th>lighting_power</th>\n",
       "      <th>relative_avatar_angle_deg</th>\n",
       "      <th>frame_rate</th>\n",
       "      <th>image_width</th>\n",
       "      <th>image_height</th>\n",
       "      <th>enable_sensor_noise</th>\n",
       "      <th>state</th>\n",
       "      <th>relative_camera_yaw_deg</th>\n",
       "    </tr>\n",
       "  </thead>\n",
       "  <tbody>\n",
       "    <tr>\n",
       "      <th>0</th>\n",
       "      <td>tmp/uppercut left large job demo/af644860-531f...</td>\n",
       "      <td>af644860-531f-4b75-843e-9eb5c27472e0</td>\n",
       "      <td>86.0</td>\n",
       "      <td>84.65</td>\n",
       "      <td>0.01</td>\n",
       "      <td>BEDROOM_2</td>\n",
       "      <td>UPPERCUT-LEFT</td>\n",
       "      <td>FEMALE</td>\n",
       "      <td>4.0</td>\n",
       "      <td>0.90</td>\n",
       "      <td>0.70</td>\n",
       "      <td>1.08</td>\n",
       "      <td>0.17</td>\n",
       "      <td>0.93</td>\n",
       "      <td>2.52</td>\n",
       "      <td>1.06</td>\n",
       "      <td>1.0</td>\n",
       "      <td>misc_human</td>\n",
       "      <td>18.0</td>\n",
       "      <td>2.0</td>\n",
       "      <td>0.0</td>\n",
       "      <td>37.03</td>\n",
       "      <td>-0.18</td>\n",
       "      <td>-0.56</td>\n",
       "      <td>-8.18</td>\n",
       "      <td>290.47</td>\n",
       "      <td>140.28</td>\n",
       "      <td>6.0</td>\n",
       "      <td>256.0</td>\n",
       "      <td>256.0</td>\n",
       "      <td>1.0</td>\n",
       "      <td>NaN</td>\n",
       "      <td>4.88</td>\n",
       "    </tr>\n",
       "    <tr>\n",
       "      <th>1</th>\n",
       "      <td>tmp/uppercut left large job demo/cd588005-8b14...</td>\n",
       "      <td>cd588005-8b14-4e0e-a501-8f469c7b5255</td>\n",
       "      <td>55.0</td>\n",
       "      <td>72.78</td>\n",
       "      <td>0.00</td>\n",
       "      <td>LIVINGROOM_2</td>\n",
       "      <td>UPPERCUT-LEFT</td>\n",
       "      <td>FEMALE</td>\n",
       "      <td>4.0</td>\n",
       "      <td>0.90</td>\n",
       "      <td>1.88</td>\n",
       "      <td>0.92</td>\n",
       "      <td>0.04</td>\n",
       "      <td>0.24</td>\n",
       "      <td>2.58</td>\n",
       "      <td>1.41</td>\n",
       "      <td>0.0</td>\n",
       "      <td>non_human</td>\n",
       "      <td>6.0</td>\n",
       "      <td>3.0</td>\n",
       "      <td>0.0</td>\n",
       "      <td>8.00</td>\n",
       "      <td>-0.90</td>\n",
       "      <td>-0.07</td>\n",
       "      <td>5.95</td>\n",
       "      <td>292.83</td>\n",
       "      <td>12.17</td>\n",
       "      <td>6.0</td>\n",
       "      <td>256.0</td>\n",
       "      <td>256.0</td>\n",
       "      <td>1.0</td>\n",
       "      <td>NaN</td>\n",
       "      <td>-0.59</td>\n",
       "    </tr>\n",
       "    <tr>\n",
       "      <th>2</th>\n",
       "      <td>tmp/uppercut left large job demo/1b3f73c9-0e95...</td>\n",
       "      <td>1b3f73c9-0e95-46f7-93c3-ce0ae516b413</td>\n",
       "      <td>81.0</td>\n",
       "      <td>99.99</td>\n",
       "      <td>0.00</td>\n",
       "      <td>BEDROOM_4</td>\n",
       "      <td>UPPERCUT-LEFT</td>\n",
       "      <td>MALE</td>\n",
       "      <td>4.0</td>\n",
       "      <td>1.85</td>\n",
       "      <td>0.06</td>\n",
       "      <td>0.92</td>\n",
       "      <td>0.01</td>\n",
       "      <td>0.58</td>\n",
       "      <td>4.74</td>\n",
       "      <td>1.00</td>\n",
       "      <td>0.0</td>\n",
       "      <td>non_human</td>\n",
       "      <td>3.0</td>\n",
       "      <td>3.0</td>\n",
       "      <td>0.0</td>\n",
       "      <td>10.94</td>\n",
       "      <td>-0.24</td>\n",
       "      <td>-0.80</td>\n",
       "      <td>7.86</td>\n",
       "      <td>293.97</td>\n",
       "      <td>-39.23</td>\n",
       "      <td>6.0</td>\n",
       "      <td>256.0</td>\n",
       "      <td>256.0</td>\n",
       "      <td>1.0</td>\n",
       "      <td>NaN</td>\n",
       "      <td>7.63</td>\n",
       "    </tr>\n",
       "    <tr>\n",
       "      <th>3</th>\n",
       "      <td>tmp/uppercut left large job demo/cafb991e-5001...</td>\n",
       "      <td>cafb991e-5001-4942-9bba-3a2d8c4052ca</td>\n",
       "      <td>87.0</td>\n",
       "      <td>99.88</td>\n",
       "      <td>0.01</td>\n",
       "      <td>BEDROOM_2</td>\n",
       "      <td>UPPERCUT-LEFT</td>\n",
       "      <td>MALE</td>\n",
       "      <td>4.0</td>\n",
       "      <td>1.88</td>\n",
       "      <td>1.26</td>\n",
       "      <td>0.89</td>\n",
       "      <td>0.13</td>\n",
       "      <td>0.88</td>\n",
       "      <td>2.50</td>\n",
       "      <td>1.01</td>\n",
       "      <td>1.0</td>\n",
       "      <td>non_human</td>\n",
       "      <td>13.0</td>\n",
       "      <td>0.0</td>\n",
       "      <td>0.0</td>\n",
       "      <td>26.61</td>\n",
       "      <td>-2.76</td>\n",
       "      <td>1.86</td>\n",
       "      <td>-4.93</td>\n",
       "      <td>321.94</td>\n",
       "      <td>52.28</td>\n",
       "      <td>6.0</td>\n",
       "      <td>256.0</td>\n",
       "      <td>256.0</td>\n",
       "      <td>1.0</td>\n",
       "      <td>NaN</td>\n",
       "      <td>-12.28</td>\n",
       "    </tr>\n",
       "    <tr>\n",
       "      <th>4</th>\n",
       "      <td>tmp/uppercut left large job demo/29cb3d89-1454...</td>\n",
       "      <td>29cb3d89-1454-45c9-b408-f64c6ba6a29d</td>\n",
       "      <td>101.0</td>\n",
       "      <td>100.00</td>\n",
       "      <td>0.03</td>\n",
       "      <td>LIVINGROOM_1</td>\n",
       "      <td>UPPERCUT-LEFT</td>\n",
       "      <td>FEMALE</td>\n",
       "      <td>4.0</td>\n",
       "      <td>1.22</td>\n",
       "      <td>1.78</td>\n",
       "      <td>0.86</td>\n",
       "      <td>0.19</td>\n",
       "      <td>0.47</td>\n",
       "      <td>4.65</td>\n",
       "      <td>1.03</td>\n",
       "      <td>1.0</td>\n",
       "      <td>non_human</td>\n",
       "      <td>24.0</td>\n",
       "      <td>2.0</td>\n",
       "      <td>0.0</td>\n",
       "      <td>24.66</td>\n",
       "      <td>1.83</td>\n",
       "      <td>0.40</td>\n",
       "      <td>3.75</td>\n",
       "      <td>274.51</td>\n",
       "      <td>35.71</td>\n",
       "      <td>6.0</td>\n",
       "      <td>256.0</td>\n",
       "      <td>256.0</td>\n",
       "      <td>1.0</td>\n",
       "      <td>NaN</td>\n",
       "      <td>5.21</td>\n",
       "    </tr>\n",
       "  </tbody>\n",
       "</table>\n",
       "</div>"
      ],
      "text/plain": [
       "                                            job_path  \\\n",
       "0  tmp/uppercut left large job demo/af644860-531f...   \n",
       "1  tmp/uppercut left large job demo/cd588005-8b14...   \n",
       "2  tmp/uppercut left large job demo/1b3f73c9-0e95...   \n",
       "3  tmp/uppercut left large job demo/cafb991e-5001...   \n",
       "4  tmp/uppercut left large job demo/29cb3d89-1454...   \n",
       "\n",
       "                                 job_id  num_frames  avg_percent_in_fov  \\\n",
       "0  af644860-531f-4b75-843e-9eb5c27472e0        86.0               84.65   \n",
       "1  cd588005-8b14-4e0e-a501-8f469c7b5255        55.0               72.78   \n",
       "2  1b3f73c9-0e95-46f7-93c3-ce0ae516b413        81.0               99.99   \n",
       "3  cafb991e-5001-4942-9bba-3a2d8c4052ca        87.0               99.88   \n",
       "4  29cb3d89-1454-45c9-b408-f64c6ba6a29d       101.0              100.00   \n",
       "\n",
       "   avg_percent_occlusion         scene       exercise  gender  num_reps  \\\n",
       "0                   0.01     BEDROOM_2  UPPERCUT-LEFT  FEMALE       4.0   \n",
       "1                   0.00  LIVINGROOM_2  UPPERCUT-LEFT  FEMALE       4.0   \n",
       "2                   0.00     BEDROOM_4  UPPERCUT-LEFT    MALE       4.0   \n",
       "3                   0.01     BEDROOM_2  UPPERCUT-LEFT    MALE       4.0   \n",
       "4                   0.03  LIVINGROOM_1  UPPERCUT-LEFT  FEMALE       4.0   \n",
       "\n",
       "   inter_rep_delay_avg  inter_rep_delay_var  rel_baseline_speed  \\\n",
       "0                 0.90                 0.70                1.08   \n",
       "1                 0.90                 1.88                0.92   \n",
       "2                 1.85                 0.06                0.92   \n",
       "3                 1.88                 1.26                0.89   \n",
       "4                 1.22                 1.78                0.86   \n",
       "\n",
       "   max_rel_speed_change  kinematic_noise_factor  camera_distance  \\\n",
       "0                  0.17                    0.93             2.52   \n",
       "1                  0.04                    0.24             2.58   \n",
       "2                  0.01                    0.58             4.74   \n",
       "3                  0.13                    0.88             2.50   \n",
       "4                  0.19                    0.47             4.65   \n",
       "\n",
       "   camera_height  add_wall_art wall_art_type  avatar_identity  outfit  \\\n",
       "0           1.06           1.0    misc_human             18.0     2.0   \n",
       "1           1.41           0.0     non_human              6.0     3.0   \n",
       "2           1.00           0.0     non_human              3.0     3.0   \n",
       "3           1.01           1.0     non_human             13.0     0.0   \n",
       "4           1.03           1.0     non_human             24.0     2.0   \n",
       "\n",
       "   hide_shoes  allowable_occlusion  relative_height  relative_weight  \\\n",
       "0         0.0                37.03            -0.18            -0.56   \n",
       "1         0.0                 8.00            -0.90            -0.07   \n",
       "2         0.0                10.94            -0.24            -0.80   \n",
       "3         0.0                26.61            -2.76             1.86   \n",
       "4         0.0                24.66             1.83             0.40   \n",
       "\n",
       "   relative_camera_pitch_deg  lighting_power  relative_avatar_angle_deg  \\\n",
       "0                      -8.18          290.47                     140.28   \n",
       "1                       5.95          292.83                      12.17   \n",
       "2                       7.86          293.97                     -39.23   \n",
       "3                      -4.93          321.94                      52.28   \n",
       "4                       3.75          274.51                      35.71   \n",
       "\n",
       "   frame_rate  image_width  image_height  enable_sensor_noise  state  \\\n",
       "0         6.0        256.0         256.0                  1.0    NaN   \n",
       "1         6.0        256.0         256.0                  1.0    NaN   \n",
       "2         6.0        256.0         256.0                  1.0    NaN   \n",
       "3         6.0        256.0         256.0                  1.0    NaN   \n",
       "4         6.0        256.0         256.0                  1.0    NaN   \n",
       "\n",
       "   relative_camera_yaw_deg  \n",
       "0                     4.88  \n",
       "1                    -0.59  \n",
       "2                     7.63  \n",
       "3                   -12.28  \n",
       "4                     5.21  "
      ]
     },
     "execution_count": 19,
     "metadata": {},
     "output_type": "execute_result"
    }
   ],
   "source": [
    "import pandas as pd\n",
    "pd.options.display.max_columns = None\n",
    "\n",
    "df = summarize_batch_results_as_dataframe(batch_path)\n",
    "df.round(2).query('avg_percent_occlusion < 4')"
   ]
  },
  {
   "cell_type": "code",
   "execution_count": 20,
   "id": "b852e31a",
   "metadata": {},
   "outputs": [
    {
     "data": {
      "image/svg+xml": [
       "<svg class=\"main-svg\" xmlns=\"http://www.w3.org/2000/svg\" xmlns:xlink=\"http://www.w3.org/1999/xlink\" width=\"1200\" height=\"1600\" style=\"\" viewBox=\"0 0 1200 1600\"><rect x=\"0\" y=\"0\" width=\"1200\" height=\"1600\" style=\"fill: rgb(255, 255, 255); fill-opacity: 1;\"/><defs id=\"defs-372127\"><g class=\"clips\"><clipPath id=\"clip372127xyplot\" class=\"plotclip\"><rect width=\"221\" height=\"99.84375\"/></clipPath><clipPath id=\"clip372127x2y2plot\" class=\"plotclip\"><rect width=\"220.99999999999997\" height=\"99.84375\"/></clipPath><clipPath id=\"clip372127x3y3plot\" class=\"plotclip\"><rect width=\"221.00000000000003\" height=\"99.84375\"/></clipPath><clipPath id=\"clip372127x4y4plot\" class=\"plotclip\"><rect width=\"221.00000000000003\" height=\"99.84375\"/></clipPath><clipPath id=\"clip372127x5y5plot\" class=\"plotclip\"><rect width=\"221\" height=\"99.84375\"/></clipPath><clipPath id=\"clip372127x6y6plot\" class=\"plotclip\"><rect width=\"220.99999999999997\" height=\"99.84375\"/></clipPath><clipPath id=\"clip372127x7y7plot\" class=\"plotclip\"><rect width=\"221.00000000000003\" height=\"99.84375\"/></clipPath><clipPath id=\"clip372127x8y8plot\" class=\"plotclip\"><rect width=\"221.00000000000003\" height=\"99.84375\"/></clipPath><clipPath id=\"clip372127x9y9plot\" class=\"plotclip\"><rect width=\"221\" height=\"99.84375\"/></clipPath><clipPath id=\"clip372127x10y10plot\" class=\"plotclip\"><rect width=\"220.99999999999997\" height=\"99.84375\"/></clipPath><clipPath id=\"clip372127x11y11plot\" class=\"plotclip\"><rect width=\"221.00000000000003\" height=\"99.84375\"/></clipPath><clipPath id=\"clip372127x12y12plot\" class=\"plotclip\"><rect width=\"221.00000000000003\" height=\"99.84375\"/></clipPath><clipPath id=\"clip372127x13y13plot\" class=\"plotclip\"><rect width=\"221\" height=\"99.84375\"/></clipPath><clipPath id=\"clip372127x14y14plot\" class=\"plotclip\"><rect width=\"220.99999999999997\" height=\"99.84375\"/></clipPath><clipPath id=\"clip372127x15y15plot\" class=\"plotclip\"><rect width=\"221.00000000000003\" height=\"99.84375\"/></clipPath><clipPath id=\"clip372127x16y16plot\" class=\"plotclip\"><rect width=\"221.00000000000003\" height=\"99.84375\"/></clipPath><clipPath id=\"clip372127x17y17plot\" class=\"plotclip\"><rect width=\"221\" height=\"99.84375\"/></clipPath><clipPath id=\"clip372127x18y18plot\" class=\"plotclip\"><rect width=\"220.99999999999997\" height=\"99.84375\"/></clipPath><clipPath id=\"clip372127x19y19plot\" class=\"plotclip\"><rect width=\"221.00000000000003\" height=\"99.84375\"/></clipPath><clipPath id=\"clip372127x20y20plot\" class=\"plotclip\"><rect width=\"221.00000000000003\" height=\"99.84375\"/></clipPath><clipPath id=\"clip372127x21y21plot\" class=\"plotclip\"><rect width=\"221\" height=\"99.84375\"/></clipPath><clipPath id=\"clip372127x22y22plot\" class=\"plotclip\"><rect width=\"220.99999999999997\" height=\"99.84375\"/></clipPath><clipPath id=\"clip372127x23y23plot\" class=\"plotclip\"><rect width=\"221.00000000000003\" height=\"99.84375\"/></clipPath><clipPath id=\"clip372127x24y24plot\" class=\"plotclip\"><rect width=\"221.00000000000003\" height=\"99.84375\"/></clipPath><clipPath id=\"clip372127x25y25plot\" class=\"plotclip\"><rect width=\"221\" height=\"99.84375\"/></clipPath><clipPath id=\"clip372127x26y26plot\" class=\"plotclip\"><rect width=\"220.99999999999997\" height=\"99.84375\"/></clipPath><clipPath id=\"clip372127x27y27plot\" class=\"plotclip\"><rect width=\"221.00000000000003\" height=\"99.84375\"/></clipPath><clipPath id=\"clip372127x28y28plot\" class=\"plotclip\"><rect width=\"221.00000000000003\" height=\"99.84375\"/></clipPath><clipPath id=\"clip372127x29y29plot\" class=\"plotclip\"><rect width=\"221\" height=\"99.84375\"/></clipPath><clipPath id=\"clip372127x30y30plot\" class=\"plotclip\"><rect width=\"220.99999999999997\" height=\"99.84375\"/></clipPath><clipPath class=\"axesclip\" id=\"clip372127x\"><rect x=\"80\" y=\"0\" width=\"221\" height=\"1600\"/></clipPath><clipPath class=\"axesclip\" id=\"clip372127y\"><rect x=\"0\" y=\"100\" width=\"1200\" height=\"99.84375\"/></clipPath><clipPath class=\"axesclip\" id=\"clip372127xy\"><rect x=\"80\" y=\"100\" width=\"221\" height=\"99.84375\"/></clipPath><clipPath class=\"axesclip\" id=\"clip372127y2\"><rect x=\"0\" y=\"100\" width=\"1200\" height=\"99.84375\"/></clipPath><clipPath class=\"axesclip\" id=\"clip372127xy2\"><rect x=\"80\" y=\"100\" width=\"221\" height=\"99.84375\"/></clipPath><clipPath class=\"axesclip\" id=\"clip372127y3\"><rect x=\"0\" y=\"100\" width=\"1200\" height=\"99.84375\"/></clipPath><clipPath class=\"axesclip\" id=\"clip372127xy3\"><rect x=\"80\" y=\"100\" width=\"221\" height=\"99.84375\"/></clipPath><clipPath class=\"axesclip\" id=\"clip372127y4\"><rect x=\"0\" y=\"100\" width=\"1200\" height=\"99.84375\"/></clipPath><clipPath class=\"axesclip\" id=\"clip372127xy4\"><rect x=\"80\" y=\"100\" width=\"221\" height=\"99.84375\"/></clipPath><clipPath class=\"axesclip\" id=\"clip372127y5\"><rect x=\"0\" y=\"288.59375\" width=\"1200\" height=\"99.84375\"/></clipPath><clipPath class=\"axesclip\" id=\"clip372127xy5\"><rect x=\"80\" y=\"288.59375\" width=\"221\" height=\"99.84375\"/></clipPath><clipPath class=\"axesclip\" id=\"clip372127y6\"><rect x=\"0\" y=\"288.59375\" width=\"1200\" height=\"99.84375\"/></clipPath><clipPath class=\"axesclip\" id=\"clip372127xy6\"><rect x=\"80\" y=\"288.59375\" width=\"221\" height=\"99.84375\"/></clipPath><clipPath class=\"axesclip\" id=\"clip372127y7\"><rect x=\"0\" y=\"288.59375\" width=\"1200\" height=\"99.84375\"/></clipPath><clipPath class=\"axesclip\" id=\"clip372127xy7\"><rect x=\"80\" y=\"288.59375\" width=\"221\" height=\"99.84375\"/></clipPath><clipPath class=\"axesclip\" id=\"clip372127y8\"><rect x=\"0\" y=\"288.59375\" width=\"1200\" height=\"99.84375\"/></clipPath><clipPath class=\"axesclip\" id=\"clip372127xy8\"><rect x=\"80\" y=\"288.59375\" width=\"221\" height=\"99.84375\"/></clipPath><clipPath class=\"axesclip\" id=\"clip372127y9\"><rect x=\"0\" y=\"477.1875\" width=\"1200\" height=\"99.84375\"/></clipPath><clipPath class=\"axesclip\" id=\"clip372127xy9\"><rect x=\"80\" y=\"477.1875\" width=\"221\" height=\"99.84375\"/></clipPath><clipPath class=\"axesclip\" id=\"clip372127y10\"><rect x=\"0\" y=\"477.1875\" width=\"1200\" height=\"99.84375\"/></clipPath><clipPath class=\"axesclip\" id=\"clip372127xy10\"><rect x=\"80\" y=\"477.1875\" width=\"221\" height=\"99.84375\"/></clipPath><clipPath class=\"axesclip\" id=\"clip372127y11\"><rect x=\"0\" y=\"477.1875\" width=\"1200\" height=\"99.84375\"/></clipPath><clipPath class=\"axesclip\" id=\"clip372127xy11\"><rect x=\"80\" y=\"477.1875\" width=\"221\" height=\"99.84375\"/></clipPath><clipPath class=\"axesclip\" id=\"clip372127y12\"><rect x=\"0\" y=\"477.1875\" width=\"1200\" height=\"99.84375\"/></clipPath><clipPath class=\"axesclip\" id=\"clip372127xy12\"><rect x=\"80\" y=\"477.1875\" width=\"221\" height=\"99.84375\"/></clipPath><clipPath class=\"axesclip\" id=\"clip372127y13\"><rect x=\"0\" y=\"665.78125\" width=\"1200\" height=\"99.84375\"/></clipPath><clipPath class=\"axesclip\" id=\"clip372127xy13\"><rect x=\"80\" y=\"665.78125\" width=\"221\" height=\"99.84375\"/></clipPath><clipPath class=\"axesclip\" id=\"clip372127y14\"><rect x=\"0\" y=\"665.78125\" width=\"1200\" height=\"99.84375\"/></clipPath><clipPath class=\"axesclip\" id=\"clip372127xy14\"><rect x=\"80\" y=\"665.78125\" width=\"221\" height=\"99.84375\"/></clipPath><clipPath class=\"axesclip\" id=\"clip372127y15\"><rect x=\"0\" y=\"665.78125\" width=\"1200\" height=\"99.84375\"/></clipPath><clipPath class=\"axesclip\" id=\"clip372127xy15\"><rect x=\"80\" y=\"665.78125\" width=\"221\" height=\"99.84375\"/></clipPath><clipPath class=\"axesclip\" id=\"clip372127y16\"><rect x=\"0\" y=\"665.78125\" width=\"1200\" height=\"99.84375\"/></clipPath><clipPath class=\"axesclip\" id=\"clip372127xy16\"><rect x=\"80\" y=\"665.78125\" width=\"221\" height=\"99.84375\"/></clipPath><clipPath class=\"axesclip\" id=\"clip372127y17\"><rect x=\"0\" y=\"854.375\" width=\"1200\" height=\"99.84375\"/></clipPath><clipPath class=\"axesclip\" id=\"clip372127xy17\"><rect x=\"80\" y=\"854.375\" width=\"221\" height=\"99.84375\"/></clipPath><clipPath class=\"axesclip\" id=\"clip372127y18\"><rect x=\"0\" y=\"854.375\" width=\"1200\" height=\"99.84375\"/></clipPath><clipPath class=\"axesclip\" id=\"clip372127xy18\"><rect x=\"80\" y=\"854.375\" width=\"221\" height=\"99.84375\"/></clipPath><clipPath class=\"axesclip\" id=\"clip372127y19\"><rect x=\"0\" y=\"854.375\" width=\"1200\" height=\"99.84375\"/></clipPath><clipPath class=\"axesclip\" id=\"clip372127xy19\"><rect x=\"80\" y=\"854.375\" width=\"221\" height=\"99.84375\"/></clipPath><clipPath class=\"axesclip\" id=\"clip372127y20\"><rect x=\"0\" y=\"854.375\" width=\"1200\" height=\"99.84375\"/></clipPath><clipPath class=\"axesclip\" id=\"clip372127xy20\"><rect x=\"80\" y=\"854.375\" width=\"221\" height=\"99.84375\"/></clipPath><clipPath class=\"axesclip\" id=\"clip372127y21\"><rect x=\"0\" y=\"1042.96875\" width=\"1200\" height=\"99.84375\"/></clipPath><clipPath class=\"axesclip\" id=\"clip372127xy21\"><rect x=\"80\" y=\"1042.96875\" width=\"221\" height=\"99.84375\"/></clipPath><clipPath class=\"axesclip\" id=\"clip372127y22\"><rect x=\"0\" y=\"1042.96875\" width=\"1200\" height=\"99.84375\"/></clipPath><clipPath class=\"axesclip\" id=\"clip372127xy22\"><rect x=\"80\" y=\"1042.96875\" width=\"221\" height=\"99.84375\"/></clipPath><clipPath class=\"axesclip\" id=\"clip372127y23\"><rect x=\"0\" y=\"1042.96875\" width=\"1200\" height=\"99.84375\"/></clipPath><clipPath class=\"axesclip\" id=\"clip372127xy23\"><rect x=\"80\" y=\"1042.96875\" width=\"221\" height=\"99.84375\"/></clipPath><clipPath class=\"axesclip\" id=\"clip372127y24\"><rect x=\"0\" y=\"1042.96875\" width=\"1200\" height=\"99.84375\"/></clipPath><clipPath class=\"axesclip\" id=\"clip372127xy24\"><rect x=\"80\" y=\"1042.96875\" width=\"221\" height=\"99.84375\"/></clipPath><clipPath class=\"axesclip\" id=\"clip372127y25\"><rect x=\"0\" y=\"1231.5625\" width=\"1200\" height=\"99.84375\"/></clipPath><clipPath class=\"axesclip\" id=\"clip372127xy25\"><rect x=\"80\" y=\"1231.5625\" width=\"221\" height=\"99.84375\"/></clipPath><clipPath class=\"axesclip\" id=\"clip372127y26\"><rect x=\"0\" y=\"1231.5625\" width=\"1200\" height=\"99.84375\"/></clipPath><clipPath class=\"axesclip\" id=\"clip372127xy26\"><rect x=\"80\" y=\"1231.5625\" width=\"221\" height=\"99.84375\"/></clipPath><clipPath class=\"axesclip\" id=\"clip372127y27\"><rect x=\"0\" y=\"1231.5625\" width=\"1200\" height=\"99.84375\"/></clipPath><clipPath class=\"axesclip\" id=\"clip372127xy27\"><rect x=\"80\" y=\"1231.5625\" width=\"221\" height=\"99.84375\"/></clipPath><clipPath class=\"axesclip\" id=\"clip372127y28\"><rect x=\"0\" y=\"1231.5625\" width=\"1200\" height=\"99.84375\"/></clipPath><clipPath class=\"axesclip\" id=\"clip372127xy28\"><rect x=\"80\" y=\"1231.5625\" width=\"221\" height=\"99.84375\"/></clipPath><clipPath class=\"axesclip\" id=\"clip372127y29\"><rect x=\"0\" y=\"1420.15625\" width=\"1200\" height=\"99.84375\"/></clipPath><clipPath class=\"axesclip\" id=\"clip372127xy29\"><rect x=\"80\" y=\"1420.15625\" width=\"221\" height=\"99.84375\"/></clipPath><clipPath class=\"axesclip\" id=\"clip372127y30\"><rect x=\"0\" y=\"1420.15625\" width=\"1200\" height=\"99.84375\"/></clipPath><clipPath class=\"axesclip\" id=\"clip372127xy30\"><rect x=\"80\" y=\"1420.15625\" width=\"221\" height=\"99.84375\"/></clipPath><clipPath class=\"axesclip\" id=\"clip372127x2\"><rect x=\"353\" y=\"0\" width=\"220.99999999999997\" height=\"1600\"/></clipPath><clipPath class=\"axesclip\" id=\"clip372127x2y\"><rect x=\"353\" y=\"100\" width=\"220.99999999999997\" height=\"99.84375\"/></clipPath><clipPath class=\"axesclip\" id=\"clip372127x2y2\"><rect x=\"353\" y=\"100\" width=\"220.99999999999997\" height=\"99.84375\"/></clipPath><clipPath class=\"axesclip\" id=\"clip372127x2y3\"><rect x=\"353\" y=\"100\" width=\"220.99999999999997\" height=\"99.84375\"/></clipPath><clipPath class=\"axesclip\" id=\"clip372127x2y4\"><rect x=\"353\" y=\"100\" width=\"220.99999999999997\" height=\"99.84375\"/></clipPath><clipPath class=\"axesclip\" id=\"clip372127x2y5\"><rect x=\"353\" y=\"288.59375\" width=\"220.99999999999997\" height=\"99.84375\"/></clipPath><clipPath class=\"axesclip\" id=\"clip372127x2y6\"><rect x=\"353\" y=\"288.59375\" width=\"220.99999999999997\" height=\"99.84375\"/></clipPath><clipPath class=\"axesclip\" id=\"clip372127x2y7\"><rect x=\"353\" y=\"288.59375\" width=\"220.99999999999997\" height=\"99.84375\"/></clipPath><clipPath class=\"axesclip\" id=\"clip372127x2y8\"><rect x=\"353\" y=\"288.59375\" width=\"220.99999999999997\" height=\"99.84375\"/></clipPath><clipPath class=\"axesclip\" id=\"clip372127x2y9\"><rect x=\"353\" y=\"477.1875\" width=\"220.99999999999997\" height=\"99.84375\"/></clipPath><clipPath class=\"axesclip\" id=\"clip372127x2y10\"><rect x=\"353\" y=\"477.1875\" width=\"220.99999999999997\" height=\"99.84375\"/></clipPath><clipPath class=\"axesclip\" id=\"clip372127x2y11\"><rect x=\"353\" y=\"477.1875\" width=\"220.99999999999997\" height=\"99.84375\"/></clipPath><clipPath class=\"axesclip\" id=\"clip372127x2y12\"><rect x=\"353\" y=\"477.1875\" width=\"220.99999999999997\" height=\"99.84375\"/></clipPath><clipPath class=\"axesclip\" id=\"clip372127x2y13\"><rect x=\"353\" y=\"665.78125\" width=\"220.99999999999997\" height=\"99.84375\"/></clipPath><clipPath class=\"axesclip\" id=\"clip372127x2y14\"><rect x=\"353\" y=\"665.78125\" width=\"220.99999999999997\" height=\"99.84375\"/></clipPath><clipPath class=\"axesclip\" id=\"clip372127x2y15\"><rect x=\"353\" y=\"665.78125\" width=\"220.99999999999997\" height=\"99.84375\"/></clipPath><clipPath class=\"axesclip\" id=\"clip372127x2y16\"><rect x=\"353\" y=\"665.78125\" width=\"220.99999999999997\" height=\"99.84375\"/></clipPath><clipPath class=\"axesclip\" id=\"clip372127x2y17\"><rect x=\"353\" y=\"854.375\" width=\"220.99999999999997\" height=\"99.84375\"/></clipPath><clipPath class=\"axesclip\" id=\"clip372127x2y18\"><rect x=\"353\" y=\"854.375\" width=\"220.99999999999997\" height=\"99.84375\"/></clipPath><clipPath class=\"axesclip\" id=\"clip372127x2y19\"><rect x=\"353\" y=\"854.375\" width=\"220.99999999999997\" height=\"99.84375\"/></clipPath><clipPath class=\"axesclip\" id=\"clip372127x2y20\"><rect x=\"353\" y=\"854.375\" width=\"220.99999999999997\" height=\"99.84375\"/></clipPath><clipPath class=\"axesclip\" id=\"clip372127x2y21\"><rect x=\"353\" y=\"1042.96875\" width=\"220.99999999999997\" height=\"99.84375\"/></clipPath><clipPath class=\"axesclip\" id=\"clip372127x2y22\"><rect x=\"353\" y=\"1042.96875\" width=\"220.99999999999997\" height=\"99.84375\"/></clipPath><clipPath class=\"axesclip\" id=\"clip372127x2y23\"><rect x=\"353\" y=\"1042.96875\" width=\"220.99999999999997\" height=\"99.84375\"/></clipPath><clipPath class=\"axesclip\" id=\"clip372127x2y24\"><rect x=\"353\" y=\"1042.96875\" width=\"220.99999999999997\" height=\"99.84375\"/></clipPath><clipPath class=\"axesclip\" id=\"clip372127x2y25\"><rect x=\"353\" y=\"1231.5625\" width=\"220.99999999999997\" height=\"99.84375\"/></clipPath><clipPath class=\"axesclip\" id=\"clip372127x2y26\"><rect x=\"353\" y=\"1231.5625\" width=\"220.99999999999997\" height=\"99.84375\"/></clipPath><clipPath class=\"axesclip\" id=\"clip372127x2y27\"><rect x=\"353\" y=\"1231.5625\" width=\"220.99999999999997\" height=\"99.84375\"/></clipPath><clipPath class=\"axesclip\" id=\"clip372127x2y28\"><rect x=\"353\" y=\"1231.5625\" width=\"220.99999999999997\" height=\"99.84375\"/></clipPath><clipPath class=\"axesclip\" id=\"clip372127x2y29\"><rect x=\"353\" y=\"1420.15625\" width=\"220.99999999999997\" height=\"99.84375\"/></clipPath><clipPath class=\"axesclip\" id=\"clip372127x2y30\"><rect x=\"353\" y=\"1420.15625\" width=\"220.99999999999997\" height=\"99.84375\"/></clipPath><clipPath class=\"axesclip\" id=\"clip372127x3\"><rect x=\"626\" y=\"0\" width=\"221.00000000000003\" height=\"1600\"/></clipPath><clipPath class=\"axesclip\" id=\"clip372127x3y\"><rect x=\"626\" y=\"100\" width=\"221.00000000000003\" height=\"99.84375\"/></clipPath><clipPath class=\"axesclip\" id=\"clip372127x3y2\"><rect x=\"626\" y=\"100\" width=\"221.00000000000003\" height=\"99.84375\"/></clipPath><clipPath class=\"axesclip\" id=\"clip372127x3y3\"><rect x=\"626\" y=\"100\" width=\"221.00000000000003\" height=\"99.84375\"/></clipPath><clipPath class=\"axesclip\" id=\"clip372127x3y4\"><rect x=\"626\" y=\"100\" width=\"221.00000000000003\" height=\"99.84375\"/></clipPath><clipPath class=\"axesclip\" id=\"clip372127x3y5\"><rect x=\"626\" y=\"288.59375\" width=\"221.00000000000003\" height=\"99.84375\"/></clipPath><clipPath class=\"axesclip\" id=\"clip372127x3y6\"><rect x=\"626\" y=\"288.59375\" width=\"221.00000000000003\" height=\"99.84375\"/></clipPath><clipPath class=\"axesclip\" id=\"clip372127x3y7\"><rect x=\"626\" y=\"288.59375\" width=\"221.00000000000003\" height=\"99.84375\"/></clipPath><clipPath class=\"axesclip\" id=\"clip372127x3y8\"><rect x=\"626\" y=\"288.59375\" width=\"221.00000000000003\" height=\"99.84375\"/></clipPath><clipPath class=\"axesclip\" id=\"clip372127x3y9\"><rect x=\"626\" y=\"477.1875\" width=\"221.00000000000003\" height=\"99.84375\"/></clipPath><clipPath class=\"axesclip\" id=\"clip372127x3y10\"><rect x=\"626\" y=\"477.1875\" width=\"221.00000000000003\" height=\"99.84375\"/></clipPath><clipPath class=\"axesclip\" id=\"clip372127x3y11\"><rect x=\"626\" y=\"477.1875\" width=\"221.00000000000003\" height=\"99.84375\"/></clipPath><clipPath class=\"axesclip\" id=\"clip372127x3y12\"><rect x=\"626\" y=\"477.1875\" width=\"221.00000000000003\" height=\"99.84375\"/></clipPath><clipPath class=\"axesclip\" id=\"clip372127x3y13\"><rect x=\"626\" y=\"665.78125\" width=\"221.00000000000003\" height=\"99.84375\"/></clipPath><clipPath class=\"axesclip\" id=\"clip372127x3y14\"><rect x=\"626\" y=\"665.78125\" width=\"221.00000000000003\" height=\"99.84375\"/></clipPath><clipPath class=\"axesclip\" id=\"clip372127x3y15\"><rect x=\"626\" y=\"665.78125\" width=\"221.00000000000003\" height=\"99.84375\"/></clipPath><clipPath class=\"axesclip\" id=\"clip372127x3y16\"><rect x=\"626\" y=\"665.78125\" width=\"221.00000000000003\" height=\"99.84375\"/></clipPath><clipPath class=\"axesclip\" id=\"clip372127x3y17\"><rect x=\"626\" y=\"854.375\" width=\"221.00000000000003\" height=\"99.84375\"/></clipPath><clipPath class=\"axesclip\" id=\"clip372127x3y18\"><rect x=\"626\" y=\"854.375\" width=\"221.00000000000003\" height=\"99.84375\"/></clipPath><clipPath class=\"axesclip\" id=\"clip372127x3y19\"><rect x=\"626\" y=\"854.375\" width=\"221.00000000000003\" height=\"99.84375\"/></clipPath><clipPath class=\"axesclip\" id=\"clip372127x3y20\"><rect x=\"626\" y=\"854.375\" width=\"221.00000000000003\" height=\"99.84375\"/></clipPath><clipPath class=\"axesclip\" id=\"clip372127x3y21\"><rect x=\"626\" y=\"1042.96875\" width=\"221.00000000000003\" height=\"99.84375\"/></clipPath><clipPath class=\"axesclip\" id=\"clip372127x3y22\"><rect x=\"626\" y=\"1042.96875\" width=\"221.00000000000003\" height=\"99.84375\"/></clipPath><clipPath class=\"axesclip\" id=\"clip372127x3y23\"><rect x=\"626\" y=\"1042.96875\" width=\"221.00000000000003\" height=\"99.84375\"/></clipPath><clipPath class=\"axesclip\" id=\"clip372127x3y24\"><rect x=\"626\" y=\"1042.96875\" width=\"221.00000000000003\" height=\"99.84375\"/></clipPath><clipPath class=\"axesclip\" id=\"clip372127x3y25\"><rect x=\"626\" y=\"1231.5625\" width=\"221.00000000000003\" height=\"99.84375\"/></clipPath><clipPath class=\"axesclip\" id=\"clip372127x3y26\"><rect x=\"626\" y=\"1231.5625\" width=\"221.00000000000003\" height=\"99.84375\"/></clipPath><clipPath class=\"axesclip\" id=\"clip372127x3y27\"><rect x=\"626\" y=\"1231.5625\" width=\"221.00000000000003\" height=\"99.84375\"/></clipPath><clipPath class=\"axesclip\" id=\"clip372127x3y28\"><rect x=\"626\" y=\"1231.5625\" width=\"221.00000000000003\" height=\"99.84375\"/></clipPath><clipPath class=\"axesclip\" id=\"clip372127x3y29\"><rect x=\"626\" y=\"1420.15625\" width=\"221.00000000000003\" height=\"99.84375\"/></clipPath><clipPath class=\"axesclip\" id=\"clip372127x3y30\"><rect x=\"626\" y=\"1420.15625\" width=\"221.00000000000003\" height=\"99.84375\"/></clipPath><clipPath class=\"axesclip\" id=\"clip372127x4\"><rect x=\"899\" y=\"0\" width=\"221.00000000000003\" height=\"1600\"/></clipPath><clipPath class=\"axesclip\" id=\"clip372127x4y\"><rect x=\"899\" y=\"100\" width=\"221.00000000000003\" height=\"99.84375\"/></clipPath><clipPath class=\"axesclip\" id=\"clip372127x4y2\"><rect x=\"899\" y=\"100\" width=\"221.00000000000003\" height=\"99.84375\"/></clipPath><clipPath class=\"axesclip\" id=\"clip372127x4y3\"><rect x=\"899\" y=\"100\" width=\"221.00000000000003\" height=\"99.84375\"/></clipPath><clipPath class=\"axesclip\" id=\"clip372127x4y4\"><rect x=\"899\" y=\"100\" width=\"221.00000000000003\" height=\"99.84375\"/></clipPath><clipPath class=\"axesclip\" id=\"clip372127x4y5\"><rect x=\"899\" y=\"288.59375\" width=\"221.00000000000003\" height=\"99.84375\"/></clipPath><clipPath class=\"axesclip\" id=\"clip372127x4y6\"><rect x=\"899\" y=\"288.59375\" width=\"221.00000000000003\" height=\"99.84375\"/></clipPath><clipPath class=\"axesclip\" id=\"clip372127x4y7\"><rect x=\"899\" y=\"288.59375\" width=\"221.00000000000003\" height=\"99.84375\"/></clipPath><clipPath class=\"axesclip\" id=\"clip372127x4y8\"><rect x=\"899\" y=\"288.59375\" width=\"221.00000000000003\" height=\"99.84375\"/></clipPath><clipPath class=\"axesclip\" id=\"clip372127x4y9\"><rect x=\"899\" y=\"477.1875\" width=\"221.00000000000003\" height=\"99.84375\"/></clipPath><clipPath class=\"axesclip\" id=\"clip372127x4y10\"><rect x=\"899\" y=\"477.1875\" width=\"221.00000000000003\" height=\"99.84375\"/></clipPath><clipPath class=\"axesclip\" id=\"clip372127x4y11\"><rect x=\"899\" y=\"477.1875\" width=\"221.00000000000003\" height=\"99.84375\"/></clipPath><clipPath class=\"axesclip\" id=\"clip372127x4y12\"><rect x=\"899\" y=\"477.1875\" width=\"221.00000000000003\" height=\"99.84375\"/></clipPath><clipPath class=\"axesclip\" id=\"clip372127x4y13\"><rect x=\"899\" y=\"665.78125\" width=\"221.00000000000003\" height=\"99.84375\"/></clipPath><clipPath class=\"axesclip\" id=\"clip372127x4y14\"><rect x=\"899\" y=\"665.78125\" width=\"221.00000000000003\" height=\"99.84375\"/></clipPath><clipPath class=\"axesclip\" id=\"clip372127x4y15\"><rect x=\"899\" y=\"665.78125\" width=\"221.00000000000003\" height=\"99.84375\"/></clipPath><clipPath class=\"axesclip\" id=\"clip372127x4y16\"><rect x=\"899\" y=\"665.78125\" width=\"221.00000000000003\" height=\"99.84375\"/></clipPath><clipPath class=\"axesclip\" id=\"clip372127x4y17\"><rect x=\"899\" y=\"854.375\" width=\"221.00000000000003\" height=\"99.84375\"/></clipPath><clipPath class=\"axesclip\" id=\"clip372127x4y18\"><rect x=\"899\" y=\"854.375\" width=\"221.00000000000003\" height=\"99.84375\"/></clipPath><clipPath class=\"axesclip\" id=\"clip372127x4y19\"><rect x=\"899\" y=\"854.375\" width=\"221.00000000000003\" height=\"99.84375\"/></clipPath><clipPath class=\"axesclip\" id=\"clip372127x4y20\"><rect x=\"899\" y=\"854.375\" width=\"221.00000000000003\" height=\"99.84375\"/></clipPath><clipPath class=\"axesclip\" id=\"clip372127x4y21\"><rect x=\"899\" y=\"1042.96875\" width=\"221.00000000000003\" height=\"99.84375\"/></clipPath><clipPath class=\"axesclip\" id=\"clip372127x4y22\"><rect x=\"899\" y=\"1042.96875\" width=\"221.00000000000003\" height=\"99.84375\"/></clipPath><clipPath class=\"axesclip\" id=\"clip372127x4y23\"><rect x=\"899\" y=\"1042.96875\" width=\"221.00000000000003\" height=\"99.84375\"/></clipPath><clipPath class=\"axesclip\" id=\"clip372127x4y24\"><rect x=\"899\" y=\"1042.96875\" width=\"221.00000000000003\" height=\"99.84375\"/></clipPath><clipPath class=\"axesclip\" id=\"clip372127x4y25\"><rect x=\"899\" y=\"1231.5625\" width=\"221.00000000000003\" height=\"99.84375\"/></clipPath><clipPath class=\"axesclip\" id=\"clip372127x4y26\"><rect x=\"899\" y=\"1231.5625\" width=\"221.00000000000003\" height=\"99.84375\"/></clipPath><clipPath class=\"axesclip\" id=\"clip372127x4y27\"><rect x=\"899\" y=\"1231.5625\" width=\"221.00000000000003\" height=\"99.84375\"/></clipPath><clipPath class=\"axesclip\" id=\"clip372127x4y28\"><rect x=\"899\" y=\"1231.5625\" width=\"221.00000000000003\" height=\"99.84375\"/></clipPath><clipPath class=\"axesclip\" id=\"clip372127x4y29\"><rect x=\"899\" y=\"1420.15625\" width=\"221.00000000000003\" height=\"99.84375\"/></clipPath><clipPath class=\"axesclip\" id=\"clip372127x4y30\"><rect x=\"899\" y=\"1420.15625\" width=\"221.00000000000003\" height=\"99.84375\"/></clipPath><clipPath class=\"axesclip\" id=\"clip372127x5\"><rect x=\"80\" y=\"0\" width=\"221\" height=\"1600\"/></clipPath><clipPath class=\"axesclip\" id=\"clip372127x5y\"><rect x=\"80\" y=\"100\" width=\"221\" height=\"99.84375\"/></clipPath><clipPath class=\"axesclip\" id=\"clip372127x5y2\"><rect x=\"80\" y=\"100\" width=\"221\" height=\"99.84375\"/></clipPath><clipPath class=\"axesclip\" id=\"clip372127x5y3\"><rect x=\"80\" y=\"100\" width=\"221\" height=\"99.84375\"/></clipPath><clipPath class=\"axesclip\" id=\"clip372127x5y4\"><rect x=\"80\" y=\"100\" width=\"221\" height=\"99.84375\"/></clipPath><clipPath class=\"axesclip\" id=\"clip372127x5y5\"><rect x=\"80\" y=\"288.59375\" width=\"221\" height=\"99.84375\"/></clipPath><clipPath class=\"axesclip\" id=\"clip372127x5y6\"><rect x=\"80\" y=\"288.59375\" width=\"221\" height=\"99.84375\"/></clipPath><clipPath class=\"axesclip\" id=\"clip372127x5y7\"><rect x=\"80\" y=\"288.59375\" width=\"221\" height=\"99.84375\"/></clipPath><clipPath class=\"axesclip\" id=\"clip372127x5y8\"><rect x=\"80\" y=\"288.59375\" width=\"221\" height=\"99.84375\"/></clipPath><clipPath class=\"axesclip\" id=\"clip372127x5y9\"><rect x=\"80\" y=\"477.1875\" width=\"221\" height=\"99.84375\"/></clipPath><clipPath class=\"axesclip\" id=\"clip372127x5y10\"><rect x=\"80\" y=\"477.1875\" width=\"221\" height=\"99.84375\"/></clipPath><clipPath class=\"axesclip\" id=\"clip372127x5y11\"><rect x=\"80\" y=\"477.1875\" width=\"221\" height=\"99.84375\"/></clipPath><clipPath class=\"axesclip\" id=\"clip372127x5y12\"><rect x=\"80\" y=\"477.1875\" width=\"221\" height=\"99.84375\"/></clipPath><clipPath class=\"axesclip\" id=\"clip372127x5y13\"><rect x=\"80\" y=\"665.78125\" width=\"221\" height=\"99.84375\"/></clipPath><clipPath class=\"axesclip\" id=\"clip372127x5y14\"><rect x=\"80\" y=\"665.78125\" width=\"221\" height=\"99.84375\"/></clipPath><clipPath class=\"axesclip\" id=\"clip372127x5y15\"><rect x=\"80\" y=\"665.78125\" width=\"221\" height=\"99.84375\"/></clipPath><clipPath class=\"axesclip\" id=\"clip372127x5y16\"><rect x=\"80\" y=\"665.78125\" width=\"221\" height=\"99.84375\"/></clipPath><clipPath class=\"axesclip\" id=\"clip372127x5y17\"><rect x=\"80\" y=\"854.375\" width=\"221\" height=\"99.84375\"/></clipPath><clipPath class=\"axesclip\" id=\"clip372127x5y18\"><rect x=\"80\" y=\"854.375\" width=\"221\" height=\"99.84375\"/></clipPath><clipPath class=\"axesclip\" id=\"clip372127x5y19\"><rect x=\"80\" y=\"854.375\" width=\"221\" height=\"99.84375\"/></clipPath><clipPath class=\"axesclip\" id=\"clip372127x5y20\"><rect x=\"80\" y=\"854.375\" width=\"221\" height=\"99.84375\"/></clipPath><clipPath class=\"axesclip\" id=\"clip372127x5y21\"><rect x=\"80\" y=\"1042.96875\" width=\"221\" height=\"99.84375\"/></clipPath><clipPath class=\"axesclip\" id=\"clip372127x5y22\"><rect x=\"80\" y=\"1042.96875\" width=\"221\" height=\"99.84375\"/></clipPath><clipPath class=\"axesclip\" id=\"clip372127x5y23\"><rect x=\"80\" y=\"1042.96875\" width=\"221\" height=\"99.84375\"/></clipPath><clipPath class=\"axesclip\" id=\"clip372127x5y24\"><rect x=\"80\" y=\"1042.96875\" width=\"221\" height=\"99.84375\"/></clipPath><clipPath class=\"axesclip\" id=\"clip372127x5y25\"><rect x=\"80\" y=\"1231.5625\" width=\"221\" height=\"99.84375\"/></clipPath><clipPath class=\"axesclip\" id=\"clip372127x5y26\"><rect x=\"80\" y=\"1231.5625\" width=\"221\" height=\"99.84375\"/></clipPath><clipPath class=\"axesclip\" id=\"clip372127x5y27\"><rect x=\"80\" y=\"1231.5625\" width=\"221\" height=\"99.84375\"/></clipPath><clipPath class=\"axesclip\" id=\"clip372127x5y28\"><rect x=\"80\" y=\"1231.5625\" width=\"221\" height=\"99.84375\"/></clipPath><clipPath class=\"axesclip\" id=\"clip372127x5y29\"><rect x=\"80\" y=\"1420.15625\" width=\"221\" height=\"99.84375\"/></clipPath><clipPath class=\"axesclip\" id=\"clip372127x5y30\"><rect x=\"80\" y=\"1420.15625\" width=\"221\" height=\"99.84375\"/></clipPath><clipPath class=\"axesclip\" id=\"clip372127x6\"><rect x=\"353\" y=\"0\" width=\"220.99999999999997\" height=\"1600\"/></clipPath><clipPath class=\"axesclip\" id=\"clip372127x6y\"><rect x=\"353\" y=\"100\" width=\"220.99999999999997\" height=\"99.84375\"/></clipPath><clipPath class=\"axesclip\" id=\"clip372127x6y2\"><rect x=\"353\" y=\"100\" width=\"220.99999999999997\" height=\"99.84375\"/></clipPath><clipPath class=\"axesclip\" id=\"clip372127x6y3\"><rect x=\"353\" y=\"100\" width=\"220.99999999999997\" height=\"99.84375\"/></clipPath><clipPath class=\"axesclip\" id=\"clip372127x6y4\"><rect x=\"353\" y=\"100\" width=\"220.99999999999997\" height=\"99.84375\"/></clipPath><clipPath class=\"axesclip\" id=\"clip372127x6y5\"><rect x=\"353\" y=\"288.59375\" width=\"220.99999999999997\" height=\"99.84375\"/></clipPath><clipPath class=\"axesclip\" id=\"clip372127x6y6\"><rect x=\"353\" y=\"288.59375\" width=\"220.99999999999997\" height=\"99.84375\"/></clipPath><clipPath class=\"axesclip\" id=\"clip372127x6y7\"><rect x=\"353\" y=\"288.59375\" width=\"220.99999999999997\" height=\"99.84375\"/></clipPath><clipPath class=\"axesclip\" id=\"clip372127x6y8\"><rect x=\"353\" y=\"288.59375\" width=\"220.99999999999997\" height=\"99.84375\"/></clipPath><clipPath class=\"axesclip\" id=\"clip372127x6y9\"><rect x=\"353\" y=\"477.1875\" width=\"220.99999999999997\" height=\"99.84375\"/></clipPath><clipPath class=\"axesclip\" id=\"clip372127x6y10\"><rect x=\"353\" y=\"477.1875\" width=\"220.99999999999997\" height=\"99.84375\"/></clipPath><clipPath class=\"axesclip\" id=\"clip372127x6y11\"><rect x=\"353\" y=\"477.1875\" width=\"220.99999999999997\" height=\"99.84375\"/></clipPath><clipPath class=\"axesclip\" id=\"clip372127x6y12\"><rect x=\"353\" y=\"477.1875\" width=\"220.99999999999997\" height=\"99.84375\"/></clipPath><clipPath class=\"axesclip\" id=\"clip372127x6y13\"><rect x=\"353\" y=\"665.78125\" width=\"220.99999999999997\" height=\"99.84375\"/></clipPath><clipPath class=\"axesclip\" id=\"clip372127x6y14\"><rect x=\"353\" y=\"665.78125\" width=\"220.99999999999997\" height=\"99.84375\"/></clipPath><clipPath class=\"axesclip\" id=\"clip372127x6y15\"><rect x=\"353\" y=\"665.78125\" width=\"220.99999999999997\" height=\"99.84375\"/></clipPath><clipPath class=\"axesclip\" id=\"clip372127x6y16\"><rect x=\"353\" y=\"665.78125\" width=\"220.99999999999997\" height=\"99.84375\"/></clipPath><clipPath class=\"axesclip\" id=\"clip372127x6y17\"><rect x=\"353\" y=\"854.375\" width=\"220.99999999999997\" height=\"99.84375\"/></clipPath><clipPath class=\"axesclip\" id=\"clip372127x6y18\"><rect x=\"353\" y=\"854.375\" width=\"220.99999999999997\" height=\"99.84375\"/></clipPath><clipPath class=\"axesclip\" id=\"clip372127x6y19\"><rect x=\"353\" y=\"854.375\" width=\"220.99999999999997\" height=\"99.84375\"/></clipPath><clipPath class=\"axesclip\" id=\"clip372127x6y20\"><rect x=\"353\" y=\"854.375\" width=\"220.99999999999997\" height=\"99.84375\"/></clipPath><clipPath class=\"axesclip\" id=\"clip372127x6y21\"><rect x=\"353\" y=\"1042.96875\" width=\"220.99999999999997\" height=\"99.84375\"/></clipPath><clipPath class=\"axesclip\" id=\"clip372127x6y22\"><rect x=\"353\" y=\"1042.96875\" width=\"220.99999999999997\" height=\"99.84375\"/></clipPath><clipPath class=\"axesclip\" id=\"clip372127x6y23\"><rect x=\"353\" y=\"1042.96875\" width=\"220.99999999999997\" height=\"99.84375\"/></clipPath><clipPath class=\"axesclip\" id=\"clip372127x6y24\"><rect x=\"353\" y=\"1042.96875\" width=\"220.99999999999997\" height=\"99.84375\"/></clipPath><clipPath class=\"axesclip\" id=\"clip372127x6y25\"><rect x=\"353\" y=\"1231.5625\" width=\"220.99999999999997\" height=\"99.84375\"/></clipPath><clipPath class=\"axesclip\" id=\"clip372127x6y26\"><rect x=\"353\" y=\"1231.5625\" width=\"220.99999999999997\" height=\"99.84375\"/></clipPath><clipPath class=\"axesclip\" id=\"clip372127x6y27\"><rect x=\"353\" y=\"1231.5625\" width=\"220.99999999999997\" height=\"99.84375\"/></clipPath><clipPath class=\"axesclip\" id=\"clip372127x6y28\"><rect x=\"353\" y=\"1231.5625\" width=\"220.99999999999997\" height=\"99.84375\"/></clipPath><clipPath class=\"axesclip\" id=\"clip372127x6y29\"><rect x=\"353\" y=\"1420.15625\" width=\"220.99999999999997\" height=\"99.84375\"/></clipPath><clipPath class=\"axesclip\" id=\"clip372127x6y30\"><rect x=\"353\" y=\"1420.15625\" width=\"220.99999999999997\" height=\"99.84375\"/></clipPath><clipPath class=\"axesclip\" id=\"clip372127x7\"><rect x=\"626\" y=\"0\" width=\"221.00000000000003\" height=\"1600\"/></clipPath><clipPath class=\"axesclip\" id=\"clip372127x7y\"><rect x=\"626\" y=\"100\" width=\"221.00000000000003\" height=\"99.84375\"/></clipPath><clipPath class=\"axesclip\" id=\"clip372127x7y2\"><rect x=\"626\" y=\"100\" width=\"221.00000000000003\" height=\"99.84375\"/></clipPath><clipPath class=\"axesclip\" id=\"clip372127x7y3\"><rect x=\"626\" y=\"100\" width=\"221.00000000000003\" height=\"99.84375\"/></clipPath><clipPath class=\"axesclip\" id=\"clip372127x7y4\"><rect x=\"626\" y=\"100\" width=\"221.00000000000003\" height=\"99.84375\"/></clipPath><clipPath class=\"axesclip\" id=\"clip372127x7y5\"><rect x=\"626\" y=\"288.59375\" width=\"221.00000000000003\" height=\"99.84375\"/></clipPath><clipPath class=\"axesclip\" id=\"clip372127x7y6\"><rect x=\"626\" y=\"288.59375\" width=\"221.00000000000003\" height=\"99.84375\"/></clipPath><clipPath class=\"axesclip\" id=\"clip372127x7y7\"><rect x=\"626\" y=\"288.59375\" width=\"221.00000000000003\" height=\"99.84375\"/></clipPath><clipPath class=\"axesclip\" id=\"clip372127x7y8\"><rect x=\"626\" y=\"288.59375\" width=\"221.00000000000003\" height=\"99.84375\"/></clipPath><clipPath class=\"axesclip\" id=\"clip372127x7y9\"><rect x=\"626\" y=\"477.1875\" width=\"221.00000000000003\" height=\"99.84375\"/></clipPath><clipPath class=\"axesclip\" id=\"clip372127x7y10\"><rect x=\"626\" y=\"477.1875\" width=\"221.00000000000003\" height=\"99.84375\"/></clipPath><clipPath class=\"axesclip\" id=\"clip372127x7y11\"><rect x=\"626\" y=\"477.1875\" width=\"221.00000000000003\" height=\"99.84375\"/></clipPath><clipPath class=\"axesclip\" id=\"clip372127x7y12\"><rect x=\"626\" y=\"477.1875\" width=\"221.00000000000003\" height=\"99.84375\"/></clipPath><clipPath class=\"axesclip\" id=\"clip372127x7y13\"><rect x=\"626\" y=\"665.78125\" width=\"221.00000000000003\" height=\"99.84375\"/></clipPath><clipPath class=\"axesclip\" id=\"clip372127x7y14\"><rect x=\"626\" y=\"665.78125\" width=\"221.00000000000003\" height=\"99.84375\"/></clipPath><clipPath class=\"axesclip\" id=\"clip372127x7y15\"><rect x=\"626\" y=\"665.78125\" width=\"221.00000000000003\" height=\"99.84375\"/></clipPath><clipPath class=\"axesclip\" id=\"clip372127x7y16\"><rect x=\"626\" y=\"665.78125\" width=\"221.00000000000003\" height=\"99.84375\"/></clipPath><clipPath class=\"axesclip\" id=\"clip372127x7y17\"><rect x=\"626\" y=\"854.375\" width=\"221.00000000000003\" height=\"99.84375\"/></clipPath><clipPath class=\"axesclip\" id=\"clip372127x7y18\"><rect x=\"626\" y=\"854.375\" width=\"221.00000000000003\" height=\"99.84375\"/></clipPath><clipPath class=\"axesclip\" id=\"clip372127x7y19\"><rect x=\"626\" y=\"854.375\" width=\"221.00000000000003\" height=\"99.84375\"/></clipPath><clipPath class=\"axesclip\" id=\"clip372127x7y20\"><rect x=\"626\" y=\"854.375\" width=\"221.00000000000003\" height=\"99.84375\"/></clipPath><clipPath class=\"axesclip\" id=\"clip372127x7y21\"><rect x=\"626\" y=\"1042.96875\" width=\"221.00000000000003\" height=\"99.84375\"/></clipPath><clipPath class=\"axesclip\" id=\"clip372127x7y22\"><rect x=\"626\" y=\"1042.96875\" width=\"221.00000000000003\" height=\"99.84375\"/></clipPath><clipPath class=\"axesclip\" id=\"clip372127x7y23\"><rect x=\"626\" y=\"1042.96875\" width=\"221.00000000000003\" height=\"99.84375\"/></clipPath><clipPath class=\"axesclip\" id=\"clip372127x7y24\"><rect x=\"626\" y=\"1042.96875\" width=\"221.00000000000003\" height=\"99.84375\"/></clipPath><clipPath class=\"axesclip\" id=\"clip372127x7y25\"><rect x=\"626\" y=\"1231.5625\" width=\"221.00000000000003\" height=\"99.84375\"/></clipPath><clipPath class=\"axesclip\" id=\"clip372127x7y26\"><rect x=\"626\" y=\"1231.5625\" width=\"221.00000000000003\" height=\"99.84375\"/></clipPath><clipPath class=\"axesclip\" id=\"clip372127x7y27\"><rect x=\"626\" y=\"1231.5625\" width=\"221.00000000000003\" height=\"99.84375\"/></clipPath><clipPath class=\"axesclip\" id=\"clip372127x7y28\"><rect x=\"626\" y=\"1231.5625\" width=\"221.00000000000003\" height=\"99.84375\"/></clipPath><clipPath class=\"axesclip\" id=\"clip372127x7y29\"><rect x=\"626\" y=\"1420.15625\" width=\"221.00000000000003\" height=\"99.84375\"/></clipPath><clipPath class=\"axesclip\" id=\"clip372127x7y30\"><rect x=\"626\" y=\"1420.15625\" width=\"221.00000000000003\" height=\"99.84375\"/></clipPath><clipPath class=\"axesclip\" id=\"clip372127x8\"><rect x=\"899\" y=\"0\" width=\"221.00000000000003\" height=\"1600\"/></clipPath><clipPath class=\"axesclip\" id=\"clip372127x8y\"><rect x=\"899\" y=\"100\" width=\"221.00000000000003\" height=\"99.84375\"/></clipPath><clipPath class=\"axesclip\" id=\"clip372127x8y2\"><rect x=\"899\" y=\"100\" width=\"221.00000000000003\" height=\"99.84375\"/></clipPath><clipPath class=\"axesclip\" id=\"clip372127x8y3\"><rect x=\"899\" y=\"100\" width=\"221.00000000000003\" height=\"99.84375\"/></clipPath><clipPath class=\"axesclip\" id=\"clip372127x8y4\"><rect x=\"899\" y=\"100\" width=\"221.00000000000003\" height=\"99.84375\"/></clipPath><clipPath class=\"axesclip\" id=\"clip372127x8y5\"><rect x=\"899\" y=\"288.59375\" width=\"221.00000000000003\" height=\"99.84375\"/></clipPath><clipPath class=\"axesclip\" id=\"clip372127x8y6\"><rect x=\"899\" y=\"288.59375\" width=\"221.00000000000003\" height=\"99.84375\"/></clipPath><clipPath class=\"axesclip\" id=\"clip372127x8y7\"><rect x=\"899\" y=\"288.59375\" width=\"221.00000000000003\" height=\"99.84375\"/></clipPath><clipPath class=\"axesclip\" id=\"clip372127x8y8\"><rect x=\"899\" y=\"288.59375\" width=\"221.00000000000003\" height=\"99.84375\"/></clipPath><clipPath class=\"axesclip\" id=\"clip372127x8y9\"><rect x=\"899\" y=\"477.1875\" width=\"221.00000000000003\" height=\"99.84375\"/></clipPath><clipPath class=\"axesclip\" id=\"clip372127x8y10\"><rect x=\"899\" y=\"477.1875\" width=\"221.00000000000003\" height=\"99.84375\"/></clipPath><clipPath class=\"axesclip\" id=\"clip372127x8y11\"><rect x=\"899\" y=\"477.1875\" width=\"221.00000000000003\" height=\"99.84375\"/></clipPath><clipPath class=\"axesclip\" id=\"clip372127x8y12\"><rect x=\"899\" y=\"477.1875\" width=\"221.00000000000003\" height=\"99.84375\"/></clipPath><clipPath class=\"axesclip\" id=\"clip372127x8y13\"><rect x=\"899\" y=\"665.78125\" width=\"221.00000000000003\" height=\"99.84375\"/></clipPath><clipPath class=\"axesclip\" id=\"clip372127x8y14\"><rect x=\"899\" y=\"665.78125\" width=\"221.00000000000003\" height=\"99.84375\"/></clipPath><clipPath class=\"axesclip\" id=\"clip372127x8y15\"><rect x=\"899\" y=\"665.78125\" width=\"221.00000000000003\" height=\"99.84375\"/></clipPath><clipPath class=\"axesclip\" id=\"clip372127x8y16\"><rect x=\"899\" y=\"665.78125\" width=\"221.00000000000003\" height=\"99.84375\"/></clipPath><clipPath class=\"axesclip\" id=\"clip372127x8y17\"><rect x=\"899\" y=\"854.375\" width=\"221.00000000000003\" height=\"99.84375\"/></clipPath><clipPath class=\"axesclip\" id=\"clip372127x8y18\"><rect x=\"899\" y=\"854.375\" width=\"221.00000000000003\" height=\"99.84375\"/></clipPath><clipPath class=\"axesclip\" id=\"clip372127x8y19\"><rect x=\"899\" y=\"854.375\" width=\"221.00000000000003\" height=\"99.84375\"/></clipPath><clipPath class=\"axesclip\" id=\"clip372127x8y20\"><rect x=\"899\" y=\"854.375\" width=\"221.00000000000003\" height=\"99.84375\"/></clipPath><clipPath class=\"axesclip\" id=\"clip372127x8y21\"><rect x=\"899\" y=\"1042.96875\" width=\"221.00000000000003\" height=\"99.84375\"/></clipPath><clipPath class=\"axesclip\" id=\"clip372127x8y22\"><rect x=\"899\" y=\"1042.96875\" width=\"221.00000000000003\" height=\"99.84375\"/></clipPath><clipPath class=\"axesclip\" id=\"clip372127x8y23\"><rect x=\"899\" y=\"1042.96875\" width=\"221.00000000000003\" height=\"99.84375\"/></clipPath><clipPath class=\"axesclip\" id=\"clip372127x8y24\"><rect x=\"899\" y=\"1042.96875\" width=\"221.00000000000003\" height=\"99.84375\"/></clipPath><clipPath class=\"axesclip\" id=\"clip372127x8y25\"><rect x=\"899\" y=\"1231.5625\" width=\"221.00000000000003\" height=\"99.84375\"/></clipPath><clipPath class=\"axesclip\" id=\"clip372127x8y26\"><rect x=\"899\" y=\"1231.5625\" width=\"221.00000000000003\" height=\"99.84375\"/></clipPath><clipPath class=\"axesclip\" id=\"clip372127x8y27\"><rect x=\"899\" y=\"1231.5625\" width=\"221.00000000000003\" height=\"99.84375\"/></clipPath><clipPath class=\"axesclip\" id=\"clip372127x8y28\"><rect x=\"899\" y=\"1231.5625\" width=\"221.00000000000003\" height=\"99.84375\"/></clipPath><clipPath class=\"axesclip\" id=\"clip372127x8y29\"><rect x=\"899\" y=\"1420.15625\" width=\"221.00000000000003\" height=\"99.84375\"/></clipPath><clipPath class=\"axesclip\" id=\"clip372127x8y30\"><rect x=\"899\" y=\"1420.15625\" width=\"221.00000000000003\" height=\"99.84375\"/></clipPath><clipPath class=\"axesclip\" id=\"clip372127x9\"><rect x=\"80\" y=\"0\" width=\"221\" height=\"1600\"/></clipPath><clipPath class=\"axesclip\" id=\"clip372127x9y\"><rect x=\"80\" y=\"100\" width=\"221\" height=\"99.84375\"/></clipPath><clipPath class=\"axesclip\" id=\"clip372127x9y2\"><rect x=\"80\" y=\"100\" width=\"221\" height=\"99.84375\"/></clipPath><clipPath class=\"axesclip\" id=\"clip372127x9y3\"><rect x=\"80\" y=\"100\" width=\"221\" height=\"99.84375\"/></clipPath><clipPath class=\"axesclip\" id=\"clip372127x9y4\"><rect x=\"80\" y=\"100\" width=\"221\" height=\"99.84375\"/></clipPath><clipPath class=\"axesclip\" id=\"clip372127x9y5\"><rect x=\"80\" y=\"288.59375\" width=\"221\" height=\"99.84375\"/></clipPath><clipPath class=\"axesclip\" id=\"clip372127x9y6\"><rect x=\"80\" y=\"288.59375\" width=\"221\" height=\"99.84375\"/></clipPath><clipPath class=\"axesclip\" id=\"clip372127x9y7\"><rect x=\"80\" y=\"288.59375\" width=\"221\" height=\"99.84375\"/></clipPath><clipPath class=\"axesclip\" id=\"clip372127x9y8\"><rect x=\"80\" y=\"288.59375\" width=\"221\" height=\"99.84375\"/></clipPath><clipPath class=\"axesclip\" id=\"clip372127x9y9\"><rect x=\"80\" y=\"477.1875\" width=\"221\" height=\"99.84375\"/></clipPath><clipPath class=\"axesclip\" id=\"clip372127x9y10\"><rect x=\"80\" y=\"477.1875\" width=\"221\" height=\"99.84375\"/></clipPath><clipPath class=\"axesclip\" id=\"clip372127x9y11\"><rect x=\"80\" y=\"477.1875\" width=\"221\" height=\"99.84375\"/></clipPath><clipPath class=\"axesclip\" id=\"clip372127x9y12\"><rect x=\"80\" y=\"477.1875\" width=\"221\" height=\"99.84375\"/></clipPath><clipPath class=\"axesclip\" id=\"clip372127x9y13\"><rect x=\"80\" y=\"665.78125\" width=\"221\" height=\"99.84375\"/></clipPath><clipPath class=\"axesclip\" id=\"clip372127x9y14\"><rect x=\"80\" y=\"665.78125\" width=\"221\" height=\"99.84375\"/></clipPath><clipPath class=\"axesclip\" id=\"clip372127x9y15\"><rect x=\"80\" y=\"665.78125\" width=\"221\" height=\"99.84375\"/></clipPath><clipPath class=\"axesclip\" id=\"clip372127x9y16\"><rect x=\"80\" y=\"665.78125\" width=\"221\" height=\"99.84375\"/></clipPath><clipPath class=\"axesclip\" id=\"clip372127x9y17\"><rect x=\"80\" y=\"854.375\" width=\"221\" height=\"99.84375\"/></clipPath><clipPath class=\"axesclip\" id=\"clip372127x9y18\"><rect x=\"80\" y=\"854.375\" width=\"221\" height=\"99.84375\"/></clipPath><clipPath class=\"axesclip\" id=\"clip372127x9y19\"><rect x=\"80\" y=\"854.375\" width=\"221\" height=\"99.84375\"/></clipPath><clipPath class=\"axesclip\" id=\"clip372127x9y20\"><rect x=\"80\" y=\"854.375\" width=\"221\" height=\"99.84375\"/></clipPath><clipPath class=\"axesclip\" id=\"clip372127x9y21\"><rect x=\"80\" y=\"1042.96875\" width=\"221\" height=\"99.84375\"/></clipPath><clipPath class=\"axesclip\" id=\"clip372127x9y22\"><rect x=\"80\" y=\"1042.96875\" width=\"221\" height=\"99.84375\"/></clipPath><clipPath class=\"axesclip\" id=\"clip372127x9y23\"><rect x=\"80\" y=\"1042.96875\" width=\"221\" height=\"99.84375\"/></clipPath><clipPath class=\"axesclip\" id=\"clip372127x9y24\"><rect x=\"80\" y=\"1042.96875\" width=\"221\" height=\"99.84375\"/></clipPath><clipPath class=\"axesclip\" id=\"clip372127x9y25\"><rect x=\"80\" y=\"1231.5625\" width=\"221\" height=\"99.84375\"/></clipPath><clipPath class=\"axesclip\" id=\"clip372127x9y26\"><rect x=\"80\" y=\"1231.5625\" width=\"221\" height=\"99.84375\"/></clipPath><clipPath class=\"axesclip\" id=\"clip372127x9y27\"><rect x=\"80\" y=\"1231.5625\" width=\"221\" height=\"99.84375\"/></clipPath><clipPath class=\"axesclip\" id=\"clip372127x9y28\"><rect x=\"80\" y=\"1231.5625\" width=\"221\" height=\"99.84375\"/></clipPath><clipPath class=\"axesclip\" id=\"clip372127x9y29\"><rect x=\"80\" y=\"1420.15625\" width=\"221\" height=\"99.84375\"/></clipPath><clipPath class=\"axesclip\" id=\"clip372127x9y30\"><rect x=\"80\" y=\"1420.15625\" width=\"221\" height=\"99.84375\"/></clipPath><clipPath class=\"axesclip\" id=\"clip372127x10\"><rect x=\"353\" y=\"0\" width=\"220.99999999999997\" height=\"1600\"/></clipPath><clipPath class=\"axesclip\" id=\"clip372127x10y\"><rect x=\"353\" y=\"100\" width=\"220.99999999999997\" height=\"99.84375\"/></clipPath><clipPath class=\"axesclip\" id=\"clip372127x10y2\"><rect x=\"353\" y=\"100\" width=\"220.99999999999997\" height=\"99.84375\"/></clipPath><clipPath class=\"axesclip\" id=\"clip372127x10y3\"><rect x=\"353\" y=\"100\" width=\"220.99999999999997\" height=\"99.84375\"/></clipPath><clipPath class=\"axesclip\" id=\"clip372127x10y4\"><rect x=\"353\" y=\"100\" width=\"220.99999999999997\" height=\"99.84375\"/></clipPath><clipPath class=\"axesclip\" id=\"clip372127x10y5\"><rect x=\"353\" y=\"288.59375\" width=\"220.99999999999997\" height=\"99.84375\"/></clipPath><clipPath class=\"axesclip\" id=\"clip372127x10y6\"><rect x=\"353\" y=\"288.59375\" width=\"220.99999999999997\" height=\"99.84375\"/></clipPath><clipPath class=\"axesclip\" id=\"clip372127x10y7\"><rect x=\"353\" y=\"288.59375\" width=\"220.99999999999997\" height=\"99.84375\"/></clipPath><clipPath class=\"axesclip\" id=\"clip372127x10y8\"><rect x=\"353\" y=\"288.59375\" width=\"220.99999999999997\" height=\"99.84375\"/></clipPath><clipPath class=\"axesclip\" id=\"clip372127x10y9\"><rect x=\"353\" y=\"477.1875\" width=\"220.99999999999997\" height=\"99.84375\"/></clipPath><clipPath class=\"axesclip\" id=\"clip372127x10y10\"><rect x=\"353\" y=\"477.1875\" width=\"220.99999999999997\" height=\"99.84375\"/></clipPath><clipPath class=\"axesclip\" id=\"clip372127x10y11\"><rect x=\"353\" y=\"477.1875\" width=\"220.99999999999997\" height=\"99.84375\"/></clipPath><clipPath class=\"axesclip\" id=\"clip372127x10y12\"><rect x=\"353\" y=\"477.1875\" width=\"220.99999999999997\" height=\"99.84375\"/></clipPath><clipPath class=\"axesclip\" id=\"clip372127x10y13\"><rect x=\"353\" y=\"665.78125\" width=\"220.99999999999997\" height=\"99.84375\"/></clipPath><clipPath class=\"axesclip\" id=\"clip372127x10y14\"><rect x=\"353\" y=\"665.78125\" width=\"220.99999999999997\" height=\"99.84375\"/></clipPath><clipPath class=\"axesclip\" id=\"clip372127x10y15\"><rect x=\"353\" y=\"665.78125\" width=\"220.99999999999997\" height=\"99.84375\"/></clipPath><clipPath class=\"axesclip\" id=\"clip372127x10y16\"><rect x=\"353\" y=\"665.78125\" width=\"220.99999999999997\" height=\"99.84375\"/></clipPath><clipPath class=\"axesclip\" id=\"clip372127x10y17\"><rect x=\"353\" y=\"854.375\" width=\"220.99999999999997\" height=\"99.84375\"/></clipPath><clipPath class=\"axesclip\" id=\"clip372127x10y18\"><rect x=\"353\" y=\"854.375\" width=\"220.99999999999997\" height=\"99.84375\"/></clipPath><clipPath class=\"axesclip\" id=\"clip372127x10y19\"><rect x=\"353\" y=\"854.375\" width=\"220.99999999999997\" height=\"99.84375\"/></clipPath><clipPath class=\"axesclip\" id=\"clip372127x10y20\"><rect x=\"353\" y=\"854.375\" width=\"220.99999999999997\" height=\"99.84375\"/></clipPath><clipPath class=\"axesclip\" id=\"clip372127x10y21\"><rect x=\"353\" y=\"1042.96875\" width=\"220.99999999999997\" height=\"99.84375\"/></clipPath><clipPath class=\"axesclip\" id=\"clip372127x10y22\"><rect x=\"353\" y=\"1042.96875\" width=\"220.99999999999997\" height=\"99.84375\"/></clipPath><clipPath class=\"axesclip\" id=\"clip372127x10y23\"><rect x=\"353\" y=\"1042.96875\" width=\"220.99999999999997\" height=\"99.84375\"/></clipPath><clipPath class=\"axesclip\" id=\"clip372127x10y24\"><rect x=\"353\" y=\"1042.96875\" width=\"220.99999999999997\" height=\"99.84375\"/></clipPath><clipPath class=\"axesclip\" id=\"clip372127x10y25\"><rect x=\"353\" y=\"1231.5625\" width=\"220.99999999999997\" height=\"99.84375\"/></clipPath><clipPath class=\"axesclip\" id=\"clip372127x10y26\"><rect x=\"353\" y=\"1231.5625\" width=\"220.99999999999997\" height=\"99.84375\"/></clipPath><clipPath class=\"axesclip\" id=\"clip372127x10y27\"><rect x=\"353\" y=\"1231.5625\" width=\"220.99999999999997\" height=\"99.84375\"/></clipPath><clipPath class=\"axesclip\" id=\"clip372127x10y28\"><rect x=\"353\" y=\"1231.5625\" width=\"220.99999999999997\" height=\"99.84375\"/></clipPath><clipPath class=\"axesclip\" id=\"clip372127x10y29\"><rect x=\"353\" y=\"1420.15625\" width=\"220.99999999999997\" height=\"99.84375\"/></clipPath><clipPath class=\"axesclip\" id=\"clip372127x10y30\"><rect x=\"353\" y=\"1420.15625\" width=\"220.99999999999997\" height=\"99.84375\"/></clipPath><clipPath class=\"axesclip\" id=\"clip372127x11\"><rect x=\"626\" y=\"0\" width=\"221.00000000000003\" height=\"1600\"/></clipPath><clipPath class=\"axesclip\" id=\"clip372127x11y\"><rect x=\"626\" y=\"100\" width=\"221.00000000000003\" height=\"99.84375\"/></clipPath><clipPath class=\"axesclip\" id=\"clip372127x11y2\"><rect x=\"626\" y=\"100\" width=\"221.00000000000003\" height=\"99.84375\"/></clipPath><clipPath class=\"axesclip\" id=\"clip372127x11y3\"><rect x=\"626\" y=\"100\" width=\"221.00000000000003\" height=\"99.84375\"/></clipPath><clipPath class=\"axesclip\" id=\"clip372127x11y4\"><rect x=\"626\" y=\"100\" width=\"221.00000000000003\" height=\"99.84375\"/></clipPath><clipPath class=\"axesclip\" id=\"clip372127x11y5\"><rect x=\"626\" y=\"288.59375\" width=\"221.00000000000003\" height=\"99.84375\"/></clipPath><clipPath class=\"axesclip\" id=\"clip372127x11y6\"><rect x=\"626\" y=\"288.59375\" width=\"221.00000000000003\" height=\"99.84375\"/></clipPath><clipPath class=\"axesclip\" id=\"clip372127x11y7\"><rect x=\"626\" y=\"288.59375\" width=\"221.00000000000003\" height=\"99.84375\"/></clipPath><clipPath class=\"axesclip\" id=\"clip372127x11y8\"><rect x=\"626\" y=\"288.59375\" width=\"221.00000000000003\" height=\"99.84375\"/></clipPath><clipPath class=\"axesclip\" id=\"clip372127x11y9\"><rect x=\"626\" y=\"477.1875\" width=\"221.00000000000003\" height=\"99.84375\"/></clipPath><clipPath class=\"axesclip\" id=\"clip372127x11y10\"><rect x=\"626\" y=\"477.1875\" width=\"221.00000000000003\" height=\"99.84375\"/></clipPath><clipPath class=\"axesclip\" id=\"clip372127x11y11\"><rect x=\"626\" y=\"477.1875\" width=\"221.00000000000003\" height=\"99.84375\"/></clipPath><clipPath class=\"axesclip\" id=\"clip372127x11y12\"><rect x=\"626\" y=\"477.1875\" width=\"221.00000000000003\" height=\"99.84375\"/></clipPath><clipPath class=\"axesclip\" id=\"clip372127x11y13\"><rect x=\"626\" y=\"665.78125\" width=\"221.00000000000003\" height=\"99.84375\"/></clipPath><clipPath class=\"axesclip\" id=\"clip372127x11y14\"><rect x=\"626\" y=\"665.78125\" width=\"221.00000000000003\" height=\"99.84375\"/></clipPath><clipPath class=\"axesclip\" id=\"clip372127x11y15\"><rect x=\"626\" y=\"665.78125\" width=\"221.00000000000003\" height=\"99.84375\"/></clipPath><clipPath class=\"axesclip\" id=\"clip372127x11y16\"><rect x=\"626\" y=\"665.78125\" width=\"221.00000000000003\" height=\"99.84375\"/></clipPath><clipPath class=\"axesclip\" id=\"clip372127x11y17\"><rect x=\"626\" y=\"854.375\" width=\"221.00000000000003\" height=\"99.84375\"/></clipPath><clipPath class=\"axesclip\" id=\"clip372127x11y18\"><rect x=\"626\" y=\"854.375\" width=\"221.00000000000003\" height=\"99.84375\"/></clipPath><clipPath class=\"axesclip\" id=\"clip372127x11y19\"><rect x=\"626\" y=\"854.375\" width=\"221.00000000000003\" height=\"99.84375\"/></clipPath><clipPath class=\"axesclip\" id=\"clip372127x11y20\"><rect x=\"626\" y=\"854.375\" width=\"221.00000000000003\" height=\"99.84375\"/></clipPath><clipPath class=\"axesclip\" id=\"clip372127x11y21\"><rect x=\"626\" y=\"1042.96875\" width=\"221.00000000000003\" height=\"99.84375\"/></clipPath><clipPath class=\"axesclip\" id=\"clip372127x11y22\"><rect x=\"626\" y=\"1042.96875\" width=\"221.00000000000003\" height=\"99.84375\"/></clipPath><clipPath class=\"axesclip\" id=\"clip372127x11y23\"><rect x=\"626\" y=\"1042.96875\" width=\"221.00000000000003\" height=\"99.84375\"/></clipPath><clipPath class=\"axesclip\" id=\"clip372127x11y24\"><rect x=\"626\" y=\"1042.96875\" width=\"221.00000000000003\" height=\"99.84375\"/></clipPath><clipPath class=\"axesclip\" id=\"clip372127x11y25\"><rect x=\"626\" y=\"1231.5625\" width=\"221.00000000000003\" height=\"99.84375\"/></clipPath><clipPath class=\"axesclip\" id=\"clip372127x11y26\"><rect x=\"626\" y=\"1231.5625\" width=\"221.00000000000003\" height=\"99.84375\"/></clipPath><clipPath class=\"axesclip\" id=\"clip372127x11y27\"><rect x=\"626\" y=\"1231.5625\" width=\"221.00000000000003\" height=\"99.84375\"/></clipPath><clipPath class=\"axesclip\" id=\"clip372127x11y28\"><rect x=\"626\" y=\"1231.5625\" width=\"221.00000000000003\" height=\"99.84375\"/></clipPath><clipPath class=\"axesclip\" id=\"clip372127x11y29\"><rect x=\"626\" y=\"1420.15625\" width=\"221.00000000000003\" height=\"99.84375\"/></clipPath><clipPath class=\"axesclip\" id=\"clip372127x11y30\"><rect x=\"626\" y=\"1420.15625\" width=\"221.00000000000003\" height=\"99.84375\"/></clipPath><clipPath class=\"axesclip\" id=\"clip372127x12\"><rect x=\"899\" y=\"0\" width=\"221.00000000000003\" height=\"1600\"/></clipPath><clipPath class=\"axesclip\" id=\"clip372127x12y\"><rect x=\"899\" y=\"100\" width=\"221.00000000000003\" height=\"99.84375\"/></clipPath><clipPath class=\"axesclip\" id=\"clip372127x12y2\"><rect x=\"899\" y=\"100\" width=\"221.00000000000003\" height=\"99.84375\"/></clipPath><clipPath class=\"axesclip\" id=\"clip372127x12y3\"><rect x=\"899\" y=\"100\" width=\"221.00000000000003\" height=\"99.84375\"/></clipPath><clipPath class=\"axesclip\" id=\"clip372127x12y4\"><rect x=\"899\" y=\"100\" width=\"221.00000000000003\" height=\"99.84375\"/></clipPath><clipPath class=\"axesclip\" id=\"clip372127x12y5\"><rect x=\"899\" y=\"288.59375\" width=\"221.00000000000003\" height=\"99.84375\"/></clipPath><clipPath class=\"axesclip\" id=\"clip372127x12y6\"><rect x=\"899\" y=\"288.59375\" width=\"221.00000000000003\" height=\"99.84375\"/></clipPath><clipPath class=\"axesclip\" id=\"clip372127x12y7\"><rect x=\"899\" y=\"288.59375\" width=\"221.00000000000003\" height=\"99.84375\"/></clipPath><clipPath class=\"axesclip\" id=\"clip372127x12y8\"><rect x=\"899\" y=\"288.59375\" width=\"221.00000000000003\" height=\"99.84375\"/></clipPath><clipPath class=\"axesclip\" id=\"clip372127x12y9\"><rect x=\"899\" y=\"477.1875\" width=\"221.00000000000003\" height=\"99.84375\"/></clipPath><clipPath class=\"axesclip\" id=\"clip372127x12y10\"><rect x=\"899\" y=\"477.1875\" width=\"221.00000000000003\" height=\"99.84375\"/></clipPath><clipPath class=\"axesclip\" id=\"clip372127x12y11\"><rect x=\"899\" y=\"477.1875\" width=\"221.00000000000003\" height=\"99.84375\"/></clipPath><clipPath class=\"axesclip\" id=\"clip372127x12y12\"><rect x=\"899\" y=\"477.1875\" width=\"221.00000000000003\" height=\"99.84375\"/></clipPath><clipPath class=\"axesclip\" id=\"clip372127x12y13\"><rect x=\"899\" y=\"665.78125\" width=\"221.00000000000003\" height=\"99.84375\"/></clipPath><clipPath class=\"axesclip\" id=\"clip372127x12y14\"><rect x=\"899\" y=\"665.78125\" width=\"221.00000000000003\" height=\"99.84375\"/></clipPath><clipPath class=\"axesclip\" id=\"clip372127x12y15\"><rect x=\"899\" y=\"665.78125\" width=\"221.00000000000003\" height=\"99.84375\"/></clipPath><clipPath class=\"axesclip\" id=\"clip372127x12y16\"><rect x=\"899\" y=\"665.78125\" width=\"221.00000000000003\" height=\"99.84375\"/></clipPath><clipPath class=\"axesclip\" id=\"clip372127x12y17\"><rect x=\"899\" y=\"854.375\" width=\"221.00000000000003\" height=\"99.84375\"/></clipPath><clipPath class=\"axesclip\" id=\"clip372127x12y18\"><rect x=\"899\" y=\"854.375\" width=\"221.00000000000003\" height=\"99.84375\"/></clipPath><clipPath class=\"axesclip\" id=\"clip372127x12y19\"><rect x=\"899\" y=\"854.375\" width=\"221.00000000000003\" height=\"99.84375\"/></clipPath><clipPath class=\"axesclip\" id=\"clip372127x12y20\"><rect x=\"899\" y=\"854.375\" width=\"221.00000000000003\" height=\"99.84375\"/></clipPath><clipPath class=\"axesclip\" id=\"clip372127x12y21\"><rect x=\"899\" y=\"1042.96875\" width=\"221.00000000000003\" height=\"99.84375\"/></clipPath><clipPath class=\"axesclip\" id=\"clip372127x12y22\"><rect x=\"899\" y=\"1042.96875\" width=\"221.00000000000003\" height=\"99.84375\"/></clipPath><clipPath class=\"axesclip\" id=\"clip372127x12y23\"><rect x=\"899\" y=\"1042.96875\" width=\"221.00000000000003\" height=\"99.84375\"/></clipPath><clipPath class=\"axesclip\" id=\"clip372127x12y24\"><rect x=\"899\" y=\"1042.96875\" width=\"221.00000000000003\" height=\"99.84375\"/></clipPath><clipPath class=\"axesclip\" id=\"clip372127x12y25\"><rect x=\"899\" y=\"1231.5625\" width=\"221.00000000000003\" height=\"99.84375\"/></clipPath><clipPath class=\"axesclip\" id=\"clip372127x12y26\"><rect x=\"899\" y=\"1231.5625\" width=\"221.00000000000003\" height=\"99.84375\"/></clipPath><clipPath class=\"axesclip\" id=\"clip372127x12y27\"><rect x=\"899\" y=\"1231.5625\" width=\"221.00000000000003\" height=\"99.84375\"/></clipPath><clipPath class=\"axesclip\" id=\"clip372127x12y28\"><rect x=\"899\" y=\"1231.5625\" width=\"221.00000000000003\" height=\"99.84375\"/></clipPath><clipPath class=\"axesclip\" id=\"clip372127x12y29\"><rect x=\"899\" y=\"1420.15625\" width=\"221.00000000000003\" height=\"99.84375\"/></clipPath><clipPath class=\"axesclip\" id=\"clip372127x12y30\"><rect x=\"899\" y=\"1420.15625\" width=\"221.00000000000003\" height=\"99.84375\"/></clipPath><clipPath class=\"axesclip\" id=\"clip372127x13\"><rect x=\"80\" y=\"0\" width=\"221\" height=\"1600\"/></clipPath><clipPath class=\"axesclip\" id=\"clip372127x13y\"><rect x=\"80\" y=\"100\" width=\"221\" height=\"99.84375\"/></clipPath><clipPath class=\"axesclip\" id=\"clip372127x13y2\"><rect x=\"80\" y=\"100\" width=\"221\" height=\"99.84375\"/></clipPath><clipPath class=\"axesclip\" id=\"clip372127x13y3\"><rect x=\"80\" y=\"100\" width=\"221\" height=\"99.84375\"/></clipPath><clipPath class=\"axesclip\" id=\"clip372127x13y4\"><rect x=\"80\" y=\"100\" width=\"221\" height=\"99.84375\"/></clipPath><clipPath class=\"axesclip\" id=\"clip372127x13y5\"><rect x=\"80\" y=\"288.59375\" width=\"221\" height=\"99.84375\"/></clipPath><clipPath class=\"axesclip\" id=\"clip372127x13y6\"><rect x=\"80\" y=\"288.59375\" width=\"221\" height=\"99.84375\"/></clipPath><clipPath class=\"axesclip\" id=\"clip372127x13y7\"><rect x=\"80\" y=\"288.59375\" width=\"221\" height=\"99.84375\"/></clipPath><clipPath class=\"axesclip\" id=\"clip372127x13y8\"><rect x=\"80\" y=\"288.59375\" width=\"221\" height=\"99.84375\"/></clipPath><clipPath class=\"axesclip\" id=\"clip372127x13y9\"><rect x=\"80\" y=\"477.1875\" width=\"221\" height=\"99.84375\"/></clipPath><clipPath class=\"axesclip\" id=\"clip372127x13y10\"><rect x=\"80\" y=\"477.1875\" width=\"221\" height=\"99.84375\"/></clipPath><clipPath class=\"axesclip\" id=\"clip372127x13y11\"><rect x=\"80\" y=\"477.1875\" width=\"221\" height=\"99.84375\"/></clipPath><clipPath class=\"axesclip\" id=\"clip372127x13y12\"><rect x=\"80\" y=\"477.1875\" width=\"221\" height=\"99.84375\"/></clipPath><clipPath class=\"axesclip\" id=\"clip372127x13y13\"><rect x=\"80\" y=\"665.78125\" width=\"221\" height=\"99.84375\"/></clipPath><clipPath class=\"axesclip\" id=\"clip372127x13y14\"><rect x=\"80\" y=\"665.78125\" width=\"221\" height=\"99.84375\"/></clipPath><clipPath class=\"axesclip\" id=\"clip372127x13y15\"><rect x=\"80\" y=\"665.78125\" width=\"221\" height=\"99.84375\"/></clipPath><clipPath class=\"axesclip\" id=\"clip372127x13y16\"><rect x=\"80\" y=\"665.78125\" width=\"221\" height=\"99.84375\"/></clipPath><clipPath class=\"axesclip\" id=\"clip372127x13y17\"><rect x=\"80\" y=\"854.375\" width=\"221\" height=\"99.84375\"/></clipPath><clipPath class=\"axesclip\" id=\"clip372127x13y18\"><rect x=\"80\" y=\"854.375\" width=\"221\" height=\"99.84375\"/></clipPath><clipPath class=\"axesclip\" id=\"clip372127x13y19\"><rect x=\"80\" y=\"854.375\" width=\"221\" height=\"99.84375\"/></clipPath><clipPath class=\"axesclip\" id=\"clip372127x13y20\"><rect x=\"80\" y=\"854.375\" width=\"221\" height=\"99.84375\"/></clipPath><clipPath class=\"axesclip\" id=\"clip372127x13y21\"><rect x=\"80\" y=\"1042.96875\" width=\"221\" height=\"99.84375\"/></clipPath><clipPath class=\"axesclip\" id=\"clip372127x13y22\"><rect x=\"80\" y=\"1042.96875\" width=\"221\" height=\"99.84375\"/></clipPath><clipPath class=\"axesclip\" id=\"clip372127x13y23\"><rect x=\"80\" y=\"1042.96875\" width=\"221\" height=\"99.84375\"/></clipPath><clipPath class=\"axesclip\" id=\"clip372127x13y24\"><rect x=\"80\" y=\"1042.96875\" width=\"221\" height=\"99.84375\"/></clipPath><clipPath class=\"axesclip\" id=\"clip372127x13y25\"><rect x=\"80\" y=\"1231.5625\" width=\"221\" height=\"99.84375\"/></clipPath><clipPath class=\"axesclip\" id=\"clip372127x13y26\"><rect x=\"80\" y=\"1231.5625\" width=\"221\" height=\"99.84375\"/></clipPath><clipPath class=\"axesclip\" id=\"clip372127x13y27\"><rect x=\"80\" y=\"1231.5625\" width=\"221\" height=\"99.84375\"/></clipPath><clipPath class=\"axesclip\" id=\"clip372127x13y28\"><rect x=\"80\" y=\"1231.5625\" width=\"221\" height=\"99.84375\"/></clipPath><clipPath class=\"axesclip\" id=\"clip372127x13y29\"><rect x=\"80\" y=\"1420.15625\" width=\"221\" height=\"99.84375\"/></clipPath><clipPath class=\"axesclip\" id=\"clip372127x13y30\"><rect x=\"80\" y=\"1420.15625\" width=\"221\" height=\"99.84375\"/></clipPath><clipPath class=\"axesclip\" id=\"clip372127x14\"><rect x=\"353\" y=\"0\" width=\"220.99999999999997\" height=\"1600\"/></clipPath><clipPath class=\"axesclip\" id=\"clip372127x14y\"><rect x=\"353\" y=\"100\" width=\"220.99999999999997\" height=\"99.84375\"/></clipPath><clipPath class=\"axesclip\" id=\"clip372127x14y2\"><rect x=\"353\" y=\"100\" width=\"220.99999999999997\" height=\"99.84375\"/></clipPath><clipPath class=\"axesclip\" id=\"clip372127x14y3\"><rect x=\"353\" y=\"100\" width=\"220.99999999999997\" height=\"99.84375\"/></clipPath><clipPath class=\"axesclip\" id=\"clip372127x14y4\"><rect x=\"353\" y=\"100\" width=\"220.99999999999997\" height=\"99.84375\"/></clipPath><clipPath class=\"axesclip\" id=\"clip372127x14y5\"><rect x=\"353\" y=\"288.59375\" width=\"220.99999999999997\" height=\"99.84375\"/></clipPath><clipPath class=\"axesclip\" id=\"clip372127x14y6\"><rect x=\"353\" y=\"288.59375\" width=\"220.99999999999997\" height=\"99.84375\"/></clipPath><clipPath class=\"axesclip\" id=\"clip372127x14y7\"><rect x=\"353\" y=\"288.59375\" width=\"220.99999999999997\" height=\"99.84375\"/></clipPath><clipPath class=\"axesclip\" id=\"clip372127x14y8\"><rect x=\"353\" y=\"288.59375\" width=\"220.99999999999997\" height=\"99.84375\"/></clipPath><clipPath class=\"axesclip\" id=\"clip372127x14y9\"><rect x=\"353\" y=\"477.1875\" width=\"220.99999999999997\" height=\"99.84375\"/></clipPath><clipPath class=\"axesclip\" id=\"clip372127x14y10\"><rect x=\"353\" y=\"477.1875\" width=\"220.99999999999997\" height=\"99.84375\"/></clipPath><clipPath class=\"axesclip\" id=\"clip372127x14y11\"><rect x=\"353\" y=\"477.1875\" width=\"220.99999999999997\" height=\"99.84375\"/></clipPath><clipPath class=\"axesclip\" id=\"clip372127x14y12\"><rect x=\"353\" y=\"477.1875\" width=\"220.99999999999997\" height=\"99.84375\"/></clipPath><clipPath class=\"axesclip\" id=\"clip372127x14y13\"><rect x=\"353\" y=\"665.78125\" width=\"220.99999999999997\" height=\"99.84375\"/></clipPath><clipPath class=\"axesclip\" id=\"clip372127x14y14\"><rect x=\"353\" y=\"665.78125\" width=\"220.99999999999997\" height=\"99.84375\"/></clipPath><clipPath class=\"axesclip\" id=\"clip372127x14y15\"><rect x=\"353\" y=\"665.78125\" width=\"220.99999999999997\" height=\"99.84375\"/></clipPath><clipPath class=\"axesclip\" id=\"clip372127x14y16\"><rect x=\"353\" y=\"665.78125\" width=\"220.99999999999997\" height=\"99.84375\"/></clipPath><clipPath class=\"axesclip\" id=\"clip372127x14y17\"><rect x=\"353\" y=\"854.375\" width=\"220.99999999999997\" height=\"99.84375\"/></clipPath><clipPath class=\"axesclip\" id=\"clip372127x14y18\"><rect x=\"353\" y=\"854.375\" width=\"220.99999999999997\" height=\"99.84375\"/></clipPath><clipPath class=\"axesclip\" id=\"clip372127x14y19\"><rect x=\"353\" y=\"854.375\" width=\"220.99999999999997\" height=\"99.84375\"/></clipPath><clipPath class=\"axesclip\" id=\"clip372127x14y20\"><rect x=\"353\" y=\"854.375\" width=\"220.99999999999997\" height=\"99.84375\"/></clipPath><clipPath class=\"axesclip\" id=\"clip372127x14y21\"><rect x=\"353\" y=\"1042.96875\" width=\"220.99999999999997\" height=\"99.84375\"/></clipPath><clipPath class=\"axesclip\" id=\"clip372127x14y22\"><rect x=\"353\" y=\"1042.96875\" width=\"220.99999999999997\" height=\"99.84375\"/></clipPath><clipPath class=\"axesclip\" id=\"clip372127x14y23\"><rect x=\"353\" y=\"1042.96875\" width=\"220.99999999999997\" height=\"99.84375\"/></clipPath><clipPath class=\"axesclip\" id=\"clip372127x14y24\"><rect x=\"353\" y=\"1042.96875\" width=\"220.99999999999997\" height=\"99.84375\"/></clipPath><clipPath class=\"axesclip\" id=\"clip372127x14y25\"><rect x=\"353\" y=\"1231.5625\" width=\"220.99999999999997\" height=\"99.84375\"/></clipPath><clipPath class=\"axesclip\" id=\"clip372127x14y26\"><rect x=\"353\" y=\"1231.5625\" width=\"220.99999999999997\" height=\"99.84375\"/></clipPath><clipPath class=\"axesclip\" id=\"clip372127x14y27\"><rect x=\"353\" y=\"1231.5625\" width=\"220.99999999999997\" height=\"99.84375\"/></clipPath><clipPath class=\"axesclip\" id=\"clip372127x14y28\"><rect x=\"353\" y=\"1231.5625\" width=\"220.99999999999997\" height=\"99.84375\"/></clipPath><clipPath class=\"axesclip\" id=\"clip372127x14y29\"><rect x=\"353\" y=\"1420.15625\" width=\"220.99999999999997\" height=\"99.84375\"/></clipPath><clipPath class=\"axesclip\" id=\"clip372127x14y30\"><rect x=\"353\" y=\"1420.15625\" width=\"220.99999999999997\" height=\"99.84375\"/></clipPath><clipPath class=\"axesclip\" id=\"clip372127x15\"><rect x=\"626\" y=\"0\" width=\"221.00000000000003\" height=\"1600\"/></clipPath><clipPath class=\"axesclip\" id=\"clip372127x15y\"><rect x=\"626\" y=\"100\" width=\"221.00000000000003\" height=\"99.84375\"/></clipPath><clipPath class=\"axesclip\" id=\"clip372127x15y2\"><rect x=\"626\" y=\"100\" width=\"221.00000000000003\" height=\"99.84375\"/></clipPath><clipPath class=\"axesclip\" id=\"clip372127x15y3\"><rect x=\"626\" y=\"100\" width=\"221.00000000000003\" height=\"99.84375\"/></clipPath><clipPath class=\"axesclip\" id=\"clip372127x15y4\"><rect x=\"626\" y=\"100\" width=\"221.00000000000003\" height=\"99.84375\"/></clipPath><clipPath class=\"axesclip\" id=\"clip372127x15y5\"><rect x=\"626\" y=\"288.59375\" width=\"221.00000000000003\" height=\"99.84375\"/></clipPath><clipPath class=\"axesclip\" id=\"clip372127x15y6\"><rect x=\"626\" y=\"288.59375\" width=\"221.00000000000003\" height=\"99.84375\"/></clipPath><clipPath class=\"axesclip\" id=\"clip372127x15y7\"><rect x=\"626\" y=\"288.59375\" width=\"221.00000000000003\" height=\"99.84375\"/></clipPath><clipPath class=\"axesclip\" id=\"clip372127x15y8\"><rect x=\"626\" y=\"288.59375\" width=\"221.00000000000003\" height=\"99.84375\"/></clipPath><clipPath class=\"axesclip\" id=\"clip372127x15y9\"><rect x=\"626\" y=\"477.1875\" width=\"221.00000000000003\" height=\"99.84375\"/></clipPath><clipPath class=\"axesclip\" id=\"clip372127x15y10\"><rect x=\"626\" y=\"477.1875\" width=\"221.00000000000003\" height=\"99.84375\"/></clipPath><clipPath class=\"axesclip\" id=\"clip372127x15y11\"><rect x=\"626\" y=\"477.1875\" width=\"221.00000000000003\" height=\"99.84375\"/></clipPath><clipPath class=\"axesclip\" id=\"clip372127x15y12\"><rect x=\"626\" y=\"477.1875\" width=\"221.00000000000003\" height=\"99.84375\"/></clipPath><clipPath class=\"axesclip\" id=\"clip372127x15y13\"><rect x=\"626\" y=\"665.78125\" width=\"221.00000000000003\" height=\"99.84375\"/></clipPath><clipPath class=\"axesclip\" id=\"clip372127x15y14\"><rect x=\"626\" y=\"665.78125\" width=\"221.00000000000003\" height=\"99.84375\"/></clipPath><clipPath class=\"axesclip\" id=\"clip372127x15y15\"><rect x=\"626\" y=\"665.78125\" width=\"221.00000000000003\" height=\"99.84375\"/></clipPath><clipPath class=\"axesclip\" id=\"clip372127x15y16\"><rect x=\"626\" y=\"665.78125\" width=\"221.00000000000003\" height=\"99.84375\"/></clipPath><clipPath class=\"axesclip\" id=\"clip372127x15y17\"><rect x=\"626\" y=\"854.375\" width=\"221.00000000000003\" height=\"99.84375\"/></clipPath><clipPath class=\"axesclip\" id=\"clip372127x15y18\"><rect x=\"626\" y=\"854.375\" width=\"221.00000000000003\" height=\"99.84375\"/></clipPath><clipPath class=\"axesclip\" id=\"clip372127x15y19\"><rect x=\"626\" y=\"854.375\" width=\"221.00000000000003\" height=\"99.84375\"/></clipPath><clipPath class=\"axesclip\" id=\"clip372127x15y20\"><rect x=\"626\" y=\"854.375\" width=\"221.00000000000003\" height=\"99.84375\"/></clipPath><clipPath class=\"axesclip\" id=\"clip372127x15y21\"><rect x=\"626\" y=\"1042.96875\" width=\"221.00000000000003\" height=\"99.84375\"/></clipPath><clipPath class=\"axesclip\" id=\"clip372127x15y22\"><rect x=\"626\" y=\"1042.96875\" width=\"221.00000000000003\" height=\"99.84375\"/></clipPath><clipPath class=\"axesclip\" id=\"clip372127x15y23\"><rect x=\"626\" y=\"1042.96875\" width=\"221.00000000000003\" height=\"99.84375\"/></clipPath><clipPath class=\"axesclip\" id=\"clip372127x15y24\"><rect x=\"626\" y=\"1042.96875\" width=\"221.00000000000003\" height=\"99.84375\"/></clipPath><clipPath class=\"axesclip\" id=\"clip372127x15y25\"><rect x=\"626\" y=\"1231.5625\" width=\"221.00000000000003\" height=\"99.84375\"/></clipPath><clipPath class=\"axesclip\" id=\"clip372127x15y26\"><rect x=\"626\" y=\"1231.5625\" width=\"221.00000000000003\" height=\"99.84375\"/></clipPath><clipPath class=\"axesclip\" id=\"clip372127x15y27\"><rect x=\"626\" y=\"1231.5625\" width=\"221.00000000000003\" height=\"99.84375\"/></clipPath><clipPath class=\"axesclip\" id=\"clip372127x15y28\"><rect x=\"626\" y=\"1231.5625\" width=\"221.00000000000003\" height=\"99.84375\"/></clipPath><clipPath class=\"axesclip\" id=\"clip372127x15y29\"><rect x=\"626\" y=\"1420.15625\" width=\"221.00000000000003\" height=\"99.84375\"/></clipPath><clipPath class=\"axesclip\" id=\"clip372127x15y30\"><rect x=\"626\" y=\"1420.15625\" width=\"221.00000000000003\" height=\"99.84375\"/></clipPath><clipPath class=\"axesclip\" id=\"clip372127x16\"><rect x=\"899\" y=\"0\" width=\"221.00000000000003\" height=\"1600\"/></clipPath><clipPath class=\"axesclip\" id=\"clip372127x16y\"><rect x=\"899\" y=\"100\" width=\"221.00000000000003\" height=\"99.84375\"/></clipPath><clipPath class=\"axesclip\" id=\"clip372127x16y2\"><rect x=\"899\" y=\"100\" width=\"221.00000000000003\" height=\"99.84375\"/></clipPath><clipPath class=\"axesclip\" id=\"clip372127x16y3\"><rect x=\"899\" y=\"100\" width=\"221.00000000000003\" height=\"99.84375\"/></clipPath><clipPath class=\"axesclip\" id=\"clip372127x16y4\"><rect x=\"899\" y=\"100\" width=\"221.00000000000003\" height=\"99.84375\"/></clipPath><clipPath class=\"axesclip\" id=\"clip372127x16y5\"><rect x=\"899\" y=\"288.59375\" width=\"221.00000000000003\" height=\"99.84375\"/></clipPath><clipPath class=\"axesclip\" id=\"clip372127x16y6\"><rect x=\"899\" y=\"288.59375\" width=\"221.00000000000003\" height=\"99.84375\"/></clipPath><clipPath class=\"axesclip\" id=\"clip372127x16y7\"><rect x=\"899\" y=\"288.59375\" width=\"221.00000000000003\" height=\"99.84375\"/></clipPath><clipPath class=\"axesclip\" id=\"clip372127x16y8\"><rect x=\"899\" y=\"288.59375\" width=\"221.00000000000003\" height=\"99.84375\"/></clipPath><clipPath class=\"axesclip\" id=\"clip372127x16y9\"><rect x=\"899\" y=\"477.1875\" width=\"221.00000000000003\" height=\"99.84375\"/></clipPath><clipPath class=\"axesclip\" id=\"clip372127x16y10\"><rect x=\"899\" y=\"477.1875\" width=\"221.00000000000003\" height=\"99.84375\"/></clipPath><clipPath class=\"axesclip\" id=\"clip372127x16y11\"><rect x=\"899\" y=\"477.1875\" width=\"221.00000000000003\" height=\"99.84375\"/></clipPath><clipPath class=\"axesclip\" id=\"clip372127x16y12\"><rect x=\"899\" y=\"477.1875\" width=\"221.00000000000003\" height=\"99.84375\"/></clipPath><clipPath class=\"axesclip\" id=\"clip372127x16y13\"><rect x=\"899\" y=\"665.78125\" width=\"221.00000000000003\" height=\"99.84375\"/></clipPath><clipPath class=\"axesclip\" id=\"clip372127x16y14\"><rect x=\"899\" y=\"665.78125\" width=\"221.00000000000003\" height=\"99.84375\"/></clipPath><clipPath class=\"axesclip\" id=\"clip372127x16y15\"><rect x=\"899\" y=\"665.78125\" width=\"221.00000000000003\" height=\"99.84375\"/></clipPath><clipPath class=\"axesclip\" id=\"clip372127x16y16\"><rect x=\"899\" y=\"665.78125\" width=\"221.00000000000003\" height=\"99.84375\"/></clipPath><clipPath class=\"axesclip\" id=\"clip372127x16y17\"><rect x=\"899\" y=\"854.375\" width=\"221.00000000000003\" height=\"99.84375\"/></clipPath><clipPath class=\"axesclip\" id=\"clip372127x16y18\"><rect x=\"899\" y=\"854.375\" width=\"221.00000000000003\" height=\"99.84375\"/></clipPath><clipPath class=\"axesclip\" id=\"clip372127x16y19\"><rect x=\"899\" y=\"854.375\" width=\"221.00000000000003\" height=\"99.84375\"/></clipPath><clipPath class=\"axesclip\" id=\"clip372127x16y20\"><rect x=\"899\" y=\"854.375\" width=\"221.00000000000003\" height=\"99.84375\"/></clipPath><clipPath class=\"axesclip\" id=\"clip372127x16y21\"><rect x=\"899\" y=\"1042.96875\" width=\"221.00000000000003\" height=\"99.84375\"/></clipPath><clipPath class=\"axesclip\" id=\"clip372127x16y22\"><rect x=\"899\" y=\"1042.96875\" width=\"221.00000000000003\" height=\"99.84375\"/></clipPath><clipPath class=\"axesclip\" id=\"clip372127x16y23\"><rect x=\"899\" y=\"1042.96875\" width=\"221.00000000000003\" height=\"99.84375\"/></clipPath><clipPath class=\"axesclip\" id=\"clip372127x16y24\"><rect x=\"899\" y=\"1042.96875\" width=\"221.00000000000003\" height=\"99.84375\"/></clipPath><clipPath class=\"axesclip\" id=\"clip372127x16y25\"><rect x=\"899\" y=\"1231.5625\" width=\"221.00000000000003\" height=\"99.84375\"/></clipPath><clipPath class=\"axesclip\" id=\"clip372127x16y26\"><rect x=\"899\" y=\"1231.5625\" width=\"221.00000000000003\" height=\"99.84375\"/></clipPath><clipPath class=\"axesclip\" id=\"clip372127x16y27\"><rect x=\"899\" y=\"1231.5625\" width=\"221.00000000000003\" height=\"99.84375\"/></clipPath><clipPath class=\"axesclip\" id=\"clip372127x16y28\"><rect x=\"899\" y=\"1231.5625\" width=\"221.00000000000003\" height=\"99.84375\"/></clipPath><clipPath class=\"axesclip\" id=\"clip372127x16y29\"><rect x=\"899\" y=\"1420.15625\" width=\"221.00000000000003\" height=\"99.84375\"/></clipPath><clipPath class=\"axesclip\" id=\"clip372127x16y30\"><rect x=\"899\" y=\"1420.15625\" width=\"221.00000000000003\" height=\"99.84375\"/></clipPath><clipPath class=\"axesclip\" id=\"clip372127x17\"><rect x=\"80\" y=\"0\" width=\"221\" height=\"1600\"/></clipPath><clipPath class=\"axesclip\" id=\"clip372127x17y\"><rect x=\"80\" y=\"100\" width=\"221\" height=\"99.84375\"/></clipPath><clipPath class=\"axesclip\" id=\"clip372127x17y2\"><rect x=\"80\" y=\"100\" width=\"221\" height=\"99.84375\"/></clipPath><clipPath class=\"axesclip\" id=\"clip372127x17y3\"><rect x=\"80\" y=\"100\" width=\"221\" height=\"99.84375\"/></clipPath><clipPath class=\"axesclip\" id=\"clip372127x17y4\"><rect x=\"80\" y=\"100\" width=\"221\" height=\"99.84375\"/></clipPath><clipPath class=\"axesclip\" id=\"clip372127x17y5\"><rect x=\"80\" y=\"288.59375\" width=\"221\" height=\"99.84375\"/></clipPath><clipPath class=\"axesclip\" id=\"clip372127x17y6\"><rect x=\"80\" y=\"288.59375\" width=\"221\" height=\"99.84375\"/></clipPath><clipPath class=\"axesclip\" id=\"clip372127x17y7\"><rect x=\"80\" y=\"288.59375\" width=\"221\" height=\"99.84375\"/></clipPath><clipPath class=\"axesclip\" id=\"clip372127x17y8\"><rect x=\"80\" y=\"288.59375\" width=\"221\" height=\"99.84375\"/></clipPath><clipPath class=\"axesclip\" id=\"clip372127x17y9\"><rect x=\"80\" y=\"477.1875\" width=\"221\" height=\"99.84375\"/></clipPath><clipPath class=\"axesclip\" id=\"clip372127x17y10\"><rect x=\"80\" y=\"477.1875\" width=\"221\" height=\"99.84375\"/></clipPath><clipPath class=\"axesclip\" id=\"clip372127x17y11\"><rect x=\"80\" y=\"477.1875\" width=\"221\" height=\"99.84375\"/></clipPath><clipPath class=\"axesclip\" id=\"clip372127x17y12\"><rect x=\"80\" y=\"477.1875\" width=\"221\" height=\"99.84375\"/></clipPath><clipPath class=\"axesclip\" id=\"clip372127x17y13\"><rect x=\"80\" y=\"665.78125\" width=\"221\" height=\"99.84375\"/></clipPath><clipPath class=\"axesclip\" id=\"clip372127x17y14\"><rect x=\"80\" y=\"665.78125\" width=\"221\" height=\"99.84375\"/></clipPath><clipPath class=\"axesclip\" id=\"clip372127x17y15\"><rect x=\"80\" y=\"665.78125\" width=\"221\" height=\"99.84375\"/></clipPath><clipPath class=\"axesclip\" id=\"clip372127x17y16\"><rect x=\"80\" y=\"665.78125\" width=\"221\" height=\"99.84375\"/></clipPath><clipPath class=\"axesclip\" id=\"clip372127x17y17\"><rect x=\"80\" y=\"854.375\" width=\"221\" height=\"99.84375\"/></clipPath><clipPath class=\"axesclip\" id=\"clip372127x17y18\"><rect x=\"80\" y=\"854.375\" width=\"221\" height=\"99.84375\"/></clipPath><clipPath class=\"axesclip\" id=\"clip372127x17y19\"><rect x=\"80\" y=\"854.375\" width=\"221\" height=\"99.84375\"/></clipPath><clipPath class=\"axesclip\" id=\"clip372127x17y20\"><rect x=\"80\" y=\"854.375\" width=\"221\" height=\"99.84375\"/></clipPath><clipPath class=\"axesclip\" id=\"clip372127x17y21\"><rect x=\"80\" y=\"1042.96875\" width=\"221\" height=\"99.84375\"/></clipPath><clipPath class=\"axesclip\" id=\"clip372127x17y22\"><rect x=\"80\" y=\"1042.96875\" width=\"221\" height=\"99.84375\"/></clipPath><clipPath class=\"axesclip\" id=\"clip372127x17y23\"><rect x=\"80\" y=\"1042.96875\" width=\"221\" height=\"99.84375\"/></clipPath><clipPath class=\"axesclip\" id=\"clip372127x17y24\"><rect x=\"80\" y=\"1042.96875\" width=\"221\" height=\"99.84375\"/></clipPath><clipPath class=\"axesclip\" id=\"clip372127x17y25\"><rect x=\"80\" y=\"1231.5625\" width=\"221\" height=\"99.84375\"/></clipPath><clipPath class=\"axesclip\" id=\"clip372127x17y26\"><rect x=\"80\" y=\"1231.5625\" width=\"221\" height=\"99.84375\"/></clipPath><clipPath class=\"axesclip\" id=\"clip372127x17y27\"><rect x=\"80\" y=\"1231.5625\" width=\"221\" height=\"99.84375\"/></clipPath><clipPath class=\"axesclip\" id=\"clip372127x17y28\"><rect x=\"80\" y=\"1231.5625\" width=\"221\" height=\"99.84375\"/></clipPath><clipPath class=\"axesclip\" id=\"clip372127x17y29\"><rect x=\"80\" y=\"1420.15625\" width=\"221\" height=\"99.84375\"/></clipPath><clipPath class=\"axesclip\" id=\"clip372127x17y30\"><rect x=\"80\" y=\"1420.15625\" width=\"221\" height=\"99.84375\"/></clipPath><clipPath class=\"axesclip\" id=\"clip372127x18\"><rect x=\"353\" y=\"0\" width=\"220.99999999999997\" height=\"1600\"/></clipPath><clipPath class=\"axesclip\" id=\"clip372127x18y\"><rect x=\"353\" y=\"100\" width=\"220.99999999999997\" height=\"99.84375\"/></clipPath><clipPath class=\"axesclip\" id=\"clip372127x18y2\"><rect x=\"353\" y=\"100\" width=\"220.99999999999997\" height=\"99.84375\"/></clipPath><clipPath class=\"axesclip\" id=\"clip372127x18y3\"><rect x=\"353\" y=\"100\" width=\"220.99999999999997\" height=\"99.84375\"/></clipPath><clipPath class=\"axesclip\" id=\"clip372127x18y4\"><rect x=\"353\" y=\"100\" width=\"220.99999999999997\" height=\"99.84375\"/></clipPath><clipPath class=\"axesclip\" id=\"clip372127x18y5\"><rect x=\"353\" y=\"288.59375\" width=\"220.99999999999997\" height=\"99.84375\"/></clipPath><clipPath class=\"axesclip\" id=\"clip372127x18y6\"><rect x=\"353\" y=\"288.59375\" width=\"220.99999999999997\" height=\"99.84375\"/></clipPath><clipPath class=\"axesclip\" id=\"clip372127x18y7\"><rect x=\"353\" y=\"288.59375\" width=\"220.99999999999997\" height=\"99.84375\"/></clipPath><clipPath class=\"axesclip\" id=\"clip372127x18y8\"><rect x=\"353\" y=\"288.59375\" width=\"220.99999999999997\" height=\"99.84375\"/></clipPath><clipPath class=\"axesclip\" id=\"clip372127x18y9\"><rect x=\"353\" y=\"477.1875\" width=\"220.99999999999997\" height=\"99.84375\"/></clipPath><clipPath class=\"axesclip\" id=\"clip372127x18y10\"><rect x=\"353\" y=\"477.1875\" width=\"220.99999999999997\" height=\"99.84375\"/></clipPath><clipPath class=\"axesclip\" id=\"clip372127x18y11\"><rect x=\"353\" y=\"477.1875\" width=\"220.99999999999997\" height=\"99.84375\"/></clipPath><clipPath class=\"axesclip\" id=\"clip372127x18y12\"><rect x=\"353\" y=\"477.1875\" width=\"220.99999999999997\" height=\"99.84375\"/></clipPath><clipPath class=\"axesclip\" id=\"clip372127x18y13\"><rect x=\"353\" y=\"665.78125\" width=\"220.99999999999997\" height=\"99.84375\"/></clipPath><clipPath class=\"axesclip\" id=\"clip372127x18y14\"><rect x=\"353\" y=\"665.78125\" width=\"220.99999999999997\" height=\"99.84375\"/></clipPath><clipPath class=\"axesclip\" id=\"clip372127x18y15\"><rect x=\"353\" y=\"665.78125\" width=\"220.99999999999997\" height=\"99.84375\"/></clipPath><clipPath class=\"axesclip\" id=\"clip372127x18y16\"><rect x=\"353\" y=\"665.78125\" width=\"220.99999999999997\" height=\"99.84375\"/></clipPath><clipPath class=\"axesclip\" id=\"clip372127x18y17\"><rect x=\"353\" y=\"854.375\" width=\"220.99999999999997\" height=\"99.84375\"/></clipPath><clipPath class=\"axesclip\" id=\"clip372127x18y18\"><rect x=\"353\" y=\"854.375\" width=\"220.99999999999997\" height=\"99.84375\"/></clipPath><clipPath class=\"axesclip\" id=\"clip372127x18y19\"><rect x=\"353\" y=\"854.375\" width=\"220.99999999999997\" height=\"99.84375\"/></clipPath><clipPath class=\"axesclip\" id=\"clip372127x18y20\"><rect x=\"353\" y=\"854.375\" width=\"220.99999999999997\" height=\"99.84375\"/></clipPath><clipPath class=\"axesclip\" id=\"clip372127x18y21\"><rect x=\"353\" y=\"1042.96875\" width=\"220.99999999999997\" height=\"99.84375\"/></clipPath><clipPath class=\"axesclip\" id=\"clip372127x18y22\"><rect x=\"353\" y=\"1042.96875\" width=\"220.99999999999997\" height=\"99.84375\"/></clipPath><clipPath class=\"axesclip\" id=\"clip372127x18y23\"><rect x=\"353\" y=\"1042.96875\" width=\"220.99999999999997\" height=\"99.84375\"/></clipPath><clipPath class=\"axesclip\" id=\"clip372127x18y24\"><rect x=\"353\" y=\"1042.96875\" width=\"220.99999999999997\" height=\"99.84375\"/></clipPath><clipPath class=\"axesclip\" id=\"clip372127x18y25\"><rect x=\"353\" y=\"1231.5625\" width=\"220.99999999999997\" height=\"99.84375\"/></clipPath><clipPath class=\"axesclip\" id=\"clip372127x18y26\"><rect x=\"353\" y=\"1231.5625\" width=\"220.99999999999997\" height=\"99.84375\"/></clipPath><clipPath class=\"axesclip\" id=\"clip372127x18y27\"><rect x=\"353\" y=\"1231.5625\" width=\"220.99999999999997\" height=\"99.84375\"/></clipPath><clipPath class=\"axesclip\" id=\"clip372127x18y28\"><rect x=\"353\" y=\"1231.5625\" width=\"220.99999999999997\" height=\"99.84375\"/></clipPath><clipPath class=\"axesclip\" id=\"clip372127x18y29\"><rect x=\"353\" y=\"1420.15625\" width=\"220.99999999999997\" height=\"99.84375\"/></clipPath><clipPath class=\"axesclip\" id=\"clip372127x18y30\"><rect x=\"353\" y=\"1420.15625\" width=\"220.99999999999997\" height=\"99.84375\"/></clipPath><clipPath class=\"axesclip\" id=\"clip372127x19\"><rect x=\"626\" y=\"0\" width=\"221.00000000000003\" height=\"1600\"/></clipPath><clipPath class=\"axesclip\" id=\"clip372127x19y\"><rect x=\"626\" y=\"100\" width=\"221.00000000000003\" height=\"99.84375\"/></clipPath><clipPath class=\"axesclip\" id=\"clip372127x19y2\"><rect x=\"626\" y=\"100\" width=\"221.00000000000003\" height=\"99.84375\"/></clipPath><clipPath class=\"axesclip\" id=\"clip372127x19y3\"><rect x=\"626\" y=\"100\" width=\"221.00000000000003\" height=\"99.84375\"/></clipPath><clipPath class=\"axesclip\" id=\"clip372127x19y4\"><rect x=\"626\" y=\"100\" width=\"221.00000000000003\" height=\"99.84375\"/></clipPath><clipPath class=\"axesclip\" id=\"clip372127x19y5\"><rect x=\"626\" y=\"288.59375\" width=\"221.00000000000003\" height=\"99.84375\"/></clipPath><clipPath class=\"axesclip\" id=\"clip372127x19y6\"><rect x=\"626\" y=\"288.59375\" width=\"221.00000000000003\" height=\"99.84375\"/></clipPath><clipPath class=\"axesclip\" id=\"clip372127x19y7\"><rect x=\"626\" y=\"288.59375\" width=\"221.00000000000003\" height=\"99.84375\"/></clipPath><clipPath class=\"axesclip\" id=\"clip372127x19y8\"><rect x=\"626\" y=\"288.59375\" width=\"221.00000000000003\" height=\"99.84375\"/></clipPath><clipPath class=\"axesclip\" id=\"clip372127x19y9\"><rect x=\"626\" y=\"477.1875\" width=\"221.00000000000003\" height=\"99.84375\"/></clipPath><clipPath class=\"axesclip\" id=\"clip372127x19y10\"><rect x=\"626\" y=\"477.1875\" width=\"221.00000000000003\" height=\"99.84375\"/></clipPath><clipPath class=\"axesclip\" id=\"clip372127x19y11\"><rect x=\"626\" y=\"477.1875\" width=\"221.00000000000003\" height=\"99.84375\"/></clipPath><clipPath class=\"axesclip\" id=\"clip372127x19y12\"><rect x=\"626\" y=\"477.1875\" width=\"221.00000000000003\" height=\"99.84375\"/></clipPath><clipPath class=\"axesclip\" id=\"clip372127x19y13\"><rect x=\"626\" y=\"665.78125\" width=\"221.00000000000003\" height=\"99.84375\"/></clipPath><clipPath class=\"axesclip\" id=\"clip372127x19y14\"><rect x=\"626\" y=\"665.78125\" width=\"221.00000000000003\" height=\"99.84375\"/></clipPath><clipPath class=\"axesclip\" id=\"clip372127x19y15\"><rect x=\"626\" y=\"665.78125\" width=\"221.00000000000003\" height=\"99.84375\"/></clipPath><clipPath class=\"axesclip\" id=\"clip372127x19y16\"><rect x=\"626\" y=\"665.78125\" width=\"221.00000000000003\" height=\"99.84375\"/></clipPath><clipPath class=\"axesclip\" id=\"clip372127x19y17\"><rect x=\"626\" y=\"854.375\" width=\"221.00000000000003\" height=\"99.84375\"/></clipPath><clipPath class=\"axesclip\" id=\"clip372127x19y18\"><rect x=\"626\" y=\"854.375\" width=\"221.00000000000003\" height=\"99.84375\"/></clipPath><clipPath class=\"axesclip\" id=\"clip372127x19y19\"><rect x=\"626\" y=\"854.375\" width=\"221.00000000000003\" height=\"99.84375\"/></clipPath><clipPath class=\"axesclip\" id=\"clip372127x19y20\"><rect x=\"626\" y=\"854.375\" width=\"221.00000000000003\" height=\"99.84375\"/></clipPath><clipPath class=\"axesclip\" id=\"clip372127x19y21\"><rect x=\"626\" y=\"1042.96875\" width=\"221.00000000000003\" height=\"99.84375\"/></clipPath><clipPath class=\"axesclip\" id=\"clip372127x19y22\"><rect x=\"626\" y=\"1042.96875\" width=\"221.00000000000003\" height=\"99.84375\"/></clipPath><clipPath class=\"axesclip\" id=\"clip372127x19y23\"><rect x=\"626\" y=\"1042.96875\" width=\"221.00000000000003\" height=\"99.84375\"/></clipPath><clipPath class=\"axesclip\" id=\"clip372127x19y24\"><rect x=\"626\" y=\"1042.96875\" width=\"221.00000000000003\" height=\"99.84375\"/></clipPath><clipPath class=\"axesclip\" id=\"clip372127x19y25\"><rect x=\"626\" y=\"1231.5625\" width=\"221.00000000000003\" height=\"99.84375\"/></clipPath><clipPath class=\"axesclip\" id=\"clip372127x19y26\"><rect x=\"626\" y=\"1231.5625\" width=\"221.00000000000003\" height=\"99.84375\"/></clipPath><clipPath class=\"axesclip\" id=\"clip372127x19y27\"><rect x=\"626\" y=\"1231.5625\" width=\"221.00000000000003\" height=\"99.84375\"/></clipPath><clipPath class=\"axesclip\" id=\"clip372127x19y28\"><rect x=\"626\" y=\"1231.5625\" width=\"221.00000000000003\" height=\"99.84375\"/></clipPath><clipPath class=\"axesclip\" id=\"clip372127x19y29\"><rect x=\"626\" y=\"1420.15625\" width=\"221.00000000000003\" height=\"99.84375\"/></clipPath><clipPath class=\"axesclip\" id=\"clip372127x19y30\"><rect x=\"626\" y=\"1420.15625\" width=\"221.00000000000003\" height=\"99.84375\"/></clipPath><clipPath class=\"axesclip\" id=\"clip372127x20\"><rect x=\"899\" y=\"0\" width=\"221.00000000000003\" height=\"1600\"/></clipPath><clipPath class=\"axesclip\" id=\"clip372127x20y\"><rect x=\"899\" y=\"100\" width=\"221.00000000000003\" height=\"99.84375\"/></clipPath><clipPath class=\"axesclip\" id=\"clip372127x20y2\"><rect x=\"899\" y=\"100\" width=\"221.00000000000003\" height=\"99.84375\"/></clipPath><clipPath class=\"axesclip\" id=\"clip372127x20y3\"><rect x=\"899\" y=\"100\" width=\"221.00000000000003\" height=\"99.84375\"/></clipPath><clipPath class=\"axesclip\" id=\"clip372127x20y4\"><rect x=\"899\" y=\"100\" width=\"221.00000000000003\" height=\"99.84375\"/></clipPath><clipPath class=\"axesclip\" id=\"clip372127x20y5\"><rect x=\"899\" y=\"288.59375\" width=\"221.00000000000003\" height=\"99.84375\"/></clipPath><clipPath class=\"axesclip\" id=\"clip372127x20y6\"><rect x=\"899\" y=\"288.59375\" width=\"221.00000000000003\" height=\"99.84375\"/></clipPath><clipPath class=\"axesclip\" id=\"clip372127x20y7\"><rect x=\"899\" y=\"288.59375\" width=\"221.00000000000003\" height=\"99.84375\"/></clipPath><clipPath class=\"axesclip\" id=\"clip372127x20y8\"><rect x=\"899\" y=\"288.59375\" width=\"221.00000000000003\" height=\"99.84375\"/></clipPath><clipPath class=\"axesclip\" id=\"clip372127x20y9\"><rect x=\"899\" y=\"477.1875\" width=\"221.00000000000003\" height=\"99.84375\"/></clipPath><clipPath class=\"axesclip\" id=\"clip372127x20y10\"><rect x=\"899\" y=\"477.1875\" width=\"221.00000000000003\" height=\"99.84375\"/></clipPath><clipPath class=\"axesclip\" id=\"clip372127x20y11\"><rect x=\"899\" y=\"477.1875\" width=\"221.00000000000003\" height=\"99.84375\"/></clipPath><clipPath class=\"axesclip\" id=\"clip372127x20y12\"><rect x=\"899\" y=\"477.1875\" width=\"221.00000000000003\" height=\"99.84375\"/></clipPath><clipPath class=\"axesclip\" id=\"clip372127x20y13\"><rect x=\"899\" y=\"665.78125\" width=\"221.00000000000003\" height=\"99.84375\"/></clipPath><clipPath class=\"axesclip\" id=\"clip372127x20y14\"><rect x=\"899\" y=\"665.78125\" width=\"221.00000000000003\" height=\"99.84375\"/></clipPath><clipPath class=\"axesclip\" id=\"clip372127x20y15\"><rect x=\"899\" y=\"665.78125\" width=\"221.00000000000003\" height=\"99.84375\"/></clipPath><clipPath class=\"axesclip\" id=\"clip372127x20y16\"><rect x=\"899\" y=\"665.78125\" width=\"221.00000000000003\" height=\"99.84375\"/></clipPath><clipPath class=\"axesclip\" id=\"clip372127x20y17\"><rect x=\"899\" y=\"854.375\" width=\"221.00000000000003\" height=\"99.84375\"/></clipPath><clipPath class=\"axesclip\" id=\"clip372127x20y18\"><rect x=\"899\" y=\"854.375\" width=\"221.00000000000003\" height=\"99.84375\"/></clipPath><clipPath class=\"axesclip\" id=\"clip372127x20y19\"><rect x=\"899\" y=\"854.375\" width=\"221.00000000000003\" height=\"99.84375\"/></clipPath><clipPath class=\"axesclip\" id=\"clip372127x20y20\"><rect x=\"899\" y=\"854.375\" width=\"221.00000000000003\" height=\"99.84375\"/></clipPath><clipPath class=\"axesclip\" id=\"clip372127x20y21\"><rect x=\"899\" y=\"1042.96875\" width=\"221.00000000000003\" height=\"99.84375\"/></clipPath><clipPath class=\"axesclip\" id=\"clip372127x20y22\"><rect x=\"899\" y=\"1042.96875\" width=\"221.00000000000003\" height=\"99.84375\"/></clipPath><clipPath class=\"axesclip\" id=\"clip372127x20y23\"><rect x=\"899\" y=\"1042.96875\" width=\"221.00000000000003\" height=\"99.84375\"/></clipPath><clipPath class=\"axesclip\" id=\"clip372127x20y24\"><rect x=\"899\" y=\"1042.96875\" width=\"221.00000000000003\" height=\"99.84375\"/></clipPath><clipPath class=\"axesclip\" id=\"clip372127x20y25\"><rect x=\"899\" y=\"1231.5625\" width=\"221.00000000000003\" height=\"99.84375\"/></clipPath><clipPath class=\"axesclip\" id=\"clip372127x20y26\"><rect x=\"899\" y=\"1231.5625\" width=\"221.00000000000003\" height=\"99.84375\"/></clipPath><clipPath class=\"axesclip\" id=\"clip372127x20y27\"><rect x=\"899\" y=\"1231.5625\" width=\"221.00000000000003\" height=\"99.84375\"/></clipPath><clipPath class=\"axesclip\" id=\"clip372127x20y28\"><rect x=\"899\" y=\"1231.5625\" width=\"221.00000000000003\" height=\"99.84375\"/></clipPath><clipPath class=\"axesclip\" id=\"clip372127x20y29\"><rect x=\"899\" y=\"1420.15625\" width=\"221.00000000000003\" height=\"99.84375\"/></clipPath><clipPath class=\"axesclip\" id=\"clip372127x20y30\"><rect x=\"899\" y=\"1420.15625\" width=\"221.00000000000003\" height=\"99.84375\"/></clipPath><clipPath class=\"axesclip\" id=\"clip372127x21\"><rect x=\"80\" y=\"0\" width=\"221\" height=\"1600\"/></clipPath><clipPath class=\"axesclip\" id=\"clip372127x21y\"><rect x=\"80\" y=\"100\" width=\"221\" height=\"99.84375\"/></clipPath><clipPath class=\"axesclip\" id=\"clip372127x21y2\"><rect x=\"80\" y=\"100\" width=\"221\" height=\"99.84375\"/></clipPath><clipPath class=\"axesclip\" id=\"clip372127x21y3\"><rect x=\"80\" y=\"100\" width=\"221\" height=\"99.84375\"/></clipPath><clipPath class=\"axesclip\" id=\"clip372127x21y4\"><rect x=\"80\" y=\"100\" width=\"221\" height=\"99.84375\"/></clipPath><clipPath class=\"axesclip\" id=\"clip372127x21y5\"><rect x=\"80\" y=\"288.59375\" width=\"221\" height=\"99.84375\"/></clipPath><clipPath class=\"axesclip\" id=\"clip372127x21y6\"><rect x=\"80\" y=\"288.59375\" width=\"221\" height=\"99.84375\"/></clipPath><clipPath class=\"axesclip\" id=\"clip372127x21y7\"><rect x=\"80\" y=\"288.59375\" width=\"221\" height=\"99.84375\"/></clipPath><clipPath class=\"axesclip\" id=\"clip372127x21y8\"><rect x=\"80\" y=\"288.59375\" width=\"221\" height=\"99.84375\"/></clipPath><clipPath class=\"axesclip\" id=\"clip372127x21y9\"><rect x=\"80\" y=\"477.1875\" width=\"221\" height=\"99.84375\"/></clipPath><clipPath class=\"axesclip\" id=\"clip372127x21y10\"><rect x=\"80\" y=\"477.1875\" width=\"221\" height=\"99.84375\"/></clipPath><clipPath class=\"axesclip\" id=\"clip372127x21y11\"><rect x=\"80\" y=\"477.1875\" width=\"221\" height=\"99.84375\"/></clipPath><clipPath class=\"axesclip\" id=\"clip372127x21y12\"><rect x=\"80\" y=\"477.1875\" width=\"221\" height=\"99.84375\"/></clipPath><clipPath class=\"axesclip\" id=\"clip372127x21y13\"><rect x=\"80\" y=\"665.78125\" width=\"221\" height=\"99.84375\"/></clipPath><clipPath class=\"axesclip\" id=\"clip372127x21y14\"><rect x=\"80\" y=\"665.78125\" width=\"221\" height=\"99.84375\"/></clipPath><clipPath class=\"axesclip\" id=\"clip372127x21y15\"><rect x=\"80\" y=\"665.78125\" width=\"221\" height=\"99.84375\"/></clipPath><clipPath class=\"axesclip\" id=\"clip372127x21y16\"><rect x=\"80\" y=\"665.78125\" width=\"221\" height=\"99.84375\"/></clipPath><clipPath class=\"axesclip\" id=\"clip372127x21y17\"><rect x=\"80\" y=\"854.375\" width=\"221\" height=\"99.84375\"/></clipPath><clipPath class=\"axesclip\" id=\"clip372127x21y18\"><rect x=\"80\" y=\"854.375\" width=\"221\" height=\"99.84375\"/></clipPath><clipPath class=\"axesclip\" id=\"clip372127x21y19\"><rect x=\"80\" y=\"854.375\" width=\"221\" height=\"99.84375\"/></clipPath><clipPath class=\"axesclip\" id=\"clip372127x21y20\"><rect x=\"80\" y=\"854.375\" width=\"221\" height=\"99.84375\"/></clipPath><clipPath class=\"axesclip\" id=\"clip372127x21y21\"><rect x=\"80\" y=\"1042.96875\" width=\"221\" height=\"99.84375\"/></clipPath><clipPath class=\"axesclip\" id=\"clip372127x21y22\"><rect x=\"80\" y=\"1042.96875\" width=\"221\" height=\"99.84375\"/></clipPath><clipPath class=\"axesclip\" id=\"clip372127x21y23\"><rect x=\"80\" y=\"1042.96875\" width=\"221\" height=\"99.84375\"/></clipPath><clipPath class=\"axesclip\" id=\"clip372127x21y24\"><rect x=\"80\" y=\"1042.96875\" width=\"221\" height=\"99.84375\"/></clipPath><clipPath class=\"axesclip\" id=\"clip372127x21y25\"><rect x=\"80\" y=\"1231.5625\" width=\"221\" height=\"99.84375\"/></clipPath><clipPath class=\"axesclip\" id=\"clip372127x21y26\"><rect x=\"80\" y=\"1231.5625\" width=\"221\" height=\"99.84375\"/></clipPath><clipPath class=\"axesclip\" id=\"clip372127x21y27\"><rect x=\"80\" y=\"1231.5625\" width=\"221\" height=\"99.84375\"/></clipPath><clipPath class=\"axesclip\" id=\"clip372127x21y28\"><rect x=\"80\" y=\"1231.5625\" width=\"221\" height=\"99.84375\"/></clipPath><clipPath class=\"axesclip\" id=\"clip372127x21y29\"><rect x=\"80\" y=\"1420.15625\" width=\"221\" height=\"99.84375\"/></clipPath><clipPath class=\"axesclip\" id=\"clip372127x21y30\"><rect x=\"80\" y=\"1420.15625\" width=\"221\" height=\"99.84375\"/></clipPath><clipPath class=\"axesclip\" id=\"clip372127x22\"><rect x=\"353\" y=\"0\" width=\"220.99999999999997\" height=\"1600\"/></clipPath><clipPath class=\"axesclip\" id=\"clip372127x22y\"><rect x=\"353\" y=\"100\" width=\"220.99999999999997\" height=\"99.84375\"/></clipPath><clipPath class=\"axesclip\" id=\"clip372127x22y2\"><rect x=\"353\" y=\"100\" width=\"220.99999999999997\" height=\"99.84375\"/></clipPath><clipPath class=\"axesclip\" id=\"clip372127x22y3\"><rect x=\"353\" y=\"100\" width=\"220.99999999999997\" height=\"99.84375\"/></clipPath><clipPath class=\"axesclip\" id=\"clip372127x22y4\"><rect x=\"353\" y=\"100\" width=\"220.99999999999997\" height=\"99.84375\"/></clipPath><clipPath class=\"axesclip\" id=\"clip372127x22y5\"><rect x=\"353\" y=\"288.59375\" width=\"220.99999999999997\" height=\"99.84375\"/></clipPath><clipPath class=\"axesclip\" id=\"clip372127x22y6\"><rect x=\"353\" y=\"288.59375\" width=\"220.99999999999997\" height=\"99.84375\"/></clipPath><clipPath class=\"axesclip\" id=\"clip372127x22y7\"><rect x=\"353\" y=\"288.59375\" width=\"220.99999999999997\" height=\"99.84375\"/></clipPath><clipPath class=\"axesclip\" id=\"clip372127x22y8\"><rect x=\"353\" y=\"288.59375\" width=\"220.99999999999997\" height=\"99.84375\"/></clipPath><clipPath class=\"axesclip\" id=\"clip372127x22y9\"><rect x=\"353\" y=\"477.1875\" width=\"220.99999999999997\" height=\"99.84375\"/></clipPath><clipPath class=\"axesclip\" id=\"clip372127x22y10\"><rect x=\"353\" y=\"477.1875\" width=\"220.99999999999997\" height=\"99.84375\"/></clipPath><clipPath class=\"axesclip\" id=\"clip372127x22y11\"><rect x=\"353\" y=\"477.1875\" width=\"220.99999999999997\" height=\"99.84375\"/></clipPath><clipPath class=\"axesclip\" id=\"clip372127x22y12\"><rect x=\"353\" y=\"477.1875\" width=\"220.99999999999997\" height=\"99.84375\"/></clipPath><clipPath class=\"axesclip\" id=\"clip372127x22y13\"><rect x=\"353\" y=\"665.78125\" width=\"220.99999999999997\" height=\"99.84375\"/></clipPath><clipPath class=\"axesclip\" id=\"clip372127x22y14\"><rect x=\"353\" y=\"665.78125\" width=\"220.99999999999997\" height=\"99.84375\"/></clipPath><clipPath class=\"axesclip\" id=\"clip372127x22y15\"><rect x=\"353\" y=\"665.78125\" width=\"220.99999999999997\" height=\"99.84375\"/></clipPath><clipPath class=\"axesclip\" id=\"clip372127x22y16\"><rect x=\"353\" y=\"665.78125\" width=\"220.99999999999997\" height=\"99.84375\"/></clipPath><clipPath class=\"axesclip\" id=\"clip372127x22y17\"><rect x=\"353\" y=\"854.375\" width=\"220.99999999999997\" height=\"99.84375\"/></clipPath><clipPath class=\"axesclip\" id=\"clip372127x22y18\"><rect x=\"353\" y=\"854.375\" width=\"220.99999999999997\" height=\"99.84375\"/></clipPath><clipPath class=\"axesclip\" id=\"clip372127x22y19\"><rect x=\"353\" y=\"854.375\" width=\"220.99999999999997\" height=\"99.84375\"/></clipPath><clipPath class=\"axesclip\" id=\"clip372127x22y20\"><rect x=\"353\" y=\"854.375\" width=\"220.99999999999997\" height=\"99.84375\"/></clipPath><clipPath class=\"axesclip\" id=\"clip372127x22y21\"><rect x=\"353\" y=\"1042.96875\" width=\"220.99999999999997\" height=\"99.84375\"/></clipPath><clipPath class=\"axesclip\" id=\"clip372127x22y22\"><rect x=\"353\" y=\"1042.96875\" width=\"220.99999999999997\" height=\"99.84375\"/></clipPath><clipPath class=\"axesclip\" id=\"clip372127x22y23\"><rect x=\"353\" y=\"1042.96875\" width=\"220.99999999999997\" height=\"99.84375\"/></clipPath><clipPath class=\"axesclip\" id=\"clip372127x22y24\"><rect x=\"353\" y=\"1042.96875\" width=\"220.99999999999997\" height=\"99.84375\"/></clipPath><clipPath class=\"axesclip\" id=\"clip372127x22y25\"><rect x=\"353\" y=\"1231.5625\" width=\"220.99999999999997\" height=\"99.84375\"/></clipPath><clipPath class=\"axesclip\" id=\"clip372127x22y26\"><rect x=\"353\" y=\"1231.5625\" width=\"220.99999999999997\" height=\"99.84375\"/></clipPath><clipPath class=\"axesclip\" id=\"clip372127x22y27\"><rect x=\"353\" y=\"1231.5625\" width=\"220.99999999999997\" height=\"99.84375\"/></clipPath><clipPath class=\"axesclip\" id=\"clip372127x22y28\"><rect x=\"353\" y=\"1231.5625\" width=\"220.99999999999997\" height=\"99.84375\"/></clipPath><clipPath class=\"axesclip\" id=\"clip372127x22y29\"><rect x=\"353\" y=\"1420.15625\" width=\"220.99999999999997\" height=\"99.84375\"/></clipPath><clipPath class=\"axesclip\" id=\"clip372127x22y30\"><rect x=\"353\" y=\"1420.15625\" width=\"220.99999999999997\" height=\"99.84375\"/></clipPath><clipPath class=\"axesclip\" id=\"clip372127x23\"><rect x=\"626\" y=\"0\" width=\"221.00000000000003\" height=\"1600\"/></clipPath><clipPath class=\"axesclip\" id=\"clip372127x23y\"><rect x=\"626\" y=\"100\" width=\"221.00000000000003\" height=\"99.84375\"/></clipPath><clipPath class=\"axesclip\" id=\"clip372127x23y2\"><rect x=\"626\" y=\"100\" width=\"221.00000000000003\" height=\"99.84375\"/></clipPath><clipPath class=\"axesclip\" id=\"clip372127x23y3\"><rect x=\"626\" y=\"100\" width=\"221.00000000000003\" height=\"99.84375\"/></clipPath><clipPath class=\"axesclip\" id=\"clip372127x23y4\"><rect x=\"626\" y=\"100\" width=\"221.00000000000003\" height=\"99.84375\"/></clipPath><clipPath class=\"axesclip\" id=\"clip372127x23y5\"><rect x=\"626\" y=\"288.59375\" width=\"221.00000000000003\" height=\"99.84375\"/></clipPath><clipPath class=\"axesclip\" id=\"clip372127x23y6\"><rect x=\"626\" y=\"288.59375\" width=\"221.00000000000003\" height=\"99.84375\"/></clipPath><clipPath class=\"axesclip\" id=\"clip372127x23y7\"><rect x=\"626\" y=\"288.59375\" width=\"221.00000000000003\" height=\"99.84375\"/></clipPath><clipPath class=\"axesclip\" id=\"clip372127x23y8\"><rect x=\"626\" y=\"288.59375\" width=\"221.00000000000003\" height=\"99.84375\"/></clipPath><clipPath class=\"axesclip\" id=\"clip372127x23y9\"><rect x=\"626\" y=\"477.1875\" width=\"221.00000000000003\" height=\"99.84375\"/></clipPath><clipPath class=\"axesclip\" id=\"clip372127x23y10\"><rect x=\"626\" y=\"477.1875\" width=\"221.00000000000003\" height=\"99.84375\"/></clipPath><clipPath class=\"axesclip\" id=\"clip372127x23y11\"><rect x=\"626\" y=\"477.1875\" width=\"221.00000000000003\" height=\"99.84375\"/></clipPath><clipPath class=\"axesclip\" id=\"clip372127x23y12\"><rect x=\"626\" y=\"477.1875\" width=\"221.00000000000003\" height=\"99.84375\"/></clipPath><clipPath class=\"axesclip\" id=\"clip372127x23y13\"><rect x=\"626\" y=\"665.78125\" width=\"221.00000000000003\" height=\"99.84375\"/></clipPath><clipPath class=\"axesclip\" id=\"clip372127x23y14\"><rect x=\"626\" y=\"665.78125\" width=\"221.00000000000003\" height=\"99.84375\"/></clipPath><clipPath class=\"axesclip\" id=\"clip372127x23y15\"><rect x=\"626\" y=\"665.78125\" width=\"221.00000000000003\" height=\"99.84375\"/></clipPath><clipPath class=\"axesclip\" id=\"clip372127x23y16\"><rect x=\"626\" y=\"665.78125\" width=\"221.00000000000003\" height=\"99.84375\"/></clipPath><clipPath class=\"axesclip\" id=\"clip372127x23y17\"><rect x=\"626\" y=\"854.375\" width=\"221.00000000000003\" height=\"99.84375\"/></clipPath><clipPath class=\"axesclip\" id=\"clip372127x23y18\"><rect x=\"626\" y=\"854.375\" width=\"221.00000000000003\" height=\"99.84375\"/></clipPath><clipPath class=\"axesclip\" id=\"clip372127x23y19\"><rect x=\"626\" y=\"854.375\" width=\"221.00000000000003\" height=\"99.84375\"/></clipPath><clipPath class=\"axesclip\" id=\"clip372127x23y20\"><rect x=\"626\" y=\"854.375\" width=\"221.00000000000003\" height=\"99.84375\"/></clipPath><clipPath class=\"axesclip\" id=\"clip372127x23y21\"><rect x=\"626\" y=\"1042.96875\" width=\"221.00000000000003\" height=\"99.84375\"/></clipPath><clipPath class=\"axesclip\" id=\"clip372127x23y22\"><rect x=\"626\" y=\"1042.96875\" width=\"221.00000000000003\" height=\"99.84375\"/></clipPath><clipPath class=\"axesclip\" id=\"clip372127x23y23\"><rect x=\"626\" y=\"1042.96875\" width=\"221.00000000000003\" height=\"99.84375\"/></clipPath><clipPath class=\"axesclip\" id=\"clip372127x23y24\"><rect x=\"626\" y=\"1042.96875\" width=\"221.00000000000003\" height=\"99.84375\"/></clipPath><clipPath class=\"axesclip\" id=\"clip372127x23y25\"><rect x=\"626\" y=\"1231.5625\" width=\"221.00000000000003\" height=\"99.84375\"/></clipPath><clipPath class=\"axesclip\" id=\"clip372127x23y26\"><rect x=\"626\" y=\"1231.5625\" width=\"221.00000000000003\" height=\"99.84375\"/></clipPath><clipPath class=\"axesclip\" id=\"clip372127x23y27\"><rect x=\"626\" y=\"1231.5625\" width=\"221.00000000000003\" height=\"99.84375\"/></clipPath><clipPath class=\"axesclip\" id=\"clip372127x23y28\"><rect x=\"626\" y=\"1231.5625\" width=\"221.00000000000003\" height=\"99.84375\"/></clipPath><clipPath class=\"axesclip\" id=\"clip372127x23y29\"><rect x=\"626\" y=\"1420.15625\" width=\"221.00000000000003\" height=\"99.84375\"/></clipPath><clipPath class=\"axesclip\" id=\"clip372127x23y30\"><rect x=\"626\" y=\"1420.15625\" width=\"221.00000000000003\" height=\"99.84375\"/></clipPath><clipPath class=\"axesclip\" id=\"clip372127x24\"><rect x=\"899\" y=\"0\" width=\"221.00000000000003\" height=\"1600\"/></clipPath><clipPath class=\"axesclip\" id=\"clip372127x24y\"><rect x=\"899\" y=\"100\" width=\"221.00000000000003\" height=\"99.84375\"/></clipPath><clipPath class=\"axesclip\" id=\"clip372127x24y2\"><rect x=\"899\" y=\"100\" width=\"221.00000000000003\" height=\"99.84375\"/></clipPath><clipPath class=\"axesclip\" id=\"clip372127x24y3\"><rect x=\"899\" y=\"100\" width=\"221.00000000000003\" height=\"99.84375\"/></clipPath><clipPath class=\"axesclip\" id=\"clip372127x24y4\"><rect x=\"899\" y=\"100\" width=\"221.00000000000003\" height=\"99.84375\"/></clipPath><clipPath class=\"axesclip\" id=\"clip372127x24y5\"><rect x=\"899\" y=\"288.59375\" width=\"221.00000000000003\" height=\"99.84375\"/></clipPath><clipPath class=\"axesclip\" id=\"clip372127x24y6\"><rect x=\"899\" y=\"288.59375\" width=\"221.00000000000003\" height=\"99.84375\"/></clipPath><clipPath class=\"axesclip\" id=\"clip372127x24y7\"><rect x=\"899\" y=\"288.59375\" width=\"221.00000000000003\" height=\"99.84375\"/></clipPath><clipPath class=\"axesclip\" id=\"clip372127x24y8\"><rect x=\"899\" y=\"288.59375\" width=\"221.00000000000003\" height=\"99.84375\"/></clipPath><clipPath class=\"axesclip\" id=\"clip372127x24y9\"><rect x=\"899\" y=\"477.1875\" width=\"221.00000000000003\" height=\"99.84375\"/></clipPath><clipPath class=\"axesclip\" id=\"clip372127x24y10\"><rect x=\"899\" y=\"477.1875\" width=\"221.00000000000003\" height=\"99.84375\"/></clipPath><clipPath class=\"axesclip\" id=\"clip372127x24y11\"><rect x=\"899\" y=\"477.1875\" width=\"221.00000000000003\" height=\"99.84375\"/></clipPath><clipPath class=\"axesclip\" id=\"clip372127x24y12\"><rect x=\"899\" y=\"477.1875\" width=\"221.00000000000003\" height=\"99.84375\"/></clipPath><clipPath class=\"axesclip\" id=\"clip372127x24y13\"><rect x=\"899\" y=\"665.78125\" width=\"221.00000000000003\" height=\"99.84375\"/></clipPath><clipPath class=\"axesclip\" id=\"clip372127x24y14\"><rect x=\"899\" y=\"665.78125\" width=\"221.00000000000003\" height=\"99.84375\"/></clipPath><clipPath class=\"axesclip\" id=\"clip372127x24y15\"><rect x=\"899\" y=\"665.78125\" width=\"221.00000000000003\" height=\"99.84375\"/></clipPath><clipPath class=\"axesclip\" id=\"clip372127x24y16\"><rect x=\"899\" y=\"665.78125\" width=\"221.00000000000003\" height=\"99.84375\"/></clipPath><clipPath class=\"axesclip\" id=\"clip372127x24y17\"><rect x=\"899\" y=\"854.375\" width=\"221.00000000000003\" height=\"99.84375\"/></clipPath><clipPath class=\"axesclip\" id=\"clip372127x24y18\"><rect x=\"899\" y=\"854.375\" width=\"221.00000000000003\" height=\"99.84375\"/></clipPath><clipPath class=\"axesclip\" id=\"clip372127x24y19\"><rect x=\"899\" y=\"854.375\" width=\"221.00000000000003\" height=\"99.84375\"/></clipPath><clipPath class=\"axesclip\" id=\"clip372127x24y20\"><rect x=\"899\" y=\"854.375\" width=\"221.00000000000003\" height=\"99.84375\"/></clipPath><clipPath class=\"axesclip\" id=\"clip372127x24y21\"><rect x=\"899\" y=\"1042.96875\" width=\"221.00000000000003\" height=\"99.84375\"/></clipPath><clipPath class=\"axesclip\" id=\"clip372127x24y22\"><rect x=\"899\" y=\"1042.96875\" width=\"221.00000000000003\" height=\"99.84375\"/></clipPath><clipPath class=\"axesclip\" id=\"clip372127x24y23\"><rect x=\"899\" y=\"1042.96875\" width=\"221.00000000000003\" height=\"99.84375\"/></clipPath><clipPath class=\"axesclip\" id=\"clip372127x24y24\"><rect x=\"899\" y=\"1042.96875\" width=\"221.00000000000003\" height=\"99.84375\"/></clipPath><clipPath class=\"axesclip\" id=\"clip372127x24y25\"><rect x=\"899\" y=\"1231.5625\" width=\"221.00000000000003\" height=\"99.84375\"/></clipPath><clipPath class=\"axesclip\" id=\"clip372127x24y26\"><rect x=\"899\" y=\"1231.5625\" width=\"221.00000000000003\" height=\"99.84375\"/></clipPath><clipPath class=\"axesclip\" id=\"clip372127x24y27\"><rect x=\"899\" y=\"1231.5625\" width=\"221.00000000000003\" height=\"99.84375\"/></clipPath><clipPath class=\"axesclip\" id=\"clip372127x24y28\"><rect x=\"899\" y=\"1231.5625\" width=\"221.00000000000003\" height=\"99.84375\"/></clipPath><clipPath class=\"axesclip\" id=\"clip372127x24y29\"><rect x=\"899\" y=\"1420.15625\" width=\"221.00000000000003\" height=\"99.84375\"/></clipPath><clipPath class=\"axesclip\" id=\"clip372127x24y30\"><rect x=\"899\" y=\"1420.15625\" width=\"221.00000000000003\" height=\"99.84375\"/></clipPath><clipPath class=\"axesclip\" id=\"clip372127x25\"><rect x=\"80\" y=\"0\" width=\"221\" height=\"1600\"/></clipPath><clipPath class=\"axesclip\" id=\"clip372127x25y\"><rect x=\"80\" y=\"100\" width=\"221\" height=\"99.84375\"/></clipPath><clipPath class=\"axesclip\" id=\"clip372127x25y2\"><rect x=\"80\" y=\"100\" width=\"221\" height=\"99.84375\"/></clipPath><clipPath class=\"axesclip\" id=\"clip372127x25y3\"><rect x=\"80\" y=\"100\" width=\"221\" height=\"99.84375\"/></clipPath><clipPath class=\"axesclip\" id=\"clip372127x25y4\"><rect x=\"80\" y=\"100\" width=\"221\" height=\"99.84375\"/></clipPath><clipPath class=\"axesclip\" id=\"clip372127x25y5\"><rect x=\"80\" y=\"288.59375\" width=\"221\" height=\"99.84375\"/></clipPath><clipPath class=\"axesclip\" id=\"clip372127x25y6\"><rect x=\"80\" y=\"288.59375\" width=\"221\" height=\"99.84375\"/></clipPath><clipPath class=\"axesclip\" id=\"clip372127x25y7\"><rect x=\"80\" y=\"288.59375\" width=\"221\" height=\"99.84375\"/></clipPath><clipPath class=\"axesclip\" id=\"clip372127x25y8\"><rect x=\"80\" y=\"288.59375\" width=\"221\" height=\"99.84375\"/></clipPath><clipPath class=\"axesclip\" id=\"clip372127x25y9\"><rect x=\"80\" y=\"477.1875\" width=\"221\" height=\"99.84375\"/></clipPath><clipPath class=\"axesclip\" id=\"clip372127x25y10\"><rect x=\"80\" y=\"477.1875\" width=\"221\" height=\"99.84375\"/></clipPath><clipPath class=\"axesclip\" id=\"clip372127x25y11\"><rect x=\"80\" y=\"477.1875\" width=\"221\" height=\"99.84375\"/></clipPath><clipPath class=\"axesclip\" id=\"clip372127x25y12\"><rect x=\"80\" y=\"477.1875\" width=\"221\" height=\"99.84375\"/></clipPath><clipPath class=\"axesclip\" id=\"clip372127x25y13\"><rect x=\"80\" y=\"665.78125\" width=\"221\" height=\"99.84375\"/></clipPath><clipPath class=\"axesclip\" id=\"clip372127x25y14\"><rect x=\"80\" y=\"665.78125\" width=\"221\" height=\"99.84375\"/></clipPath><clipPath class=\"axesclip\" id=\"clip372127x25y15\"><rect x=\"80\" y=\"665.78125\" width=\"221\" height=\"99.84375\"/></clipPath><clipPath class=\"axesclip\" id=\"clip372127x25y16\"><rect x=\"80\" y=\"665.78125\" width=\"221\" height=\"99.84375\"/></clipPath><clipPath class=\"axesclip\" id=\"clip372127x25y17\"><rect x=\"80\" y=\"854.375\" width=\"221\" height=\"99.84375\"/></clipPath><clipPath class=\"axesclip\" id=\"clip372127x25y18\"><rect x=\"80\" y=\"854.375\" width=\"221\" height=\"99.84375\"/></clipPath><clipPath class=\"axesclip\" id=\"clip372127x25y19\"><rect x=\"80\" y=\"854.375\" width=\"221\" height=\"99.84375\"/></clipPath><clipPath class=\"axesclip\" id=\"clip372127x25y20\"><rect x=\"80\" y=\"854.375\" width=\"221\" height=\"99.84375\"/></clipPath><clipPath class=\"axesclip\" id=\"clip372127x25y21\"><rect x=\"80\" y=\"1042.96875\" width=\"221\" height=\"99.84375\"/></clipPath><clipPath class=\"axesclip\" id=\"clip372127x25y22\"><rect x=\"80\" y=\"1042.96875\" width=\"221\" height=\"99.84375\"/></clipPath><clipPath class=\"axesclip\" id=\"clip372127x25y23\"><rect x=\"80\" y=\"1042.96875\" width=\"221\" height=\"99.84375\"/></clipPath><clipPath class=\"axesclip\" id=\"clip372127x25y24\"><rect x=\"80\" y=\"1042.96875\" width=\"221\" height=\"99.84375\"/></clipPath><clipPath class=\"axesclip\" id=\"clip372127x25y25\"><rect x=\"80\" y=\"1231.5625\" width=\"221\" height=\"99.84375\"/></clipPath><clipPath class=\"axesclip\" id=\"clip372127x25y26\"><rect x=\"80\" y=\"1231.5625\" width=\"221\" height=\"99.84375\"/></clipPath><clipPath class=\"axesclip\" id=\"clip372127x25y27\"><rect x=\"80\" y=\"1231.5625\" width=\"221\" height=\"99.84375\"/></clipPath><clipPath class=\"axesclip\" id=\"clip372127x25y28\"><rect x=\"80\" y=\"1231.5625\" width=\"221\" height=\"99.84375\"/></clipPath><clipPath class=\"axesclip\" id=\"clip372127x25y29\"><rect x=\"80\" y=\"1420.15625\" width=\"221\" height=\"99.84375\"/></clipPath><clipPath class=\"axesclip\" id=\"clip372127x25y30\"><rect x=\"80\" y=\"1420.15625\" width=\"221\" height=\"99.84375\"/></clipPath><clipPath class=\"axesclip\" id=\"clip372127x26\"><rect x=\"353\" y=\"0\" width=\"220.99999999999997\" height=\"1600\"/></clipPath><clipPath class=\"axesclip\" id=\"clip372127x26y\"><rect x=\"353\" y=\"100\" width=\"220.99999999999997\" height=\"99.84375\"/></clipPath><clipPath class=\"axesclip\" id=\"clip372127x26y2\"><rect x=\"353\" y=\"100\" width=\"220.99999999999997\" height=\"99.84375\"/></clipPath><clipPath class=\"axesclip\" id=\"clip372127x26y3\"><rect x=\"353\" y=\"100\" width=\"220.99999999999997\" height=\"99.84375\"/></clipPath><clipPath class=\"axesclip\" id=\"clip372127x26y4\"><rect x=\"353\" y=\"100\" width=\"220.99999999999997\" height=\"99.84375\"/></clipPath><clipPath class=\"axesclip\" id=\"clip372127x26y5\"><rect x=\"353\" y=\"288.59375\" width=\"220.99999999999997\" height=\"99.84375\"/></clipPath><clipPath class=\"axesclip\" id=\"clip372127x26y6\"><rect x=\"353\" y=\"288.59375\" width=\"220.99999999999997\" height=\"99.84375\"/></clipPath><clipPath class=\"axesclip\" id=\"clip372127x26y7\"><rect x=\"353\" y=\"288.59375\" width=\"220.99999999999997\" height=\"99.84375\"/></clipPath><clipPath class=\"axesclip\" id=\"clip372127x26y8\"><rect x=\"353\" y=\"288.59375\" width=\"220.99999999999997\" height=\"99.84375\"/></clipPath><clipPath class=\"axesclip\" id=\"clip372127x26y9\"><rect x=\"353\" y=\"477.1875\" width=\"220.99999999999997\" height=\"99.84375\"/></clipPath><clipPath class=\"axesclip\" id=\"clip372127x26y10\"><rect x=\"353\" y=\"477.1875\" width=\"220.99999999999997\" height=\"99.84375\"/></clipPath><clipPath class=\"axesclip\" id=\"clip372127x26y11\"><rect x=\"353\" y=\"477.1875\" width=\"220.99999999999997\" height=\"99.84375\"/></clipPath><clipPath class=\"axesclip\" id=\"clip372127x26y12\"><rect x=\"353\" y=\"477.1875\" width=\"220.99999999999997\" height=\"99.84375\"/></clipPath><clipPath class=\"axesclip\" id=\"clip372127x26y13\"><rect x=\"353\" y=\"665.78125\" width=\"220.99999999999997\" height=\"99.84375\"/></clipPath><clipPath class=\"axesclip\" id=\"clip372127x26y14\"><rect x=\"353\" y=\"665.78125\" width=\"220.99999999999997\" height=\"99.84375\"/></clipPath><clipPath class=\"axesclip\" id=\"clip372127x26y15\"><rect x=\"353\" y=\"665.78125\" width=\"220.99999999999997\" height=\"99.84375\"/></clipPath><clipPath class=\"axesclip\" id=\"clip372127x26y16\"><rect x=\"353\" y=\"665.78125\" width=\"220.99999999999997\" height=\"99.84375\"/></clipPath><clipPath class=\"axesclip\" id=\"clip372127x26y17\"><rect x=\"353\" y=\"854.375\" width=\"220.99999999999997\" height=\"99.84375\"/></clipPath><clipPath class=\"axesclip\" id=\"clip372127x26y18\"><rect x=\"353\" y=\"854.375\" width=\"220.99999999999997\" height=\"99.84375\"/></clipPath><clipPath class=\"axesclip\" id=\"clip372127x26y19\"><rect x=\"353\" y=\"854.375\" width=\"220.99999999999997\" height=\"99.84375\"/></clipPath><clipPath class=\"axesclip\" id=\"clip372127x26y20\"><rect x=\"353\" y=\"854.375\" width=\"220.99999999999997\" height=\"99.84375\"/></clipPath><clipPath class=\"axesclip\" id=\"clip372127x26y21\"><rect x=\"353\" y=\"1042.96875\" width=\"220.99999999999997\" height=\"99.84375\"/></clipPath><clipPath class=\"axesclip\" id=\"clip372127x26y22\"><rect x=\"353\" y=\"1042.96875\" width=\"220.99999999999997\" height=\"99.84375\"/></clipPath><clipPath class=\"axesclip\" id=\"clip372127x26y23\"><rect x=\"353\" y=\"1042.96875\" width=\"220.99999999999997\" height=\"99.84375\"/></clipPath><clipPath class=\"axesclip\" id=\"clip372127x26y24\"><rect x=\"353\" y=\"1042.96875\" width=\"220.99999999999997\" height=\"99.84375\"/></clipPath><clipPath class=\"axesclip\" id=\"clip372127x26y25\"><rect x=\"353\" y=\"1231.5625\" width=\"220.99999999999997\" height=\"99.84375\"/></clipPath><clipPath class=\"axesclip\" id=\"clip372127x26y26\"><rect x=\"353\" y=\"1231.5625\" width=\"220.99999999999997\" height=\"99.84375\"/></clipPath><clipPath class=\"axesclip\" id=\"clip372127x26y27\"><rect x=\"353\" y=\"1231.5625\" width=\"220.99999999999997\" height=\"99.84375\"/></clipPath><clipPath class=\"axesclip\" id=\"clip372127x26y28\"><rect x=\"353\" y=\"1231.5625\" width=\"220.99999999999997\" height=\"99.84375\"/></clipPath><clipPath class=\"axesclip\" id=\"clip372127x26y29\"><rect x=\"353\" y=\"1420.15625\" width=\"220.99999999999997\" height=\"99.84375\"/></clipPath><clipPath class=\"axesclip\" id=\"clip372127x26y30\"><rect x=\"353\" y=\"1420.15625\" width=\"220.99999999999997\" height=\"99.84375\"/></clipPath><clipPath class=\"axesclip\" id=\"clip372127x27\"><rect x=\"626\" y=\"0\" width=\"221.00000000000003\" height=\"1600\"/></clipPath><clipPath class=\"axesclip\" id=\"clip372127x27y\"><rect x=\"626\" y=\"100\" width=\"221.00000000000003\" height=\"99.84375\"/></clipPath><clipPath class=\"axesclip\" id=\"clip372127x27y2\"><rect x=\"626\" y=\"100\" width=\"221.00000000000003\" height=\"99.84375\"/></clipPath><clipPath class=\"axesclip\" id=\"clip372127x27y3\"><rect x=\"626\" y=\"100\" width=\"221.00000000000003\" height=\"99.84375\"/></clipPath><clipPath class=\"axesclip\" id=\"clip372127x27y4\"><rect x=\"626\" y=\"100\" width=\"221.00000000000003\" height=\"99.84375\"/></clipPath><clipPath class=\"axesclip\" id=\"clip372127x27y5\"><rect x=\"626\" y=\"288.59375\" width=\"221.00000000000003\" height=\"99.84375\"/></clipPath><clipPath class=\"axesclip\" id=\"clip372127x27y6\"><rect x=\"626\" y=\"288.59375\" width=\"221.00000000000003\" height=\"99.84375\"/></clipPath><clipPath class=\"axesclip\" id=\"clip372127x27y7\"><rect x=\"626\" y=\"288.59375\" width=\"221.00000000000003\" height=\"99.84375\"/></clipPath><clipPath class=\"axesclip\" id=\"clip372127x27y8\"><rect x=\"626\" y=\"288.59375\" width=\"221.00000000000003\" height=\"99.84375\"/></clipPath><clipPath class=\"axesclip\" id=\"clip372127x27y9\"><rect x=\"626\" y=\"477.1875\" width=\"221.00000000000003\" height=\"99.84375\"/></clipPath><clipPath class=\"axesclip\" id=\"clip372127x27y10\"><rect x=\"626\" y=\"477.1875\" width=\"221.00000000000003\" height=\"99.84375\"/></clipPath><clipPath class=\"axesclip\" id=\"clip372127x27y11\"><rect x=\"626\" y=\"477.1875\" width=\"221.00000000000003\" height=\"99.84375\"/></clipPath><clipPath class=\"axesclip\" id=\"clip372127x27y12\"><rect x=\"626\" y=\"477.1875\" width=\"221.00000000000003\" height=\"99.84375\"/></clipPath><clipPath class=\"axesclip\" id=\"clip372127x27y13\"><rect x=\"626\" y=\"665.78125\" width=\"221.00000000000003\" height=\"99.84375\"/></clipPath><clipPath class=\"axesclip\" id=\"clip372127x27y14\"><rect x=\"626\" y=\"665.78125\" width=\"221.00000000000003\" height=\"99.84375\"/></clipPath><clipPath class=\"axesclip\" id=\"clip372127x27y15\"><rect x=\"626\" y=\"665.78125\" width=\"221.00000000000003\" height=\"99.84375\"/></clipPath><clipPath class=\"axesclip\" id=\"clip372127x27y16\"><rect x=\"626\" y=\"665.78125\" width=\"221.00000000000003\" height=\"99.84375\"/></clipPath><clipPath class=\"axesclip\" id=\"clip372127x27y17\"><rect x=\"626\" y=\"854.375\" width=\"221.00000000000003\" height=\"99.84375\"/></clipPath><clipPath class=\"axesclip\" id=\"clip372127x27y18\"><rect x=\"626\" y=\"854.375\" width=\"221.00000000000003\" height=\"99.84375\"/></clipPath><clipPath class=\"axesclip\" id=\"clip372127x27y19\"><rect x=\"626\" y=\"854.375\" width=\"221.00000000000003\" height=\"99.84375\"/></clipPath><clipPath class=\"axesclip\" id=\"clip372127x27y20\"><rect x=\"626\" y=\"854.375\" width=\"221.00000000000003\" height=\"99.84375\"/></clipPath><clipPath class=\"axesclip\" id=\"clip372127x27y21\"><rect x=\"626\" y=\"1042.96875\" width=\"221.00000000000003\" height=\"99.84375\"/></clipPath><clipPath class=\"axesclip\" id=\"clip372127x27y22\"><rect x=\"626\" y=\"1042.96875\" width=\"221.00000000000003\" height=\"99.84375\"/></clipPath><clipPath class=\"axesclip\" id=\"clip372127x27y23\"><rect x=\"626\" y=\"1042.96875\" width=\"221.00000000000003\" height=\"99.84375\"/></clipPath><clipPath class=\"axesclip\" id=\"clip372127x27y24\"><rect x=\"626\" y=\"1042.96875\" width=\"221.00000000000003\" height=\"99.84375\"/></clipPath><clipPath class=\"axesclip\" id=\"clip372127x27y25\"><rect x=\"626\" y=\"1231.5625\" width=\"221.00000000000003\" height=\"99.84375\"/></clipPath><clipPath class=\"axesclip\" id=\"clip372127x27y26\"><rect x=\"626\" y=\"1231.5625\" width=\"221.00000000000003\" height=\"99.84375\"/></clipPath><clipPath class=\"axesclip\" id=\"clip372127x27y27\"><rect x=\"626\" y=\"1231.5625\" width=\"221.00000000000003\" height=\"99.84375\"/></clipPath><clipPath class=\"axesclip\" id=\"clip372127x27y28\"><rect x=\"626\" y=\"1231.5625\" width=\"221.00000000000003\" height=\"99.84375\"/></clipPath><clipPath class=\"axesclip\" id=\"clip372127x27y29\"><rect x=\"626\" y=\"1420.15625\" width=\"221.00000000000003\" height=\"99.84375\"/></clipPath><clipPath class=\"axesclip\" id=\"clip372127x27y30\"><rect x=\"626\" y=\"1420.15625\" width=\"221.00000000000003\" height=\"99.84375\"/></clipPath><clipPath class=\"axesclip\" id=\"clip372127x28\"><rect x=\"899\" y=\"0\" width=\"221.00000000000003\" height=\"1600\"/></clipPath><clipPath class=\"axesclip\" id=\"clip372127x28y\"><rect x=\"899\" y=\"100\" width=\"221.00000000000003\" height=\"99.84375\"/></clipPath><clipPath class=\"axesclip\" id=\"clip372127x28y2\"><rect x=\"899\" y=\"100\" width=\"221.00000000000003\" height=\"99.84375\"/></clipPath><clipPath class=\"axesclip\" id=\"clip372127x28y3\"><rect x=\"899\" y=\"100\" width=\"221.00000000000003\" height=\"99.84375\"/></clipPath><clipPath class=\"axesclip\" id=\"clip372127x28y4\"><rect x=\"899\" y=\"100\" width=\"221.00000000000003\" height=\"99.84375\"/></clipPath><clipPath class=\"axesclip\" id=\"clip372127x28y5\"><rect x=\"899\" y=\"288.59375\" width=\"221.00000000000003\" height=\"99.84375\"/></clipPath><clipPath class=\"axesclip\" id=\"clip372127x28y6\"><rect x=\"899\" y=\"288.59375\" width=\"221.00000000000003\" height=\"99.84375\"/></clipPath><clipPath class=\"axesclip\" id=\"clip372127x28y7\"><rect x=\"899\" y=\"288.59375\" width=\"221.00000000000003\" height=\"99.84375\"/></clipPath><clipPath class=\"axesclip\" id=\"clip372127x28y8\"><rect x=\"899\" y=\"288.59375\" width=\"221.00000000000003\" height=\"99.84375\"/></clipPath><clipPath class=\"axesclip\" id=\"clip372127x28y9\"><rect x=\"899\" y=\"477.1875\" width=\"221.00000000000003\" height=\"99.84375\"/></clipPath><clipPath class=\"axesclip\" id=\"clip372127x28y10\"><rect x=\"899\" y=\"477.1875\" width=\"221.00000000000003\" height=\"99.84375\"/></clipPath><clipPath class=\"axesclip\" id=\"clip372127x28y11\"><rect x=\"899\" y=\"477.1875\" width=\"221.00000000000003\" height=\"99.84375\"/></clipPath><clipPath class=\"axesclip\" id=\"clip372127x28y12\"><rect x=\"899\" y=\"477.1875\" width=\"221.00000000000003\" height=\"99.84375\"/></clipPath><clipPath class=\"axesclip\" id=\"clip372127x28y13\"><rect x=\"899\" y=\"665.78125\" width=\"221.00000000000003\" height=\"99.84375\"/></clipPath><clipPath class=\"axesclip\" id=\"clip372127x28y14\"><rect x=\"899\" y=\"665.78125\" width=\"221.00000000000003\" height=\"99.84375\"/></clipPath><clipPath class=\"axesclip\" id=\"clip372127x28y15\"><rect x=\"899\" y=\"665.78125\" width=\"221.00000000000003\" height=\"99.84375\"/></clipPath><clipPath class=\"axesclip\" id=\"clip372127x28y16\"><rect x=\"899\" y=\"665.78125\" width=\"221.00000000000003\" height=\"99.84375\"/></clipPath><clipPath class=\"axesclip\" id=\"clip372127x28y17\"><rect x=\"899\" y=\"854.375\" width=\"221.00000000000003\" height=\"99.84375\"/></clipPath><clipPath class=\"axesclip\" id=\"clip372127x28y18\"><rect x=\"899\" y=\"854.375\" width=\"221.00000000000003\" height=\"99.84375\"/></clipPath><clipPath class=\"axesclip\" id=\"clip372127x28y19\"><rect x=\"899\" y=\"854.375\" width=\"221.00000000000003\" height=\"99.84375\"/></clipPath><clipPath class=\"axesclip\" id=\"clip372127x28y20\"><rect x=\"899\" y=\"854.375\" width=\"221.00000000000003\" height=\"99.84375\"/></clipPath><clipPath class=\"axesclip\" id=\"clip372127x28y21\"><rect x=\"899\" y=\"1042.96875\" width=\"221.00000000000003\" height=\"99.84375\"/></clipPath><clipPath class=\"axesclip\" id=\"clip372127x28y22\"><rect x=\"899\" y=\"1042.96875\" width=\"221.00000000000003\" height=\"99.84375\"/></clipPath><clipPath class=\"axesclip\" id=\"clip372127x28y23\"><rect x=\"899\" y=\"1042.96875\" width=\"221.00000000000003\" height=\"99.84375\"/></clipPath><clipPath class=\"axesclip\" id=\"clip372127x28y24\"><rect x=\"899\" y=\"1042.96875\" width=\"221.00000000000003\" height=\"99.84375\"/></clipPath><clipPath class=\"axesclip\" id=\"clip372127x28y25\"><rect x=\"899\" y=\"1231.5625\" width=\"221.00000000000003\" height=\"99.84375\"/></clipPath><clipPath class=\"axesclip\" id=\"clip372127x28y26\"><rect x=\"899\" y=\"1231.5625\" width=\"221.00000000000003\" height=\"99.84375\"/></clipPath><clipPath class=\"axesclip\" id=\"clip372127x28y27\"><rect x=\"899\" y=\"1231.5625\" width=\"221.00000000000003\" height=\"99.84375\"/></clipPath><clipPath class=\"axesclip\" id=\"clip372127x28y28\"><rect x=\"899\" y=\"1231.5625\" width=\"221.00000000000003\" height=\"99.84375\"/></clipPath><clipPath class=\"axesclip\" id=\"clip372127x28y29\"><rect x=\"899\" y=\"1420.15625\" width=\"221.00000000000003\" height=\"99.84375\"/></clipPath><clipPath class=\"axesclip\" id=\"clip372127x28y30\"><rect x=\"899\" y=\"1420.15625\" width=\"221.00000000000003\" height=\"99.84375\"/></clipPath><clipPath class=\"axesclip\" id=\"clip372127x29\"><rect x=\"80\" y=\"0\" width=\"221\" height=\"1600\"/></clipPath><clipPath class=\"axesclip\" id=\"clip372127x29y\"><rect x=\"80\" y=\"100\" width=\"221\" height=\"99.84375\"/></clipPath><clipPath class=\"axesclip\" id=\"clip372127x29y2\"><rect x=\"80\" y=\"100\" width=\"221\" height=\"99.84375\"/></clipPath><clipPath class=\"axesclip\" id=\"clip372127x29y3\"><rect x=\"80\" y=\"100\" width=\"221\" height=\"99.84375\"/></clipPath><clipPath class=\"axesclip\" id=\"clip372127x29y4\"><rect x=\"80\" y=\"100\" width=\"221\" height=\"99.84375\"/></clipPath><clipPath class=\"axesclip\" id=\"clip372127x29y5\"><rect x=\"80\" y=\"288.59375\" width=\"221\" height=\"99.84375\"/></clipPath><clipPath class=\"axesclip\" id=\"clip372127x29y6\"><rect x=\"80\" y=\"288.59375\" width=\"221\" height=\"99.84375\"/></clipPath><clipPath class=\"axesclip\" id=\"clip372127x29y7\"><rect x=\"80\" y=\"288.59375\" width=\"221\" height=\"99.84375\"/></clipPath><clipPath class=\"axesclip\" id=\"clip372127x29y8\"><rect x=\"80\" y=\"288.59375\" width=\"221\" height=\"99.84375\"/></clipPath><clipPath class=\"axesclip\" id=\"clip372127x29y9\"><rect x=\"80\" y=\"477.1875\" width=\"221\" height=\"99.84375\"/></clipPath><clipPath class=\"axesclip\" id=\"clip372127x29y10\"><rect x=\"80\" y=\"477.1875\" width=\"221\" height=\"99.84375\"/></clipPath><clipPath class=\"axesclip\" id=\"clip372127x29y11\"><rect x=\"80\" y=\"477.1875\" width=\"221\" height=\"99.84375\"/></clipPath><clipPath class=\"axesclip\" id=\"clip372127x29y12\"><rect x=\"80\" y=\"477.1875\" width=\"221\" height=\"99.84375\"/></clipPath><clipPath class=\"axesclip\" id=\"clip372127x29y13\"><rect x=\"80\" y=\"665.78125\" width=\"221\" height=\"99.84375\"/></clipPath><clipPath class=\"axesclip\" id=\"clip372127x29y14\"><rect x=\"80\" y=\"665.78125\" width=\"221\" height=\"99.84375\"/></clipPath><clipPath class=\"axesclip\" id=\"clip372127x29y15\"><rect x=\"80\" y=\"665.78125\" width=\"221\" height=\"99.84375\"/></clipPath><clipPath class=\"axesclip\" id=\"clip372127x29y16\"><rect x=\"80\" y=\"665.78125\" width=\"221\" height=\"99.84375\"/></clipPath><clipPath class=\"axesclip\" id=\"clip372127x29y17\"><rect x=\"80\" y=\"854.375\" width=\"221\" height=\"99.84375\"/></clipPath><clipPath class=\"axesclip\" id=\"clip372127x29y18\"><rect x=\"80\" y=\"854.375\" width=\"221\" height=\"99.84375\"/></clipPath><clipPath class=\"axesclip\" id=\"clip372127x29y19\"><rect x=\"80\" y=\"854.375\" width=\"221\" height=\"99.84375\"/></clipPath><clipPath class=\"axesclip\" id=\"clip372127x29y20\"><rect x=\"80\" y=\"854.375\" width=\"221\" height=\"99.84375\"/></clipPath><clipPath class=\"axesclip\" id=\"clip372127x29y21\"><rect x=\"80\" y=\"1042.96875\" width=\"221\" height=\"99.84375\"/></clipPath><clipPath class=\"axesclip\" id=\"clip372127x29y22\"><rect x=\"80\" y=\"1042.96875\" width=\"221\" height=\"99.84375\"/></clipPath><clipPath class=\"axesclip\" id=\"clip372127x29y23\"><rect x=\"80\" y=\"1042.96875\" width=\"221\" height=\"99.84375\"/></clipPath><clipPath class=\"axesclip\" id=\"clip372127x29y24\"><rect x=\"80\" y=\"1042.96875\" width=\"221\" height=\"99.84375\"/></clipPath><clipPath class=\"axesclip\" id=\"clip372127x29y25\"><rect x=\"80\" y=\"1231.5625\" width=\"221\" height=\"99.84375\"/></clipPath><clipPath class=\"axesclip\" id=\"clip372127x29y26\"><rect x=\"80\" y=\"1231.5625\" width=\"221\" height=\"99.84375\"/></clipPath><clipPath class=\"axesclip\" id=\"clip372127x29y27\"><rect x=\"80\" y=\"1231.5625\" width=\"221\" height=\"99.84375\"/></clipPath><clipPath class=\"axesclip\" id=\"clip372127x29y28\"><rect x=\"80\" y=\"1231.5625\" width=\"221\" height=\"99.84375\"/></clipPath><clipPath class=\"axesclip\" id=\"clip372127x29y29\"><rect x=\"80\" y=\"1420.15625\" width=\"221\" height=\"99.84375\"/></clipPath><clipPath class=\"axesclip\" id=\"clip372127x29y30\"><rect x=\"80\" y=\"1420.15625\" width=\"221\" height=\"99.84375\"/></clipPath><clipPath class=\"axesclip\" id=\"clip372127x30\"><rect x=\"353\" y=\"0\" width=\"220.99999999999997\" height=\"1600\"/></clipPath><clipPath class=\"axesclip\" id=\"clip372127x30y\"><rect x=\"353\" y=\"100\" width=\"220.99999999999997\" height=\"99.84375\"/></clipPath><clipPath class=\"axesclip\" id=\"clip372127x30y2\"><rect x=\"353\" y=\"100\" width=\"220.99999999999997\" height=\"99.84375\"/></clipPath><clipPath class=\"axesclip\" id=\"clip372127x30y3\"><rect x=\"353\" y=\"100\" width=\"220.99999999999997\" height=\"99.84375\"/></clipPath><clipPath class=\"axesclip\" id=\"clip372127x30y4\"><rect x=\"353\" y=\"100\" width=\"220.99999999999997\" height=\"99.84375\"/></clipPath><clipPath class=\"axesclip\" id=\"clip372127x30y5\"><rect x=\"353\" y=\"288.59375\" width=\"220.99999999999997\" height=\"99.84375\"/></clipPath><clipPath class=\"axesclip\" id=\"clip372127x30y6\"><rect x=\"353\" y=\"288.59375\" width=\"220.99999999999997\" height=\"99.84375\"/></clipPath><clipPath class=\"axesclip\" id=\"clip372127x30y7\"><rect x=\"353\" y=\"288.59375\" width=\"220.99999999999997\" height=\"99.84375\"/></clipPath><clipPath class=\"axesclip\" id=\"clip372127x30y8\"><rect x=\"353\" y=\"288.59375\" width=\"220.99999999999997\" height=\"99.84375\"/></clipPath><clipPath class=\"axesclip\" id=\"clip372127x30y9\"><rect x=\"353\" y=\"477.1875\" width=\"220.99999999999997\" height=\"99.84375\"/></clipPath><clipPath class=\"axesclip\" id=\"clip372127x30y10\"><rect x=\"353\" y=\"477.1875\" width=\"220.99999999999997\" height=\"99.84375\"/></clipPath><clipPath class=\"axesclip\" id=\"clip372127x30y11\"><rect x=\"353\" y=\"477.1875\" width=\"220.99999999999997\" height=\"99.84375\"/></clipPath><clipPath class=\"axesclip\" id=\"clip372127x30y12\"><rect x=\"353\" y=\"477.1875\" width=\"220.99999999999997\" height=\"99.84375\"/></clipPath><clipPath class=\"axesclip\" id=\"clip372127x30y13\"><rect x=\"353\" y=\"665.78125\" width=\"220.99999999999997\" height=\"99.84375\"/></clipPath><clipPath class=\"axesclip\" id=\"clip372127x30y14\"><rect x=\"353\" y=\"665.78125\" width=\"220.99999999999997\" height=\"99.84375\"/></clipPath><clipPath class=\"axesclip\" id=\"clip372127x30y15\"><rect x=\"353\" y=\"665.78125\" width=\"220.99999999999997\" height=\"99.84375\"/></clipPath><clipPath class=\"axesclip\" id=\"clip372127x30y16\"><rect x=\"353\" y=\"665.78125\" width=\"220.99999999999997\" height=\"99.84375\"/></clipPath><clipPath class=\"axesclip\" id=\"clip372127x30y17\"><rect x=\"353\" y=\"854.375\" width=\"220.99999999999997\" height=\"99.84375\"/></clipPath><clipPath class=\"axesclip\" id=\"clip372127x30y18\"><rect x=\"353\" y=\"854.375\" width=\"220.99999999999997\" height=\"99.84375\"/></clipPath><clipPath class=\"axesclip\" id=\"clip372127x30y19\"><rect x=\"353\" y=\"854.375\" width=\"220.99999999999997\" height=\"99.84375\"/></clipPath><clipPath class=\"axesclip\" id=\"clip372127x30y20\"><rect x=\"353\" y=\"854.375\" width=\"220.99999999999997\" height=\"99.84375\"/></clipPath><clipPath class=\"axesclip\" id=\"clip372127x30y21\"><rect x=\"353\" y=\"1042.96875\" width=\"220.99999999999997\" height=\"99.84375\"/></clipPath><clipPath class=\"axesclip\" id=\"clip372127x30y22\"><rect x=\"353\" y=\"1042.96875\" width=\"220.99999999999997\" height=\"99.84375\"/></clipPath><clipPath class=\"axesclip\" id=\"clip372127x30y23\"><rect x=\"353\" y=\"1042.96875\" width=\"220.99999999999997\" height=\"99.84375\"/></clipPath><clipPath class=\"axesclip\" id=\"clip372127x30y24\"><rect x=\"353\" y=\"1042.96875\" width=\"220.99999999999997\" height=\"99.84375\"/></clipPath><clipPath class=\"axesclip\" id=\"clip372127x30y25\"><rect x=\"353\" y=\"1231.5625\" width=\"220.99999999999997\" height=\"99.84375\"/></clipPath><clipPath class=\"axesclip\" id=\"clip372127x30y26\"><rect x=\"353\" y=\"1231.5625\" width=\"220.99999999999997\" height=\"99.84375\"/></clipPath><clipPath class=\"axesclip\" id=\"clip372127x30y27\"><rect x=\"353\" y=\"1231.5625\" width=\"220.99999999999997\" height=\"99.84375\"/></clipPath><clipPath class=\"axesclip\" id=\"clip372127x30y28\"><rect x=\"353\" y=\"1231.5625\" width=\"220.99999999999997\" height=\"99.84375\"/></clipPath><clipPath class=\"axesclip\" id=\"clip372127x30y29\"><rect x=\"353\" y=\"1420.15625\" width=\"220.99999999999997\" height=\"99.84375\"/></clipPath><clipPath class=\"axesclip\" id=\"clip372127x30y30\"><rect x=\"353\" y=\"1420.15625\" width=\"220.99999999999997\" height=\"99.84375\"/></clipPath></g><g class=\"gradients\"/><g class=\"patterns\"/></defs><g class=\"bglayer\"/><g class=\"layer-below\"><g class=\"imagelayer\"/><g class=\"shapelayer\"/></g><g class=\"cartesianlayer\"><g class=\"subplot xy\"><g class=\"layer-subplot\"><g class=\"shapelayer\"/><g class=\"imagelayer\"/></g><g class=\"minor-gridlayer\"><g class=\"x\"/><g class=\"y\"/></g><g class=\"gridlayer\"><g class=\"x\"/><g class=\"y\"><path class=\"ygrid crisp\" transform=\"translate(0,176.13)\" d=\"M80,0h221\" style=\"stroke: rgb(235, 240, 248); stroke-opacity: 1; stroke-width: 1px;\"/><path class=\"ygrid crisp\" transform=\"translate(0,152.42000000000002)\" d=\"M80,0h221\" style=\"stroke: rgb(235, 240, 248); stroke-opacity: 1; stroke-width: 1px;\"/><path class=\"ygrid crisp\" transform=\"translate(0,128.71)\" d=\"M80,0h221\" style=\"stroke: rgb(235, 240, 248); stroke-opacity: 1; stroke-width: 1px;\"/><path class=\"ygrid crisp\" transform=\"translate(0,104.99)\" d=\"M80,0h221\" style=\"stroke: rgb(235, 240, 248); stroke-opacity: 1; stroke-width: 1px;\"/></g></g><g class=\"zerolinelayer\"><path class=\"yzl zl crisp\" transform=\"translate(0,199.84)\" d=\"M80,0h221\" style=\"stroke: rgb(235, 240, 248); stroke-opacity: 1; stroke-width: 2px;\"/></g><path class=\"xlines-below\"/><path class=\"ylines-below\"/><g class=\"overlines-below\"/><g class=\"xaxislayer-below\"/><g class=\"yaxislayer-below\"/><g class=\"overaxes-below\"/><g class=\"plot\" transform=\"translate(80,100)\" clip-path=\"url(#clip372127xyplot)\"><g class=\"barlayer mlayer\"><g class=\"trace bars\" style=\"opacity: 1;\"><g class=\"points\"><g class=\"point\"><path d=\"M1.11,99.84V52.42H21V99.84Z\" style=\"vector-effect: non-scaling-stroke; opacity: 1; stroke-width: 0px; fill: rgb(99, 110, 250); fill-opacity: 1;\"/></g><g class=\"point\"><path d=\"M0,0Z\" style=\"vector-effect: non-scaling-stroke; opacity: 1; stroke-width: 0px; fill: rgb(99, 110, 250); fill-opacity: 1;\"/></g><g class=\"point\"><path d=\"M0,0Z\" style=\"vector-effect: non-scaling-stroke; opacity: 1; stroke-width: 0px; fill: rgb(99, 110, 250); fill-opacity: 1;\"/></g><g class=\"point\"><path d=\"M0,0Z\" style=\"vector-effect: non-scaling-stroke; opacity: 1; stroke-width: 0px; fill: rgb(99, 110, 250); fill-opacity: 1;\"/></g><g class=\"point\"><path d=\"M0,0Z\" style=\"vector-effect: non-scaling-stroke; opacity: 1; stroke-width: 0px; fill: rgb(99, 110, 250); fill-opacity: 1;\"/></g><g class=\"point\"><path d=\"M111.61,99.84V52.42H131.5V99.84Z\" style=\"vector-effect: non-scaling-stroke; opacity: 1; stroke-width: 0px; fill: rgb(99, 110, 250); fill-opacity: 1;\"/></g><g class=\"point\"><path d=\"M133.7,99.84V4.99H153.6V99.84Z\" style=\"vector-effect: non-scaling-stroke; opacity: 1; stroke-width: 0px; fill: rgb(99, 110, 250); fill-opacity: 1;\"/></g><g class=\"point\"><path d=\"M0,0Z\" style=\"vector-effect: non-scaling-stroke; opacity: 1; stroke-width: 0px; fill: rgb(99, 110, 250); fill-opacity: 1;\"/></g><g class=\"point\"><path d=\"M0,0Z\" style=\"vector-effect: non-scaling-stroke; opacity: 1; stroke-width: 0px; fill: rgb(99, 110, 250); fill-opacity: 1;\"/></g><g class=\"point\"><path d=\"M200.01,99.84V52.42H219.9V99.84Z\" style=\"vector-effect: non-scaling-stroke; opacity: 1; stroke-width: 0px; fill: rgb(99, 110, 250); fill-opacity: 1;\"/></g></g></g></g></g><g class=\"overplot\"/><path class=\"xlines-above crisp\" d=\"M0,0\" style=\"fill: none;\"/><path class=\"ylines-above crisp\" d=\"M0,0\" style=\"fill: none;\"/><g class=\"overlines-above\"/><g class=\"xaxislayer-above\"><g class=\"xtick\"><text text-anchor=\"middle\" x=\"0\" y=\"212.84375\" transform=\"translate(104.31,0)\" style=\"font-family: 'Open Sans', verdana, arial, sans-serif; font-size: 12px; fill: rgb(42, 63, 95); fill-opacity: 1; white-space: pre; opacity: 1;\">60</text></g><g class=\"xtick\"><text text-anchor=\"middle\" x=\"0\" y=\"212.84375\" style=\"font-family: 'Open Sans', verdana, arial, sans-serif; font-size: 12px; fill: rgb(42, 63, 95); fill-opacity: 1; white-space: pre; opacity: 1;\" transform=\"translate(192.70999999999998,0)\">80</text></g><g class=\"xtick\"><text text-anchor=\"middle\" x=\"0\" y=\"212.84375\" style=\"font-family: 'Open Sans', verdana, arial, sans-serif; font-size: 12px; fill: rgb(42, 63, 95); fill-opacity: 1; white-space: pre; opacity: 1;\" transform=\"translate(281.11,0)\">100</text></g></g><g class=\"yaxislayer-above\"><g class=\"ytick\"><text text-anchor=\"end\" x=\"79\" y=\"4.199999999999999\" transform=\"translate(0,199.84)\" style=\"font-family: 'Open Sans', verdana, arial, sans-serif; font-size: 12px; fill: rgb(42, 63, 95); fill-opacity: 1; white-space: pre; opacity: 1;\">0</text></g><g class=\"ytick\"><text text-anchor=\"end\" x=\"79\" y=\"4.199999999999999\" style=\"font-family: 'Open Sans', verdana, arial, sans-serif; font-size: 12px; fill: rgb(42, 63, 95); fill-opacity: 1; white-space: pre; opacity: 1;\" transform=\"translate(0,176.13)\">0.5</text></g><g class=\"ytick\"><text text-anchor=\"end\" x=\"79\" y=\"4.199999999999999\" style=\"font-family: 'Open Sans', verdana, arial, sans-serif; font-size: 12px; fill: rgb(42, 63, 95); fill-opacity: 1; white-space: pre; opacity: 1;\" transform=\"translate(0,152.42000000000002)\">1</text></g><g class=\"ytick\"><text text-anchor=\"end\" x=\"79\" y=\"4.199999999999999\" style=\"font-family: 'Open Sans', verdana, arial, sans-serif; font-size: 12px; fill: rgb(42, 63, 95); fill-opacity: 1; white-space: pre; opacity: 1;\" transform=\"translate(0,128.71)\">1.5</text></g><g class=\"ytick\"><text text-anchor=\"end\" x=\"79\" y=\"4.199999999999999\" style=\"font-family: 'Open Sans', verdana, arial, sans-serif; font-size: 12px; fill: rgb(42, 63, 95); fill-opacity: 1; white-space: pre; opacity: 1;\" transform=\"translate(0,104.99)\">2</text></g></g><g class=\"overaxes-above\"/></g><g class=\"subplot x2y2\"><g class=\"layer-subplot\"><g class=\"shapelayer\"/><g class=\"imagelayer\"/></g><g class=\"minor-gridlayer\"><g class=\"x2\"/><g class=\"y2\"/></g><g class=\"gridlayer\"><g class=\"x2\"/><g class=\"y2\"><path class=\"y2grid crisp\" transform=\"translate(0,168.23000000000002)\" d=\"M353,0h220.99999999999997\" style=\"stroke: rgb(235, 240, 248); stroke-opacity: 1; stroke-width: 1px;\"/><path class=\"y2grid crisp\" transform=\"translate(0,136.61)\" d=\"M353,0h220.99999999999997\" style=\"stroke: rgb(235, 240, 248); stroke-opacity: 1; stroke-width: 1px;\"/><path class=\"y2grid crisp\" transform=\"translate(0,104.99)\" d=\"M353,0h220.99999999999997\" style=\"stroke: rgb(235, 240, 248); stroke-opacity: 1; stroke-width: 1px;\"/></g></g><g class=\"zerolinelayer\"><path class=\"y2zl zl crisp\" transform=\"translate(0,199.84)\" d=\"M353,0h220.99999999999997\" style=\"stroke: rgb(235, 240, 248); stroke-opacity: 1; stroke-width: 2px;\"/></g><path class=\"xlines-below\"/><path class=\"ylines-below\"/><g class=\"overlines-below\"/><g class=\"xaxislayer-below\"/><g class=\"yaxislayer-below\"/><g class=\"overaxes-below\"/><g class=\"plot\" transform=\"translate(353,100)\" clip-path=\"url(#clip372127x2y2plot)\"><g class=\"barlayer mlayer\"><g class=\"trace bars\" style=\"opacity: 1;\"><g class=\"points\"><g class=\"point\"><path d=\"M1.84,99.84V68.23H34.99V99.84Z\" style=\"vector-effect: non-scaling-stroke; opacity: 1; stroke-width: 0px; fill: rgb(99, 110, 250); fill-opacity: 1;\"/></g><g class=\"point\"><path d=\"M0,0Z\" style=\"vector-effect: non-scaling-stroke; opacity: 1; stroke-width: 0px; fill: rgb(99, 110, 250); fill-opacity: 1;\"/></g><g class=\"point\"><path d=\"M75.51,99.84V68.23H108.66V99.84Z\" style=\"vector-effect: non-scaling-stroke; opacity: 1; stroke-width: 0px; fill: rgb(99, 110, 250); fill-opacity: 1;\"/></g><g class=\"point\"><path d=\"M0,0Z\" style=\"vector-effect: non-scaling-stroke; opacity: 1; stroke-width: 0px; fill: rgb(99, 110, 250); fill-opacity: 1;\"/></g><g class=\"point\"><path d=\"M0,0Z\" style=\"vector-effect: non-scaling-stroke; opacity: 1; stroke-width: 0px; fill: rgb(99, 110, 250); fill-opacity: 1;\"/></g><g class=\"point\"><path d=\"M186.01,99.84V4.99H219.16V99.84Z\" style=\"vector-effect: non-scaling-stroke; opacity: 1; stroke-width: 0px; fill: rgb(99, 110, 250); fill-opacity: 1;\"/></g></g></g></g></g><g class=\"overplot\"/><path class=\"xlines-above crisp\" d=\"M0,0\" style=\"fill: none;\"/><path class=\"ylines-above crisp\" d=\"M0,0\" style=\"fill: none;\"/><g class=\"overlines-above\"/><g class=\"xaxislayer-above\"><g class=\"x2tick\"><text text-anchor=\"middle\" x=\"0\" y=\"212.84375\" transform=\"translate(408.25,0)\" style=\"font-family: 'Open Sans', verdana, arial, sans-serif; font-size: 12px; fill: rgb(42, 63, 95); fill-opacity: 1; white-space: pre; opacity: 1;\">80</text></g><g class=\"x2tick\"><text text-anchor=\"middle\" x=\"0\" y=\"212.84375\" style=\"font-family: 'Open Sans', verdana, arial, sans-serif; font-size: 12px; fill: rgb(42, 63, 95); fill-opacity: 1; white-space: pre; opacity: 1;\" transform=\"translate(481.91999999999996,0)\">90</text></g><g class=\"x2tick\"><text text-anchor=\"middle\" x=\"0\" y=\"212.84375\" style=\"font-family: 'Open Sans', verdana, arial, sans-serif; font-size: 12px; fill: rgb(42, 63, 95); fill-opacity: 1; white-space: pre; opacity: 1;\" transform=\"translate(555.58,0)\">100</text></g></g><g class=\"yaxislayer-above\"><g class=\"y2tick\"><text text-anchor=\"end\" x=\"352\" y=\"4.199999999999999\" transform=\"translate(0,199.84)\" style=\"font-family: 'Open Sans', verdana, arial, sans-serif; font-size: 12px; fill: rgb(42, 63, 95); fill-opacity: 1; white-space: pre; opacity: 1;\">0</text></g><g class=\"y2tick\"><text text-anchor=\"end\" x=\"352\" y=\"4.199999999999999\" style=\"font-family: 'Open Sans', verdana, arial, sans-serif; font-size: 12px; fill: rgb(42, 63, 95); fill-opacity: 1; white-space: pre; opacity: 1;\" transform=\"translate(0,168.23000000000002)\">1</text></g><g class=\"y2tick\"><text text-anchor=\"end\" x=\"352\" y=\"4.199999999999999\" style=\"font-family: 'Open Sans', verdana, arial, sans-serif; font-size: 12px; fill: rgb(42, 63, 95); fill-opacity: 1; white-space: pre; opacity: 1;\" transform=\"translate(0,136.61)\">2</text></g><g class=\"y2tick\"><text text-anchor=\"end\" x=\"352\" y=\"4.199999999999999\" style=\"font-family: 'Open Sans', verdana, arial, sans-serif; font-size: 12px; fill: rgb(42, 63, 95); fill-opacity: 1; white-space: pre; opacity: 1;\" transform=\"translate(0,104.99)\">3</text></g></g><g class=\"overaxes-above\"/></g><g class=\"subplot x3y3\"><g class=\"layer-subplot\"><g class=\"shapelayer\"/><g class=\"imagelayer\"/></g><g class=\"minor-gridlayer\"><g class=\"x3\"/><g class=\"y3\"/></g><g class=\"gridlayer\"><g class=\"x3\"/><g class=\"y3\"><path class=\"y3grid crisp\" transform=\"translate(0,176.13)\" d=\"M626,0h221.00000000000003\" style=\"stroke: rgb(235, 240, 248); stroke-opacity: 1; stroke-width: 1px;\"/><path class=\"y3grid crisp\" transform=\"translate(0,152.42000000000002)\" d=\"M626,0h221.00000000000003\" style=\"stroke: rgb(235, 240, 248); stroke-opacity: 1; stroke-width: 1px;\"/><path class=\"y3grid crisp\" transform=\"translate(0,128.71)\" d=\"M626,0h221.00000000000003\" style=\"stroke: rgb(235, 240, 248); stroke-opacity: 1; stroke-width: 1px;\"/><path class=\"y3grid crisp\" transform=\"translate(0,104.99)\" d=\"M626,0h221.00000000000003\" style=\"stroke: rgb(235, 240, 248); stroke-opacity: 1; stroke-width: 1px;\"/></g></g><g class=\"zerolinelayer\"><path class=\"y3zl zl crisp\" transform=\"translate(0,199.84)\" d=\"M626,0h221.00000000000003\" style=\"stroke: rgb(235, 240, 248); stroke-opacity: 1; stroke-width: 2px;\"/></g><path class=\"xlines-below\"/><path class=\"ylines-below\"/><g class=\"overlines-below\"/><g class=\"xaxislayer-below\"/><g class=\"yaxislayer-below\"/><g class=\"overaxes-below\"/><g class=\"plot\" transform=\"translate(626,100)\" clip-path=\"url(#clip372127x3y3plot)\"><g class=\"barlayer mlayer\"><g class=\"trace bars\" style=\"opacity: 1;\"><g class=\"points\"><g class=\"point\"><path d=\"M1.58,99.84V4.99H29.99V99.84Z\" style=\"vector-effect: non-scaling-stroke; opacity: 1; stroke-width: 0px; fill: rgb(99, 110, 250); fill-opacity: 1;\"/></g><g class=\"point\"><path d=\"M33.15,99.84V4.99H61.56V99.84Z\" style=\"vector-effect: non-scaling-stroke; opacity: 1; stroke-width: 0px; fill: rgb(99, 110, 250); fill-opacity: 1;\"/></g><g class=\"point\"><path d=\"M0,0Z\" style=\"vector-effect: non-scaling-stroke; opacity: 1; stroke-width: 0px; fill: rgb(99, 110, 250); fill-opacity: 1;\"/></g><g class=\"point\"><path d=\"M0,0Z\" style=\"vector-effect: non-scaling-stroke; opacity: 1; stroke-width: 0px; fill: rgb(99, 110, 250); fill-opacity: 1;\"/></g><g class=\"point\"><path d=\"M0,0Z\" style=\"vector-effect: non-scaling-stroke; opacity: 1; stroke-width: 0px; fill: rgb(99, 110, 250); fill-opacity: 1;\"/></g><g class=\"point\"><path d=\"M0,0Z\" style=\"vector-effect: non-scaling-stroke; opacity: 1; stroke-width: 0px; fill: rgb(99, 110, 250); fill-opacity: 1;\"/></g><g class=\"point\"><path d=\"M191.01,99.84V52.42H219.42V99.84Z\" style=\"vector-effect: non-scaling-stroke; opacity: 1; stroke-width: 0px; fill: rgb(99, 110, 250); fill-opacity: 1;\"/></g></g></g></g></g><g class=\"overplot\"/><path class=\"xlines-above crisp\" d=\"M0,0\" style=\"fill: none;\"/><path class=\"ylines-above crisp\" d=\"M0,0\" style=\"fill: none;\"/><g class=\"overlines-above\"/><g class=\"xaxislayer-above\"><g class=\"x3tick\"><text text-anchor=\"middle\" x=\"0\" y=\"212.84375\" transform=\"translate(641.79,0)\" style=\"font-family: 'Open Sans', verdana, arial, sans-serif; font-size: 12px; fill: rgb(42, 63, 95); fill-opacity: 1; white-space: pre; opacity: 1;\">0</text></g><g class=\"x3tick\"><text text-anchor=\"middle\" x=\"0\" y=\"212.84375\" style=\"font-family: 'Open Sans', verdana, arial, sans-serif; font-size: 12px; fill: rgb(42, 63, 95); fill-opacity: 1; white-space: pre; opacity: 1;\" transform=\"translate(704.9300000000001,0)\">0.01</text></g><g class=\"x3tick\"><text text-anchor=\"middle\" x=\"0\" y=\"212.84375\" style=\"font-family: 'Open Sans', verdana, arial, sans-serif; font-size: 12px; fill: rgb(42, 63, 95); fill-opacity: 1; white-space: pre; opacity: 1;\" transform=\"translate(768.0699999999999,0)\">0.02</text></g><g class=\"x3tick\"><text text-anchor=\"middle\" x=\"0\" y=\"212.84375\" style=\"font-family: 'Open Sans', verdana, arial, sans-serif; font-size: 12px; fill: rgb(42, 63, 95); fill-opacity: 1; white-space: pre; opacity: 1;\" transform=\"translate(831.21,0)\">0.03</text></g></g><g class=\"yaxislayer-above\"><g class=\"y3tick\"><text text-anchor=\"end\" x=\"625\" y=\"4.199999999999999\" transform=\"translate(0,199.84)\" style=\"font-family: 'Open Sans', verdana, arial, sans-serif; font-size: 12px; fill: rgb(42, 63, 95); fill-opacity: 1; white-space: pre; opacity: 1;\">0</text></g><g class=\"y3tick\"><text text-anchor=\"end\" x=\"625\" y=\"4.199999999999999\" style=\"font-family: 'Open Sans', verdana, arial, sans-serif; font-size: 12px; fill: rgb(42, 63, 95); fill-opacity: 1; white-space: pre; opacity: 1;\" transform=\"translate(0,176.13)\">0.5</text></g><g class=\"y3tick\"><text text-anchor=\"end\" x=\"625\" y=\"4.199999999999999\" style=\"font-family: 'Open Sans', verdana, arial, sans-serif; font-size: 12px; fill: rgb(42, 63, 95); fill-opacity: 1; white-space: pre; opacity: 1;\" transform=\"translate(0,152.42000000000002)\">1</text></g><g class=\"y3tick\"><text text-anchor=\"end\" x=\"625\" y=\"4.199999999999999\" style=\"font-family: 'Open Sans', verdana, arial, sans-serif; font-size: 12px; fill: rgb(42, 63, 95); fill-opacity: 1; white-space: pre; opacity: 1;\" transform=\"translate(0,128.71)\">1.5</text></g><g class=\"y3tick\"><text text-anchor=\"end\" x=\"625\" y=\"4.199999999999999\" style=\"font-family: 'Open Sans', verdana, arial, sans-serif; font-size: 12px; fill: rgb(42, 63, 95); fill-opacity: 1; white-space: pre; opacity: 1;\" transform=\"translate(0,104.99)\">2</text></g></g><g class=\"overaxes-above\"/></g><g class=\"subplot x4y4\"><g class=\"layer-subplot\"><g class=\"shapelayer\"/><g class=\"imagelayer\"/></g><g class=\"minor-gridlayer\"><g class=\"x4\"/><g class=\"y4\"/></g><g class=\"gridlayer\"><g class=\"x4\"/><g class=\"y4\"><path class=\"y4grid crisp\" transform=\"translate(0,176.13)\" d=\"M899,0h221.00000000000003\" style=\"stroke: rgb(235, 240, 248); stroke-opacity: 1; stroke-width: 1px;\"/><path class=\"y4grid crisp\" transform=\"translate(0,152.42000000000002)\" d=\"M899,0h221.00000000000003\" style=\"stroke: rgb(235, 240, 248); stroke-opacity: 1; stroke-width: 1px;\"/><path class=\"y4grid crisp\" transform=\"translate(0,128.71)\" d=\"M899,0h221.00000000000003\" style=\"stroke: rgb(235, 240, 248); stroke-opacity: 1; stroke-width: 1px;\"/><path class=\"y4grid crisp\" transform=\"translate(0,104.99)\" d=\"M899,0h221.00000000000003\" style=\"stroke: rgb(235, 240, 248); stroke-opacity: 1; stroke-width: 1px;\"/></g></g><g class=\"zerolinelayer\"><path class=\"y4zl zl crisp\" transform=\"translate(0,199.84)\" d=\"M899,0h221.00000000000003\" style=\"stroke: rgb(235, 240, 248); stroke-opacity: 1; stroke-width: 2px;\"/></g><path class=\"xlines-below\"/><path class=\"ylines-below\"/><g class=\"overlines-below\"/><g class=\"xaxislayer-below\"/><g class=\"yaxislayer-below\"/><g class=\"overaxes-below\"/><g class=\"plot\" transform=\"translate(899,100)\" clip-path=\"url(#clip372127x4y4plot)\"><g class=\"barlayer mlayer\"><g class=\"trace bars\" style=\"opacity: 1;\"><g class=\"points\"><g class=\"point\"><path d=\"M2.76,99.84V4.99H52.49V99.84Z\" style=\"vector-effect: non-scaling-stroke; opacity: 1; stroke-width: 0px; fill: rgb(99, 110, 250); fill-opacity: 1;\"/></g><g class=\"point\"><path d=\"M58.01,99.84V52.42H107.74V99.84Z\" style=\"vector-effect: non-scaling-stroke; opacity: 1; stroke-width: 0px; fill: rgb(99, 110, 250); fill-opacity: 1;\"/></g><g class=\"point\"><path d=\"M113.26,99.84V52.42H162.99V99.84Z\" style=\"vector-effect: non-scaling-stroke; opacity: 1; stroke-width: 0px; fill: rgb(99, 110, 250); fill-opacity: 1;\"/></g><g class=\"point\"><path d=\"M168.51,99.84V52.42H218.24V99.84Z\" style=\"vector-effect: non-scaling-stroke; opacity: 1; stroke-width: 0px; fill: rgb(99, 110, 250); fill-opacity: 1;\"/></g></g></g></g></g><g class=\"overplot\"/><path class=\"xlines-above crisp\" d=\"M0,0\" style=\"fill: none;\"/><path class=\"ylines-above crisp\" d=\"M0,0\" style=\"fill: none;\"/><g class=\"overlines-above\"/><g class=\"xaxislayer-above\"><g class=\"x4tick\"><text text-anchor=\"start\" x=\"0\" y=\"212.84375\" transform=\"translate(926.63,0) rotate(30,0,206.84375)\" style=\"font-family: 'Open Sans', verdana, arial, sans-serif; font-size: 12px; fill: rgb(42, 63, 95); fill-opacity: 1; white-space: pre; opacity: 1;\">BEDROOM_2</text></g><g class=\"x4tick\"><text text-anchor=\"start\" x=\"0\" y=\"212.84375\" transform=\"translate(981.88,0) rotate(30,0,206.84375)\" style=\"font-family: 'Open Sans', verdana, arial, sans-serif; font-size: 12px; fill: rgb(42, 63, 95); fill-opacity: 1; white-space: pre; opacity: 1;\">LIVINGROOM_2</text></g><g class=\"x4tick\"><text text-anchor=\"start\" x=\"0\" y=\"212.84375\" transform=\"translate(1037.13,0) rotate(30,0,206.84375)\" style=\"font-family: 'Open Sans', verdana, arial, sans-serif; font-size: 12px; fill: rgb(42, 63, 95); fill-opacity: 1; white-space: pre; opacity: 1;\">BEDROOM_4</text></g><g class=\"x4tick\"><text text-anchor=\"start\" x=\"0\" y=\"212.84375\" transform=\"translate(1092.38,0) rotate(30,0,206.84375)\" style=\"font-family: 'Open Sans', verdana, arial, sans-serif; font-size: 12px; fill: rgb(42, 63, 95); fill-opacity: 1; white-space: pre; opacity: 1;\">LIVINGROOM_1</text></g></g><g class=\"yaxislayer-above\"><g class=\"y4tick\"><text text-anchor=\"end\" x=\"898\" y=\"4.199999999999999\" transform=\"translate(0,199.84)\" style=\"font-family: 'Open Sans', verdana, arial, sans-serif; font-size: 12px; fill: rgb(42, 63, 95); fill-opacity: 1; white-space: pre; opacity: 1;\">0</text></g><g class=\"y4tick\"><text text-anchor=\"end\" x=\"898\" y=\"4.199999999999999\" style=\"font-family: 'Open Sans', verdana, arial, sans-serif; font-size: 12px; fill: rgb(42, 63, 95); fill-opacity: 1; white-space: pre; opacity: 1;\" transform=\"translate(0,176.13)\">0.5</text></g><g class=\"y4tick\"><text text-anchor=\"end\" x=\"898\" y=\"4.199999999999999\" style=\"font-family: 'Open Sans', verdana, arial, sans-serif; font-size: 12px; fill: rgb(42, 63, 95); fill-opacity: 1; white-space: pre; opacity: 1;\" transform=\"translate(0,152.42000000000002)\">1</text></g><g class=\"y4tick\"><text text-anchor=\"end\" x=\"898\" y=\"4.199999999999999\" style=\"font-family: 'Open Sans', verdana, arial, sans-serif; font-size: 12px; fill: rgb(42, 63, 95); fill-opacity: 1; white-space: pre; opacity: 1;\" transform=\"translate(0,128.71)\">1.5</text></g><g class=\"y4tick\"><text text-anchor=\"end\" x=\"898\" y=\"4.199999999999999\" style=\"font-family: 'Open Sans', verdana, arial, sans-serif; font-size: 12px; fill: rgb(42, 63, 95); fill-opacity: 1; white-space: pre; opacity: 1;\" transform=\"translate(0,104.99)\">2</text></g></g><g class=\"overaxes-above\"/></g><g class=\"subplot x5y5\"><g class=\"layer-subplot\"><g class=\"shapelayer\"/><g class=\"imagelayer\"/></g><g class=\"minor-gridlayer\"><g class=\"x5\"/><g class=\"y5\"/></g><g class=\"gridlayer\"><g class=\"x5\"/><g class=\"y5\"><path class=\"y5grid crisp\" transform=\"translate(0,350.49375)\" d=\"M80,0h221\" style=\"stroke: rgb(235, 240, 248); stroke-opacity: 1; stroke-width: 1px;\"/><path class=\"y5grid crisp\" transform=\"translate(0,312.55375)\" d=\"M80,0h221\" style=\"stroke: rgb(235, 240, 248); stroke-opacity: 1; stroke-width: 1px;\"/></g></g><g class=\"zerolinelayer\"><path class=\"y5zl zl crisp\" transform=\"translate(0,388.43375000000003)\" d=\"M80,0h221\" style=\"stroke: rgb(235, 240, 248); stroke-opacity: 1; stroke-width: 2px;\"/></g><path class=\"xlines-below\"/><path class=\"ylines-below\"/><g class=\"overlines-below\"/><g class=\"xaxislayer-below\"/><g class=\"yaxislayer-below\"/><g class=\"overaxes-below\"/><g class=\"plot\" transform=\"translate(80,288.59375)\" clip-path=\"url(#clip372127x5y5plot)\"><g class=\"barlayer mlayer\"><g class=\"trace bars\" style=\"opacity: 1;\"><g class=\"points\"><g class=\"point\"><path d=\"M11.05,99.84V4.99H209.95V99.84Z\" style=\"vector-effect: non-scaling-stroke; opacity: 1; stroke-width: 0px; fill: rgb(99, 110, 250); fill-opacity: 1;\"/></g></g></g></g></g><g class=\"overplot\"/><path class=\"xlines-above crisp\" d=\"M0,0\" style=\"fill: none;\"/><path class=\"ylines-above crisp\" d=\"M0,0\" style=\"fill: none;\"/><g class=\"overlines-above\"/><g class=\"xaxislayer-above\"><g class=\"x5tick\"><text text-anchor=\"middle\" x=\"0\" y=\"401.4375\" transform=\"translate(190.5,0)\" style=\"font-family: 'Open Sans', verdana, arial, sans-serif; font-size: 12px; fill: rgb(42, 63, 95); fill-opacity: 1; white-space: pre; opacity: 1;\">UPPERCUT-LEFT</text></g></g><g class=\"yaxislayer-above\"><g class=\"y5tick\"><text text-anchor=\"end\" x=\"79\" y=\"4.199999999999999\" transform=\"translate(0,388.43375000000003)\" style=\"font-family: 'Open Sans', verdana, arial, sans-serif; font-size: 12px; fill: rgb(42, 63, 95); fill-opacity: 1; white-space: pre; opacity: 1;\">0</text></g><g class=\"y5tick\"><text text-anchor=\"end\" x=\"79\" y=\"4.199999999999999\" style=\"font-family: 'Open Sans', verdana, arial, sans-serif; font-size: 12px; fill: rgb(42, 63, 95); fill-opacity: 1; white-space: pre; opacity: 1;\" transform=\"translate(0,350.49375)\">2</text></g><g class=\"y5tick\"><text text-anchor=\"end\" x=\"79\" y=\"4.199999999999999\" style=\"font-family: 'Open Sans', verdana, arial, sans-serif; font-size: 12px; fill: rgb(42, 63, 95); fill-opacity: 1; white-space: pre; opacity: 1;\" transform=\"translate(0,312.55375)\">4</text></g></g><g class=\"overaxes-above\"/></g><g class=\"subplot x6y6\"><g class=\"layer-subplot\"><g class=\"shapelayer\"/><g class=\"imagelayer\"/></g><g class=\"minor-gridlayer\"><g class=\"x6\"/><g class=\"y6\"/></g><g class=\"gridlayer\"><g class=\"x6\"/><g class=\"y6\"><path class=\"y6grid crisp\" transform=\"translate(0,356.82375)\" d=\"M353,0h220.99999999999997\" style=\"stroke: rgb(235, 240, 248); stroke-opacity: 1; stroke-width: 1px;\"/><path class=\"y6grid crisp\" transform=\"translate(0,325.20375)\" d=\"M353,0h220.99999999999997\" style=\"stroke: rgb(235, 240, 248); stroke-opacity: 1; stroke-width: 1px;\"/><path class=\"y6grid crisp\" transform=\"translate(0,293.58375)\" d=\"M353,0h220.99999999999997\" style=\"stroke: rgb(235, 240, 248); stroke-opacity: 1; stroke-width: 1px;\"/></g></g><g class=\"zerolinelayer\"><path class=\"y6zl zl crisp\" transform=\"translate(0,388.43375000000003)\" d=\"M353,0h220.99999999999997\" style=\"stroke: rgb(235, 240, 248); stroke-opacity: 1; stroke-width: 2px;\"/></g><path class=\"xlines-below\"/><path class=\"ylines-below\"/><g class=\"overlines-below\"/><g class=\"xaxislayer-below\"/><g class=\"yaxislayer-below\"/><g class=\"overaxes-below\"/><g class=\"plot\" transform=\"translate(353,288.59375)\" clip-path=\"url(#clip372127x6y6plot)\"><g class=\"barlayer mlayer\"><g class=\"trace bars\" style=\"opacity: 1;\"><g class=\"points\"><g class=\"point\"><path d=\"M5.52,99.84V4.99H104.98V99.84Z\" style=\"vector-effect: non-scaling-stroke; opacity: 1; stroke-width: 0px; fill: rgb(99, 110, 250); fill-opacity: 1;\"/></g><g class=\"point\"><path d=\"M116.03,99.84V36.61H215.48V99.84Z\" style=\"vector-effect: non-scaling-stroke; opacity: 1; stroke-width: 0px; fill: rgb(99, 110, 250); fill-opacity: 1;\"/></g></g></g></g></g><g class=\"overplot\"/><path class=\"xlines-above crisp\" d=\"M0,0\" style=\"fill: none;\"/><path class=\"ylines-above crisp\" d=\"M0,0\" style=\"fill: none;\"/><g class=\"overlines-above\"/><g class=\"xaxislayer-above\"><g class=\"x6tick\"><text text-anchor=\"middle\" x=\"0\" y=\"401.4375\" transform=\"translate(408.25,0)\" style=\"font-family: 'Open Sans', verdana, arial, sans-serif; font-size: 12px; fill: rgb(42, 63, 95); fill-opacity: 1; white-space: pre; opacity: 1;\">FEMALE</text></g><g class=\"x6tick\"><text text-anchor=\"middle\" x=\"0\" y=\"401.4375\" transform=\"translate(518.75,0)\" style=\"font-family: 'Open Sans', verdana, arial, sans-serif; font-size: 12px; fill: rgb(42, 63, 95); fill-opacity: 1; white-space: pre; opacity: 1;\">MALE</text></g></g><g class=\"yaxislayer-above\"><g class=\"y6tick\"><text text-anchor=\"end\" x=\"352\" y=\"4.199999999999999\" transform=\"translate(0,388.43375000000003)\" style=\"font-family: 'Open Sans', verdana, arial, sans-serif; font-size: 12px; fill: rgb(42, 63, 95); fill-opacity: 1; white-space: pre; opacity: 1;\">0</text></g><g class=\"y6tick\"><text text-anchor=\"end\" x=\"352\" y=\"4.199999999999999\" style=\"font-family: 'Open Sans', verdana, arial, sans-serif; font-size: 12px; fill: rgb(42, 63, 95); fill-opacity: 1; white-space: pre; opacity: 1;\" transform=\"translate(0,356.82375)\">1</text></g><g class=\"y6tick\"><text text-anchor=\"end\" x=\"352\" y=\"4.199999999999999\" style=\"font-family: 'Open Sans', verdana, arial, sans-serif; font-size: 12px; fill: rgb(42, 63, 95); fill-opacity: 1; white-space: pre; opacity: 1;\" transform=\"translate(0,325.20375)\">2</text></g><g class=\"y6tick\"><text text-anchor=\"end\" x=\"352\" y=\"4.199999999999999\" style=\"font-family: 'Open Sans', verdana, arial, sans-serif; font-size: 12px; fill: rgb(42, 63, 95); fill-opacity: 1; white-space: pre; opacity: 1;\" transform=\"translate(0,293.58375)\">3</text></g></g><g class=\"overaxes-above\"/></g><g class=\"subplot x7y7\"><g class=\"layer-subplot\"><g class=\"shapelayer\"/><g class=\"imagelayer\"/></g><g class=\"minor-gridlayer\"><g class=\"x7\"/><g class=\"y7\"/></g><g class=\"gridlayer\"><g class=\"x7\"/><g class=\"y7\"><path class=\"y7grid crisp\" transform=\"translate(0,350.49375)\" d=\"M626,0h221.00000000000003\" style=\"stroke: rgb(235, 240, 248); stroke-opacity: 1; stroke-width: 1px;\"/><path class=\"y7grid crisp\" transform=\"translate(0,312.55375)\" d=\"M626,0h221.00000000000003\" style=\"stroke: rgb(235, 240, 248); stroke-opacity: 1; stroke-width: 1px;\"/></g></g><g class=\"zerolinelayer\"><path class=\"y7zl zl crisp\" transform=\"translate(0,388.43375000000003)\" d=\"M626,0h221.00000000000003\" style=\"stroke: rgb(235, 240, 248); stroke-opacity: 1; stroke-width: 2px;\"/></g><path class=\"xlines-below\"/><path class=\"ylines-below\"/><g class=\"overlines-below\"/><g class=\"xaxislayer-below\"/><g class=\"yaxislayer-below\"/><g class=\"overaxes-below\"/><g class=\"plot\" transform=\"translate(626,288.59375)\" clip-path=\"url(#clip372127x7y7plot)\"><g class=\"barlayer mlayer\"><g class=\"trace bars\" style=\"opacity: 1;\"><g class=\"points\"><g class=\"point\"><path d=\"M11.05,99.84V4.99H209.95V99.84Z\" style=\"vector-effect: non-scaling-stroke; opacity: 1; stroke-width: 0px; fill: rgb(99, 110, 250); fill-opacity: 1;\"/></g></g></g></g></g><g class=\"overplot\"/><path class=\"xlines-above crisp\" d=\"M0,0\" style=\"fill: none;\"/><path class=\"ylines-above crisp\" d=\"M0,0\" style=\"fill: none;\"/><g class=\"overlines-above\"/><g class=\"xaxislayer-above\"><g class=\"x7tick\"><text text-anchor=\"middle\" x=\"0\" y=\"401.4375\" transform=\"translate(626,0)\" style=\"font-family: 'Open Sans', verdana, arial, sans-serif; font-size: 12px; fill: rgb(42, 63, 95); fill-opacity: 1; white-space: pre; opacity: 1;\">3.5</text></g><g class=\"x7tick\"><text text-anchor=\"middle\" x=\"0\" y=\"401.4375\" style=\"font-family: 'Open Sans', verdana, arial, sans-serif; font-size: 12px; fill: rgb(42, 63, 95); fill-opacity: 1; white-space: pre; opacity: 1;\" transform=\"translate(736.5,0)\">4</text></g><g class=\"x7tick\"><text text-anchor=\"middle\" x=\"0\" y=\"401.4375\" style=\"font-family: 'Open Sans', verdana, arial, sans-serif; font-size: 12px; fill: rgb(42, 63, 95); fill-opacity: 1; white-space: pre; opacity: 1;\" transform=\"translate(847,0)\">4.5</text></g></g><g class=\"yaxislayer-above\"><g class=\"y7tick\"><text text-anchor=\"end\" x=\"625\" y=\"4.199999999999999\" transform=\"translate(0,388.43375000000003)\" style=\"font-family: 'Open Sans', verdana, arial, sans-serif; font-size: 12px; fill: rgb(42, 63, 95); fill-opacity: 1; white-space: pre; opacity: 1;\">0</text></g><g class=\"y7tick\"><text text-anchor=\"end\" x=\"625\" y=\"4.199999999999999\" style=\"font-family: 'Open Sans', verdana, arial, sans-serif; font-size: 12px; fill: rgb(42, 63, 95); fill-opacity: 1; white-space: pre; opacity: 1;\" transform=\"translate(0,350.49375)\">2</text></g><g class=\"y7tick\"><text text-anchor=\"end\" x=\"625\" y=\"4.199999999999999\" style=\"font-family: 'Open Sans', verdana, arial, sans-serif; font-size: 12px; fill: rgb(42, 63, 95); fill-opacity: 1; white-space: pre; opacity: 1;\" transform=\"translate(0,312.55375)\">4</text></g></g><g class=\"overaxes-above\"/></g><g class=\"subplot x8y8\"><g class=\"layer-subplot\"><g class=\"shapelayer\"/><g class=\"imagelayer\"/></g><g class=\"minor-gridlayer\"><g class=\"x8\"/><g class=\"y8\"/></g><g class=\"gridlayer\"><g class=\"x8\"/><g class=\"y8\"><path class=\"y8grid crisp\" transform=\"translate(0,364.72375)\" d=\"M899,0h221.00000000000003\" style=\"stroke: rgb(235, 240, 248); stroke-opacity: 1; stroke-width: 1px;\"/><path class=\"y8grid crisp\" transform=\"translate(0,341.01375)\" d=\"M899,0h221.00000000000003\" style=\"stroke: rgb(235, 240, 248); stroke-opacity: 1; stroke-width: 1px;\"/><path class=\"y8grid crisp\" transform=\"translate(0,317.30375)\" d=\"M899,0h221.00000000000003\" style=\"stroke: rgb(235, 240, 248); stroke-opacity: 1; stroke-width: 1px;\"/><path class=\"y8grid crisp\" transform=\"translate(0,293.58375)\" d=\"M899,0h221.00000000000003\" style=\"stroke: rgb(235, 240, 248); stroke-opacity: 1; stroke-width: 1px;\"/></g></g><g class=\"zerolinelayer\"><path class=\"y8zl zl crisp\" transform=\"translate(0,388.43375000000003)\" d=\"M899,0h221.00000000000003\" style=\"stroke: rgb(235, 240, 248); stroke-opacity: 1; stroke-width: 2px;\"/></g><path class=\"xlines-below\"/><path class=\"ylines-below\"/><g class=\"overlines-below\"/><g class=\"xaxislayer-below\"/><g class=\"yaxislayer-below\"/><g class=\"overaxes-below\"/><g class=\"plot\" transform=\"translate(899,288.59375)\" clip-path=\"url(#clip372127x8y8plot)\"><g class=\"barlayer mlayer\"><g class=\"trace bars\" style=\"opacity: 1;\"><g class=\"points\"><g class=\"point\"><path d=\"M1,99.84V52.42H19.09V99.84Z\" style=\"vector-effect: non-scaling-stroke; opacity: 1; stroke-width: 0px; fill: rgb(99, 110, 250); fill-opacity: 1;\"/></g><g class=\"point\"><path d=\"M21.1,99.84V52.42H39.18V99.84Z\" style=\"vector-effect: non-scaling-stroke; opacity: 1; stroke-width: 0px; fill: rgb(99, 110, 250); fill-opacity: 1;\"/></g><g class=\"point\"><path d=\"M0,0Z\" style=\"vector-effect: non-scaling-stroke; opacity: 1; stroke-width: 0px; fill: rgb(99, 110, 250); fill-opacity: 1;\"/></g><g class=\"point\"><path d=\"M0,0Z\" style=\"vector-effect: non-scaling-stroke; opacity: 1; stroke-width: 0px; fill: rgb(99, 110, 250); fill-opacity: 1;\"/></g><g class=\"point\"><path d=\"M81.37,99.84V52.42H99.45V99.84Z\" style=\"vector-effect: non-scaling-stroke; opacity: 1; stroke-width: 0px; fill: rgb(99, 110, 250); fill-opacity: 1;\"/></g><g class=\"point\"><path d=\"M0,0Z\" style=\"vector-effect: non-scaling-stroke; opacity: 1; stroke-width: 0px; fill: rgb(99, 110, 250); fill-opacity: 1;\"/></g><g class=\"point\"><path d=\"M0,0Z\" style=\"vector-effect: non-scaling-stroke; opacity: 1; stroke-width: 0px; fill: rgb(99, 110, 250); fill-opacity: 1;\"/></g><g class=\"point\"><path d=\"M0,0Z\" style=\"vector-effect: non-scaling-stroke; opacity: 1; stroke-width: 0px; fill: rgb(99, 110, 250); fill-opacity: 1;\"/></g><g class=\"point\"><path d=\"M0,0Z\" style=\"vector-effect: non-scaling-stroke; opacity: 1; stroke-width: 0px; fill: rgb(99, 110, 250); fill-opacity: 1;\"/></g><g class=\"point\"><path d=\"M0,0Z\" style=\"vector-effect: non-scaling-stroke; opacity: 1; stroke-width: 0px; fill: rgb(99, 110, 250); fill-opacity: 1;\"/></g><g class=\"point\"><path d=\"M201.91,99.84V4.99H220V99.84Z\" style=\"vector-effect: non-scaling-stroke; opacity: 1; stroke-width: 0px; fill: rgb(99, 110, 250); fill-opacity: 1;\"/></g></g></g></g></g><g class=\"overplot\"/><path class=\"xlines-above crisp\" d=\"M0,0\" style=\"fill: none;\"/><path class=\"ylines-above crisp\" d=\"M0,0\" style=\"fill: none;\"/><g class=\"overlines-above\"/><g class=\"xaxislayer-above\"><g class=\"x8tick\"><text text-anchor=\"middle\" x=\"0\" y=\"401.4375\" transform=\"translate(939.18,0)\" style=\"font-family: 'Open Sans', verdana, arial, sans-serif; font-size: 12px; fill: rgb(42, 63, 95); fill-opacity: 1; white-space: pre; opacity: 1;\">1</text></g><g class=\"x8tick\"><text text-anchor=\"middle\" x=\"0\" y=\"401.4375\" style=\"font-family: 'Open Sans', verdana, arial, sans-serif; font-size: 12px; fill: rgb(42, 63, 95); fill-opacity: 1; white-space: pre; opacity: 1;\" transform=\"translate(1039.6399999999999,0)\">1.5</text></g></g><g class=\"yaxislayer-above\"><g class=\"y8tick\"><text text-anchor=\"end\" x=\"898\" y=\"4.199999999999999\" transform=\"translate(0,388.43375000000003)\" style=\"font-family: 'Open Sans', verdana, arial, sans-serif; font-size: 12px; fill: rgb(42, 63, 95); fill-opacity: 1; white-space: pre; opacity: 1;\">0</text></g><g class=\"y8tick\"><text text-anchor=\"end\" x=\"898\" y=\"4.199999999999999\" style=\"font-family: 'Open Sans', verdana, arial, sans-serif; font-size: 12px; fill: rgb(42, 63, 95); fill-opacity: 1; white-space: pre; opacity: 1;\" transform=\"translate(0,364.72375)\">0.5</text></g><g class=\"y8tick\"><text text-anchor=\"end\" x=\"898\" y=\"4.199999999999999\" style=\"font-family: 'Open Sans', verdana, arial, sans-serif; font-size: 12px; fill: rgb(42, 63, 95); fill-opacity: 1; white-space: pre; opacity: 1;\" transform=\"translate(0,341.01375)\">1</text></g><g class=\"y8tick\"><text text-anchor=\"end\" x=\"898\" y=\"4.199999999999999\" style=\"font-family: 'Open Sans', verdana, arial, sans-serif; font-size: 12px; fill: rgb(42, 63, 95); fill-opacity: 1; white-space: pre; opacity: 1;\" transform=\"translate(0,317.30375)\">1.5</text></g><g class=\"y8tick\"><text text-anchor=\"end\" x=\"898\" y=\"4.199999999999999\" style=\"font-family: 'Open Sans', verdana, arial, sans-serif; font-size: 12px; fill: rgb(42, 63, 95); fill-opacity: 1; white-space: pre; opacity: 1;\" transform=\"translate(0,293.58375)\">2</text></g></g><g class=\"overaxes-above\"/></g><g class=\"subplot x9y9\"><g class=\"layer-subplot\"><g class=\"shapelayer\"/><g class=\"imagelayer\"/></g><g class=\"minor-gridlayer\"><g class=\"x9\"/><g class=\"y9\"/></g><g class=\"gridlayer\"><g class=\"x9\"/><g class=\"y9\"><path class=\"y9grid crisp\" transform=\"translate(0,529.6075)\" d=\"M80,0h221\" style=\"stroke: rgb(235, 240, 248); stroke-opacity: 1; stroke-width: 1px;\"/><path class=\"y9grid crisp\" transform=\"translate(0,482.1775)\" d=\"M80,0h221\" style=\"stroke: rgb(235, 240, 248); stroke-opacity: 1; stroke-width: 1px;\"/></g></g><g class=\"zerolinelayer\"><path class=\"y9zl zl crisp\" transform=\"translate(0,577.0275)\" d=\"M80,0h221\" style=\"stroke: rgb(235, 240, 248); stroke-opacity: 1; stroke-width: 2px;\"/></g><path class=\"xlines-below\"/><path class=\"ylines-below\"/><g class=\"overlines-below\"/><g class=\"xaxislayer-below\"/><g class=\"yaxislayer-below\"/><g class=\"overaxes-below\"/><g class=\"plot\" transform=\"translate(80,477.1875)\" clip-path=\"url(#clip372127x9y9plot)\"><g class=\"barlayer mlayer\"><g class=\"trace bars\" style=\"opacity: 1;\"><g class=\"points\"><g class=\"point\"><path d=\"M1.1,99.84V4.99H20.99V99.84Z\" style=\"vector-effect: non-scaling-stroke; opacity: 1; stroke-width: 0px; fill: rgb(99, 110, 250); fill-opacity: 1;\"/></g><g class=\"point\"><path d=\"M0,0Z\" style=\"vector-effect: non-scaling-stroke; opacity: 1; stroke-width: 0px; fill: rgb(99, 110, 250); fill-opacity: 1;\"/></g><g class=\"point\"><path d=\"M0,0Z\" style=\"vector-effect: non-scaling-stroke; opacity: 1; stroke-width: 0px; fill: rgb(99, 110, 250); fill-opacity: 1;\"/></g><g class=\"point\"><path d=\"M67.41,99.84V4.99H87.29V99.84Z\" style=\"vector-effect: non-scaling-stroke; opacity: 1; stroke-width: 0px; fill: rgb(99, 110, 250); fill-opacity: 1;\"/></g><g class=\"point\"><path d=\"M0,0Z\" style=\"vector-effect: non-scaling-stroke; opacity: 1; stroke-width: 0px; fill: rgb(99, 110, 250); fill-opacity: 1;\"/></g><g class=\"point\"><path d=\"M0,0Z\" style=\"vector-effect: non-scaling-stroke; opacity: 1; stroke-width: 0px; fill: rgb(99, 110, 250); fill-opacity: 1;\"/></g><g class=\"point\"><path d=\"M133.71,99.84V4.99H153.59V99.84Z\" style=\"vector-effect: non-scaling-stroke; opacity: 1; stroke-width: 0px; fill: rgb(99, 110, 250); fill-opacity: 1;\"/></g><g class=\"point\"><path d=\"M0,0Z\" style=\"vector-effect: non-scaling-stroke; opacity: 1; stroke-width: 0px; fill: rgb(99, 110, 250); fill-opacity: 1;\"/></g><g class=\"point\"><path d=\"M177.91,99.84V4.99H197.8V99.84Z\" style=\"vector-effect: non-scaling-stroke; opacity: 1; stroke-width: 0px; fill: rgb(99, 110, 250); fill-opacity: 1;\"/></g><g class=\"point\"><path d=\"M200.01,99.84V4.99H219.9V99.84Z\" style=\"vector-effect: non-scaling-stroke; opacity: 1; stroke-width: 0px; fill: rgb(99, 110, 250); fill-opacity: 1;\"/></g></g></g></g></g><g class=\"overplot\"/><path class=\"xlines-above crisp\" d=\"M0,0\" style=\"fill: none;\"/><path class=\"ylines-above crisp\" d=\"M0,0\" style=\"fill: none;\"/><g class=\"overlines-above\"/><g class=\"xaxislayer-above\"><g class=\"x9tick\"><text text-anchor=\"middle\" x=\"0\" y=\"590.03125\" transform=\"translate(80,0)\" style=\"font-family: 'Open Sans', verdana, arial, sans-serif; font-size: 12px; fill: rgb(42, 63, 95); fill-opacity: 1; white-space: pre; opacity: 1;\">0</text></g><g class=\"x9tick\"><text text-anchor=\"middle\" x=\"0\" y=\"590.03125\" style=\"font-family: 'Open Sans', verdana, arial, sans-serif; font-size: 12px; fill: rgb(42, 63, 95); fill-opacity: 1; white-space: pre; opacity: 1;\" transform=\"translate(135.25,0)\">0.5</text></g><g class=\"x9tick\"><text text-anchor=\"middle\" x=\"0\" y=\"590.03125\" style=\"font-family: 'Open Sans', verdana, arial, sans-serif; font-size: 12px; fill: rgb(42, 63, 95); fill-opacity: 1; white-space: pre; opacity: 1;\" transform=\"translate(190.5,0)\">1</text></g><g class=\"x9tick\"><text text-anchor=\"middle\" x=\"0\" y=\"590.03125\" style=\"font-family: 'Open Sans', verdana, arial, sans-serif; font-size: 12px; fill: rgb(42, 63, 95); fill-opacity: 1; white-space: pre; opacity: 1;\" transform=\"translate(245.75,0)\">1.5</text></g><g class=\"x9tick\"><text text-anchor=\"middle\" x=\"0\" y=\"590.03125\" style=\"font-family: 'Open Sans', verdana, arial, sans-serif; font-size: 12px; fill: rgb(42, 63, 95); fill-opacity: 1; white-space: pre; opacity: 1;\" transform=\"translate(301,0)\">2</text></g></g><g class=\"yaxislayer-above\"><g class=\"y9tick\"><text text-anchor=\"end\" x=\"79\" y=\"4.199999999999999\" transform=\"translate(0,577.0275)\" style=\"font-family: 'Open Sans', verdana, arial, sans-serif; font-size: 12px; fill: rgb(42, 63, 95); fill-opacity: 1; white-space: pre; opacity: 1;\">0</text></g><g class=\"y9tick\"><text text-anchor=\"end\" x=\"79\" y=\"4.199999999999999\" style=\"font-family: 'Open Sans', verdana, arial, sans-serif; font-size: 12px; fill: rgb(42, 63, 95); fill-opacity: 1; white-space: pre; opacity: 1;\" transform=\"translate(0,529.6075)\">0.5</text></g><g class=\"y9tick\"><text text-anchor=\"end\" x=\"79\" y=\"4.199999999999999\" style=\"font-family: 'Open Sans', verdana, arial, sans-serif; font-size: 12px; fill: rgb(42, 63, 95); fill-opacity: 1; white-space: pre; opacity: 1;\" transform=\"translate(0,482.1775)\">1</text></g></g><g class=\"overaxes-above\"/></g><g class=\"subplot x10y10\"><g class=\"layer-subplot\"><g class=\"shapelayer\"/><g class=\"imagelayer\"/></g><g class=\"minor-gridlayer\"><g class=\"x10\"/><g class=\"y10\"/></g><g class=\"gridlayer\"><g class=\"x10\"/><g class=\"y10\"><path class=\"y10grid crisp\" transform=\"translate(0,553.3175)\" d=\"M353,0h220.99999999999997\" style=\"stroke: rgb(235, 240, 248); stroke-opacity: 1; stroke-width: 1px;\"/><path class=\"y10grid crisp\" transform=\"translate(0,529.6075)\" d=\"M353,0h220.99999999999997\" style=\"stroke: rgb(235, 240, 248); stroke-opacity: 1; stroke-width: 1px;\"/><path class=\"y10grid crisp\" transform=\"translate(0,505.8975)\" d=\"M353,0h220.99999999999997\" style=\"stroke: rgb(235, 240, 248); stroke-opacity: 1; stroke-width: 1px;\"/><path class=\"y10grid crisp\" transform=\"translate(0,482.1775)\" d=\"M353,0h220.99999999999997\" style=\"stroke: rgb(235, 240, 248); stroke-opacity: 1; stroke-width: 1px;\"/></g></g><g class=\"zerolinelayer\"><path class=\"y10zl zl crisp\" transform=\"translate(0,577.0275)\" d=\"M353,0h220.99999999999997\" style=\"stroke: rgb(235, 240, 248); stroke-opacity: 1; stroke-width: 2px;\"/></g><path class=\"xlines-below\"/><path class=\"ylines-below\"/><g class=\"overlines-below\"/><g class=\"xaxislayer-below\"/><g class=\"yaxislayer-below\"/><g class=\"overaxes-below\"/><g class=\"plot\" transform=\"translate(353,477.1875)\" clip-path=\"url(#clip372127x10y10plot)\"><g class=\"barlayer mlayer\"><g class=\"trace bars\" style=\"opacity: 1;\"><g class=\"points\"><g class=\"point\"><path d=\"M2.21,99.84V4.99H41.99V99.84Z\" style=\"vector-effect: non-scaling-stroke; opacity: 1; stroke-width: 0px; fill: rgb(99, 110, 250); fill-opacity: 1;\"/></g><g class=\"point\"><path d=\"M46.41,99.84V4.99H86.19V99.84Z\" style=\"vector-effect: non-scaling-stroke; opacity: 1; stroke-width: 0px; fill: rgb(99, 110, 250); fill-opacity: 1;\"/></g><g class=\"point\"><path d=\"M0,0Z\" style=\"vector-effect: non-scaling-stroke; opacity: 1; stroke-width: 0px; fill: rgb(99, 110, 250); fill-opacity: 1;\"/></g><g class=\"point\"><path d=\"M0,0Z\" style=\"vector-effect: non-scaling-stroke; opacity: 1; stroke-width: 0px; fill: rgb(99, 110, 250); fill-opacity: 1;\"/></g><g class=\"point\"><path d=\"M179.01,99.84V52.42H218.79V99.84Z\" style=\"vector-effect: non-scaling-stroke; opacity: 1; stroke-width: 0px; fill: rgb(99, 110, 250); fill-opacity: 1;\"/></g></g></g></g></g><g class=\"overplot\"/><path class=\"xlines-above crisp\" d=\"M0,0\" style=\"fill: none;\"/><path class=\"ylines-above crisp\" d=\"M0,0\" style=\"fill: none;\"/><g class=\"overlines-above\"/><g class=\"xaxislayer-above\"><g class=\"x10tick\"><text text-anchor=\"middle\" x=\"0\" y=\"590.03125\" transform=\"translate(397.2,0)\" style=\"font-family: 'Open Sans', verdana, arial, sans-serif; font-size: 12px; fill: rgb(42, 63, 95); fill-opacity: 1; white-space: pre; opacity: 1;\">0.9</text></g><g class=\"x10tick\"><text text-anchor=\"middle\" x=\"0\" y=\"590.03125\" style=\"font-family: 'Open Sans', verdana, arial, sans-serif; font-size: 12px; fill: rgb(42, 63, 95); fill-opacity: 1; white-space: pre; opacity: 1;\" transform=\"translate(485.6,0)\">1</text></g><g class=\"x10tick\"><text text-anchor=\"middle\" x=\"0\" y=\"590.03125\" style=\"font-family: 'Open Sans', verdana, arial, sans-serif; font-size: 12px; fill: rgb(42, 63, 95); fill-opacity: 1; white-space: pre; opacity: 1;\" transform=\"translate(574,0)\">1.1</text></g></g><g class=\"yaxislayer-above\"><g class=\"y10tick\"><text text-anchor=\"end\" x=\"352\" y=\"4.199999999999999\" transform=\"translate(0,577.0275)\" style=\"font-family: 'Open Sans', verdana, arial, sans-serif; font-size: 12px; fill: rgb(42, 63, 95); fill-opacity: 1; white-space: pre; opacity: 1;\">0</text></g><g class=\"y10tick\"><text text-anchor=\"end\" x=\"352\" y=\"4.199999999999999\" style=\"font-family: 'Open Sans', verdana, arial, sans-serif; font-size: 12px; fill: rgb(42, 63, 95); fill-opacity: 1; white-space: pre; opacity: 1;\" transform=\"translate(0,553.3175)\">0.5</text></g><g class=\"y10tick\"><text text-anchor=\"end\" x=\"352\" y=\"4.199999999999999\" style=\"font-family: 'Open Sans', verdana, arial, sans-serif; font-size: 12px; fill: rgb(42, 63, 95); fill-opacity: 1; white-space: pre; opacity: 1;\" transform=\"translate(0,529.6075)\">1</text></g><g class=\"y10tick\"><text text-anchor=\"end\" x=\"352\" y=\"4.199999999999999\" style=\"font-family: 'Open Sans', verdana, arial, sans-serif; font-size: 12px; fill: rgb(42, 63, 95); fill-opacity: 1; white-space: pre; opacity: 1;\" transform=\"translate(0,505.8975)\">1.5</text></g><g class=\"y10tick\"><text text-anchor=\"end\" x=\"352\" y=\"4.199999999999999\" style=\"font-family: 'Open Sans', verdana, arial, sans-serif; font-size: 12px; fill: rgb(42, 63, 95); fill-opacity: 1; white-space: pre; opacity: 1;\" transform=\"translate(0,482.1775)\">2</text></g></g><g class=\"overaxes-above\"/></g><g class=\"subplot x11y11\"><g class=\"layer-subplot\"><g class=\"shapelayer\"/><g class=\"imagelayer\"/></g><g class=\"minor-gridlayer\"><g class=\"x11\"/><g class=\"y11\"/></g><g class=\"gridlayer\"><g class=\"x11\"/><g class=\"y11\"><path class=\"y11grid crisp\" transform=\"translate(0,529.6075)\" d=\"M626,0h221.00000000000003\" style=\"stroke: rgb(235, 240, 248); stroke-opacity: 1; stroke-width: 1px;\"/><path class=\"y11grid crisp\" transform=\"translate(0,482.1775)\" d=\"M626,0h221.00000000000003\" style=\"stroke: rgb(235, 240, 248); stroke-opacity: 1; stroke-width: 1px;\"/></g></g><g class=\"zerolinelayer\"><path class=\"y11zl zl crisp\" transform=\"translate(0,577.0275)\" d=\"M626,0h221.00000000000003\" style=\"stroke: rgb(235, 240, 248); stroke-opacity: 1; stroke-width: 2px;\"/></g><path class=\"xlines-below\"/><path class=\"ylines-below\"/><g class=\"overlines-below\"/><g class=\"xaxislayer-below\"/><g class=\"yaxislayer-below\"/><g class=\"overaxes-below\"/><g class=\"plot\" transform=\"translate(626,477.1875)\" clip-path=\"url(#clip372127x11y11plot)\"><g class=\"barlayer mlayer\"><g class=\"trace bars\" style=\"opacity: 1;\"><g class=\"points\"><g class=\"point\"><path d=\"M1.1,99.84V4.99H20.99V99.84Z\" style=\"vector-effect: non-scaling-stroke; opacity: 1; stroke-width: 0px; fill: rgb(99, 110, 250); fill-opacity: 1;\"/></g><g class=\"point\"><path d=\"M0,0Z\" style=\"vector-effect: non-scaling-stroke; opacity: 1; stroke-width: 0px; fill: rgb(99, 110, 250); fill-opacity: 1;\"/></g><g class=\"point\"><path d=\"M45.31,99.84V4.99H65.2V99.84Z\" style=\"vector-effect: non-scaling-stroke; opacity: 1; stroke-width: 0px; fill: rgb(99, 110, 250); fill-opacity: 1;\"/></g><g class=\"point\"><path d=\"M0,0Z\" style=\"vector-effect: non-scaling-stroke; opacity: 1; stroke-width: 0px; fill: rgb(99, 110, 250); fill-opacity: 1;\"/></g><g class=\"point\"><path d=\"M0,0Z\" style=\"vector-effect: non-scaling-stroke; opacity: 1; stroke-width: 0px; fill: rgb(99, 110, 250); fill-opacity: 1;\"/></g><g class=\"point\"><path d=\"M0,0Z\" style=\"vector-effect: non-scaling-stroke; opacity: 1; stroke-width: 0px; fill: rgb(99, 110, 250); fill-opacity: 1;\"/></g><g class=\"point\"><path d=\"M133.71,99.84V4.99H153.6V99.84Z\" style=\"vector-effect: non-scaling-stroke; opacity: 1; stroke-width: 0px; fill: rgb(99, 110, 250); fill-opacity: 1;\"/></g><g class=\"point\"><path d=\"M0,0Z\" style=\"vector-effect: non-scaling-stroke; opacity: 1; stroke-width: 0px; fill: rgb(99, 110, 250); fill-opacity: 1;\"/></g><g class=\"point\"><path d=\"M177.91,99.84V4.99H197.8V99.84Z\" style=\"vector-effect: non-scaling-stroke; opacity: 1; stroke-width: 0px; fill: rgb(99, 110, 250); fill-opacity: 1;\"/></g><g class=\"point\"><path d=\"M200.01,99.84V4.99H219.9V99.84Z\" style=\"vector-effect: non-scaling-stroke; opacity: 1; stroke-width: 0px; fill: rgb(99, 110, 250); fill-opacity: 1;\"/></g></g></g></g></g><g class=\"overplot\"/><path class=\"xlines-above crisp\" d=\"M0,0\" style=\"fill: none;\"/><path class=\"ylines-above crisp\" d=\"M0,0\" style=\"fill: none;\"/><g class=\"overlines-above\"/><g class=\"xaxislayer-above\"><g class=\"x11tick\"><text text-anchor=\"middle\" x=\"0\" y=\"590.03125\" transform=\"translate(626,0)\" style=\"font-family: 'Open Sans', verdana, arial, sans-serif; font-size: 12px; fill: rgb(42, 63, 95); fill-opacity: 1; white-space: pre; opacity: 1;\">0</text></g><g class=\"x11tick\"><text text-anchor=\"middle\" x=\"0\" y=\"590.03125\" style=\"font-family: 'Open Sans', verdana, arial, sans-serif; font-size: 12px; fill: rgb(42, 63, 95); fill-opacity: 1; white-space: pre; opacity: 1;\" transform=\"translate(681.25,0)\">0.05</text></g><g class=\"x11tick\"><text text-anchor=\"middle\" x=\"0\" y=\"590.03125\" style=\"font-family: 'Open Sans', verdana, arial, sans-serif; font-size: 12px; fill: rgb(42, 63, 95); fill-opacity: 1; white-space: pre; opacity: 1;\" transform=\"translate(736.5,0)\">0.1</text></g><g class=\"x11tick\"><text text-anchor=\"middle\" x=\"0\" y=\"590.03125\" style=\"font-family: 'Open Sans', verdana, arial, sans-serif; font-size: 12px; fill: rgb(42, 63, 95); fill-opacity: 1; white-space: pre; opacity: 1;\" transform=\"translate(791.75,0)\">0.15</text></g><g class=\"x11tick\"><text text-anchor=\"middle\" x=\"0\" y=\"590.03125\" style=\"font-family: 'Open Sans', verdana, arial, sans-serif; font-size: 12px; fill: rgb(42, 63, 95); fill-opacity: 1; white-space: pre; opacity: 1;\" transform=\"translate(847,0)\">0.2</text></g></g><g class=\"yaxislayer-above\"><g class=\"y11tick\"><text text-anchor=\"end\" x=\"625\" y=\"4.199999999999999\" transform=\"translate(0,577.0275)\" style=\"font-family: 'Open Sans', verdana, arial, sans-serif; font-size: 12px; fill: rgb(42, 63, 95); fill-opacity: 1; white-space: pre; opacity: 1;\">0</text></g><g class=\"y11tick\"><text text-anchor=\"end\" x=\"625\" y=\"4.199999999999999\" style=\"font-family: 'Open Sans', verdana, arial, sans-serif; font-size: 12px; fill: rgb(42, 63, 95); fill-opacity: 1; white-space: pre; opacity: 1;\" transform=\"translate(0,529.6075)\">0.5</text></g><g class=\"y11tick\"><text text-anchor=\"end\" x=\"625\" y=\"4.199999999999999\" style=\"font-family: 'Open Sans', verdana, arial, sans-serif; font-size: 12px; fill: rgb(42, 63, 95); fill-opacity: 1; white-space: pre; opacity: 1;\" transform=\"translate(0,482.1775)\">1</text></g></g><g class=\"overaxes-above\"/></g><g class=\"subplot x12y12\"><g class=\"layer-subplot\"><g class=\"shapelayer\"/><g class=\"imagelayer\"/></g><g class=\"minor-gridlayer\"><g class=\"x12\"/><g class=\"y12\"/></g><g class=\"gridlayer\"><g class=\"x12\"/><g class=\"y12\"><path class=\"y12grid crisp\" transform=\"translate(0,529.6075)\" d=\"M899,0h221.00000000000003\" style=\"stroke: rgb(235, 240, 248); stroke-opacity: 1; stroke-width: 1px;\"/><path class=\"y12grid crisp\" transform=\"translate(0,482.1775)\" d=\"M899,0h221.00000000000003\" style=\"stroke: rgb(235, 240, 248); stroke-opacity: 1; stroke-width: 1px;\"/></g></g><g class=\"zerolinelayer\"><path class=\"y12zl zl crisp\" transform=\"translate(0,577.0275)\" d=\"M899,0h221.00000000000003\" style=\"stroke: rgb(235, 240, 248); stroke-opacity: 1; stroke-width: 2px;\"/></g><path class=\"xlines-below\"/><path class=\"ylines-below\"/><g class=\"overlines-below\"/><g class=\"xaxislayer-below\"/><g class=\"yaxislayer-below\"/><g class=\"overaxes-below\"/><g class=\"plot\" transform=\"translate(899,477.1875)\" clip-path=\"url(#clip372127x12y12plot)\"><g class=\"barlayer mlayer\"><g class=\"trace bars\" style=\"opacity: 1;\"><g class=\"points\"><g class=\"point\"><path d=\"M1.38,99.84V4.99H26.24V99.84Z\" style=\"vector-effect: non-scaling-stroke; opacity: 1; stroke-width: 0px; fill: rgb(99, 110, 250); fill-opacity: 1;\"/></g><g class=\"point\"><path d=\"M0,0Z\" style=\"vector-effect: non-scaling-stroke; opacity: 1; stroke-width: 0px; fill: rgb(99, 110, 250); fill-opacity: 1;\"/></g><g class=\"point\"><path d=\"M56.63,99.84V4.99H81.49V99.84Z\" style=\"vector-effect: non-scaling-stroke; opacity: 1; stroke-width: 0px; fill: rgb(99, 110, 250); fill-opacity: 1;\"/></g><g class=\"point\"><path d=\"M84.26,99.84V4.99H109.12V99.84Z\" style=\"vector-effect: non-scaling-stroke; opacity: 1; stroke-width: 0px; fill: rgb(99, 110, 250); fill-opacity: 1;\"/></g><g class=\"point\"><path d=\"M0,0Z\" style=\"vector-effect: non-scaling-stroke; opacity: 1; stroke-width: 0px; fill: rgb(99, 110, 250); fill-opacity: 1;\"/></g><g class=\"point\"><path d=\"M0,0Z\" style=\"vector-effect: non-scaling-stroke; opacity: 1; stroke-width: 0px; fill: rgb(99, 110, 250); fill-opacity: 1;\"/></g><g class=\"point\"><path d=\"M167.13,99.84V4.99H191.99V99.84Z\" style=\"vector-effect: non-scaling-stroke; opacity: 1; stroke-width: 0px; fill: rgb(99, 110, 250); fill-opacity: 1;\"/></g><g class=\"point\"><path d=\"M194.76,99.84V4.99H219.62V99.84Z\" style=\"vector-effect: non-scaling-stroke; opacity: 1; stroke-width: 0px; fill: rgb(99, 110, 250); fill-opacity: 1;\"/></g></g></g></g></g><g class=\"overplot\"/><path class=\"xlines-above crisp\" d=\"M0,0\" style=\"fill: none;\"/><path class=\"ylines-above crisp\" d=\"M0,0\" style=\"fill: none;\"/><g class=\"overlines-above\"/><g class=\"xaxislayer-above\"><g class=\"x12tick\"><text text-anchor=\"middle\" x=\"0\" y=\"590.03125\" transform=\"translate(899,0)\" style=\"font-family: 'Open Sans', verdana, arial, sans-serif; font-size: 12px; fill: rgb(42, 63, 95); fill-opacity: 1; white-space: pre; opacity: 1;\">0.2</text></g><g class=\"x12tick\"><text text-anchor=\"middle\" x=\"0\" y=\"590.03125\" style=\"font-family: 'Open Sans', verdana, arial, sans-serif; font-size: 12px; fill: rgb(42, 63, 95); fill-opacity: 1; white-space: pre; opacity: 1;\" transform=\"translate(954.25,0)\">0.4</text></g><g class=\"x12tick\"><text text-anchor=\"middle\" x=\"0\" y=\"590.03125\" style=\"font-family: 'Open Sans', verdana, arial, sans-serif; font-size: 12px; fill: rgb(42, 63, 95); fill-opacity: 1; white-space: pre; opacity: 1;\" transform=\"translate(1009.5,0)\">0.6</text></g><g class=\"x12tick\"><text text-anchor=\"middle\" x=\"0\" y=\"590.03125\" style=\"font-family: 'Open Sans', verdana, arial, sans-serif; font-size: 12px; fill: rgb(42, 63, 95); fill-opacity: 1; white-space: pre; opacity: 1;\" transform=\"translate(1064.75,0)\">0.8</text></g><g class=\"x12tick\"><text text-anchor=\"middle\" x=\"0\" y=\"590.03125\" style=\"font-family: 'Open Sans', verdana, arial, sans-serif; font-size: 12px; fill: rgb(42, 63, 95); fill-opacity: 1; white-space: pre; opacity: 1;\" transform=\"translate(1120,0)\">1</text></g></g><g class=\"yaxislayer-above\"><g class=\"y12tick\"><text text-anchor=\"end\" x=\"898\" y=\"4.199999999999999\" transform=\"translate(0,577.0275)\" style=\"font-family: 'Open Sans', verdana, arial, sans-serif; font-size: 12px; fill: rgb(42, 63, 95); fill-opacity: 1; white-space: pre; opacity: 1;\">0</text></g><g class=\"y12tick\"><text text-anchor=\"end\" x=\"898\" y=\"4.199999999999999\" style=\"font-family: 'Open Sans', verdana, arial, sans-serif; font-size: 12px; fill: rgb(42, 63, 95); fill-opacity: 1; white-space: pre; opacity: 1;\" transform=\"translate(0,529.6075)\">0.5</text></g><g class=\"y12tick\"><text text-anchor=\"end\" x=\"898\" y=\"4.199999999999999\" style=\"font-family: 'Open Sans', verdana, arial, sans-serif; font-size: 12px; fill: rgb(42, 63, 95); fill-opacity: 1; white-space: pre; opacity: 1;\" transform=\"translate(0,482.1775)\">1</text></g></g><g class=\"overaxes-above\"/></g><g class=\"subplot x13y13\"><g class=\"layer-subplot\"><g class=\"shapelayer\"/><g class=\"imagelayer\"/></g><g class=\"minor-gridlayer\"><g class=\"x13\"/><g class=\"y13\"/></g><g class=\"gridlayer\"><g class=\"x13\"/><g class=\"y13\"><path class=\"y13grid crisp\" transform=\"translate(0,734.01125)\" d=\"M80,0h221\" style=\"stroke: rgb(235, 240, 248); stroke-opacity: 1; stroke-width: 1px;\"/><path class=\"y13grid crisp\" transform=\"translate(0,702.39125)\" d=\"M80,0h221\" style=\"stroke: rgb(235, 240, 248); stroke-opacity: 1; stroke-width: 1px;\"/><path class=\"y13grid crisp\" transform=\"translate(0,670.77125)\" d=\"M80,0h221\" style=\"stroke: rgb(235, 240, 248); stroke-opacity: 1; stroke-width: 1px;\"/></g></g><g class=\"zerolinelayer\"><path class=\"y13zl zl crisp\" transform=\"translate(0,765.62125)\" d=\"M80,0h221\" style=\"stroke: rgb(235, 240, 248); stroke-opacity: 1; stroke-width: 2px;\"/></g><path class=\"xlines-below\"/><path class=\"ylines-below\"/><g class=\"overlines-below\"/><g class=\"xaxislayer-below\"/><g class=\"yaxislayer-below\"/><g class=\"overaxes-below\"/><g class=\"plot\" transform=\"translate(80,665.78125)\" clip-path=\"url(#clip372127x13y13plot)\"><g class=\"barlayer mlayer\"><g class=\"trace bars\" style=\"opacity: 1;\"><g class=\"points\"><g class=\"point\"><path d=\"M2.21,99.84V4.99H41.99V99.84Z\" style=\"vector-effect: non-scaling-stroke; opacity: 1; stroke-width: 0px; fill: rgb(99, 110, 250); fill-opacity: 1;\"/></g><g class=\"point\"><path d=\"M0,0Z\" style=\"vector-effect: non-scaling-stroke; opacity: 1; stroke-width: 0px; fill: rgb(99, 110, 250); fill-opacity: 1;\"/></g><g class=\"point\"><path d=\"M0,0Z\" style=\"vector-effect: non-scaling-stroke; opacity: 1; stroke-width: 0px; fill: rgb(99, 110, 250); fill-opacity: 1;\"/></g><g class=\"point\"><path d=\"M0,0Z\" style=\"vector-effect: non-scaling-stroke; opacity: 1; stroke-width: 0px; fill: rgb(99, 110, 250); fill-opacity: 1;\"/></g><g class=\"point\"><path d=\"M179.01,99.84V36.61H218.79V99.84Z\" style=\"vector-effect: non-scaling-stroke; opacity: 1; stroke-width: 0px; fill: rgb(99, 110, 250); fill-opacity: 1;\"/></g></g></g></g></g><g class=\"overplot\"/><path class=\"xlines-above crisp\" d=\"M0,0\" style=\"fill: none;\"/><path class=\"ylines-above crisp\" d=\"M0,0\" style=\"fill: none;\"/><g class=\"overlines-above\"/><g class=\"xaxislayer-above\"><g class=\"x13tick\"><text text-anchor=\"middle\" x=\"0\" y=\"778.625\" transform=\"translate(146.3,0)\" style=\"font-family: 'Open Sans', verdana, arial, sans-serif; font-size: 12px; fill: rgb(42, 63, 95); fill-opacity: 1; white-space: pre; opacity: 1;\">3</text></g><g class=\"x13tick\"><text text-anchor=\"middle\" x=\"0\" y=\"778.625\" style=\"font-family: 'Open Sans', verdana, arial, sans-serif; font-size: 12px; fill: rgb(42, 63, 95); fill-opacity: 1; white-space: pre; opacity: 1;\" transform=\"translate(234.7,0)\">4</text></g></g><g class=\"yaxislayer-above\"><g class=\"y13tick\"><text text-anchor=\"end\" x=\"79\" y=\"4.199999999999999\" transform=\"translate(0,765.62125)\" style=\"font-family: 'Open Sans', verdana, arial, sans-serif; font-size: 12px; fill: rgb(42, 63, 95); fill-opacity: 1; white-space: pre; opacity: 1;\">0</text></g><g class=\"y13tick\"><text text-anchor=\"end\" x=\"79\" y=\"4.199999999999999\" style=\"font-family: 'Open Sans', verdana, arial, sans-serif; font-size: 12px; fill: rgb(42, 63, 95); fill-opacity: 1; white-space: pre; opacity: 1;\" transform=\"translate(0,734.01125)\">1</text></g><g class=\"y13tick\"><text text-anchor=\"end\" x=\"79\" y=\"4.199999999999999\" style=\"font-family: 'Open Sans', verdana, arial, sans-serif; font-size: 12px; fill: rgb(42, 63, 95); fill-opacity: 1; white-space: pre; opacity: 1;\" transform=\"translate(0,702.39125)\">2</text></g><g class=\"y13tick\"><text text-anchor=\"end\" x=\"79\" y=\"4.199999999999999\" style=\"font-family: 'Open Sans', verdana, arial, sans-serif; font-size: 12px; fill: rgb(42, 63, 95); fill-opacity: 1; white-space: pre; opacity: 1;\" transform=\"translate(0,670.77125)\">3</text></g></g><g class=\"overaxes-above\"/></g><g class=\"subplot x14y14\"><g class=\"layer-subplot\"><g class=\"shapelayer\"/><g class=\"imagelayer\"/></g><g class=\"minor-gridlayer\"><g class=\"x14\"/><g class=\"y14\"/></g><g class=\"gridlayer\"><g class=\"x14\"/><g class=\"y14\"><path class=\"y14grid crisp\" transform=\"translate(0,741.91125)\" d=\"M353,0h220.99999999999997\" style=\"stroke: rgb(235, 240, 248); stroke-opacity: 1; stroke-width: 1px;\"/><path class=\"y14grid crisp\" transform=\"translate(0,718.20125)\" d=\"M353,0h220.99999999999997\" style=\"stroke: rgb(235, 240, 248); stroke-opacity: 1; stroke-width: 1px;\"/><path class=\"y14grid crisp\" transform=\"translate(0,694.49125)\" d=\"M353,0h220.99999999999997\" style=\"stroke: rgb(235, 240, 248); stroke-opacity: 1; stroke-width: 1px;\"/><path class=\"y14grid crisp\" transform=\"translate(0,670.77125)\" d=\"M353,0h220.99999999999997\" style=\"stroke: rgb(235, 240, 248); stroke-opacity: 1; stroke-width: 1px;\"/></g></g><g class=\"zerolinelayer\"><path class=\"y14zl zl crisp\" transform=\"translate(0,765.62125)\" d=\"M353,0h220.99999999999997\" style=\"stroke: rgb(235, 240, 248); stroke-opacity: 1; stroke-width: 2px;\"/></g><path class=\"xlines-below\"/><path class=\"ylines-below\"/><g class=\"overlines-below\"/><g class=\"xaxislayer-below\"/><g class=\"yaxislayer-below\"/><g class=\"overaxes-below\"/><g class=\"plot\" transform=\"translate(353,665.78125)\" clip-path=\"url(#clip372127x14y14plot)\"><g class=\"barlayer mlayer\"><g class=\"trace bars\" style=\"opacity: 1;\"><g class=\"points\"><g class=\"point\"><path d=\"M1.23,99.84V4.99H23.33V99.84Z\" style=\"vector-effect: non-scaling-stroke; opacity: 1; stroke-width: 0px; fill: rgb(99, 110, 250); fill-opacity: 1;\"/></g><g class=\"point\"><path d=\"M25.78,99.84V4.99H47.88V99.84Z\" style=\"vector-effect: non-scaling-stroke; opacity: 1; stroke-width: 0px; fill: rgb(99, 110, 250); fill-opacity: 1;\"/></g><g class=\"point\"><path d=\"M0,0Z\" style=\"vector-effect: non-scaling-stroke; opacity: 1; stroke-width: 0px; fill: rgb(99, 110, 250); fill-opacity: 1;\"/></g><g class=\"point\"><path d=\"M0,0Z\" style=\"vector-effect: non-scaling-stroke; opacity: 1; stroke-width: 0px; fill: rgb(99, 110, 250); fill-opacity: 1;\"/></g><g class=\"point\"><path d=\"M0,0Z\" style=\"vector-effect: non-scaling-stroke; opacity: 1; stroke-width: 0px; fill: rgb(99, 110, 250); fill-opacity: 1;\"/></g><g class=\"point\"><path d=\"M0,0Z\" style=\"vector-effect: non-scaling-stroke; opacity: 1; stroke-width: 0px; fill: rgb(99, 110, 250); fill-opacity: 1;\"/></g><g class=\"point\"><path d=\"M0,0Z\" style=\"vector-effect: non-scaling-stroke; opacity: 1; stroke-width: 0px; fill: rgb(99, 110, 250); fill-opacity: 1;\"/></g><g class=\"point\"><path d=\"M0,0Z\" style=\"vector-effect: non-scaling-stroke; opacity: 1; stroke-width: 0px; fill: rgb(99, 110, 250); fill-opacity: 1;\"/></g><g class=\"point\"><path d=\"M197.67,99.84V52.42H219.77V99.84Z\" style=\"vector-effect: non-scaling-stroke; opacity: 1; stroke-width: 0px; fill: rgb(99, 110, 250); fill-opacity: 1;\"/></g></g></g></g></g><g class=\"overplot\"/><path class=\"xlines-above crisp\" d=\"M0,0\" style=\"fill: none;\"/><path class=\"ylines-above crisp\" d=\"M0,0\" style=\"fill: none;\"/><g class=\"overlines-above\"/><g class=\"xaxislayer-above\"><g class=\"x14tick\"><text text-anchor=\"middle\" x=\"0\" y=\"778.625\" transform=\"translate(365.28,0)\" style=\"font-family: 'Open Sans', verdana, arial, sans-serif; font-size: 12px; fill: rgb(42, 63, 95); fill-opacity: 1; white-space: pre; opacity: 1;\">1</text></g><g class=\"x14tick\"><text text-anchor=\"middle\" x=\"0\" y=\"778.625\" style=\"font-family: 'Open Sans', verdana, arial, sans-serif; font-size: 12px; fill: rgb(42, 63, 95); fill-opacity: 1; white-space: pre; opacity: 1;\" transform=\"translate(414.39,0)\">1.1</text></g><g class=\"x14tick\"><text text-anchor=\"middle\" x=\"0\" y=\"778.625\" style=\"font-family: 'Open Sans', verdana, arial, sans-serif; font-size: 12px; fill: rgb(42, 63, 95); fill-opacity: 1; white-space: pre; opacity: 1;\" transform=\"translate(463.5,0)\">1.2</text></g><g class=\"x14tick\"><text text-anchor=\"middle\" x=\"0\" y=\"778.625\" style=\"font-family: 'Open Sans', verdana, arial, sans-serif; font-size: 12px; fill: rgb(42, 63, 95); fill-opacity: 1; white-space: pre; opacity: 1;\" transform=\"translate(512.61,0)\">1.3</text></g><g class=\"x14tick\"><text text-anchor=\"middle\" x=\"0\" y=\"778.625\" style=\"font-family: 'Open Sans', verdana, arial, sans-serif; font-size: 12px; fill: rgb(42, 63, 95); fill-opacity: 1; white-space: pre; opacity: 1;\" transform=\"translate(561.72,0)\">1.4</text></g></g><g class=\"yaxislayer-above\"><g class=\"y14tick\"><text text-anchor=\"end\" x=\"352\" y=\"4.199999999999999\" transform=\"translate(0,765.62125)\" style=\"font-family: 'Open Sans', verdana, arial, sans-serif; font-size: 12px; fill: rgb(42, 63, 95); fill-opacity: 1; white-space: pre; opacity: 1;\">0</text></g><g class=\"y14tick\"><text text-anchor=\"end\" x=\"352\" y=\"4.199999999999999\" style=\"font-family: 'Open Sans', verdana, arial, sans-serif; font-size: 12px; fill: rgb(42, 63, 95); fill-opacity: 1; white-space: pre; opacity: 1;\" transform=\"translate(0,741.91125)\">0.5</text></g><g class=\"y14tick\"><text text-anchor=\"end\" x=\"352\" y=\"4.199999999999999\" style=\"font-family: 'Open Sans', verdana, arial, sans-serif; font-size: 12px; fill: rgb(42, 63, 95); fill-opacity: 1; white-space: pre; opacity: 1;\" transform=\"translate(0,718.20125)\">1</text></g><g class=\"y14tick\"><text text-anchor=\"end\" x=\"352\" y=\"4.199999999999999\" style=\"font-family: 'Open Sans', verdana, arial, sans-serif; font-size: 12px; fill: rgb(42, 63, 95); fill-opacity: 1; white-space: pre; opacity: 1;\" transform=\"translate(0,694.49125)\">1.5</text></g><g class=\"y14tick\"><text text-anchor=\"end\" x=\"352\" y=\"4.199999999999999\" style=\"font-family: 'Open Sans', verdana, arial, sans-serif; font-size: 12px; fill: rgb(42, 63, 95); fill-opacity: 1; white-space: pre; opacity: 1;\" transform=\"translate(0,670.77125)\">2</text></g></g><g class=\"overaxes-above\"/></g><g class=\"subplot x15y15\"><g class=\"layer-subplot\"><g class=\"shapelayer\"/><g class=\"imagelayer\"/></g><g class=\"minor-gridlayer\"><g class=\"x15\"/><g class=\"y15\"/></g><g class=\"gridlayer\"><g class=\"x15\"/><g class=\"y15\"><path class=\"y15grid crisp\" transform=\"translate(0,734.01125)\" d=\"M626,0h221.00000000000003\" style=\"stroke: rgb(235, 240, 248); stroke-opacity: 1; stroke-width: 1px;\"/><path class=\"y15grid crisp\" transform=\"translate(0,702.39125)\" d=\"M626,0h221.00000000000003\" style=\"stroke: rgb(235, 240, 248); stroke-opacity: 1; stroke-width: 1px;\"/><path class=\"y15grid crisp\" transform=\"translate(0,670.77125)\" d=\"M626,0h221.00000000000003\" style=\"stroke: rgb(235, 240, 248); stroke-opacity: 1; stroke-width: 1px;\"/></g></g><g class=\"zerolinelayer\"><path class=\"y15zl zl crisp\" transform=\"translate(0,765.62125)\" d=\"M626,0h221.00000000000003\" style=\"stroke: rgb(235, 240, 248); stroke-opacity: 1; stroke-width: 2px;\"/></g><path class=\"xlines-below\"/><path class=\"ylines-below\"/><g class=\"overlines-below\"/><g class=\"xaxislayer-below\"/><g class=\"yaxislayer-below\"/><g class=\"overaxes-below\"/><g class=\"plot\" transform=\"translate(626,665.78125)\" clip-path=\"url(#clip372127x15y15plot)\"><g class=\"barlayer mlayer\"><g class=\"trace bars\" style=\"opacity: 1;\"><g class=\"points\"><g class=\"point\"><path d=\"M1.84,99.84V36.61H34.99V99.84Z\" style=\"vector-effect: non-scaling-stroke; opacity: 1; stroke-width: 0px; fill: rgb(99, 110, 250); fill-opacity: 1;\"/></g><g class=\"point\"><path d=\"M0,0Z\" style=\"vector-effect: non-scaling-stroke; opacity: 1; stroke-width: 0px; fill: rgb(99, 110, 250); fill-opacity: 1;\"/></g><g class=\"point\"><path d=\"M0,0Z\" style=\"vector-effect: non-scaling-stroke; opacity: 1; stroke-width: 0px; fill: rgb(99, 110, 250); fill-opacity: 1;\"/></g><g class=\"point\"><path d=\"M0,0Z\" style=\"vector-effect: non-scaling-stroke; opacity: 1; stroke-width: 0px; fill: rgb(99, 110, 250); fill-opacity: 1;\"/></g><g class=\"point\"><path d=\"M0,0Z\" style=\"vector-effect: non-scaling-stroke; opacity: 1; stroke-width: 0px; fill: rgb(99, 110, 250); fill-opacity: 1;\"/></g><g class=\"point\"><path d=\"M186.01,99.84V4.99H219.16V99.84Z\" style=\"vector-effect: non-scaling-stroke; opacity: 1; stroke-width: 0px; fill: rgb(99, 110, 250); fill-opacity: 1;\"/></g></g></g></g></g><g class=\"overplot\"/><path class=\"xlines-above crisp\" d=\"M0,0\" style=\"fill: none;\"/><path class=\"ylines-above crisp\" d=\"M0,0\" style=\"fill: none;\"/><g class=\"overlines-above\"/><g class=\"xaxislayer-above\"><g class=\"x15tick\"><text text-anchor=\"middle\" x=\"0\" y=\"778.625\" transform=\"translate(644.42,0)\" style=\"font-family: 'Open Sans', verdana, arial, sans-serif; font-size: 12px; fill: rgb(42, 63, 95); fill-opacity: 1; white-space: pre; opacity: 1;\">0</text></g><g class=\"x15tick\"><text text-anchor=\"middle\" x=\"0\" y=\"778.625\" style=\"font-family: 'Open Sans', verdana, arial, sans-serif; font-size: 12px; fill: rgb(42, 63, 95); fill-opacity: 1; white-space: pre; opacity: 1;\" transform=\"translate(736.5,0)\">0.5</text></g><g class=\"x15tick\"><text text-anchor=\"middle\" x=\"0\" y=\"778.625\" style=\"font-family: 'Open Sans', verdana, arial, sans-serif; font-size: 12px; fill: rgb(42, 63, 95); fill-opacity: 1; white-space: pre; opacity: 1;\" transform=\"translate(828.58,0)\">1</text></g></g><g class=\"yaxislayer-above\"><g class=\"y15tick\"><text text-anchor=\"end\" x=\"625\" y=\"4.199999999999999\" transform=\"translate(0,765.62125)\" style=\"font-family: 'Open Sans', verdana, arial, sans-serif; font-size: 12px; fill: rgb(42, 63, 95); fill-opacity: 1; white-space: pre; opacity: 1;\">0</text></g><g class=\"y15tick\"><text text-anchor=\"end\" x=\"625\" y=\"4.199999999999999\" style=\"font-family: 'Open Sans', verdana, arial, sans-serif; font-size: 12px; fill: rgb(42, 63, 95); fill-opacity: 1; white-space: pre; opacity: 1;\" transform=\"translate(0,734.01125)\">1</text></g><g class=\"y15tick\"><text text-anchor=\"end\" x=\"625\" y=\"4.199999999999999\" style=\"font-family: 'Open Sans', verdana, arial, sans-serif; font-size: 12px; fill: rgb(42, 63, 95); fill-opacity: 1; white-space: pre; opacity: 1;\" transform=\"translate(0,702.39125)\">2</text></g><g class=\"y15tick\"><text text-anchor=\"end\" x=\"625\" y=\"4.199999999999999\" style=\"font-family: 'Open Sans', verdana, arial, sans-serif; font-size: 12px; fill: rgb(42, 63, 95); fill-opacity: 1; white-space: pre; opacity: 1;\" transform=\"translate(0,670.77125)\">3</text></g></g><g class=\"overaxes-above\"/></g><g class=\"subplot x16y16\"><g class=\"layer-subplot\"><g class=\"shapelayer\"/><g class=\"imagelayer\"/></g><g class=\"minor-gridlayer\"><g class=\"x16\"/><g class=\"y16\"/></g><g class=\"gridlayer\"><g class=\"x16\"/><g class=\"y16\"><path class=\"y16grid crisp\" transform=\"translate(0,741.91125)\" d=\"M899,0h221.00000000000003\" style=\"stroke: rgb(235, 240, 248); stroke-opacity: 1; stroke-width: 1px;\"/><path class=\"y16grid crisp\" transform=\"translate(0,718.20125)\" d=\"M899,0h221.00000000000003\" style=\"stroke: rgb(235, 240, 248); stroke-opacity: 1; stroke-width: 1px;\"/><path class=\"y16grid crisp\" transform=\"translate(0,694.49125)\" d=\"M899,0h221.00000000000003\" style=\"stroke: rgb(235, 240, 248); stroke-opacity: 1; stroke-width: 1px;\"/><path class=\"y16grid crisp\" transform=\"translate(0,670.77125)\" d=\"M899,0h221.00000000000003\" style=\"stroke: rgb(235, 240, 248); stroke-opacity: 1; stroke-width: 1px;\"/></g></g><g class=\"zerolinelayer\"><path class=\"y16zl zl crisp\" transform=\"translate(0,765.62125)\" d=\"M899,0h221.00000000000003\" style=\"stroke: rgb(235, 240, 248); stroke-opacity: 1; stroke-width: 2px;\"/></g><path class=\"xlines-below\"/><path class=\"ylines-below\"/><g class=\"overlines-below\"/><g class=\"xaxislayer-below\"/><g class=\"yaxislayer-below\"/><g class=\"overaxes-below\"/><g class=\"plot\" transform=\"translate(899,665.78125)\" clip-path=\"url(#clip372127x16y16plot)\"><g class=\"barlayer mlayer\"><g class=\"trace bars\" style=\"opacity: 1;\"><g class=\"points\"><g class=\"point\"><path d=\"M5.52,99.84V76.13H104.98V99.84Z\" style=\"vector-effect: non-scaling-stroke; opacity: 1; stroke-width: 0px; fill: rgb(99, 110, 250); fill-opacity: 1;\"/></g><g class=\"point\"><path d=\"M116.03,99.84V4.99H215.48V99.84Z\" style=\"vector-effect: non-scaling-stroke; opacity: 1; stroke-width: 0px; fill: rgb(99, 110, 250); fill-opacity: 1;\"/></g></g></g></g></g><g class=\"overplot\"/><path class=\"xlines-above crisp\" d=\"M0,0\" style=\"fill: none;\"/><path class=\"ylines-above crisp\" d=\"M0,0\" style=\"fill: none;\"/><g class=\"overlines-above\"/><g class=\"xaxislayer-above\"><g class=\"x16tick\"><text text-anchor=\"middle\" x=\"0\" y=\"778.625\" transform=\"translate(954.25,0)\" style=\"font-family: 'Open Sans', verdana, arial, sans-serif; font-size: 12px; fill: rgb(42, 63, 95); fill-opacity: 1; white-space: pre; opacity: 1;\">misc_human</text></g><g class=\"x16tick\"><text text-anchor=\"middle\" x=\"0\" y=\"778.625\" transform=\"translate(1064.75,0)\" style=\"font-family: 'Open Sans', verdana, arial, sans-serif; font-size: 12px; fill: rgb(42, 63, 95); fill-opacity: 1; white-space: pre; opacity: 1;\">non_human</text></g></g><g class=\"yaxislayer-above\"><g class=\"y16tick\"><text text-anchor=\"end\" x=\"898\" y=\"4.199999999999999\" transform=\"translate(0,765.62125)\" style=\"font-family: 'Open Sans', verdana, arial, sans-serif; font-size: 12px; fill: rgb(42, 63, 95); fill-opacity: 1; white-space: pre; opacity: 1;\">0</text></g><g class=\"y16tick\"><text text-anchor=\"end\" x=\"898\" y=\"4.199999999999999\" style=\"font-family: 'Open Sans', verdana, arial, sans-serif; font-size: 12px; fill: rgb(42, 63, 95); fill-opacity: 1; white-space: pre; opacity: 1;\" transform=\"translate(0,741.91125)\">1</text></g><g class=\"y16tick\"><text text-anchor=\"end\" x=\"898\" y=\"4.199999999999999\" style=\"font-family: 'Open Sans', verdana, arial, sans-serif; font-size: 12px; fill: rgb(42, 63, 95); fill-opacity: 1; white-space: pre; opacity: 1;\" transform=\"translate(0,718.20125)\">2</text></g><g class=\"y16tick\"><text text-anchor=\"end\" x=\"898\" y=\"4.199999999999999\" style=\"font-family: 'Open Sans', verdana, arial, sans-serif; font-size: 12px; fill: rgb(42, 63, 95); fill-opacity: 1; white-space: pre; opacity: 1;\" transform=\"translate(0,694.49125)\">3</text></g><g class=\"y16tick\"><text text-anchor=\"end\" x=\"898\" y=\"4.199999999999999\" style=\"font-family: 'Open Sans', verdana, arial, sans-serif; font-size: 12px; fill: rgb(42, 63, 95); fill-opacity: 1; white-space: pre; opacity: 1;\" transform=\"translate(0,670.77125)\">4</text></g></g><g class=\"overaxes-above\"/></g><g class=\"subplot x17y17\"><g class=\"layer-subplot\"><g class=\"shapelayer\"/><g class=\"imagelayer\"/></g><g class=\"minor-gridlayer\"><g class=\"x17\"/><g class=\"y17\"/></g><g class=\"gridlayer\"><g class=\"x17\"/><g class=\"y17\"><path class=\"y17grid crisp\" transform=\"translate(0,906.795)\" d=\"M80,0h221\" style=\"stroke: rgb(235, 240, 248); stroke-opacity: 1; stroke-width: 1px;\"/><path class=\"y17grid crisp\" transform=\"translate(0,859.365)\" d=\"M80,0h221\" style=\"stroke: rgb(235, 240, 248); stroke-opacity: 1; stroke-width: 1px;\"/></g></g><g class=\"zerolinelayer\"><path class=\"y17zl zl crisp\" transform=\"translate(0,954.215)\" d=\"M80,0h221\" style=\"stroke: rgb(235, 240, 248); stroke-opacity: 1; stroke-width: 2px;\"/></g><path class=\"xlines-below\"/><path class=\"ylines-below\"/><g class=\"overlines-below\"/><g class=\"xaxislayer-below\"/><g class=\"yaxislayer-below\"/><g class=\"overaxes-below\"/><g class=\"plot\" transform=\"translate(80,854.375)\" clip-path=\"url(#clip372127x17y17plot)\"><g class=\"barlayer mlayer\"><g class=\"trace bars\" style=\"opacity: 1;\"><g class=\"points\"><g class=\"point\"><path d=\"M2.21,99.84V4.99H41.99V99.84Z\" style=\"vector-effect: non-scaling-stroke; opacity: 1; stroke-width: 0px; fill: rgb(99, 110, 250); fill-opacity: 1;\"/></g><g class=\"point\"><path d=\"M46.41,99.84V4.99H86.19V99.84Z\" style=\"vector-effect: non-scaling-stroke; opacity: 1; stroke-width: 0px; fill: rgb(99, 110, 250); fill-opacity: 1;\"/></g><g class=\"point\"><path d=\"M90.61,99.84V4.99H130.39V99.84Z\" style=\"vector-effect: non-scaling-stroke; opacity: 1; stroke-width: 0px; fill: rgb(99, 110, 250); fill-opacity: 1;\"/></g><g class=\"point\"><path d=\"M134.81,99.84V4.99H174.59V99.84Z\" style=\"vector-effect: non-scaling-stroke; opacity: 1; stroke-width: 0px; fill: rgb(99, 110, 250); fill-opacity: 1;\"/></g><g class=\"point\"><path d=\"M179.01,99.84V4.99H218.79V99.84Z\" style=\"vector-effect: non-scaling-stroke; opacity: 1; stroke-width: 0px; fill: rgb(99, 110, 250); fill-opacity: 1;\"/></g></g></g></g></g><g class=\"overplot\"/><path class=\"xlines-above crisp\" d=\"M0,0\" style=\"fill: none;\"/><path class=\"ylines-above crisp\" d=\"M0,0\" style=\"fill: none;\"/><g class=\"overlines-above\"/><g class=\"xaxislayer-above\"><g class=\"x17tick\"><text text-anchor=\"middle\" x=\"0\" y=\"967.21875\" transform=\"translate(84.42,0)\" style=\"font-family: 'Open Sans', verdana, arial, sans-serif; font-size: 12px; fill: rgb(42, 63, 95); fill-opacity: 1; white-space: pre; opacity: 1;\">0</text></g><g class=\"x17tick\"><text text-anchor=\"middle\" x=\"0\" y=\"967.21875\" style=\"font-family: 'Open Sans', verdana, arial, sans-serif; font-size: 12px; fill: rgb(42, 63, 95); fill-opacity: 1; white-space: pre; opacity: 1;\" transform=\"translate(172.82,0)\">10</text></g><g class=\"x17tick\"><text text-anchor=\"middle\" x=\"0\" y=\"967.21875\" style=\"font-family: 'Open Sans', verdana, arial, sans-serif; font-size: 12px; fill: rgb(42, 63, 95); fill-opacity: 1; white-space: pre; opacity: 1;\" transform=\"translate(261.22,0)\">20</text></g></g><g class=\"yaxislayer-above\"><g class=\"y17tick\"><text text-anchor=\"end\" x=\"79\" y=\"4.199999999999999\" transform=\"translate(0,954.215)\" style=\"font-family: 'Open Sans', verdana, arial, sans-serif; font-size: 12px; fill: rgb(42, 63, 95); fill-opacity: 1; white-space: pre; opacity: 1;\">0</text></g><g class=\"y17tick\"><text text-anchor=\"end\" x=\"79\" y=\"4.199999999999999\" style=\"font-family: 'Open Sans', verdana, arial, sans-serif; font-size: 12px; fill: rgb(42, 63, 95); fill-opacity: 1; white-space: pre; opacity: 1;\" transform=\"translate(0,906.795)\">0.5</text></g><g class=\"y17tick\"><text text-anchor=\"end\" x=\"79\" y=\"4.199999999999999\" style=\"font-family: 'Open Sans', verdana, arial, sans-serif; font-size: 12px; fill: rgb(42, 63, 95); fill-opacity: 1; white-space: pre; opacity: 1;\" transform=\"translate(0,859.365)\">1</text></g></g><g class=\"overaxes-above\"/></g><g class=\"subplot x18y18\"><g class=\"layer-subplot\"><g class=\"shapelayer\"/><g class=\"imagelayer\"/></g><g class=\"minor-gridlayer\"><g class=\"x18\"/><g class=\"y18\"/></g><g class=\"gridlayer\"><g class=\"x18\"/><g class=\"y18\"><path class=\"y18grid crisp\" transform=\"translate(0,930.505)\" d=\"M353,0h220.99999999999997\" style=\"stroke: rgb(235, 240, 248); stroke-opacity: 1; stroke-width: 1px;\"/><path class=\"y18grid crisp\" transform=\"translate(0,906.795)\" d=\"M353,0h220.99999999999997\" style=\"stroke: rgb(235, 240, 248); stroke-opacity: 1; stroke-width: 1px;\"/><path class=\"y18grid crisp\" transform=\"translate(0,883.085)\" d=\"M353,0h220.99999999999997\" style=\"stroke: rgb(235, 240, 248); stroke-opacity: 1; stroke-width: 1px;\"/><path class=\"y18grid crisp\" transform=\"translate(0,859.365)\" d=\"M353,0h220.99999999999997\" style=\"stroke: rgb(235, 240, 248); stroke-opacity: 1; stroke-width: 1px;\"/></g></g><g class=\"zerolinelayer\"><path class=\"y18zl zl crisp\" transform=\"translate(0,954.215)\" d=\"M353,0h220.99999999999997\" style=\"stroke: rgb(235, 240, 248); stroke-opacity: 1; stroke-width: 2px;\"/></g><path class=\"xlines-below\"/><path class=\"ylines-below\"/><g class=\"overlines-below\"/><g class=\"xaxislayer-below\"/><g class=\"yaxislayer-below\"/><g class=\"overaxes-below\"/><g class=\"plot\" transform=\"translate(353,854.375)\" clip-path=\"url(#clip372127x18y18plot)\"><g class=\"barlayer mlayer\"><g class=\"trace bars\" style=\"opacity: 1;\"><g class=\"points\"><g class=\"point\"><path d=\"M1.58,99.84V52.42H29.99V99.84Z\" style=\"vector-effect: non-scaling-stroke; opacity: 1; stroke-width: 0px; fill: rgb(99, 110, 250); fill-opacity: 1;\"/></g><g class=\"point\"><path d=\"M0,0Z\" style=\"vector-effect: non-scaling-stroke; opacity: 1; stroke-width: 0px; fill: rgb(99, 110, 250); fill-opacity: 1;\"/></g><g class=\"point\"><path d=\"M0,0Z\" style=\"vector-effect: non-scaling-stroke; opacity: 1; stroke-width: 0px; fill: rgb(99, 110, 250); fill-opacity: 1;\"/></g><g class=\"point\"><path d=\"M0,0Z\" style=\"vector-effect: non-scaling-stroke; opacity: 1; stroke-width: 0px; fill: rgb(99, 110, 250); fill-opacity: 1;\"/></g><g class=\"point\"><path d=\"M127.86,99.84V4.99H156.28V99.84Z\" style=\"vector-effect: non-scaling-stroke; opacity: 1; stroke-width: 0px; fill: rgb(99, 110, 250); fill-opacity: 1;\"/></g><g class=\"point\"><path d=\"M0,0Z\" style=\"vector-effect: non-scaling-stroke; opacity: 1; stroke-width: 0px; fill: rgb(99, 110, 250); fill-opacity: 1;\"/></g><g class=\"point\"><path d=\"M191.01,99.84V4.99H219.42V99.84Z\" style=\"vector-effect: non-scaling-stroke; opacity: 1; stroke-width: 0px; fill: rgb(99, 110, 250); fill-opacity: 1;\"/></g></g></g></g></g><g class=\"overplot\"/><path class=\"xlines-above crisp\" d=\"M0,0\" style=\"fill: none;\"/><path class=\"ylines-above crisp\" d=\"M0,0\" style=\"fill: none;\"/><g class=\"overlines-above\"/><g class=\"xaxislayer-above\"><g class=\"x18tick\"><text text-anchor=\"middle\" x=\"0\" y=\"967.21875\" transform=\"translate(368.79,0)\" style=\"font-family: 'Open Sans', verdana, arial, sans-serif; font-size: 12px; fill: rgb(42, 63, 95); fill-opacity: 1; white-space: pre; opacity: 1;\">0</text></g><g class=\"x18tick\"><text text-anchor=\"middle\" x=\"0\" y=\"967.21875\" style=\"font-family: 'Open Sans', verdana, arial, sans-serif; font-size: 12px; fill: rgb(42, 63, 95); fill-opacity: 1; white-space: pre; opacity: 1;\" transform=\"translate(431.93,0)\">1</text></g><g class=\"x18tick\"><text text-anchor=\"middle\" x=\"0\" y=\"967.21875\" style=\"font-family: 'Open Sans', verdana, arial, sans-serif; font-size: 12px; fill: rgb(42, 63, 95); fill-opacity: 1; white-space: pre; opacity: 1;\" transform=\"translate(495.07,0)\">2</text></g><g class=\"x18tick\"><text text-anchor=\"middle\" x=\"0\" y=\"967.21875\" style=\"font-family: 'Open Sans', verdana, arial, sans-serif; font-size: 12px; fill: rgb(42, 63, 95); fill-opacity: 1; white-space: pre; opacity: 1;\" transform=\"translate(558.21,0)\">3</text></g></g><g class=\"yaxislayer-above\"><g class=\"y18tick\"><text text-anchor=\"end\" x=\"352\" y=\"4.199999999999999\" transform=\"translate(0,954.215)\" style=\"font-family: 'Open Sans', verdana, arial, sans-serif; font-size: 12px; fill: rgb(42, 63, 95); fill-opacity: 1; white-space: pre; opacity: 1;\">0</text></g><g class=\"y18tick\"><text text-anchor=\"end\" x=\"352\" y=\"4.199999999999999\" style=\"font-family: 'Open Sans', verdana, arial, sans-serif; font-size: 12px; fill: rgb(42, 63, 95); fill-opacity: 1; white-space: pre; opacity: 1;\" transform=\"translate(0,930.505)\">0.5</text></g><g class=\"y18tick\"><text text-anchor=\"end\" x=\"352\" y=\"4.199999999999999\" style=\"font-family: 'Open Sans', verdana, arial, sans-serif; font-size: 12px; fill: rgb(42, 63, 95); fill-opacity: 1; white-space: pre; opacity: 1;\" transform=\"translate(0,906.795)\">1</text></g><g class=\"y18tick\"><text text-anchor=\"end\" x=\"352\" y=\"4.199999999999999\" style=\"font-family: 'Open Sans', verdana, arial, sans-serif; font-size: 12px; fill: rgb(42, 63, 95); fill-opacity: 1; white-space: pre; opacity: 1;\" transform=\"translate(0,883.085)\">1.5</text></g><g class=\"y18tick\"><text text-anchor=\"end\" x=\"352\" y=\"4.199999999999999\" style=\"font-family: 'Open Sans', verdana, arial, sans-serif; font-size: 12px; fill: rgb(42, 63, 95); fill-opacity: 1; white-space: pre; opacity: 1;\" transform=\"translate(0,859.365)\">2</text></g></g><g class=\"overaxes-above\"/></g><g class=\"subplot x19y19\"><g class=\"layer-subplot\"><g class=\"shapelayer\"/><g class=\"imagelayer\"/></g><g class=\"minor-gridlayer\"><g class=\"x19\"/><g class=\"y19\"/></g><g class=\"gridlayer\"><g class=\"x19\"/><g class=\"y19\"><path class=\"y19grid crisp\" transform=\"translate(0,916.275)\" d=\"M626,0h221.00000000000003\" style=\"stroke: rgb(235, 240, 248); stroke-opacity: 1; stroke-width: 1px;\"/><path class=\"y19grid crisp\" transform=\"translate(0,878.335)\" d=\"M626,0h221.00000000000003\" style=\"stroke: rgb(235, 240, 248); stroke-opacity: 1; stroke-width: 1px;\"/></g></g><g class=\"zerolinelayer\"><path class=\"y19zl zl crisp\" transform=\"translate(0,954.215)\" d=\"M626,0h221.00000000000003\" style=\"stroke: rgb(235, 240, 248); stroke-opacity: 1; stroke-width: 2px;\"/></g><path class=\"xlines-below\"/><path class=\"ylines-below\"/><g class=\"overlines-below\"/><g class=\"xaxislayer-below\"/><g class=\"yaxislayer-below\"/><g class=\"overaxes-below\"/><g class=\"plot\" transform=\"translate(626,854.375)\" clip-path=\"url(#clip372127x19y19plot)\"><g class=\"barlayer mlayer\"><g class=\"trace bars\" style=\"opacity: 1;\"><g class=\"points\"><g class=\"point\"><path d=\"M11.05,99.84V4.99H209.95V99.84Z\" style=\"vector-effect: non-scaling-stroke; opacity: 1; stroke-width: 0px; fill: rgb(99, 110, 250); fill-opacity: 1;\"/></g></g></g></g></g><g class=\"overplot\"/><path class=\"xlines-above crisp\" d=\"M0,0\" style=\"fill: none;\"/><path class=\"ylines-above crisp\" d=\"M0,0\" style=\"fill: none;\"/><g class=\"overlines-above\"/><g class=\"xaxislayer-above\"><g class=\"x19tick\"><text text-anchor=\"middle\" x=\"0\" y=\"967.21875\" transform=\"translate(626,0)\" style=\"font-family: 'Open Sans', verdana, arial, sans-serif; font-size: 12px; fill: rgb(42, 63, 95); fill-opacity: 1; white-space: pre; opacity: 1;\">−0.5</text></g><g class=\"x19tick\"><text text-anchor=\"middle\" x=\"0\" y=\"967.21875\" style=\"font-family: 'Open Sans', verdana, arial, sans-serif; font-size: 12px; fill: rgb(42, 63, 95); fill-opacity: 1; white-space: pre; opacity: 1;\" transform=\"translate(736.5,0)\">0</text></g><g class=\"x19tick\"><text text-anchor=\"middle\" x=\"0\" y=\"967.21875\" style=\"font-family: 'Open Sans', verdana, arial, sans-serif; font-size: 12px; fill: rgb(42, 63, 95); fill-opacity: 1; white-space: pre; opacity: 1;\" transform=\"translate(847,0)\">0.5</text></g></g><g class=\"yaxislayer-above\"><g class=\"y19tick\"><text text-anchor=\"end\" x=\"625\" y=\"4.199999999999999\" transform=\"translate(0,954.215)\" style=\"font-family: 'Open Sans', verdana, arial, sans-serif; font-size: 12px; fill: rgb(42, 63, 95); fill-opacity: 1; white-space: pre; opacity: 1;\">0</text></g><g class=\"y19tick\"><text text-anchor=\"end\" x=\"625\" y=\"4.199999999999999\" style=\"font-family: 'Open Sans', verdana, arial, sans-serif; font-size: 12px; fill: rgb(42, 63, 95); fill-opacity: 1; white-space: pre; opacity: 1;\" transform=\"translate(0,916.275)\">2</text></g><g class=\"y19tick\"><text text-anchor=\"end\" x=\"625\" y=\"4.199999999999999\" style=\"font-family: 'Open Sans', verdana, arial, sans-serif; font-size: 12px; fill: rgb(42, 63, 95); fill-opacity: 1; white-space: pre; opacity: 1;\" transform=\"translate(0,878.335)\">4</text></g></g><g class=\"overaxes-above\"/></g><g class=\"subplot x20y20\"><g class=\"layer-subplot\"><g class=\"shapelayer\"/><g class=\"imagelayer\"/></g><g class=\"minor-gridlayer\"><g class=\"x20\"/><g class=\"y20\"/></g><g class=\"gridlayer\"><g class=\"x20\"/><g class=\"y20\"><path class=\"y20grid crisp\" transform=\"translate(0,906.795)\" d=\"M899,0h221.00000000000003\" style=\"stroke: rgb(235, 240, 248); stroke-opacity: 1; stroke-width: 1px;\"/><path class=\"y20grid crisp\" transform=\"translate(0,859.365)\" d=\"M899,0h221.00000000000003\" style=\"stroke: rgb(235, 240, 248); stroke-opacity: 1; stroke-width: 1px;\"/></g></g><g class=\"zerolinelayer\"><path class=\"y20zl zl crisp\" transform=\"translate(0,954.215)\" d=\"M899,0h221.00000000000003\" style=\"stroke: rgb(235, 240, 248); stroke-opacity: 1; stroke-width: 2px;\"/></g><path class=\"xlines-below\"/><path class=\"ylines-below\"/><g class=\"overlines-below\"/><g class=\"xaxislayer-below\"/><g class=\"yaxislayer-below\"/><g class=\"overaxes-below\"/><g class=\"plot\" transform=\"translate(899,854.375)\" clip-path=\"url(#clip372127x20y20plot)\"><g class=\"barlayer mlayer\"><g class=\"trace bars\" style=\"opacity: 1;\"><g class=\"points\"><g class=\"point\"><path d=\"M1.58,99.84V4.99H29.99V99.84Z\" style=\"vector-effect: non-scaling-stroke; opacity: 1; stroke-width: 0px; fill: rgb(99, 110, 250); fill-opacity: 1;\"/></g><g class=\"point\"><path d=\"M33.15,99.84V4.99H61.56V99.84Z\" style=\"vector-effect: non-scaling-stroke; opacity: 1; stroke-width: 0px; fill: rgb(99, 110, 250); fill-opacity: 1;\"/></g><g class=\"point\"><path d=\"M0,0Z\" style=\"vector-effect: non-scaling-stroke; opacity: 1; stroke-width: 0px; fill: rgb(99, 110, 250); fill-opacity: 1;\"/></g><g class=\"point\"><path d=\"M96.29,99.84V4.99H124.71V99.84Z\" style=\"vector-effect: non-scaling-stroke; opacity: 1; stroke-width: 0px; fill: rgb(99, 110, 250); fill-opacity: 1;\"/></g><g class=\"point\"><path d=\"M127.86,99.84V4.99H156.28V99.84Z\" style=\"vector-effect: non-scaling-stroke; opacity: 1; stroke-width: 0px; fill: rgb(99, 110, 250); fill-opacity: 1;\"/></g><g class=\"point\"><path d=\"M0,0Z\" style=\"vector-effect: non-scaling-stroke; opacity: 1; stroke-width: 0px; fill: rgb(99, 110, 250); fill-opacity: 1;\"/></g><g class=\"point\"><path d=\"M191.01,99.84V4.99H219.42V99.84Z\" style=\"vector-effect: non-scaling-stroke; opacity: 1; stroke-width: 0px; fill: rgb(99, 110, 250); fill-opacity: 1;\"/></g></g></g></g></g><g class=\"overplot\"/><path class=\"xlines-above crisp\" d=\"M0,0\" style=\"fill: none;\"/><path class=\"ylines-above crisp\" d=\"M0,0\" style=\"fill: none;\"/><g class=\"overlines-above\"/><g class=\"xaxislayer-above\"><g class=\"x20tick\"><text text-anchor=\"middle\" x=\"0\" y=\"967.21875\" transform=\"translate(930.57,0)\" style=\"font-family: 'Open Sans', verdana, arial, sans-serif; font-size: 12px; fill: rgb(42, 63, 95); fill-opacity: 1; white-space: pre; opacity: 1;\">10</text></g><g class=\"x20tick\"><text text-anchor=\"middle\" x=\"0\" y=\"967.21875\" style=\"font-family: 'Open Sans', verdana, arial, sans-serif; font-size: 12px; fill: rgb(42, 63, 95); fill-opacity: 1; white-space: pre; opacity: 1;\" transform=\"translate(993.71,0)\">20</text></g><g class=\"x20tick\"><text text-anchor=\"middle\" x=\"0\" y=\"967.21875\" style=\"font-family: 'Open Sans', verdana, arial, sans-serif; font-size: 12px; fill: rgb(42, 63, 95); fill-opacity: 1; white-space: pre; opacity: 1;\" transform=\"translate(1056.8600000000001,0)\">30</text></g><g class=\"x20tick\"><text text-anchor=\"middle\" x=\"0\" y=\"967.21875\" style=\"font-family: 'Open Sans', verdana, arial, sans-serif; font-size: 12px; fill: rgb(42, 63, 95); fill-opacity: 1; white-space: pre; opacity: 1;\" transform=\"translate(1120,0)\">40</text></g></g><g class=\"yaxislayer-above\"><g class=\"y20tick\"><text text-anchor=\"end\" x=\"898\" y=\"4.199999999999999\" transform=\"translate(0,954.215)\" style=\"font-family: 'Open Sans', verdana, arial, sans-serif; font-size: 12px; fill: rgb(42, 63, 95); fill-opacity: 1; white-space: pre; opacity: 1;\">0</text></g><g class=\"y20tick\"><text text-anchor=\"end\" x=\"898\" y=\"4.199999999999999\" style=\"font-family: 'Open Sans', verdana, arial, sans-serif; font-size: 12px; fill: rgb(42, 63, 95); fill-opacity: 1; white-space: pre; opacity: 1;\" transform=\"translate(0,906.795)\">0.5</text></g><g class=\"y20tick\"><text text-anchor=\"end\" x=\"898\" y=\"4.199999999999999\" style=\"font-family: 'Open Sans', verdana, arial, sans-serif; font-size: 12px; fill: rgb(42, 63, 95); fill-opacity: 1; white-space: pre; opacity: 1;\" transform=\"translate(0,859.365)\">1</text></g></g><g class=\"overaxes-above\"/></g><g class=\"subplot x21y21\"><g class=\"layer-subplot\"><g class=\"shapelayer\"/><g class=\"imagelayer\"/></g><g class=\"minor-gridlayer\"><g class=\"x21\"/><g class=\"y21\"/></g><g class=\"gridlayer\"><g class=\"x21\"/><g class=\"y21\"><path class=\"y21grid crisp\" transform=\"translate(0,1119.09875)\" d=\"M80,0h221\" style=\"stroke: rgb(235, 240, 248); stroke-opacity: 1; stroke-width: 1px;\"/><path class=\"y21grid crisp\" transform=\"translate(0,1095.38875)\" d=\"M80,0h221\" style=\"stroke: rgb(235, 240, 248); stroke-opacity: 1; stroke-width: 1px;\"/><path class=\"y21grid crisp\" transform=\"translate(0,1071.67875)\" d=\"M80,0h221\" style=\"stroke: rgb(235, 240, 248); stroke-opacity: 1; stroke-width: 1px;\"/><path class=\"y21grid crisp\" transform=\"translate(0,1047.95875)\" d=\"M80,0h221\" style=\"stroke: rgb(235, 240, 248); stroke-opacity: 1; stroke-width: 1px;\"/></g></g><g class=\"zerolinelayer\"><path class=\"y21zl zl crisp\" transform=\"translate(0,1142.80875)\" d=\"M80,0h221\" style=\"stroke: rgb(235, 240, 248); stroke-opacity: 1; stroke-width: 2px;\"/></g><path class=\"xlines-below\"/><path class=\"ylines-below\"/><g class=\"overlines-below\"/><g class=\"xaxislayer-below\"/><g class=\"yaxislayer-below\"/><g class=\"overaxes-below\"/><g class=\"plot\" transform=\"translate(80,1042.96875)\" clip-path=\"url(#clip372127x21y21plot)\"><g class=\"barlayer mlayer\"><g class=\"trace bars\" style=\"opacity: 1;\"><g class=\"points\"><g class=\"point\"><path d=\"M1.11,99.84V52.42H21V99.84Z\" style=\"vector-effect: non-scaling-stroke; opacity: 1; stroke-width: 0px; fill: rgb(99, 110, 250); fill-opacity: 1;\"/></g><g class=\"point\"><path d=\"M0,0Z\" style=\"vector-effect: non-scaling-stroke; opacity: 1; stroke-width: 0px; fill: rgb(99, 110, 250); fill-opacity: 1;\"/></g><g class=\"point\"><path d=\"M0,0Z\" style=\"vector-effect: non-scaling-stroke; opacity: 1; stroke-width: 0px; fill: rgb(99, 110, 250); fill-opacity: 1;\"/></g><g class=\"point\"><path d=\"M0,0Z\" style=\"vector-effect: non-scaling-stroke; opacity: 1; stroke-width: 0px; fill: rgb(99, 110, 250); fill-opacity: 1;\"/></g><g class=\"point\"><path d=\"M89.51,99.84V52.42H109.4V99.84Z\" style=\"vector-effect: non-scaling-stroke; opacity: 1; stroke-width: 0px; fill: rgb(99, 110, 250); fill-opacity: 1;\"/></g><g class=\"point\"><path d=\"M111.61,99.84V4.99H131.5V99.84Z\" style=\"vector-effect: non-scaling-stroke; opacity: 1; stroke-width: 0px; fill: rgb(99, 110, 250); fill-opacity: 1;\"/></g><g class=\"point\"><path d=\"M0,0Z\" style=\"vector-effect: non-scaling-stroke; opacity: 1; stroke-width: 0px; fill: rgb(99, 110, 250); fill-opacity: 1;\"/></g><g class=\"point\"><path d=\"M0,0Z\" style=\"vector-effect: non-scaling-stroke; opacity: 1; stroke-width: 0px; fill: rgb(99, 110, 250); fill-opacity: 1;\"/></g><g class=\"point\"><path d=\"M0,0Z\" style=\"vector-effect: non-scaling-stroke; opacity: 1; stroke-width: 0px; fill: rgb(99, 110, 250); fill-opacity: 1;\"/></g><g class=\"point\"><path d=\"M200.01,99.84V52.42H219.9V99.84Z\" style=\"vector-effect: non-scaling-stroke; opacity: 1; stroke-width: 0px; fill: rgb(99, 110, 250); fill-opacity: 1;\"/></g></g></g></g></g><g class=\"overplot\"/><path class=\"xlines-above crisp\" d=\"M0,0\" style=\"fill: none;\"/><path class=\"ylines-above crisp\" d=\"M0,0\" style=\"fill: none;\"/><g class=\"overlines-above\"/><g class=\"xaxislayer-above\"><g class=\"x21tick\"><text text-anchor=\"middle\" x=\"0\" y=\"1155.8125\" transform=\"translate(124.2,0)\" style=\"font-family: 'Open Sans', verdana, arial, sans-serif; font-size: 12px; fill: rgb(42, 63, 95); fill-opacity: 1; white-space: pre; opacity: 1;\">−2</text></g><g class=\"x21tick\"><text text-anchor=\"middle\" x=\"0\" y=\"1155.8125\" style=\"font-family: 'Open Sans', verdana, arial, sans-serif; font-size: 12px; fill: rgb(42, 63, 95); fill-opacity: 1; white-space: pre; opacity: 1;\" transform=\"translate(212.6,0)\">0</text></g><g class=\"x21tick\"><text text-anchor=\"middle\" x=\"0\" y=\"1155.8125\" style=\"font-family: 'Open Sans', verdana, arial, sans-serif; font-size: 12px; fill: rgb(42, 63, 95); fill-opacity: 1; white-space: pre; opacity: 1;\" transform=\"translate(301,0)\">2</text></g></g><g class=\"yaxislayer-above\"><g class=\"y21tick\"><text text-anchor=\"end\" x=\"79\" y=\"4.199999999999999\" transform=\"translate(0,1142.80875)\" style=\"font-family: 'Open Sans', verdana, arial, sans-serif; font-size: 12px; fill: rgb(42, 63, 95); fill-opacity: 1; white-space: pre; opacity: 1;\">0</text></g><g class=\"y21tick\"><text text-anchor=\"end\" x=\"79\" y=\"4.199999999999999\" style=\"font-family: 'Open Sans', verdana, arial, sans-serif; font-size: 12px; fill: rgb(42, 63, 95); fill-opacity: 1; white-space: pre; opacity: 1;\" transform=\"translate(0,1119.09875)\">0.5</text></g><g class=\"y21tick\"><text text-anchor=\"end\" x=\"79\" y=\"4.199999999999999\" style=\"font-family: 'Open Sans', verdana, arial, sans-serif; font-size: 12px; fill: rgb(42, 63, 95); fill-opacity: 1; white-space: pre; opacity: 1;\" transform=\"translate(0,1095.38875)\">1</text></g><g class=\"y21tick\"><text text-anchor=\"end\" x=\"79\" y=\"4.199999999999999\" style=\"font-family: 'Open Sans', verdana, arial, sans-serif; font-size: 12px; fill: rgb(42, 63, 95); fill-opacity: 1; white-space: pre; opacity: 1;\" transform=\"translate(0,1071.67875)\">1.5</text></g><g class=\"y21tick\"><text text-anchor=\"end\" x=\"79\" y=\"4.199999999999999\" style=\"font-family: 'Open Sans', verdana, arial, sans-serif; font-size: 12px; fill: rgb(42, 63, 95); fill-opacity: 1; white-space: pre; opacity: 1;\" transform=\"translate(0,1047.95875)\">2</text></g></g><g class=\"overaxes-above\"/></g><g class=\"subplot x22y22\"><g class=\"layer-subplot\"><g class=\"shapelayer\"/><g class=\"imagelayer\"/></g><g class=\"minor-gridlayer\"><g class=\"x22\"/><g class=\"y22\"/></g><g class=\"gridlayer\"><g class=\"x22\"/><g class=\"y22\"><path class=\"y22grid crisp\" transform=\"translate(0,1119.09875)\" d=\"M353,0h220.99999999999997\" style=\"stroke: rgb(235, 240, 248); stroke-opacity: 1; stroke-width: 1px;\"/><path class=\"y22grid crisp\" transform=\"translate(0,1095.38875)\" d=\"M353,0h220.99999999999997\" style=\"stroke: rgb(235, 240, 248); stroke-opacity: 1; stroke-width: 1px;\"/><path class=\"y22grid crisp\" transform=\"translate(0,1071.67875)\" d=\"M353,0h220.99999999999997\" style=\"stroke: rgb(235, 240, 248); stroke-opacity: 1; stroke-width: 1px;\"/><path class=\"y22grid crisp\" transform=\"translate(0,1047.95875)\" d=\"M353,0h220.99999999999997\" style=\"stroke: rgb(235, 240, 248); stroke-opacity: 1; stroke-width: 1px;\"/></g></g><g class=\"zerolinelayer\"><path class=\"y22zl zl crisp\" transform=\"translate(0,1142.80875)\" d=\"M353,0h220.99999999999997\" style=\"stroke: rgb(235, 240, 248); stroke-opacity: 1; stroke-width: 2px;\"/></g><path class=\"xlines-below\"/><path class=\"ylines-below\"/><g class=\"overlines-below\"/><g class=\"xaxislayer-below\"/><g class=\"yaxislayer-below\"/><g class=\"overaxes-below\"/><g class=\"plot\" transform=\"translate(353,1042.96875)\" clip-path=\"url(#clip372127x22y22plot)\"><g class=\"barlayer mlayer\"><g class=\"trace bars\" style=\"opacity: 1;\"><g class=\"points\"><g class=\"point\"><path d=\"M1.84,99.84V4.99H34.99V99.84Z\" style=\"vector-effect: non-scaling-stroke; opacity: 1; stroke-width: 0px; fill: rgb(99, 110, 250); fill-opacity: 1;\"/></g><g class=\"point\"><path d=\"M38.67,99.84V52.42H71.82V99.84Z\" style=\"vector-effect: non-scaling-stroke; opacity: 1; stroke-width: 0px; fill: rgb(99, 110, 250); fill-opacity: 1;\"/></g><g class=\"point\"><path d=\"M75.51,99.84V52.42H108.66V99.84Z\" style=\"vector-effect: non-scaling-stroke; opacity: 1; stroke-width: 0px; fill: rgb(99, 110, 250); fill-opacity: 1;\"/></g><g class=\"point\"><path d=\"M0,0Z\" style=\"vector-effect: non-scaling-stroke; opacity: 1; stroke-width: 0px; fill: rgb(99, 110, 250); fill-opacity: 1;\"/></g><g class=\"point\"><path d=\"M0,0Z\" style=\"vector-effect: non-scaling-stroke; opacity: 1; stroke-width: 0px; fill: rgb(99, 110, 250); fill-opacity: 1;\"/></g><g class=\"point\"><path d=\"M186.01,99.84V52.42H219.16V99.84Z\" style=\"vector-effect: non-scaling-stroke; opacity: 1; stroke-width: 0px; fill: rgb(99, 110, 250); fill-opacity: 1;\"/></g></g></g></g></g><g class=\"overplot\"/><path class=\"xlines-above crisp\" d=\"M0,0\" style=\"fill: none;\"/><path class=\"ylines-above crisp\" d=\"M0,0\" style=\"fill: none;\"/><g class=\"overlines-above\"/><g class=\"xaxislayer-above\"><g class=\"x22tick\"><text text-anchor=\"middle\" x=\"0\" y=\"1155.8125\" transform=\"translate(353,0)\" style=\"font-family: 'Open Sans', verdana, arial, sans-serif; font-size: 12px; fill: rgb(42, 63, 95); fill-opacity: 1; white-space: pre; opacity: 1;\">−1</text></g><g class=\"x22tick\"><text text-anchor=\"middle\" x=\"0\" y=\"1155.8125\" style=\"font-family: 'Open Sans', verdana, arial, sans-serif; font-size: 12px; fill: rgb(42, 63, 95); fill-opacity: 1; white-space: pre; opacity: 1;\" transform=\"translate(426.67,0)\">0</text></g><g class=\"x22tick\"><text text-anchor=\"middle\" x=\"0\" y=\"1155.8125\" style=\"font-family: 'Open Sans', verdana, arial, sans-serif; font-size: 12px; fill: rgb(42, 63, 95); fill-opacity: 1; white-space: pre; opacity: 1;\" transform=\"translate(500.33000000000004,0)\">1</text></g><g class=\"x22tick\"><text text-anchor=\"middle\" x=\"0\" y=\"1155.8125\" style=\"font-family: 'Open Sans', verdana, arial, sans-serif; font-size: 12px; fill: rgb(42, 63, 95); fill-opacity: 1; white-space: pre; opacity: 1;\" transform=\"translate(574,0)\">2</text></g></g><g class=\"yaxislayer-above\"><g class=\"y22tick\"><text text-anchor=\"end\" x=\"352\" y=\"4.199999999999999\" transform=\"translate(0,1142.80875)\" style=\"font-family: 'Open Sans', verdana, arial, sans-serif; font-size: 12px; fill: rgb(42, 63, 95); fill-opacity: 1; white-space: pre; opacity: 1;\">0</text></g><g class=\"y22tick\"><text text-anchor=\"end\" x=\"352\" y=\"4.199999999999999\" style=\"font-family: 'Open Sans', verdana, arial, sans-serif; font-size: 12px; fill: rgb(42, 63, 95); fill-opacity: 1; white-space: pre; opacity: 1;\" transform=\"translate(0,1119.09875)\">0.5</text></g><g class=\"y22tick\"><text text-anchor=\"end\" x=\"352\" y=\"4.199999999999999\" style=\"font-family: 'Open Sans', verdana, arial, sans-serif; font-size: 12px; fill: rgb(42, 63, 95); fill-opacity: 1; white-space: pre; opacity: 1;\" transform=\"translate(0,1095.38875)\">1</text></g><g class=\"y22tick\"><text text-anchor=\"end\" x=\"352\" y=\"4.199999999999999\" style=\"font-family: 'Open Sans', verdana, arial, sans-serif; font-size: 12px; fill: rgb(42, 63, 95); fill-opacity: 1; white-space: pre; opacity: 1;\" transform=\"translate(0,1071.67875)\">1.5</text></g><g class=\"y22tick\"><text text-anchor=\"end\" x=\"352\" y=\"4.199999999999999\" style=\"font-family: 'Open Sans', verdana, arial, sans-serif; font-size: 12px; fill: rgb(42, 63, 95); fill-opacity: 1; white-space: pre; opacity: 1;\" transform=\"translate(0,1047.95875)\">2</text></g></g><g class=\"overaxes-above\"/></g><g class=\"subplot x23y23\"><g class=\"layer-subplot\"><g class=\"shapelayer\"/><g class=\"imagelayer\"/></g><g class=\"minor-gridlayer\"><g class=\"x23\"/><g class=\"y23\"/></g><g class=\"gridlayer\"><g class=\"x23\"/><g class=\"y23\"><path class=\"y23grid crisp\" transform=\"translate(0,1095.38875)\" d=\"M626,0h221.00000000000003\" style=\"stroke: rgb(235, 240, 248); stroke-opacity: 1; stroke-width: 1px;\"/><path class=\"y23grid crisp\" transform=\"translate(0,1047.95875)\" d=\"M626,0h221.00000000000003\" style=\"stroke: rgb(235, 240, 248); stroke-opacity: 1; stroke-width: 1px;\"/></g></g><g class=\"zerolinelayer\"><path class=\"y23zl zl crisp\" transform=\"translate(0,1142.80875)\" d=\"M626,0h221.00000000000003\" style=\"stroke: rgb(235, 240, 248); stroke-opacity: 1; stroke-width: 2px;\"/></g><path class=\"xlines-below\"/><path class=\"ylines-below\"/><g class=\"overlines-below\"/><g class=\"xaxislayer-below\"/><g class=\"yaxislayer-below\"/><g class=\"overaxes-below\"/><g class=\"plot\" transform=\"translate(626,1042.96875)\" clip-path=\"url(#clip372127x23y23plot)\"><g class=\"barlayer mlayer\"><g class=\"trace bars\" style=\"opacity: 1;\"><g class=\"points\"><g class=\"point\"><path d=\"M1.23,99.84V4.99H23.33V99.84Z\" style=\"vector-effect: non-scaling-stroke; opacity: 1; stroke-width: 0px; fill: rgb(99, 110, 250); fill-opacity: 1;\"/></g><g class=\"point\"><path d=\"M0,0Z\" style=\"vector-effect: non-scaling-stroke; opacity: 1; stroke-width: 0px; fill: rgb(99, 110, 250); fill-opacity: 1;\"/></g><g class=\"point\"><path d=\"M50.34,99.84V4.99H72.44V99.84Z\" style=\"vector-effect: non-scaling-stroke; opacity: 1; stroke-width: 0px; fill: rgb(99, 110, 250); fill-opacity: 1;\"/></g><g class=\"point\"><path d=\"M0,0Z\" style=\"vector-effect: non-scaling-stroke; opacity: 1; stroke-width: 0px; fill: rgb(99, 110, 250); fill-opacity: 1;\"/></g><g class=\"point\"><path d=\"M0,0Z\" style=\"vector-effect: non-scaling-stroke; opacity: 1; stroke-width: 0px; fill: rgb(99, 110, 250); fill-opacity: 1;\"/></g><g class=\"point\"><path d=\"M0,0Z\" style=\"vector-effect: non-scaling-stroke; opacity: 1; stroke-width: 0px; fill: rgb(99, 110, 250); fill-opacity: 1;\"/></g><g class=\"point\"><path d=\"M148.56,99.84V4.99H170.66V99.84Z\" style=\"vector-effect: non-scaling-stroke; opacity: 1; stroke-width: 0px; fill: rgb(99, 110, 250); fill-opacity: 1;\"/></g><g class=\"point\"><path d=\"M173.12,99.84V4.99H195.22V99.84Z\" style=\"vector-effect: non-scaling-stroke; opacity: 1; stroke-width: 0px; fill: rgb(99, 110, 250); fill-opacity: 1;\"/></g><g class=\"point\"><path d=\"M197.67,99.84V4.99H219.77V99.84Z\" style=\"vector-effect: non-scaling-stroke; opacity: 1; stroke-width: 0px; fill: rgb(99, 110, 250); fill-opacity: 1;\"/></g></g></g></g></g><g class=\"overplot\"/><path class=\"xlines-above crisp\" d=\"M0,0\" style=\"fill: none;\"/><path class=\"ylines-above crisp\" d=\"M0,0\" style=\"fill: none;\"/><g class=\"overlines-above\"/><g class=\"xaxislayer-above\"><g class=\"x23tick\"><text text-anchor=\"middle\" x=\"0\" y=\"1155.8125\" transform=\"translate(626,0)\" style=\"font-family: 'Open Sans', verdana, arial, sans-serif; font-size: 12px; fill: rgb(42, 63, 95); fill-opacity: 1; white-space: pre; opacity: 1;\">−10</text></g><g class=\"x23tick\"><text text-anchor=\"middle\" x=\"0\" y=\"1155.8125\" style=\"font-family: 'Open Sans', verdana, arial, sans-serif; font-size: 12px; fill: rgb(42, 63, 95); fill-opacity: 1; white-space: pre; opacity: 1;\" transform=\"translate(687.39,0)\">−5</text></g><g class=\"x23tick\"><text text-anchor=\"middle\" x=\"0\" y=\"1155.8125\" style=\"font-family: 'Open Sans', verdana, arial, sans-serif; font-size: 12px; fill: rgb(42, 63, 95); fill-opacity: 1; white-space: pre; opacity: 1;\" transform=\"translate(748.78,0)\">0</text></g><g class=\"x23tick\"><text text-anchor=\"middle\" x=\"0\" y=\"1155.8125\" style=\"font-family: 'Open Sans', verdana, arial, sans-serif; font-size: 12px; fill: rgb(42, 63, 95); fill-opacity: 1; white-space: pre; opacity: 1;\" transform=\"translate(810.17,0)\">5</text></g></g><g class=\"yaxislayer-above\"><g class=\"y23tick\"><text text-anchor=\"end\" x=\"625\" y=\"4.199999999999999\" transform=\"translate(0,1142.80875)\" style=\"font-family: 'Open Sans', verdana, arial, sans-serif; font-size: 12px; fill: rgb(42, 63, 95); fill-opacity: 1; white-space: pre; opacity: 1;\">0</text></g><g class=\"y23tick\"><text text-anchor=\"end\" x=\"625\" y=\"4.199999999999999\" style=\"font-family: 'Open Sans', verdana, arial, sans-serif; font-size: 12px; fill: rgb(42, 63, 95); fill-opacity: 1; white-space: pre; opacity: 1;\" transform=\"translate(0,1095.38875)\">0.5</text></g><g class=\"y23tick\"><text text-anchor=\"end\" x=\"625\" y=\"4.199999999999999\" style=\"font-family: 'Open Sans', verdana, arial, sans-serif; font-size: 12px; fill: rgb(42, 63, 95); fill-opacity: 1; white-space: pre; opacity: 1;\" transform=\"translate(0,1047.95875)\">1</text></g></g><g class=\"overaxes-above\"/></g><g class=\"subplot x24y24\"><g class=\"layer-subplot\"><g class=\"shapelayer\"/><g class=\"imagelayer\"/></g><g class=\"minor-gridlayer\"><g class=\"x24\"/><g class=\"y24\"/></g><g class=\"gridlayer\"><g class=\"x24\"/><g class=\"y24\"><path class=\"y24grid crisp\" transform=\"translate(0,1111.19875)\" d=\"M899,0h221.00000000000003\" style=\"stroke: rgb(235, 240, 248); stroke-opacity: 1; stroke-width: 1px;\"/><path class=\"y24grid crisp\" transform=\"translate(0,1079.57875)\" d=\"M899,0h221.00000000000003\" style=\"stroke: rgb(235, 240, 248); stroke-opacity: 1; stroke-width: 1px;\"/><path class=\"y24grid crisp\" transform=\"translate(0,1047.95875)\" d=\"M899,0h221.00000000000003\" style=\"stroke: rgb(235, 240, 248); stroke-opacity: 1; stroke-width: 1px;\"/></g></g><g class=\"zerolinelayer\"><path class=\"y24zl zl crisp\" transform=\"translate(0,1142.80875)\" d=\"M899,0h221.00000000000003\" style=\"stroke: rgb(235, 240, 248); stroke-opacity: 1; stroke-width: 2px;\"/></g><path class=\"xlines-below\"/><path class=\"ylines-below\"/><g class=\"overlines-below\"/><g class=\"xaxislayer-below\"/><g class=\"yaxislayer-below\"/><g class=\"overaxes-below\"/><g class=\"plot\" transform=\"translate(899,1042.96875)\" clip-path=\"url(#clip372127x24y24plot)\"><g class=\"barlayer mlayer\"><g class=\"trace bars\" style=\"opacity: 1;\"><g class=\"points\"><g class=\"point\"><path d=\"M1,99.84V68.23H19.09V99.84Z\" style=\"vector-effect: non-scaling-stroke; opacity: 1; stroke-width: 0px; fill: rgb(99, 110, 250); fill-opacity: 1;\"/></g><g class=\"point\"><path d=\"M0,0Z\" style=\"vector-effect: non-scaling-stroke; opacity: 1; stroke-width: 0px; fill: rgb(99, 110, 250); fill-opacity: 1;\"/></g><g class=\"point\"><path d=\"M0,0Z\" style=\"vector-effect: non-scaling-stroke; opacity: 1; stroke-width: 0px; fill: rgb(99, 110, 250); fill-opacity: 1;\"/></g><g class=\"point\"><path d=\"M0,0Z\" style=\"vector-effect: non-scaling-stroke; opacity: 1; stroke-width: 0px; fill: rgb(99, 110, 250); fill-opacity: 1;\"/></g><g class=\"point\"><path d=\"M81.37,99.84V4.99H99.45V99.84Z\" style=\"vector-effect: non-scaling-stroke; opacity: 1; stroke-width: 0px; fill: rgb(99, 110, 250); fill-opacity: 1;\"/></g><g class=\"point\"><path d=\"M0,0Z\" style=\"vector-effect: non-scaling-stroke; opacity: 1; stroke-width: 0px; fill: rgb(99, 110, 250); fill-opacity: 1;\"/></g><g class=\"point\"><path d=\"M0,0Z\" style=\"vector-effect: non-scaling-stroke; opacity: 1; stroke-width: 0px; fill: rgb(99, 110, 250); fill-opacity: 1;\"/></g><g class=\"point\"><path d=\"M0,0Z\" style=\"vector-effect: non-scaling-stroke; opacity: 1; stroke-width: 0px; fill: rgb(99, 110, 250); fill-opacity: 1;\"/></g><g class=\"point\"><path d=\"M0,0Z\" style=\"vector-effect: non-scaling-stroke; opacity: 1; stroke-width: 0px; fill: rgb(99, 110, 250); fill-opacity: 1;\"/></g><g class=\"point\"><path d=\"M0,0Z\" style=\"vector-effect: non-scaling-stroke; opacity: 1; stroke-width: 0px; fill: rgb(99, 110, 250); fill-opacity: 1;\"/></g><g class=\"point\"><path d=\"M201.91,99.84V68.23H220V99.84Z\" style=\"vector-effect: non-scaling-stroke; opacity: 1; stroke-width: 0px; fill: rgb(99, 110, 250); fill-opacity: 1;\"/></g></g></g></g></g><g class=\"overplot\"/><path class=\"xlines-above crisp\" d=\"M0,0\" style=\"fill: none;\"/><path class=\"ylines-above crisp\" d=\"M0,0\" style=\"fill: none;\"/><g class=\"overlines-above\"/><g class=\"xaxislayer-above\"><g class=\"x24tick\"><text text-anchor=\"middle\" x=\"0\" y=\"1155.8125\" transform=\"translate(939.18,0)\" style=\"font-family: 'Open Sans', verdana, arial, sans-serif; font-size: 12px; fill: rgb(42, 63, 95); fill-opacity: 1; white-space: pre; opacity: 1;\">280</text></g><g class=\"x24tick\"><text text-anchor=\"middle\" x=\"0\" y=\"1155.8125\" style=\"font-family: 'Open Sans', verdana, arial, sans-serif; font-size: 12px; fill: rgb(42, 63, 95); fill-opacity: 1; white-space: pre; opacity: 1;\" transform=\"translate(1019.55,0)\">300</text></g><g class=\"x24tick\"><text text-anchor=\"middle\" x=\"0\" y=\"1155.8125\" style=\"font-family: 'Open Sans', verdana, arial, sans-serif; font-size: 12px; fill: rgb(42, 63, 95); fill-opacity: 1; white-space: pre; opacity: 1;\" transform=\"translate(1099.91,0)\">320</text></g></g><g class=\"yaxislayer-above\"><g class=\"y24tick\"><text text-anchor=\"end\" x=\"898\" y=\"4.199999999999999\" transform=\"translate(0,1142.80875)\" style=\"font-family: 'Open Sans', verdana, arial, sans-serif; font-size: 12px; fill: rgb(42, 63, 95); fill-opacity: 1; white-space: pre; opacity: 1;\">0</text></g><g class=\"y24tick\"><text text-anchor=\"end\" x=\"898\" y=\"4.199999999999999\" style=\"font-family: 'Open Sans', verdana, arial, sans-serif; font-size: 12px; fill: rgb(42, 63, 95); fill-opacity: 1; white-space: pre; opacity: 1;\" transform=\"translate(0,1111.19875)\">1</text></g><g class=\"y24tick\"><text text-anchor=\"end\" x=\"898\" y=\"4.199999999999999\" style=\"font-family: 'Open Sans', verdana, arial, sans-serif; font-size: 12px; fill: rgb(42, 63, 95); fill-opacity: 1; white-space: pre; opacity: 1;\" transform=\"translate(0,1079.57875)\">2</text></g><g class=\"y24tick\"><text text-anchor=\"end\" x=\"898\" y=\"4.199999999999999\" style=\"font-family: 'Open Sans', verdana, arial, sans-serif; font-size: 12px; fill: rgb(42, 63, 95); fill-opacity: 1; white-space: pre; opacity: 1;\" transform=\"translate(0,1047.95875)\">3</text></g></g><g class=\"overaxes-above\"/></g><g class=\"subplot x25y25\"><g class=\"layer-subplot\"><g class=\"shapelayer\"/><g class=\"imagelayer\"/></g><g class=\"minor-gridlayer\"><g class=\"x25\"/><g class=\"y25\"/></g><g class=\"gridlayer\"><g class=\"x25\"/><g class=\"y25\"><path class=\"y25grid crisp\" transform=\"translate(0,1283.9825)\" d=\"M80,0h221\" style=\"stroke: rgb(235, 240, 248); stroke-opacity: 1; stroke-width: 1px;\"/><path class=\"y25grid crisp\" transform=\"translate(0,1236.5525)\" d=\"M80,0h221\" style=\"stroke: rgb(235, 240, 248); stroke-opacity: 1; stroke-width: 1px;\"/></g></g><g class=\"zerolinelayer\"><path class=\"y25zl zl crisp\" transform=\"translate(0,1331.4025)\" d=\"M80,0h221\" style=\"stroke: rgb(235, 240, 248); stroke-opacity: 1; stroke-width: 2px;\"/></g><path class=\"xlines-below\"/><path class=\"ylines-below\"/><g class=\"overlines-below\"/><g class=\"xaxislayer-below\"/><g class=\"yaxislayer-below\"/><g class=\"overaxes-below\"/><g class=\"plot\" transform=\"translate(80,1231.5625)\" clip-path=\"url(#clip372127x25y25plot)\"><g class=\"barlayer mlayer\"><g class=\"trace bars\" style=\"opacity: 1;\"><g class=\"points\"><g class=\"point\"><path d=\"M1.11,99.84V4.99H21V99.84Z\" style=\"vector-effect: non-scaling-stroke; opacity: 1; stroke-width: 0px; fill: rgb(99, 110, 250); fill-opacity: 1;\"/></g><g class=\"point\"><path d=\"M0,0Z\" style=\"vector-effect: non-scaling-stroke; opacity: 1; stroke-width: 0px; fill: rgb(99, 110, 250); fill-opacity: 1;\"/></g><g class=\"point\"><path d=\"M45.31,99.84V4.99H65.2V99.84Z\" style=\"vector-effect: non-scaling-stroke; opacity: 1; stroke-width: 0px; fill: rgb(99, 110, 250); fill-opacity: 1;\"/></g><g class=\"point\"><path d=\"M67.41,99.84V4.99H87.3V99.84Z\" style=\"vector-effect: non-scaling-stroke; opacity: 1; stroke-width: 0px; fill: rgb(99, 110, 250); fill-opacity: 1;\"/></g><g class=\"point\"><path d=\"M89.51,99.84V4.99H109.4V99.84Z\" style=\"vector-effect: non-scaling-stroke; opacity: 1; stroke-width: 0px; fill: rgb(99, 110, 250); fill-opacity: 1;\"/></g><g class=\"point\"><path d=\"M0,0Z\" style=\"vector-effect: non-scaling-stroke; opacity: 1; stroke-width: 0px; fill: rgb(99, 110, 250); fill-opacity: 1;\"/></g><g class=\"point\"><path d=\"M0,0Z\" style=\"vector-effect: non-scaling-stroke; opacity: 1; stroke-width: 0px; fill: rgb(99, 110, 250); fill-opacity: 1;\"/></g><g class=\"point\"><path d=\"M0,0Z\" style=\"vector-effect: non-scaling-stroke; opacity: 1; stroke-width: 0px; fill: rgb(99, 110, 250); fill-opacity: 1;\"/></g><g class=\"point\"><path d=\"M0,0Z\" style=\"vector-effect: non-scaling-stroke; opacity: 1; stroke-width: 0px; fill: rgb(99, 110, 250); fill-opacity: 1;\"/></g><g class=\"point\"><path d=\"M200.01,99.84V4.99H219.9V99.84Z\" style=\"vector-effect: non-scaling-stroke; opacity: 1; stroke-width: 0px; fill: rgb(99, 110, 250); fill-opacity: 1;\"/></g></g></g></g></g><g class=\"overplot\"/><path class=\"xlines-above crisp\" d=\"M0,0\" style=\"fill: none;\"/><path class=\"ylines-above crisp\" d=\"M0,0\" style=\"fill: none;\"/><g class=\"overlines-above\"/><g class=\"xaxislayer-above\"><g class=\"x25tick\"><text text-anchor=\"middle\" x=\"0\" y=\"1344.40625\" transform=\"translate(124.2,0)\" style=\"font-family: 'Open Sans', verdana, arial, sans-serif; font-size: 12px; fill: rgb(42, 63, 95); fill-opacity: 1; white-space: pre; opacity: 1;\">0</text></g><g class=\"x25tick\"><text text-anchor=\"middle\" x=\"0\" y=\"1344.40625\" style=\"font-family: 'Open Sans', verdana, arial, sans-serif; font-size: 12px; fill: rgb(42, 63, 95); fill-opacity: 1; white-space: pre; opacity: 1;\" transform=\"translate(179.45,0)\">50</text></g><g class=\"x25tick\"><text text-anchor=\"middle\" x=\"0\" y=\"1344.40625\" style=\"font-family: 'Open Sans', verdana, arial, sans-serif; font-size: 12px; fill: rgb(42, 63, 95); fill-opacity: 1; white-space: pre; opacity: 1;\" transform=\"translate(234.7,0)\">100</text></g><g class=\"x25tick\"><text text-anchor=\"middle\" x=\"0\" y=\"1344.40625\" style=\"font-family: 'Open Sans', verdana, arial, sans-serif; font-size: 12px; fill: rgb(42, 63, 95); fill-opacity: 1; white-space: pre; opacity: 1;\" transform=\"translate(289.95,0)\">150</text></g></g><g class=\"yaxislayer-above\"><g class=\"y25tick\"><text text-anchor=\"end\" x=\"79\" y=\"4.199999999999999\" transform=\"translate(0,1331.4025)\" style=\"font-family: 'Open Sans', verdana, arial, sans-serif; font-size: 12px; fill: rgb(42, 63, 95); fill-opacity: 1; white-space: pre; opacity: 1;\">0</text></g><g class=\"y25tick\"><text text-anchor=\"end\" x=\"79\" y=\"4.199999999999999\" style=\"font-family: 'Open Sans', verdana, arial, sans-serif; font-size: 12px; fill: rgb(42, 63, 95); fill-opacity: 1; white-space: pre; opacity: 1;\" transform=\"translate(0,1283.9825)\">0.5</text></g><g class=\"y25tick\"><text text-anchor=\"end\" x=\"79\" y=\"4.199999999999999\" style=\"font-family: 'Open Sans', verdana, arial, sans-serif; font-size: 12px; fill: rgb(42, 63, 95); fill-opacity: 1; white-space: pre; opacity: 1;\" transform=\"translate(0,1236.5525)\">1</text></g></g><g class=\"overaxes-above\"/></g><g class=\"subplot x26y26\"><g class=\"layer-subplot\"><g class=\"shapelayer\"/><g class=\"imagelayer\"/></g><g class=\"minor-gridlayer\"><g class=\"x26\"/><g class=\"y26\"/></g><g class=\"gridlayer\"><g class=\"x26\"/><g class=\"y26\"><path class=\"y26grid crisp\" transform=\"translate(0,1293.4625)\" d=\"M353,0h220.99999999999997\" style=\"stroke: rgb(235, 240, 248); stroke-opacity: 1; stroke-width: 1px;\"/><path class=\"y26grid crisp\" transform=\"translate(0,1255.5225)\" d=\"M353,0h220.99999999999997\" style=\"stroke: rgb(235, 240, 248); stroke-opacity: 1; stroke-width: 1px;\"/></g></g><g class=\"zerolinelayer\"><path class=\"y26zl zl crisp\" transform=\"translate(0,1331.4025)\" d=\"M353,0h220.99999999999997\" style=\"stroke: rgb(235, 240, 248); stroke-opacity: 1; stroke-width: 2px;\"/></g><path class=\"xlines-below\"/><path class=\"ylines-below\"/><g class=\"overlines-below\"/><g class=\"xaxislayer-below\"/><g class=\"yaxislayer-below\"/><g class=\"overaxes-below\"/><g class=\"plot\" transform=\"translate(353,1231.5625)\" clip-path=\"url(#clip372127x26y26plot)\"><g class=\"barlayer mlayer\"><g class=\"trace bars\" style=\"opacity: 1;\"><g class=\"points\"><g class=\"point\"><path d=\"M11.05,99.84V4.99H209.95V99.84Z\" style=\"vector-effect: non-scaling-stroke; opacity: 1; stroke-width: 0px; fill: rgb(99, 110, 250); fill-opacity: 1;\"/></g></g></g></g></g><g class=\"overplot\"/><path class=\"xlines-above crisp\" d=\"M0,0\" style=\"fill: none;\"/><path class=\"ylines-above crisp\" d=\"M0,0\" style=\"fill: none;\"/><g class=\"overlines-above\"/><g class=\"xaxislayer-above\"><g class=\"x26tick\"><text text-anchor=\"middle\" x=\"0\" y=\"1344.40625\" transform=\"translate(353,0)\" style=\"font-family: 'Open Sans', verdana, arial, sans-serif; font-size: 12px; fill: rgb(42, 63, 95); fill-opacity: 1; white-space: pre; opacity: 1;\">5.5</text></g><g class=\"x26tick\"><text text-anchor=\"middle\" x=\"0\" y=\"1344.40625\" style=\"font-family: 'Open Sans', verdana, arial, sans-serif; font-size: 12px; fill: rgb(42, 63, 95); fill-opacity: 1; white-space: pre; opacity: 1;\" transform=\"translate(463.5,0)\">6</text></g><g class=\"x26tick\"><text text-anchor=\"middle\" x=\"0\" y=\"1344.40625\" style=\"font-family: 'Open Sans', verdana, arial, sans-serif; font-size: 12px; fill: rgb(42, 63, 95); fill-opacity: 1; white-space: pre; opacity: 1;\" transform=\"translate(574,0)\">6.5</text></g></g><g class=\"yaxislayer-above\"><g class=\"y26tick\"><text text-anchor=\"end\" x=\"352\" y=\"4.199999999999999\" transform=\"translate(0,1331.4025)\" style=\"font-family: 'Open Sans', verdana, arial, sans-serif; font-size: 12px; fill: rgb(42, 63, 95); fill-opacity: 1; white-space: pre; opacity: 1;\">0</text></g><g class=\"y26tick\"><text text-anchor=\"end\" x=\"352\" y=\"4.199999999999999\" style=\"font-family: 'Open Sans', verdana, arial, sans-serif; font-size: 12px; fill: rgb(42, 63, 95); fill-opacity: 1; white-space: pre; opacity: 1;\" transform=\"translate(0,1293.4625)\">2</text></g><g class=\"y26tick\"><text text-anchor=\"end\" x=\"352\" y=\"4.199999999999999\" style=\"font-family: 'Open Sans', verdana, arial, sans-serif; font-size: 12px; fill: rgb(42, 63, 95); fill-opacity: 1; white-space: pre; opacity: 1;\" transform=\"translate(0,1255.5225)\">4</text></g></g><g class=\"overaxes-above\"/></g><g class=\"subplot x27y27\"><g class=\"layer-subplot\"><g class=\"shapelayer\"/><g class=\"imagelayer\"/></g><g class=\"minor-gridlayer\"><g class=\"x27\"/><g class=\"y27\"/></g><g class=\"gridlayer\"><g class=\"x27\"/><g class=\"y27\"><path class=\"y27grid crisp\" transform=\"translate(0,1293.4625)\" d=\"M626,0h221.00000000000003\" style=\"stroke: rgb(235, 240, 248); stroke-opacity: 1; stroke-width: 1px;\"/><path class=\"y27grid crisp\" transform=\"translate(0,1255.5225)\" d=\"M626,0h221.00000000000003\" style=\"stroke: rgb(235, 240, 248); stroke-opacity: 1; stroke-width: 1px;\"/></g></g><g class=\"zerolinelayer\"><path class=\"y27zl zl crisp\" transform=\"translate(0,1331.4025)\" d=\"M626,0h221.00000000000003\" style=\"stroke: rgb(235, 240, 248); stroke-opacity: 1; stroke-width: 2px;\"/></g><path class=\"xlines-below\"/><path class=\"ylines-below\"/><g class=\"overlines-below\"/><g class=\"xaxislayer-below\"/><g class=\"yaxislayer-below\"/><g class=\"overaxes-below\"/><g class=\"plot\" transform=\"translate(626,1231.5625)\" clip-path=\"url(#clip372127x27y27plot)\"><g class=\"barlayer mlayer\"><g class=\"trace bars\" style=\"opacity: 1;\"><g class=\"points\"><g class=\"point\"><path d=\"M11.05,99.84V4.99H209.95V99.84Z\" style=\"vector-effect: non-scaling-stroke; opacity: 1; stroke-width: 0px; fill: rgb(99, 110, 250); fill-opacity: 1;\"/></g></g></g></g></g><g class=\"overplot\"/><path class=\"xlines-above crisp\" d=\"M0,0\" style=\"fill: none;\"/><path class=\"ylines-above crisp\" d=\"M0,0\" style=\"fill: none;\"/><g class=\"overlines-above\"/><g class=\"xaxislayer-above\"><g class=\"x27tick\"><text text-anchor=\"middle\" x=\"0\" y=\"1344.40625\" transform=\"translate(626,0)\" style=\"font-family: 'Open Sans', verdana, arial, sans-serif; font-size: 12px; fill: rgb(42, 63, 95); fill-opacity: 1; white-space: pre; opacity: 1;\">255.5</text></g><g class=\"x27tick\"><text text-anchor=\"middle\" x=\"0\" y=\"1344.40625\" style=\"font-family: 'Open Sans', verdana, arial, sans-serif; font-size: 12px; fill: rgb(42, 63, 95); fill-opacity: 1; white-space: pre; opacity: 1;\" transform=\"translate(736.5,0)\">256</text></g><g class=\"x27tick\"><text text-anchor=\"middle\" x=\"0\" y=\"1344.40625\" style=\"font-family: 'Open Sans', verdana, arial, sans-serif; font-size: 12px; fill: rgb(42, 63, 95); fill-opacity: 1; white-space: pre; opacity: 1;\" transform=\"translate(847,0)\">256.5</text></g></g><g class=\"yaxislayer-above\"><g class=\"y27tick\"><text text-anchor=\"end\" x=\"625\" y=\"4.199999999999999\" transform=\"translate(0,1331.4025)\" style=\"font-family: 'Open Sans', verdana, arial, sans-serif; font-size: 12px; fill: rgb(42, 63, 95); fill-opacity: 1; white-space: pre; opacity: 1;\">0</text></g><g class=\"y27tick\"><text text-anchor=\"end\" x=\"625\" y=\"4.199999999999999\" style=\"font-family: 'Open Sans', verdana, arial, sans-serif; font-size: 12px; fill: rgb(42, 63, 95); fill-opacity: 1; white-space: pre; opacity: 1;\" transform=\"translate(0,1293.4625)\">2</text></g><g class=\"y27tick\"><text text-anchor=\"end\" x=\"625\" y=\"4.199999999999999\" style=\"font-family: 'Open Sans', verdana, arial, sans-serif; font-size: 12px; fill: rgb(42, 63, 95); fill-opacity: 1; white-space: pre; opacity: 1;\" transform=\"translate(0,1255.5225)\">4</text></g></g><g class=\"overaxes-above\"/></g><g class=\"subplot x28y28\"><g class=\"layer-subplot\"><g class=\"shapelayer\"/><g class=\"imagelayer\"/></g><g class=\"minor-gridlayer\"><g class=\"x28\"/><g class=\"y28\"/></g><g class=\"gridlayer\"><g class=\"x28\"/><g class=\"y28\"><path class=\"y28grid crisp\" transform=\"translate(0,1293.4625)\" d=\"M899,0h221.00000000000003\" style=\"stroke: rgb(235, 240, 248); stroke-opacity: 1; stroke-width: 1px;\"/><path class=\"y28grid crisp\" transform=\"translate(0,1255.5225)\" d=\"M899,0h221.00000000000003\" style=\"stroke: rgb(235, 240, 248); stroke-opacity: 1; stroke-width: 1px;\"/></g></g><g class=\"zerolinelayer\"><path class=\"y28zl zl crisp\" transform=\"translate(0,1331.4025)\" d=\"M899,0h221.00000000000003\" style=\"stroke: rgb(235, 240, 248); stroke-opacity: 1; stroke-width: 2px;\"/></g><path class=\"xlines-below\"/><path class=\"ylines-below\"/><g class=\"overlines-below\"/><g class=\"xaxislayer-below\"/><g class=\"yaxislayer-below\"/><g class=\"overaxes-below\"/><g class=\"plot\" transform=\"translate(899,1231.5625)\" clip-path=\"url(#clip372127x28y28plot)\"><g class=\"barlayer mlayer\"><g class=\"trace bars\" style=\"opacity: 1;\"><g class=\"points\"><g class=\"point\"><path d=\"M11.05,99.84V4.99H209.95V99.84Z\" style=\"vector-effect: non-scaling-stroke; opacity: 1; stroke-width: 0px; fill: rgb(99, 110, 250); fill-opacity: 1;\"/></g></g></g></g></g><g class=\"overplot\"/><path class=\"xlines-above crisp\" d=\"M0,0\" style=\"fill: none;\"/><path class=\"ylines-above crisp\" d=\"M0,0\" style=\"fill: none;\"/><g class=\"overlines-above\"/><g class=\"xaxislayer-above\"><g class=\"x28tick\"><text text-anchor=\"middle\" x=\"0\" y=\"1344.40625\" transform=\"translate(899,0)\" style=\"font-family: 'Open Sans', verdana, arial, sans-serif; font-size: 12px; fill: rgb(42, 63, 95); fill-opacity: 1; white-space: pre; opacity: 1;\">255.5</text></g><g class=\"x28tick\"><text text-anchor=\"middle\" x=\"0\" y=\"1344.40625\" style=\"font-family: 'Open Sans', verdana, arial, sans-serif; font-size: 12px; fill: rgb(42, 63, 95); fill-opacity: 1; white-space: pre; opacity: 1;\" transform=\"translate(1009.5,0)\">256</text></g><g class=\"x28tick\"><text text-anchor=\"middle\" x=\"0\" y=\"1344.40625\" style=\"font-family: 'Open Sans', verdana, arial, sans-serif; font-size: 12px; fill: rgb(42, 63, 95); fill-opacity: 1; white-space: pre; opacity: 1;\" transform=\"translate(1120,0)\">256.5</text></g></g><g class=\"yaxislayer-above\"><g class=\"y28tick\"><text text-anchor=\"end\" x=\"898\" y=\"4.199999999999999\" transform=\"translate(0,1331.4025)\" style=\"font-family: 'Open Sans', verdana, arial, sans-serif; font-size: 12px; fill: rgb(42, 63, 95); fill-opacity: 1; white-space: pre; opacity: 1;\">0</text></g><g class=\"y28tick\"><text text-anchor=\"end\" x=\"898\" y=\"4.199999999999999\" style=\"font-family: 'Open Sans', verdana, arial, sans-serif; font-size: 12px; fill: rgb(42, 63, 95); fill-opacity: 1; white-space: pre; opacity: 1;\" transform=\"translate(0,1293.4625)\">2</text></g><g class=\"y28tick\"><text text-anchor=\"end\" x=\"898\" y=\"4.199999999999999\" style=\"font-family: 'Open Sans', verdana, arial, sans-serif; font-size: 12px; fill: rgb(42, 63, 95); fill-opacity: 1; white-space: pre; opacity: 1;\" transform=\"translate(0,1255.5225)\">4</text></g></g><g class=\"overaxes-above\"/></g><g class=\"subplot x29y29\"><g class=\"layer-subplot\"><g class=\"shapelayer\"/><g class=\"imagelayer\"/></g><g class=\"minor-gridlayer\"><g class=\"x29\"/><g class=\"y29\"/></g><g class=\"gridlayer\"><g class=\"x29\"/><g class=\"y29\"><path class=\"y29grid crisp\" transform=\"translate(0,1482.05625)\" d=\"M80,0h221\" style=\"stroke: rgb(235, 240, 248); stroke-opacity: 1; stroke-width: 1px;\"/><path class=\"y29grid crisp\" transform=\"translate(0,1444.11625)\" d=\"M80,0h221\" style=\"stroke: rgb(235, 240, 248); stroke-opacity: 1; stroke-width: 1px;\"/></g></g><g class=\"zerolinelayer\"><path class=\"y29zl zl crisp\" transform=\"translate(0,1519.99625)\" d=\"M80,0h221\" style=\"stroke: rgb(235, 240, 248); stroke-opacity: 1; stroke-width: 2px;\"/></g><path class=\"xlines-below\"/><path class=\"ylines-below\"/><g class=\"overlines-below\"/><g class=\"xaxislayer-below\"/><g class=\"yaxislayer-below\"/><g class=\"overaxes-below\"/><g class=\"plot\" transform=\"translate(80,1420.15625)\" clip-path=\"url(#clip372127x29y29plot)\"><g class=\"barlayer mlayer\"><g class=\"trace bars\" style=\"opacity: 1;\"><g class=\"points\"><g class=\"point\"><path d=\"M11.05,99.84V4.99H209.95V99.84Z\" style=\"vector-effect: non-scaling-stroke; opacity: 1; stroke-width: 0px; fill: rgb(99, 110, 250); fill-opacity: 1;\"/></g></g></g></g></g><g class=\"overplot\"/><path class=\"xlines-above crisp\" d=\"M0,0\" style=\"fill: none;\"/><path class=\"ylines-above crisp\" d=\"M0,0\" style=\"fill: none;\"/><g class=\"overlines-above\"/><g class=\"xaxislayer-above\"><g class=\"x29tick\"><text text-anchor=\"middle\" x=\"0\" y=\"1533\" transform=\"translate(80,0)\" style=\"font-family: 'Open Sans', verdana, arial, sans-serif; font-size: 12px; fill: rgb(42, 63, 95); fill-opacity: 1; white-space: pre; opacity: 1;\">0.5</text></g><g class=\"x29tick\"><text text-anchor=\"middle\" x=\"0\" y=\"1533\" style=\"font-family: 'Open Sans', verdana, arial, sans-serif; font-size: 12px; fill: rgb(42, 63, 95); fill-opacity: 1; white-space: pre; opacity: 1;\" transform=\"translate(190.5,0)\">1</text></g><g class=\"x29tick\"><text text-anchor=\"middle\" x=\"0\" y=\"1533\" style=\"font-family: 'Open Sans', verdana, arial, sans-serif; font-size: 12px; fill: rgb(42, 63, 95); fill-opacity: 1; white-space: pre; opacity: 1;\" transform=\"translate(301,0)\">1.5</text></g></g><g class=\"yaxislayer-above\"><g class=\"y29tick\"><text text-anchor=\"end\" x=\"79\" y=\"4.199999999999999\" transform=\"translate(0,1519.99625)\" style=\"font-family: 'Open Sans', verdana, arial, sans-serif; font-size: 12px; fill: rgb(42, 63, 95); fill-opacity: 1; white-space: pre; opacity: 1;\">0</text></g><g class=\"y29tick\"><text text-anchor=\"end\" x=\"79\" y=\"4.199999999999999\" style=\"font-family: 'Open Sans', verdana, arial, sans-serif; font-size: 12px; fill: rgb(42, 63, 95); fill-opacity: 1; white-space: pre; opacity: 1;\" transform=\"translate(0,1482.05625)\">2</text></g><g class=\"y29tick\"><text text-anchor=\"end\" x=\"79\" y=\"4.199999999999999\" style=\"font-family: 'Open Sans', verdana, arial, sans-serif; font-size: 12px; fill: rgb(42, 63, 95); fill-opacity: 1; white-space: pre; opacity: 1;\" transform=\"translate(0,1444.11625)\">4</text></g></g><g class=\"overaxes-above\"/></g><g class=\"subplot x30y30\"><g class=\"layer-subplot\"><g class=\"shapelayer\"/><g class=\"imagelayer\"/></g><g class=\"minor-gridlayer\"><g class=\"x30\"/><g class=\"y30\"/></g><g class=\"gridlayer\"><g class=\"x30\"/><g class=\"y30\"><path class=\"y30grid crisp\" transform=\"translate(0,1496.28625)\" d=\"M353,0h220.99999999999997\" style=\"stroke: rgb(235, 240, 248); stroke-opacity: 1; stroke-width: 1px;\"/><path class=\"y30grid crisp\" transform=\"translate(0,1472.57625)\" d=\"M353,0h220.99999999999997\" style=\"stroke: rgb(235, 240, 248); stroke-opacity: 1; stroke-width: 1px;\"/><path class=\"y30grid crisp\" transform=\"translate(0,1448.86625)\" d=\"M353,0h220.99999999999997\" style=\"stroke: rgb(235, 240, 248); stroke-opacity: 1; stroke-width: 1px;\"/><path class=\"y30grid crisp\" transform=\"translate(0,1425.14625)\" d=\"M353,0h220.99999999999997\" style=\"stroke: rgb(235, 240, 248); stroke-opacity: 1; stroke-width: 1px;\"/></g></g><g class=\"zerolinelayer\"><path class=\"y30zl zl crisp\" transform=\"translate(0,1519.99625)\" d=\"M353,0h220.99999999999997\" style=\"stroke: rgb(235, 240, 248); stroke-opacity: 1; stroke-width: 2px;\"/></g><path class=\"xlines-below\"/><path class=\"ylines-below\"/><g class=\"overlines-below\"/><g class=\"xaxislayer-below\"/><g class=\"yaxislayer-below\"/><g class=\"overaxes-below\"/><g class=\"plot\" transform=\"translate(353,1420.15625)\" clip-path=\"url(#clip372127x30y30plot)\"><g class=\"barlayer mlayer\"><g class=\"trace bars\" style=\"opacity: 1;\"><g class=\"points\"><g class=\"point\"><path d=\"M1,99.84V52.42H19.09V99.84Z\" style=\"vector-effect: non-scaling-stroke; opacity: 1; stroke-width: 0px; fill: rgb(99, 110, 250); fill-opacity: 1;\"/></g><g class=\"point\"><path d=\"M0,0Z\" style=\"vector-effect: non-scaling-stroke; opacity: 1; stroke-width: 0px; fill: rgb(99, 110, 250); fill-opacity: 1;\"/></g><g class=\"point\"><path d=\"M0,0Z\" style=\"vector-effect: non-scaling-stroke; opacity: 1; stroke-width: 0px; fill: rgb(99, 110, 250); fill-opacity: 1;\"/></g><g class=\"point\"><path d=\"M0,0Z\" style=\"vector-effect: non-scaling-stroke; opacity: 1; stroke-width: 0px; fill: rgb(99, 110, 250); fill-opacity: 1;\"/></g><g class=\"point\"><path d=\"M0,0Z\" style=\"vector-effect: non-scaling-stroke; opacity: 1; stroke-width: 0px; fill: rgb(99, 110, 250); fill-opacity: 1;\"/></g><g class=\"point\"><path d=\"M0,0Z\" style=\"vector-effect: non-scaling-stroke; opacity: 1; stroke-width: 0px; fill: rgb(99, 110, 250); fill-opacity: 1;\"/></g><g class=\"point\"><path d=\"M121.55,99.84V52.42H139.63V99.84Z\" style=\"vector-effect: non-scaling-stroke; opacity: 1; stroke-width: 0px; fill: rgb(99, 110, 250); fill-opacity: 1;\"/></g><g class=\"point\"><path d=\"M0,0Z\" style=\"vector-effect: non-scaling-stroke; opacity: 1; stroke-width: 0px; fill: rgb(99, 110, 250); fill-opacity: 1;\"/></g><g class=\"point\"><path d=\"M0,0Z\" style=\"vector-effect: non-scaling-stroke; opacity: 1; stroke-width: 0px; fill: rgb(99, 110, 250); fill-opacity: 1;\"/></g><g class=\"point\"><path d=\"M181.82,99.84V4.99H199.9V99.84Z\" style=\"vector-effect: non-scaling-stroke; opacity: 1; stroke-width: 0px; fill: rgb(99, 110, 250); fill-opacity: 1;\"/></g><g class=\"point\"><path d=\"M201.91,99.84V52.42H220V99.84Z\" style=\"vector-effect: non-scaling-stroke; opacity: 1; stroke-width: 0px; fill: rgb(99, 110, 250); fill-opacity: 1;\"/></g></g></g></g></g><g class=\"overplot\"/><path class=\"xlines-above crisp\" d=\"M0,0\" style=\"fill: none;\"/><path class=\"ylines-above crisp\" d=\"M0,0\" style=\"fill: none;\"/><g class=\"overlines-above\"/><g class=\"xaxislayer-above\"><g class=\"x30tick\"><text text-anchor=\"middle\" x=\"0\" y=\"1533\" transform=\"translate(393.18,0)\" style=\"font-family: 'Open Sans', verdana, arial, sans-serif; font-size: 12px; fill: rgb(42, 63, 95); fill-opacity: 1; white-space: pre; opacity: 1;\">−10</text></g><g class=\"x30tick\"><text text-anchor=\"middle\" x=\"0\" y=\"1533\" style=\"font-family: 'Open Sans', verdana, arial, sans-serif; font-size: 12px; fill: rgb(42, 63, 95); fill-opacity: 1; white-space: pre; opacity: 1;\" transform=\"translate(443.40999999999997,0)\">−5</text></g><g class=\"x30tick\"><text text-anchor=\"middle\" x=\"0\" y=\"1533\" style=\"font-family: 'Open Sans', verdana, arial, sans-serif; font-size: 12px; fill: rgb(42, 63, 95); fill-opacity: 1; white-space: pre; opacity: 1;\" transform=\"translate(493.64,0)\">0</text></g><g class=\"x30tick\"><text text-anchor=\"middle\" x=\"0\" y=\"1533\" style=\"font-family: 'Open Sans', verdana, arial, sans-serif; font-size: 12px; fill: rgb(42, 63, 95); fill-opacity: 1; white-space: pre; opacity: 1;\" transform=\"translate(543.86,0)\">5</text></g></g><g class=\"yaxislayer-above\"><g class=\"y30tick\"><text text-anchor=\"end\" x=\"352\" y=\"4.199999999999999\" transform=\"translate(0,1519.99625)\" style=\"font-family: 'Open Sans', verdana, arial, sans-serif; font-size: 12px; fill: rgb(42, 63, 95); fill-opacity: 1; white-space: pre; opacity: 1;\">0</text></g><g class=\"y30tick\"><text text-anchor=\"end\" x=\"352\" y=\"4.199999999999999\" style=\"font-family: 'Open Sans', verdana, arial, sans-serif; font-size: 12px; fill: rgb(42, 63, 95); fill-opacity: 1; white-space: pre; opacity: 1;\" transform=\"translate(0,1496.28625)\">0.5</text></g><g class=\"y30tick\"><text text-anchor=\"end\" x=\"352\" y=\"4.199999999999999\" style=\"font-family: 'Open Sans', verdana, arial, sans-serif; font-size: 12px; fill: rgb(42, 63, 95); fill-opacity: 1; white-space: pre; opacity: 1;\" transform=\"translate(0,1472.57625)\">1</text></g><g class=\"y30tick\"><text text-anchor=\"end\" x=\"352\" y=\"4.199999999999999\" style=\"font-family: 'Open Sans', verdana, arial, sans-serif; font-size: 12px; fill: rgb(42, 63, 95); fill-opacity: 1; white-space: pre; opacity: 1;\" transform=\"translate(0,1448.86625)\">1.5</text></g><g class=\"y30tick\"><text text-anchor=\"end\" x=\"352\" y=\"4.199999999999999\" style=\"font-family: 'Open Sans', verdana, arial, sans-serif; font-size: 12px; fill: rgb(42, 63, 95); fill-opacity: 1; white-space: pre; opacity: 1;\" transform=\"translate(0,1425.14625)\">2</text></g></g><g class=\"overaxes-above\"/></g></g><g class=\"polarlayer\"/><g class=\"smithlayer\"/><g class=\"ternarylayer\"/><g class=\"geolayer\"/><g class=\"funnelarealayer\"/><g class=\"pielayer\"/><g class=\"iciclelayer\"/><g class=\"treemaplayer\"/><g class=\"sunburstlayer\"/><g class=\"glimages\"/><defs id=\"topdefs-372127\"><g class=\"clips\"/></defs><g class=\"layer-above\"><g class=\"imagelayer\"/><g class=\"shapelayer\"/></g><g class=\"infolayer\"><g class=\"g-gtitle\"><text class=\"gtitle\" x=\"60\" y=\"50\" text-anchor=\"start\" dy=\"0em\" style=\"font-family: 'Open Sans', verdana, arial, sans-serif; font-size: 17px; fill: rgb(42, 63, 95); opacity: 1; font-weight: normal; white-space: pre;\">Summary of Batch | uppercut left large job demo</text></g><g class=\"g-xtitle\"/><g class=\"g-x2title\"/><g class=\"g-x3title\"/><g class=\"g-x4title\"/><g class=\"g-x5title\"/><g class=\"g-x6title\"/><g class=\"g-x7title\"/><g class=\"g-x8title\"/><g class=\"g-x9title\"/><g class=\"g-x10title\"/><g class=\"g-x11title\"/><g class=\"g-x12title\"/><g class=\"g-x13title\"/><g class=\"g-x14title\"/><g class=\"g-x15title\"/><g class=\"g-x16title\"/><g class=\"g-x17title\"/><g class=\"g-x18title\"/><g class=\"g-x19title\"/><g class=\"g-x20title\"/><g class=\"g-x21title\"/><g class=\"g-x22title\"/><g class=\"g-x23title\"/><g class=\"g-x24title\"/><g class=\"g-x25title\"/><g class=\"g-x26title\"/><g class=\"g-x27title\"/><g class=\"g-x28title\"/><g class=\"g-x29title\"/><g class=\"g-x30title\"/><g class=\"g-ytitle\"/><g class=\"g-y2title\"/><g class=\"g-y3title\"/><g class=\"g-y4title\"/><g class=\"g-y5title\"/><g class=\"g-y6title\"/><g class=\"g-y7title\"/><g class=\"g-y8title\"/><g class=\"g-y9title\"/><g class=\"g-y10title\"/><g class=\"g-y11title\"/><g class=\"g-y12title\"/><g class=\"g-y13title\"/><g class=\"g-y14title\"/><g class=\"g-y15title\"/><g class=\"g-y16title\"/><g class=\"g-y17title\"/><g class=\"g-y18title\"/><g class=\"g-y19title\"/><g class=\"g-y20title\"/><g class=\"g-y21title\"/><g class=\"g-y22title\"/><g class=\"g-y23title\"/><g class=\"g-y24title\"/><g class=\"g-y25title\"/><g class=\"g-y26title\"/><g class=\"g-y27title\"/><g class=\"g-y28title\"/><g class=\"g-y29title\"/><g class=\"g-y30title\"/><g class=\"annotation\" data-index=\"0\" style=\"opacity: 1;\"><g class=\"annotation-text-g\" transform=\"rotate(0,190.5,89)\"><g class=\"cursor-pointer\" transform=\"translate(144,78)\"><rect class=\"bg\" x=\"0.5\" y=\"0.5\" width=\"92\" height=\"21\" style=\"stroke-width: 1px; stroke: rgb(0, 0, 0); stroke-opacity: 0; fill: rgb(0, 0, 0); fill-opacity: 0;\"/><text class=\"annotation-text\" text-anchor=\"middle\" x=\"46.46875\" y=\"16\" style=\"font-family: 'Open Sans', verdana, arial, sans-serif; font-size: 16px; fill: rgb(42, 63, 95); fill-opacity: 1; white-space: pre;\">num_frames</text></g></g></g><g class=\"annotation\" data-index=\"1\" style=\"opacity: 1;\"><g class=\"annotation-text-g\" transform=\"rotate(0,463.5,89)\"><g class=\"cursor-pointer\" transform=\"translate(392,78)\"><rect class=\"bg\" x=\"0.5\" y=\"0.5\" width=\"143\" height=\"21\" style=\"stroke-width: 1px; stroke: rgb(0, 0, 0); stroke-opacity: 0; fill: rgb(0, 0, 0); fill-opacity: 0;\"/><text class=\"annotation-text\" text-anchor=\"middle\" x=\"71.828125\" y=\"16\" style=\"font-family: 'Open Sans', verdana, arial, sans-serif; font-size: 16px; fill: rgb(42, 63, 95); fill-opacity: 1; white-space: pre;\">avg_percent_in_fov</text></g></g></g><g class=\"annotation\" data-index=\"2\" style=\"opacity: 1;\"><g class=\"annotation-text-g\" transform=\"rotate(0,736.5000000000001,89)\"><g class=\"cursor-pointer\" transform=\"translate(653,78)\"><rect class=\"bg\" x=\"0.5\" y=\"0.5\" width=\"167\" height=\"21\" style=\"stroke-width: 1px; stroke: rgb(0, 0, 0); stroke-opacity: 0; fill: rgb(0, 0, 0); fill-opacity: 0;\"/><text class=\"annotation-text\" text-anchor=\"middle\" x=\"83.84375\" y=\"16\" style=\"font-family: 'Open Sans', verdana, arial, sans-serif; font-size: 16px; fill: rgb(42, 63, 95); fill-opacity: 1; white-space: pre;\">avg_percent_occlusion</text></g></g></g><g class=\"annotation\" data-index=\"3\" style=\"opacity: 1;\"><g class=\"annotation-text-g\" transform=\"rotate(0,1009.5,89.5)\"><g class=\"cursor-pointer\" transform=\"translate(986,79)\"><rect class=\"bg\" x=\"0.5\" y=\"0.5\" width=\"46\" height=\"20\" style=\"stroke-width: 1px; stroke: rgb(0, 0, 0); stroke-opacity: 0; fill: rgb(0, 0, 0); fill-opacity: 0;\"/><text class=\"annotation-text\" text-anchor=\"middle\" x=\"23.359375\" y=\"16\" style=\"font-family: 'Open Sans', verdana, arial, sans-serif; font-size: 16px; fill: rgb(42, 63, 95); fill-opacity: 1; white-space: pre;\">scene</text></g></g></g><g class=\"annotation\" data-index=\"4\" style=\"opacity: 1;\"><g class=\"annotation-text-g\" transform=\"rotate(0,190.5,278.09375)\"><g class=\"cursor-pointer\" transform=\"translate(159,268)\"><rect class=\"bg\" x=\"0.5\" y=\"0.5\" width=\"63\" height=\"20\" style=\"stroke-width: 1px; stroke: rgb(0, 0, 0); stroke-opacity: 0; fill: rgb(0, 0, 0); fill-opacity: 0;\"/><text class=\"annotation-text\" text-anchor=\"middle\" x=\"31.796875\" y=\"16\" style=\"font-family: 'Open Sans', verdana, arial, sans-serif; font-size: 16px; fill: rgb(42, 63, 95); fill-opacity: 1; white-space: pre;\">exercise</text></g></g></g><g class=\"annotation\" data-index=\"5\" style=\"opacity: 1;\"><g class=\"annotation-text-g\" transform=\"rotate(0,463.5,278.09375)\"><g class=\"cursor-pointer\" transform=\"translate(436,268)\"><rect class=\"bg\" x=\"0.5\" y=\"0.5\" width=\"54\" height=\"20\" style=\"stroke-width: 1px; stroke: rgb(0, 0, 0); stroke-opacity: 0; fill: rgb(0, 0, 0); fill-opacity: 0;\"/><text class=\"annotation-text\" text-anchor=\"middle\" x=\"26.921875\" y=\"16\" style=\"font-family: 'Open Sans', verdana, arial, sans-serif; font-size: 16px; fill: rgb(42, 63, 95); fill-opacity: 1; white-space: pre;\">gender</text></g></g></g><g class=\"annotation\" data-index=\"6\" style=\"opacity: 1;\"><g class=\"annotation-text-g\" transform=\"rotate(0,736.5000000000001,277.59375)\"><g class=\"cursor-pointer\" transform=\"translate(699,267)\"><rect class=\"bg\" x=\"0.5\" y=\"0.5\" width=\"74\" height=\"21\" style=\"stroke-width: 1px; stroke: rgb(0, 0, 0); stroke-opacity: 0; fill: rgb(0, 0, 0); fill-opacity: 0;\"/><text class=\"annotation-text\" text-anchor=\"middle\" x=\"37.578125\" y=\"16\" style=\"font-family: 'Open Sans', verdana, arial, sans-serif; font-size: 16px; fill: rgb(42, 63, 95); fill-opacity: 1; white-space: pre;\">num_reps</text></g></g></g><g class=\"annotation\" data-index=\"7\" style=\"opacity: 1;\"><g class=\"annotation-text-g\" transform=\"rotate(0,1009.5,277.59375)\"><g class=\"cursor-pointer\" transform=\"translate(935,267)\"><rect class=\"bg\" x=\"0.5\" y=\"0.5\" width=\"148\" height=\"21\" style=\"stroke-width: 1px; stroke: rgb(0, 0, 0); stroke-opacity: 0; fill: rgb(0, 0, 0); fill-opacity: 0;\"/><text class=\"annotation-text\" text-anchor=\"middle\" x=\"74.5\" y=\"16\" style=\"font-family: 'Open Sans', verdana, arial, sans-serif; font-size: 16px; fill: rgb(42, 63, 95); fill-opacity: 1; white-space: pre;\">inter_rep_delay_avg</text></g></g></g><g class=\"annotation\" data-index=\"8\" style=\"opacity: 1;\"><g class=\"annotation-text-g\" transform=\"rotate(0,190.5,466.1875)\"><g class=\"cursor-pointer\" transform=\"translate(118,455)\"><rect class=\"bg\" x=\"0.5\" y=\"0.5\" width=\"145\" height=\"21\" style=\"stroke-width: 1px; stroke: rgb(0, 0, 0); stroke-opacity: 0; fill: rgb(0, 0, 0); fill-opacity: 0;\"/><text class=\"annotation-text\" text-anchor=\"middle\" x=\"72.71875\" y=\"16\" style=\"font-family: 'Open Sans', verdana, arial, sans-serif; font-size: 16px; fill: rgb(42, 63, 95); fill-opacity: 1; white-space: pre;\">inter_rep_delay_var</text></g></g></g><g class=\"annotation\" data-index=\"9\" style=\"opacity: 1;\"><g class=\"annotation-text-g\" transform=\"rotate(0,463.5,466.1875)\"><g class=\"cursor-pointer\" transform=\"translate(392,455)\"><rect class=\"bg\" x=\"0.5\" y=\"0.5\" width=\"142\" height=\"21\" style=\"stroke-width: 1px; stroke: rgb(0, 0, 0); stroke-opacity: 0; fill: rgb(0, 0, 0); fill-opacity: 0;\"/><text class=\"annotation-text\" text-anchor=\"middle\" x=\"71.390625\" y=\"16\" style=\"font-family: 'Open Sans', verdana, arial, sans-serif; font-size: 16px; fill: rgb(42, 63, 95); fill-opacity: 1; white-space: pre;\">rel_baseline_speed</text></g></g></g><g class=\"annotation\" data-index=\"10\" style=\"opacity: 1;\"><g class=\"annotation-text-g\" transform=\"rotate(0,736.5000000000001,466.1875)\"><g class=\"cursor-pointer\" transform=\"translate(649,455)\"><rect class=\"bg\" x=\"0.5\" y=\"0.5\" width=\"174\" height=\"21\" style=\"stroke-width: 1px; stroke: rgb(0, 0, 0); stroke-opacity: 0; fill: rgb(0, 0, 0); fill-opacity: 0;\"/><text class=\"annotation-text\" text-anchor=\"middle\" x=\"87.40625\" y=\"16\" style=\"font-family: 'Open Sans', verdana, arial, sans-serif; font-size: 16px; fill: rgb(42, 63, 95); fill-opacity: 1; white-space: pre;\">max_rel_speed_change</text></g></g></g><g class=\"annotation\" data-index=\"11\" style=\"opacity: 1;\"><g class=\"annotation-text-g\" transform=\"rotate(0,1009.5,466.1875)\"><g class=\"cursor-pointer\" transform=\"translate(926,455)\"><rect class=\"bg\" x=\"0.5\" y=\"0.5\" width=\"167\" height=\"21\" style=\"stroke-width: 1px; stroke: rgb(0, 0, 0); stroke-opacity: 0; fill: rgb(0, 0, 0); fill-opacity: 0;\"/><text class=\"annotation-text\" text-anchor=\"middle\" x=\"83.828125\" y=\"16\" style=\"font-family: 'Open Sans', verdana, arial, sans-serif; font-size: 16px; fill: rgb(42, 63, 95); fill-opacity: 1; white-space: pre;\">kinematic_noise_factor</text></g></g></g><g class=\"annotation\" data-index=\"12\" style=\"opacity: 1;\"><g class=\"annotation-text-g\" transform=\"rotate(0,190.5,654.78125)\"><g class=\"cursor-pointer\" transform=\"translate(128,644)\"><rect class=\"bg\" x=\"0.5\" y=\"0.5\" width=\"125\" height=\"21\" style=\"stroke-width: 1px; stroke: rgb(0, 0, 0); stroke-opacity: 0; fill: rgb(0, 0, 0); fill-opacity: 0;\"/><text class=\"annotation-text\" text-anchor=\"middle\" x=\"62.921875\" y=\"16\" style=\"font-family: 'Open Sans', verdana, arial, sans-serif; font-size: 16px; fill: rgb(42, 63, 95); fill-opacity: 1; white-space: pre;\">camera_distance</text></g></g></g><g class=\"annotation\" data-index=\"13\" style=\"opacity: 1;\"><g class=\"annotation-text-g\" transform=\"rotate(0,463.5,654.78125)\"><g class=\"cursor-pointer\" transform=\"translate(409,644)\"><rect class=\"bg\" x=\"0.5\" y=\"0.5\" width=\"109\" height=\"21\" style=\"stroke-width: 1px; stroke: rgb(0, 0, 0); stroke-opacity: 0; fill: rgb(0, 0, 0); fill-opacity: 0;\"/><text class=\"annotation-text\" text-anchor=\"middle\" x=\"54.921875\" y=\"16\" style=\"font-family: 'Open Sans', verdana, arial, sans-serif; font-size: 16px; fill: rgb(42, 63, 95); fill-opacity: 1; white-space: pre;\">camera_height</text></g></g></g><g class=\"annotation\" data-index=\"14\" style=\"opacity: 1;\"><g class=\"annotation-text-g\" transform=\"rotate(0,736.5000000000001,654.78125)\"><g class=\"cursor-pointer\" transform=\"translate(689,644)\"><rect class=\"bg\" x=\"0.5\" y=\"0.5\" width=\"94\" height=\"21\" style=\"stroke-width: 1px; stroke: rgb(0, 0, 0); stroke-opacity: 0; fill: rgb(0, 0, 0); fill-opacity: 0;\"/><text class=\"annotation-text\" text-anchor=\"middle\" x=\"47.375\" y=\"16\" style=\"font-family: 'Open Sans', verdana, arial, sans-serif; font-size: 16px; fill: rgb(42, 63, 95); fill-opacity: 1; white-space: pre;\">add_wall_art</text></g></g></g><g class=\"annotation\" data-index=\"15\" style=\"opacity: 1;\"><g class=\"annotation-text-g\" transform=\"rotate(0,1009.5,654.78125)\"><g class=\"cursor-pointer\" transform=\"translate(960,644)\"><rect class=\"bg\" x=\"0.5\" y=\"0.5\" width=\"98\" height=\"21\" style=\"stroke-width: 1px; stroke: rgb(0, 0, 0); stroke-opacity: 0; fill: rgb(0, 0, 0); fill-opacity: 0;\"/><text class=\"annotation-text\" text-anchor=\"middle\" x=\"50.140625\" y=\"16\" style=\"font-family: 'Open Sans', verdana, arial, sans-serif; font-size: 16px; fill: rgb(42, 63, 95); fill-opacity: 1; white-space: pre;\">wall_art_type</text></g></g></g><g class=\"annotation\" data-index=\"16\" style=\"opacity: 1;\"><g class=\"annotation-text-g\" transform=\"rotate(0,190.5,843.375)\"><g class=\"cursor-pointer\" transform=\"translate(137,832)\"><rect class=\"bg\" x=\"0.5\" y=\"0.5\" width=\"107\" height=\"21\" style=\"stroke-width: 1px; stroke: rgb(0, 0, 0); stroke-opacity: 0; fill: rgb(0, 0, 0); fill-opacity: 0;\"/><text class=\"annotation-text\" text-anchor=\"middle\" x=\"54.03125\" y=\"16\" style=\"font-family: 'Open Sans', verdana, arial, sans-serif; font-size: 16px; fill: rgb(42, 63, 95); fill-opacity: 1; white-space: pre;\">avatar_identity</text></g></g></g><g class=\"annotation\" data-index=\"17\" style=\"opacity: 1;\"><g class=\"annotation-text-g\" transform=\"rotate(0,463.5,843.875)\"><g class=\"cursor-pointer\" transform=\"translate(444,833)\"><rect class=\"bg\" x=\"0.5\" y=\"0.5\" width=\"38\" height=\"20\" style=\"stroke-width: 1px; stroke: rgb(0, 0, 0); stroke-opacity: 0; fill: rgb(0, 0, 0); fill-opacity: 0;\"/><text class=\"annotation-text\" text-anchor=\"middle\" x=\"19.34375\" y=\"16\" style=\"font-family: 'Open Sans', verdana, arial, sans-serif; font-size: 16px; fill: rgb(42, 63, 95); fill-opacity: 1; white-space: pre;\">outfit</text></g></g></g><g class=\"annotation\" data-index=\"18\" style=\"opacity: 1;\"><g class=\"annotation-text-g\" transform=\"rotate(0,736.5000000000001,843.375)\"><g class=\"cursor-pointer\" transform=\"translate(694,832)\"><rect class=\"bg\" x=\"0.5\" y=\"0.5\" width=\"85\" height=\"21\" style=\"stroke-width: 1px; stroke: rgb(0, 0, 0); stroke-opacity: 0; fill: rgb(0, 0, 0); fill-opacity: 0;\"/><text class=\"annotation-text\" text-anchor=\"middle\" x=\"42.921875\" y=\"16\" style=\"font-family: 'Open Sans', verdana, arial, sans-serif; font-size: 16px; fill: rgb(42, 63, 95); fill-opacity: 1; white-space: pre;\">hide_shoes</text></g></g></g><g class=\"annotation\" data-index=\"19\" style=\"opacity: 1;\"><g class=\"annotation-text-g\" transform=\"rotate(0,1009.5,843.375)\"><g class=\"cursor-pointer\" transform=\"translate(937,832)\"><rect class=\"bg\" x=\"0.5\" y=\"0.5\" width=\"145\" height=\"21\" style=\"stroke-width: 1px; stroke: rgb(0, 0, 0); stroke-opacity: 0; fill: rgb(0, 0, 0); fill-opacity: 0;\"/><text class=\"annotation-text\" text-anchor=\"middle\" x=\"73.15625\" y=\"16\" style=\"font-family: 'Open Sans', verdana, arial, sans-serif; font-size: 16px; fill: rgb(42, 63, 95); fill-opacity: 1; white-space: pre;\">allowable_occlusion</text></g></g></g><g class=\"annotation\" data-index=\"20\" style=\"opacity: 1;\"><g class=\"annotation-text-g\" transform=\"rotate(0,190.5,1031.96875)\"><g class=\"cursor-pointer\" transform=\"translate(136,1021)\"><rect class=\"bg\" x=\"0.5\" y=\"0.5\" width=\"108\" height=\"21\" style=\"stroke-width: 1px; stroke: rgb(0, 0, 0); stroke-opacity: 0; fill: rgb(0, 0, 0); fill-opacity: 0;\"/><text class=\"annotation-text\" text-anchor=\"middle\" x=\"54.046875\" y=\"16\" style=\"font-family: 'Open Sans', verdana, arial, sans-serif; font-size: 16px; fill: rgb(42, 63, 95); fill-opacity: 1; white-space: pre;\">relative_height</text></g></g></g><g class=\"annotation\" data-index=\"21\" style=\"opacity: 1;\"><g class=\"annotation-text-g\" transform=\"rotate(0,463.5,1031.96875)\"><g class=\"cursor-pointer\" transform=\"translate(408,1021)\"><rect class=\"bg\" x=\"0.5\" y=\"0.5\" width=\"110\" height=\"21\" style=\"stroke-width: 1px; stroke: rgb(0, 0, 0); stroke-opacity: 0; fill: rgb(0, 0, 0); fill-opacity: 0;\"/><text class=\"annotation-text\" text-anchor=\"middle\" x=\"55.375\" y=\"16\" style=\"font-family: 'Open Sans', verdana, arial, sans-serif; font-size: 16px; fill: rgb(42, 63, 95); fill-opacity: 1; white-space: pre;\">relative_weight</text></g></g></g><g class=\"annotation\" data-index=\"22\" style=\"opacity: 1;\"><g class=\"annotation-text-g\" transform=\"rotate(0,736.5000000000001,1031.96875)\"><g class=\"cursor-pointer\" transform=\"translate(639,1021)\"><rect class=\"bg\" x=\"0.5\" y=\"0.5\" width=\"195\" height=\"21\" style=\"stroke-width: 1px; stroke: rgb(0, 0, 0); stroke-opacity: 0; fill: rgb(0, 0, 0); fill-opacity: 0;\"/><text class=\"annotation-text\" text-anchor=\"middle\" x=\"98.0625\" y=\"16\" style=\"font-family: 'Open Sans', verdana, arial, sans-serif; font-size: 16px; fill: rgb(42, 63, 95); fill-opacity: 1; white-space: pre;\">relative_camera_pitch_deg</text></g></g></g><g class=\"annotation\" data-index=\"23\" style=\"opacity: 1;\"><g class=\"annotation-text-g\" transform=\"rotate(0,1009.5,1031.96875)\"><g class=\"cursor-pointer\" transform=\"translate(956,1021)\"><rect class=\"bg\" x=\"0.5\" y=\"0.5\" width=\"107\" height=\"21\" style=\"stroke-width: 1px; stroke: rgb(0, 0, 0); stroke-opacity: 0; fill: rgb(0, 0, 0); fill-opacity: 0;\"/><text class=\"annotation-text\" text-anchor=\"middle\" x=\"53.59375\" y=\"16\" style=\"font-family: 'Open Sans', verdana, arial, sans-serif; font-size: 16px; fill: rgb(42, 63, 95); fill-opacity: 1; white-space: pre;\">lighting_power</text></g></g></g><g class=\"annotation\" data-index=\"24\" style=\"opacity: 1;\"><g class=\"annotation-text-g\" transform=\"rotate(0,190.5,1220.5625)\"><g class=\"cursor-pointer\" transform=\"translate(94,1210)\"><rect class=\"bg\" x=\"0.5\" y=\"0.5\" width=\"192\" height=\"21\" style=\"stroke-width: 1px; stroke: rgb(0, 0, 0); stroke-opacity: 0; fill: rgb(0, 0, 0); fill-opacity: 0;\"/><text class=\"annotation-text\" text-anchor=\"middle\" x=\"96.296875\" y=\"16\" style=\"font-family: 'Open Sans', verdana, arial, sans-serif; font-size: 16px; fill: rgb(42, 63, 95); fill-opacity: 1; white-space: pre;\">relative_avatar_angle_deg</text></g></g></g><g class=\"annotation\" data-index=\"25\" style=\"opacity: 1;\"><g class=\"annotation-text-g\" transform=\"rotate(0,463.5,1220.5625)\"><g class=\"cursor-pointer\" transform=\"translate(423,1210)\"><rect class=\"bg\" x=\"0.5\" y=\"0.5\" width=\"80\" height=\"21\" style=\"stroke-width: 1px; stroke: rgb(0, 0, 0); stroke-opacity: 0; fill: rgb(0, 0, 0); fill-opacity: 0;\"/><text class=\"annotation-text\" text-anchor=\"middle\" x=\"40.6875\" y=\"16\" style=\"font-family: 'Open Sans', verdana, arial, sans-serif; font-size: 16px; fill: rgb(42, 63, 95); fill-opacity: 1; white-space: pre;\">frame_rate</text></g></g></g><g class=\"annotation\" data-index=\"26\" style=\"opacity: 1;\"><g class=\"annotation-text-g\" transform=\"rotate(0,736.5000000000001,1220.5625)\"><g class=\"cursor-pointer\" transform=\"translate(690,1210)\"><rect class=\"bg\" x=\"0.5\" y=\"0.5\" width=\"93\" height=\"21\" style=\"stroke-width: 1px; stroke: rgb(0, 0, 0); stroke-opacity: 0; fill: rgb(0, 0, 0); fill-opacity: 0;\"/><text class=\"annotation-text\" text-anchor=\"middle\" x=\"46.921875\" y=\"16\" style=\"font-family: 'Open Sans', verdana, arial, sans-serif; font-size: 16px; fill: rgb(42, 63, 95); fill-opacity: 1; white-space: pre;\">image_width</text></g></g></g><g class=\"annotation\" data-index=\"27\" style=\"opacity: 1;\"><g class=\"annotation-text-g\" transform=\"rotate(0,1009.5,1220.5625)\"><g class=\"cursor-pointer\" transform=\"translate(959,1210)\"><rect class=\"bg\" x=\"0.5\" y=\"0.5\" width=\"100\" height=\"21\" style=\"stroke-width: 1px; stroke: rgb(0, 0, 0); stroke-opacity: 0; fill: rgb(0, 0, 0); fill-opacity: 0;\"/><text class=\"annotation-text\" text-anchor=\"middle\" x=\"50.046875\" y=\"16\" style=\"font-family: 'Open Sans', verdana, arial, sans-serif; font-size: 16px; fill: rgb(42, 63, 95); fill-opacity: 1; white-space: pre;\">image_height</text></g></g></g><g class=\"annotation\" data-index=\"28\" style=\"opacity: 1;\"><g class=\"annotation-text-g\" transform=\"rotate(0,190.5,1409.15625)\"><g class=\"cursor-pointer\" transform=\"translate(113,1398)\"><rect class=\"bg\" x=\"0.5\" y=\"0.5\" width=\"155\" height=\"21\" style=\"stroke-width: 1px; stroke: rgb(0, 0, 0); stroke-opacity: 0; fill: rgb(0, 0, 0); fill-opacity: 0;\"/><text class=\"annotation-text\" text-anchor=\"middle\" x=\"78.0625\" y=\"16\" style=\"font-family: 'Open Sans', verdana, arial, sans-serif; font-size: 16px; fill: rgb(42, 63, 95); fill-opacity: 1; white-space: pre;\">enable_sensor_noise</text></g></g></g><g class=\"annotation\" data-index=\"29\" style=\"opacity: 1;\"><g class=\"annotation-text-g\" transform=\"rotate(0,463.5,1409.15625)\"><g class=\"cursor-pointer\" transform=\"translate(368,1398)\"><rect class=\"bg\" x=\"0.5\" y=\"0.5\" width=\"190\" height=\"21\" style=\"stroke-width: 1px; stroke: rgb(0, 0, 0); stroke-opacity: 0; fill: rgb(0, 0, 0); fill-opacity: 0;\"/><text class=\"annotation-text\" text-anchor=\"middle\" x=\"95.390625\" y=\"16\" style=\"font-family: 'Open Sans', verdana, arial, sans-serif; font-size: 16px; fill: rgb(42, 63, 95); fill-opacity: 1; white-space: pre;\">relative_camera_yaw_deg</text></g></g></g></g></svg>"
      ]
     },
     "metadata": {},
     "output_type": "display_data"
    }
   ],
   "source": [
    "visualize_batch_results(batch_path)"
   ]
  },
  {
   "cell_type": "code",
   "execution_count": null,
   "id": "08aeac98",
   "metadata": {},
   "outputs": [],
   "source": []
  }
 ],
 "metadata": {
  "kernelspec": {
   "display_name": "Python 3 (ipykernel)",
   "language": "python",
   "name": "python3"
  },
  "language_info": {
   "codemirror_mode": {
    "name": "ipython",
    "version": 3
   },
   "file_extension": ".py",
   "mimetype": "text/x-python",
   "name": "python",
   "nbconvert_exporter": "python",
   "pygments_lexer": "ipython3",
   "version": "3.10.6"
  },
  "vscode": {
   "interpreter": {
    "hash": "b0fa6594d8f4cbf19f97940f81e996739fb7646882a419484c72d19e05852a7e"
   }
  }
 },
 "nbformat": 4,
 "nbformat_minor": 5
}
