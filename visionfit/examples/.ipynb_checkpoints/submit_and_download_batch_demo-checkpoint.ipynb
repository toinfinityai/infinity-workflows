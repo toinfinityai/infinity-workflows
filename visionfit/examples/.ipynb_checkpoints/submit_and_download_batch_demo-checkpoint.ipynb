{
 "cells": [
  {
   "cell_type": "markdown",
   "id": "8487fc2f",
   "metadata": {},
   "source": [
    "# Submit and download a synthetic data batch\n",
    "\n",
    "This notebook shows how to: \n",
    "  1. Check your API usage.\n",
    "  2. Define a distribution of synthetic data parameters.\n",
    "  2. Submit a synthetic data batch to the API.\n",
    "  3. Query the status of the batch to see how many jobs have completed.\n",
    "  4. Visualize dataset statistics + filter for specific properties.\n",
    "\n",
    "For more information, please visit the Infinity Docs: [docs.infinity.ai](https://docs.infinity.ai/). "
   ]
  },
  {
   "cell_type": "markdown",
   "id": "0920e104",
   "metadata": {},
   "source": [
    "## Import libraries"
   ]
  },
  {
   "cell_type": "code",
   "execution_count": 1,
   "id": "967e14cc",
   "metadata": {},
   "outputs": [],
   "source": [
    "import os\n",
    "import random\n",
    "import numpy as np\n",
    "from datetime import datetime\n",
    "from infinity_core.api import get_usage_datetime_range\n",
    "import infinity_tools.visionfit.api as api\n",
    "from infinity_tools.visionfit.vis import visualize_job_params\n",
    "from infinity_tools.visionfit.vis import summarize_batch_results_as_dataframe, visualize_batch_results\n",
    "#import pandas as pd  # Optional but useful for tabular visualizations in the notebook)\n",
    "#pd.options.display.max_columns = None"
   ]
  },
  {
   "cell_type": "markdown",
   "id": "a34e217b",
   "metadata": {},
   "source": [
    "## Define constants"
   ]
  },
  {
   "cell_type": "code",
   "execution_count": 2,
   "id": "2d832add",
   "metadata": {},
   "outputs": [],
   "source": [
    "TOKEN = \"691fda0541b490ac801d9f4b1c1179eafbd53593\"\n",
    "SERVER = \"https://apidev.toinfinity.ai/\"\n",
    "GENERATOR = \"visionfit-v0.4.0\"\n",
    "OUT_DIR = \"tmp/\""
   ]
  },
  {
   "cell_type": "markdown",
   "id": "1039f816",
   "metadata": {},
   "source": [
    "## Create an API session\n",
    "Initialize a Session object to interact with the Infinity API. "
   ]
  },
  {
   "cell_type": "code",
   "execution_count": 3,
   "id": "cc46b793",
   "metadata": {},
   "outputs": [],
   "source": [
    "sesh = api.VisionFitSession(token=TOKEN, generator=GENERATOR, server=SERVER)"
   ]
  },
  {
   "cell_type": "markdown",
   "id": "694d6d7c",
   "metadata": {},
   "source": [
    "## Check API usage"
   ]
  },
  {
   "cell_type": "markdown",
   "id": "765aabf8",
   "metadata": {},
   "source": [
    "Check your API usage stats for the last N days (30 in the example below): "
   ]
  },
  {
   "cell_type": "code",
   "execution_count": 4,
   "id": "8fd67452",
   "metadata": {},
   "outputs": [
    {
     "name": "stdout",
     "output_type": "stream",
     "text": [
      "-- Usage in the last 30 days --\n",
      " {'counts_by_generator': [{'preview_samples_rendered': 4, 'non_preview_samples_rendered': 0, 'generator': 'visionfit-v0.3.1'}, {'preview_samples_rendered': 16, 'non_preview_samples_rendered': 84815, 'generator': 'visionfit-v0.4.0'}], 'start_time': '2022-12-13T22:07:43.256093-06:00', 'end_time': '2023-01-12T22:07:43.256093-06:00'}\n"
     ]
    }
   ],
   "source": [
    "usage_data_last_30_days = sesh.get_usage_stats_last_n_days(n_days=30)\n",
    "print(\"-- Usage in the last 30 days --\\n\", usage_data_last_30_days)\n",
    "\n",
    "#pd.DataFrame(usage_data_last_30_days['counts_by_generator']) # Uncomment to see stats in a DF (ensure pandas has been imported)\n"
   ]
  },
  {
   "cell_type": "markdown",
   "id": "6c0de865",
   "metadata": {},
   "source": [
    "For a more precise/custom range of usage stats, use datetime and a lower-level API: "
   ]
  },
  {
   "cell_type": "code",
   "execution_count": 5,
   "id": "be0bc1f0",
   "metadata": {},
   "outputs": [
    {
     "name": "stdout",
     "output_type": "stream",
     "text": [
      "-- Usage in late summer 2022 -- \n",
      " {'counts_by_generator': [{'preview_samples_rendered': 4024, 'non_preview_samples_rendered': 0, 'generator': 'visionfit-v0.3.1'}], 'start_time': '2022-07-15T00:00:00-05:00', 'end_time': '2022-08-20T00:00:00-05:00'}\n"
     ]
    }
   ],
   "source": [
    "start_time = datetime.fromisoformat(\"2022-07-15\")\n",
    "end_time = datetime.fromisoformat(\"2022-08-20\")\n",
    "usage_data_late_summer_2022 = get_usage_datetime_range(token=TOKEN, server=SERVER, start_time=start_time, end_time=end_time)\n",
    "print(\"-- Usage in late summer 2022 -- \\n\", usage_data_late_summer_2022.json())\n"
   ]
  },
  {
   "cell_type": "markdown",
   "id": "7299f3b8",
   "metadata": {},
   "source": [
    "## Define the distribution  of parameters\n",
    "Select the number of jobs in the batch. Set the batch name. And, customize the distribution of the parameters in the batch. \n",
    "\n",
    "\n",
    "**All parameters:** Use `pd.DataFrame(sesh.parameter_info)` to see all available parameters. Or, visit the [generator pages](https://api.toinfinity.ai/admin/api/generator/) on the User Portal for full parameter documentation. \n",
    "\n",
    "---  \n",
    "\n",
    "\n",
    "This **example** shows how to create a 1000-video dataset of arm raises with various param distributions (fixed, uniform, gaussian, clipped gaussian, etc.). \n",
    "\n",
    "\n",
    "**Resources:** We recommend visiting the `random` python library ([see here.](https://docs.python.org/3/library/random.html#real-valued-distributions)) or the `numpy random` library ([see here.](https://numpy.org/doc/stable/reference/random/legacy.html#distributions)) for inspiration on types of distributions you can use for your parameter sampling.   \n",
    "  \n",
    "\n",
    "\n"
   ]
  },
  {
   "cell_type": "code",
   "execution_count": null,
   "id": "17b8e4d9",
   "metadata": {},
   "outputs": [],
   "source": [
    "num_jobs = 50\n",
    "batch_name = \"apple \" # batch name is displayed in the API User Portal \n",
    "job_params = [\n",
    "        sesh.sample_input(\n",
    "            exercise = \"UPPERCUT-LEFT\", #Only 1 type of exercise\n",
    "            num_reps = 4, #Always 4 reps per video\n",
    "            lighting_power = float(random.gauss(400.0, 20.0)), #Gaussian lighting centered at ~400 units\n",
    "            camera_height = float(np.random.uniform(0.1,1.2)), #Uniform camera height 0.1-1.2 m \n",
    "            relative_avatar_angle_deg= float(np.clip(np.random.normal(0, 30, 1)[0],-60, 60)), #Normal dist. clipped at +/-60d\n",
    "            frame_rate=6, #Fixed frame rate (6 fps)\n",
    "            image_height=256, #Fixed resolution (256x256 px)\n",
    "            image_width=256\n",
    "        ) for _ in range(num_jobs)\n",
    "    ]"
   ]
  },
  {
   "cell_type": "markdown",
   "id": "291c1a71",
   "metadata": {},
   "source": [
    "## Review the distribution \n",
    "Before submitting to the API, visualize the distributions of parameters either in a histogram or table. "
   ]
  },
  {
   "cell_type": "code",
   "execution_count": null,
   "id": "3aeab9e3",
   "metadata": {
    "scrolled": true
   },
   "outputs": [],
   "source": [
    "visualize_job_params(job_params) \n",
    "#pd.DataFrame(job_params) #uncomment for tabular visualization (ensure pandas has been imported)"
   ]
  },
  {
   "cell_type": "markdown",
   "id": "6c2bd08f",
   "metadata": {},
   "source": [
    "## Submit the batch \n",
    "\n",
    "After verifying the parameters meet your desired specs, you can submit the batch to the API. \n",
    "\n",
    "**BE CAREFUL: There is no submission confirmation button. And there is no way to cancel your jobs once you submit them. Use caution.** \n",
    "\n",
    "The data generation takes some time so this part is **non-blocking**. That is, you can run this cell and then shut down your notebook if you like. \n"
   ]
  },
  {
   "cell_type": "code",
   "execution_count": null,
   "id": "d5e759af",
   "metadata": {},
   "outputs": [],
   "source": [
    "job_params = job_params[:3] #only the first 3 videos will be submitted\n",
    "is_preview = True # True = previews (single frames). False = full videos."
   ]
  },
  {
   "cell_type": "code",
   "execution_count": null,
   "id": "09773c55",
   "metadata": {},
   "outputs": [],
   "source": [
    "# **** WARNING! There is no way to cancel these jobs once you run this cell. ***\n",
    "batch = sesh.submit(\n",
    "    job_params=job_params,\n",
    "    is_preview=is_preview,\n",
    "    batch_name=batch_name,\n",
    ")\n",
    "print(f\"Your Batch ID is: {batch.batch_id}\") "
   ]
  },
  {
   "cell_type": "markdown",
   "id": "1217a3b4",
   "metadata": {},
   "source": [
    "## Check the status of your batch\n",
    "Check if your synethetic data batch is completed or if generation is still in progress. Even if it is in progress, you can do a partial download of the jobs that have already completed. \n",
    "\n",
    "If you do not remember your data's Batch ID you can either:  \n",
    "+ Login to the [User Portal](https://api.toinfinity.ai/admin/api/batch/) and look it up  \n",
    "OR \n",
    "+ Run `sesh.get_batches_last_n_days(30)` and look up the batch ID (sample code is provided in the next cell)"
   ]
  },
  {
   "cell_type": "code",
   "execution_count": null,
   "id": "47ce0cf4",
   "metadata": {},
   "outputs": [],
   "source": [
    "batch_id = batch_id \n",
    "\n",
    "# # Uncomment to look up the batch ID \n",
    "# batches_last_month = sesh.get_batches_last_n_days(30) \n",
    "# print('-- LIST OF BATCHES IN LAST N DAYS -- ')\n",
    "# for dict_item in batches_last_month: \n",
    "#    print(f\"{dict_item['created']:%Y-%m-%d %H:%M} | NAME: {dict_item['name']} | BATCH ID: {dict_item['batch_id']}\")"
   ]
  },
  {
   "cell_type": "markdown",
   "id": "a47e9300",
   "metadata": {},
   "source": [
    "Once you have the Batch ID, reconstitute the Batch object: "
   ]
  },
  {
   "cell_type": "code",
   "execution_count": null,
   "id": "ccd5e2eb",
   "metadata": {},
   "outputs": [],
   "source": [
    "batch = sesh.batch_from_api(batch_id=batch_id)"
   ]
  },
  {
   "cell_type": "markdown",
   "id": "1a705e5e",
   "metadata": {},
   "source": [
    "Poll the server to see the status of your batch job."
   ]
  },
  {
   "cell_type": "code",
   "execution_count": null,
   "id": "5f03b6f4",
   "metadata": {},
   "outputs": [],
   "source": [
    "print(f\"{batch.num_jobs - batch.get_num_jobs_remaining()}/{batch.num_jobs} submitted jobs have completed\")\n",
    "\n",
    "completed_jobs = batch.get_completed_jobs()\n",
    "valid_jobs = batch.get_valid_completed_jobs()\n",
    "\n",
    "num_submitted = batch.num_jobs\n",
    "num_completed = len(completed_jobs)\n",
    "num_in_progress = num_submitted - num_completed\n",
    "num_successful = len(valid_jobs)\n",
    "num_failed = num_completed - num_successful\n",
    "\n",
    "print(f\"{num_successful}/{num_completed} completed jobs have a valid URL.\")"
   ]
  },
  {
   "cell_type": "markdown",
   "id": "466b76cf",
   "metadata": {},
   "source": [
    "## Download the data\n",
    "\n",
    "We can download the completed jobs. Only the completed jobs that have a valid URL will be downloaded.  \n",
    "\n",
    "Jobs will be downloaded to your local computer at the path specified by `OUT_DIR`. "
   ]
  },
  {
   "cell_type": "code",
   "execution_count": null,
   "id": "e855d263",
   "metadata": {},
   "outputs": [],
   "source": [
    "batch_path = os.path.join(OUT_DIR, batch.name, f'batch_ID_{batch.batch_id}')\n",
    "_download_ok = batch.download(path=batch_path)"
   ]
  },
  {
   "cell_type": "markdown",
   "id": "a7beaecb",
   "metadata": {},
   "source": [
    "## Inspect and filter the dataset\n",
    "\n",
    "Finally, we compile some of the metadata and all of the job parameters that were submitted into a dataframe. This allows us to see the distribution of the resulting dataset. \n",
    "\n",
    "In addition, we can query the dataset for specific properties, which allows us to curate a desired training set for a given ML application."
   ]
  },
  {
   "cell_type": "code",
   "execution_count": null,
   "id": "724103d3",
   "metadata": {},
   "outputs": [],
   "source": [
    "visualize_batch_results(batch_path)"
   ]
  },
  {
   "cell_type": "code",
   "execution_count": null,
   "id": "29a2db01",
   "metadata": {},
   "outputs": [],
   "source": [
    "# # Uncomment to filter through the dataset in tabular format (and ensure pandas has been imported)\n",
    "# import pandas as pd\n",
    "# pd.options.display.max_columns = None\n",
    "# df = summarize_batch_results_as_dataframe(batch_path)\n",
    "# df.round(2).query('avg_percent_occlusion < 4')"
   ]
  }
 ],
 "metadata": {
  "kernelspec": {
   "display_name": "Python 3 (ipykernel)",
   "language": "python",
   "name": "python3"
  },
  "language_info": {
   "codemirror_mode": {
    "name": "ipython",
    "version": 3
   },
   "file_extension": ".py",
   "mimetype": "text/x-python",
   "name": "python",
   "nbconvert_exporter": "python",
   "pygments_lexer": "ipython3",
   "version": "3.10.6"
  },
  "vscode": {
   "interpreter": {
    "hash": "b0fa6594d8f4cbf19f97940f81e996739fb7646882a419484c72d19e05852a7e"
   }
  }
 },
 "nbformat": 4,
 "nbformat_minor": 5
}
