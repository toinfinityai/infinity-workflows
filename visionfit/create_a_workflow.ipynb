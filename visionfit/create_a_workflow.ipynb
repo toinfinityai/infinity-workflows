{
 "cells": [
  {
   "cell_type": "markdown",
   "id": "c2909e9b",
   "metadata": {},
   "source": [
    "# Create a Workflow\n",
    "\n",
    "Workflow notebooks make it easy to interact with the Infinity API and provide a record of your past interactions (e.g. the code you used to construct a synthetic data batch). Use this notebook to generate fresh workflow notebooks that you can edit to achieve your data generation task. \n",
    "\n",
    "After creating the notebook, follow the link to use the workflow notebook. \n",
    "\n",
    "[Link to Infinity documentation](https://infinity.ai/infinity-developer-docs/index.html)"
   ]
  },
  {
   "cell_type": "code",
   "execution_count": null,
   "id": "c4e1cb4f",
   "metadata": {},
   "outputs": [],
   "source": [
    "from visionfit.interfaces import WorkflowInterface"
   ]
  },
  {
   "cell_type": "code",
   "execution_count": null,
   "id": "dc7491ec",
   "metadata": {},
   "outputs": [],
   "source": [
    "# Create Workflow Selection Interface\n",
    "# TODO: Remove \"enable_server_selection\" after deploy visionfit-0.4.0 to \"api\" node\n",
    "workflow_UI = WorkflowInterface(enable_server_selection=True)"
   ]
  },
  {
   "cell_type": "code",
   "execution_count": null,
   "id": "d4baf70e",
   "metadata": {},
   "outputs": [],
   "source": []
  },
  {
   "cell_type": "code",
   "execution_count": null,
   "id": "6f02a93f",
   "metadata": {},
   "outputs": [],
   "source": []
  }
 ],
 "metadata": {
  "kernelspec": {
   "display_name": "Python 3 (ipykernel)",
   "language": "python",
   "name": "python3"
  },
  "language_info": {
   "codemirror_mode": {
    "name": "ipython",
    "version": 3
   },
   "file_extension": ".py",
   "mimetype": "text/x-python",
   "name": "python",
   "nbconvert_exporter": "python",
   "pygments_lexer": "ipython3",
   "version": "3.9.15"
  }
 },
 "nbformat": 4,
 "nbformat_minor": 5
}
